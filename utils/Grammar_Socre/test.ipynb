{
 "cells": [
  {
   "cell_type": "code",
   "execution_count": 3,
   "metadata": {},
   "outputs": [],
   "source": [
    "sentences = [\n",
    "    # 완벽한 문장 3개\n",
    "    \"The cat is sleeping on the bed.\",\n",
    "    \"She finished her homework before dinner.\",\n",
    "    \"They went to the beach and enjoyed the sunny weather.\",\n",
    "\n",
    "    # 비문 (단계별로 오류 증가)\n",
    "    # 단계 1: 가벼운 오류\n",
    "    \"She go to the store yesterday.\",  # 시제와 주어-동사 일치 오류 (\"go\"를 \"went\"로 변경 필요)\n",
    "    \n",
    "    # 단계 2: 중간 정도 오류\n",
    "    \"Him don't likes the apples because it are soury.\",  # 주격 대명사 오류 (\"Him\" -> \"He\"), \"don't\" 대신 \"doesn't\" 필요, 단수형 \"it\" 대신 복수형 \"they\" 필요, \"soury\"는 잘못된 단어\n",
    "    \n",
    "    # 단계 3: 심각한 오류\n",
    "    \"Yesterday me and him was going store for buying milk.\",\n",
    "    \"asdfasdfasdfasdfasdfasdfasdf\",\n",
    "    \"I reeeeerreee erererererdflksjdfsadf.\",\n",
    "    \"I dont dont dont dont\",\n",
    "    \"i dont dont dont dont\"\n",
    "]\n"
   ]
  },
  {
   "cell_type": "code",
   "execution_count": 4,
   "metadata": {},
   "outputs": [
    {
     "name": "stdout",
     "output_type": "stream",
     "text": [
      "The cat is sleeping on the bed. : 0.99\n",
      "She finished her homework before dinner. : 0.99\n",
      "They went to the beach and enjoyed the sunny weather. : 0.94\n",
      "She go to the store yesterday. : 0.85\n",
      "Him don't likes the apples because it are soury. : 0.78\n",
      "Yesterday me and him was going store for buying milk. : 0.8\n",
      "asdfasdfasdfasdfasdfasdfasdf : 0.32\n",
      "I reeeeerreee erererererdflksjdfsadf. : 0.63\n",
      "I dont dont dont dont : 0.67\n",
      "i dont dont dont dont : 0.62\n"
     ]
    }
   ],
   "source": [
    "# advanced grammar score test\n",
    "from grammar_score import AdvancedGrammarScorer\n",
    "score_c = AdvancedGrammarScorer()\n",
    "scores = []\n",
    "sentences_text = []\n",
    "\n",
    "for s in sentences:\n",
    "    score, detail = score_c.score_sentence(s)\n",
    "    scores.append(score)\n",
    "    sentences_text.append(s)\n",
    "    print(f\"{s} : {score}\")\n",
    "\n",
    "# average_score = sum(scores) / len(scores) if scores else 0\n",
    "# print(f\"\\nOverall Average Score: {average_score:.2f}\")\n",
    "# print(score)\n",
    "# average_score = sum(scores)/len(scores) if scores else 0\n",
    "# print(f\"{average_score:.2f}\")\n"
   ]
  },
  {
   "cell_type": "code",
   "execution_count": null,
   "metadata": {},
   "outputs": [],
   "source": []
  }
 ],
 "metadata": {
  "kernelspec": {
   "display_name": "Python 3",
   "language": "python",
   "name": "python3"
  },
  "language_info": {
   "codemirror_mode": {
    "name": "ipython",
    "version": 3
   },
   "file_extension": ".py",
   "mimetype": "text/x-python",
   "name": "python",
   "nbconvert_exporter": "python",
   "pygments_lexer": "ipython3",
   "version": "3.9.20"
  }
 },
 "nbformat": 4,
 "nbformat_minor": 2
}
