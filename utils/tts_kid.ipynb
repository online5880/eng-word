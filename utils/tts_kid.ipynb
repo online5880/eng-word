{
 "cells": [
  {
   "cell_type": "code",
   "execution_count": 3,
   "metadata": {},
   "outputs": [
    {
     "name": "stdout",
     "output_type": "stream",
     "text": [
      "\n",
      "Usage:   \n",
      "  pip <command> [options]\n",
      "\n",
      "no such option: --upgrade\n",
      "Requirement already satisfied: build in /opt/anaconda3/envs/venv/lib/python3.8/site-packages (1.2.2.post1)\n",
      "Requirement already satisfied: packaging>=19.1 in /opt/anaconda3/envs/venv/lib/python3.8/site-packages (from build) (24.1)\n",
      "Requirement already satisfied: pyproject_hooks in /opt/anaconda3/envs/venv/lib/python3.8/site-packages (from build) (1.2.0)\n",
      "Requirement already satisfied: importlib-metadata>=4.6 in /opt/anaconda3/envs/venv/lib/python3.8/site-packages (from build) (8.5.0)\n",
      "Requirement already satisfied: tomli>=1.1.0 in /opt/anaconda3/envs/venv/lib/python3.8/site-packages (from build) (2.1.0)\n",
      "Requirement already satisfied: zipp>=3.20 in /opt/anaconda3/envs/venv/lib/python3.8/site-packages (from importlib-metadata>=4.6->build) (3.20.2)\n",
      "Collecting psycopg2-binary\n",
      "  Downloading psycopg2-binary-2.9.10.tar.gz (385 kB)\n",
      "  Preparing metadata (setup.py) ... \u001b[?25lerror\n",
      "  \u001b[1;31merror\u001b[0m: \u001b[1msubprocess-exited-with-error\u001b[0m\n",
      "  \n",
      "  \u001b[31m×\u001b[0m \u001b[32mpython setup.py egg_info\u001b[0m did not run successfully.\n",
      "  \u001b[31m│\u001b[0m exit code: \u001b[1;36m1\u001b[0m\n",
      "  \u001b[31m╰─>\u001b[0m \u001b[31m[23 lines of output]\u001b[0m\n",
      "  \u001b[31m   \u001b[0m running egg_info\n",
      "  \u001b[31m   \u001b[0m creating /private/var/folders/4y/yfb_gstn6sv3s42_2ftqn65m0000gn/T/pip-pip-egg-info-9lt_2vy_/psycopg2_binary.egg-info\n",
      "  \u001b[31m   \u001b[0m writing /private/var/folders/4y/yfb_gstn6sv3s42_2ftqn65m0000gn/T/pip-pip-egg-info-9lt_2vy_/psycopg2_binary.egg-info/PKG-INFO\n",
      "  \u001b[31m   \u001b[0m writing dependency_links to /private/var/folders/4y/yfb_gstn6sv3s42_2ftqn65m0000gn/T/pip-pip-egg-info-9lt_2vy_/psycopg2_binary.egg-info/dependency_links.txt\n",
      "  \u001b[31m   \u001b[0m writing top-level names to /private/var/folders/4y/yfb_gstn6sv3s42_2ftqn65m0000gn/T/pip-pip-egg-info-9lt_2vy_/psycopg2_binary.egg-info/top_level.txt\n",
      "  \u001b[31m   \u001b[0m writing manifest file '/private/var/folders/4y/yfb_gstn6sv3s42_2ftqn65m0000gn/T/pip-pip-egg-info-9lt_2vy_/psycopg2_binary.egg-info/SOURCES.txt'\n",
      "  \u001b[31m   \u001b[0m \n",
      "  \u001b[31m   \u001b[0m Error: pg_config executable not found.\n",
      "  \u001b[31m   \u001b[0m \n",
      "  \u001b[31m   \u001b[0m pg_config is required to build psycopg2 from source.  Please add the directory\n",
      "  \u001b[31m   \u001b[0m containing pg_config to the $PATH or specify the full executable path with the\n",
      "  \u001b[31m   \u001b[0m option:\n",
      "  \u001b[31m   \u001b[0m \n",
      "  \u001b[31m   \u001b[0m     python setup.py build_ext --pg-config /path/to/pg_config build ...\n",
      "  \u001b[31m   \u001b[0m \n",
      "  \u001b[31m   \u001b[0m or with the pg_config option in 'setup.cfg'.\n",
      "  \u001b[31m   \u001b[0m \n",
      "  \u001b[31m   \u001b[0m If you prefer to avoid building psycopg2 from source, please install the PyPI\n",
      "  \u001b[31m   \u001b[0m 'psycopg2-binary' package instead.\n",
      "  \u001b[31m   \u001b[0m \n",
      "  \u001b[31m   \u001b[0m For further information please check the 'doc/src/install.rst' file (also at\n",
      "  \u001b[31m   \u001b[0m <https://www.psycopg.org/docs/install.html>).\n",
      "  \u001b[31m   \u001b[0m \n",
      "  \u001b[31m   \u001b[0m \u001b[31m[end of output]\u001b[0m\n",
      "  \n",
      "  \u001b[1;35mnote\u001b[0m: This error originates from a subprocess, and is likely not a problem with pip.\n",
      "\u001b[?25h\u001b[1;31merror\u001b[0m: \u001b[1mmetadata-generation-failed\u001b[0m\n",
      "\n",
      "\u001b[31m×\u001b[0m Encountered error while generating package metadata.\n",
      "\u001b[31m╰─>\u001b[0m See above for output.\n",
      "\n",
      "\u001b[1;35mnote\u001b[0m: This is an issue with the package mentioned above, not pip.\n",
      "\u001b[1;36mhint\u001b[0m: See above for details.\n"
     ]
    }
   ],
   "source": [
    "!python3 -m venv tortoise-venv\n",
    "!source tortoise-venv/bin/activate  # Windows: tortoise-venv\\Scripts\\activate\n",
    "!pip install --upgrade pip"
   ]
  },
  {
   "cell_type": "code",
   "execution_count": null,
   "metadata": {},
   "outputs": [],
   "source": []
  }
 ],
 "metadata": {
  "kernelspec": {
   "display_name": "venv",
   "language": "python",
   "name": "python3"
  },
  "language_info": {
   "codemirror_mode": {
    "name": "ipython",
    "version": 3
   },
   "file_extension": ".py",
   "mimetype": "text/x-python",
   "name": "python",
   "nbconvert_exporter": "python",
   "pygments_lexer": "ipython3",
   "version": "3.8.20"
  },
  "orig_nbformat": 4
 },
 "nbformat": 4,
 "nbformat_minor": 2
}
