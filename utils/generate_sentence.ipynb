{
 "cells": [
  {
   "cell_type": "code",
   "execution_count": null,
   "metadata": {},
   "outputs": [],
   "source": [
    "!pip install langchain langchain_community language-tool-python\n"
   ]
  },
  {
   "cell_type": "code",
   "execution_count": null,
   "metadata": {},
   "outputs": [],
   "source": [
    "from langchain_community.chat_models import ChatOllama\n",
    "from langchain_core.output_parsers import CommaSeparatedListOutputParser\n",
    "from langchain_core.prompts import PromptTemplate\n",
    "import csv\n"
   ]
  },
  {
   "cell_type": "markdown",
   "metadata": {},
   "source": [
    "# 모델 생성"
   ]
  },
  {
   "cell_type": "code",
   "execution_count": null,
   "metadata": {},
   "outputs": [],
   "source": [
    "# llm = ChatOllama(model=\"Lama3.2-korean:latest\", max_token = 500)\n",
    "llm = ChatOllama(model=\"llama3.2\", max_token = 500)"
   ]
  },
  {
   "cell_type": "markdown",
   "metadata": {},
   "source": [
    "# 프롬프트 "
   ]
  },
  {
   "cell_type": "code",
   "execution_count": null,
   "metadata": {},
   "outputs": [],
   "source": [
    "# 포함할 단어 목록\n",
    "words = [\"apple\", \"school\", \"book\", \"play\", \"friend\", \"happy\", \"jump\", \"sun\", \"water\", \"cat\"]\n",
    "\n",
    "# PromptTemplate 설정\n",
    "prompt_template = PromptTemplate(\n",
    "    input_variables=[\"word\"],\n",
    "    template=\"Write a simple English sentence that an elementary school student can understand. The sentence should include the word '{word}' and nothing else.\"\n",
    ")   \n"
   ]
  },
  {
   "cell_type": "markdown",
   "metadata": {},
   "source": [
    "# 출력 파서"
   ]
  },
  {
   "cell_type": "code",
   "execution_count": null,
   "metadata": {},
   "outputs": [],
   "source": [
    "output_parser = CommaSeparatedListOutputParser()"
   ]
  },
  {
   "cell_type": "markdown",
   "metadata": {},
   "source": [
    "# 체인 생성"
   ]
  },
  {
   "cell_type": "code",
   "execution_count": null,
   "metadata": {},
   "outputs": [],
   "source": [
    "chain = prompt_template | llm | output_parser\n"
   ]
  },
  {
   "cell_type": "markdown",
   "metadata": {},
   "source": [
    "# 실행 코드(테스트)"
   ]
  },
  {
   "cell_type": "code",
   "execution_count": null,
   "metadata": {},
   "outputs": [],
   "source": [
    "# CSV 파일 생성\n",
    "from random import randint\n",
    "\n",
    "import language_tool_python\n",
    "\n",
    "# LanguageTool 인스턴스 생성 (영어로 설정)\n",
    "tool = language_tool_python.LanguageTool('en-US')\n",
    "\n",
    "with open('grammar_sentences.csv', mode='w', newline='', encoding='utf-8') as file:\n",
    "    writer = csv.writer(file)\n",
    "    writer.writerow([\"문장 번호\", \"문장\", \"포함된 단어\"])\n",
    "\n",
    "    # 각 단어에 대해 문장 생성 및 저장\n",
    "    for idx, word in enumerate(words, start=1):\n",
    "        rand = randint(1,6)\n",
    "        response = chain.invoke({\"word\": word})  # 체인 실행\n",
    "        \n",
    "        # 파싱된 문장 기록\n",
    "        for sentence in response:\n",
    "            writer.writerow([idx, sentence, word])\n",
    "            print(response)\n",
    "            \n",
    "            # 오류 검사\n",
    "            matches = tool.check(sentence)\n",
    "\n",
    "            # 오류 출력\n",
    "            if matches:\n",
    "                print(f\"발견된 오류 수: {len(matches)}\")\n",
    "                for match in matches:\n",
    "                    print(f\"오류: {match.message}\")\n",
    "                    print(f\"제안된 수정: {match.replacements}\")\n",
    "                    print(f\"오류 위치: {sentence[match.offset : match.offset + match.errorLength]}\\n\")\n",
    "            else:\n",
    "                print(\"문장에 오류가 없습니다.\")\n",
    "\n",
    "            # 검사기가 제안한 수정 적용\n",
    "            corrected_sentence = language_tool_python.utils.correct(sentence, matches)\n",
    "            print(\"수정된 문장:\", corrected_sentence)"
   ]
  },
  {
   "cell_type": "code",
   "execution_count": null,
   "metadata": {},
   "outputs": [],
   "source": [
    "import language_tool_python\n",
    "\n",
    "# LanguageTool 인스턴스 생성 (영어로 설정)\n",
    "tool = language_tool_python.LanguageTool('en-US')\n",
    "\n",
    "# 검증할 문장\n",
    "sentence = \"This is an example sentence with a mistkae.\"\n",
    "\n",
    "\n"
   ]
  }
 ],
 "metadata": {
  "kernelspec": {
   "display_name": "eng",
   "language": "python",
   "name": "python3"
  },
  "language_info": {
   "codemirror_mode": {
    "name": "ipython",
    "version": 3
   },
   "file_extension": ".py",
   "mimetype": "text/x-python",
   "name": "python",
   "nbconvert_exporter": "python",
   "pygments_lexer": "ipython3",
   "version": "3.8.20"
  }
 },
 "nbformat": 4,
 "nbformat_minor": 2
}
