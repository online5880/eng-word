{
 "cells": [
  {
   "cell_type": "markdown",
   "metadata": {},
   "source": [
    "# 중복 O"
   ]
  },
  {
   "cell_type": "code",
   "execution_count": 3,
   "metadata": {},
   "outputs": [
    {
     "name": "stdout",
     "output_type": "stream",
     "text": [
      "모든 파일에서 단어만 추출하여 새로운 JSON 파일로 저장되었습니다.\n"
     ]
    }
   ],
   "source": [
    "import json\n",
    "import os\n",
    "\n",
    "# JSON 파일들이 저장된 폴더 경로\n",
    "folder_path = '../data'  # JSON 파일들이 있는 폴더 경로\n",
    "\n",
    "# 단어들을 저장할 리스트 초기화\n",
    "all_words = []\n",
    "\n",
    "# 폴더 내 모든 JSON 파일에 대해 처리\n",
    "for filename in os.listdir(folder_path):\n",
    "    if filename.endswith('.json'):\n",
    "        file_path = os.path.join(folder_path, filename)\n",
    "        with open(file_path, 'r', encoding='utf-8') as file:\n",
    "            data = json.load(file)\n",
    "            # 단어들만 추출하여 리스트에 추가\n",
    "            all_words.extend([entry[\"단어\"] for entry in data])\n",
    "\n",
    "# 추출된 단어들을 새로운 JSON 파일로 저장\n",
    "with open('duplicate_inclusive_words.json', 'w', encoding='utf-8') as file:\n",
    "    json.dump(all_words, file, indent=4, ensure_ascii=False)\n",
    "\n",
    "print(\"모든 파일에서 단어만 추출하여 새로운 JSON 파일로 저장되었습니다.\")\n"
   ]
  },
  {
   "cell_type": "markdown",
   "metadata": {},
   "source": [
    "# 중복 X"
   ]
  },
  {
   "cell_type": "code",
   "execution_count": 4,
   "metadata": {},
   "outputs": [
    {
     "name": "stdout",
     "output_type": "stream",
     "text": [
      "모든 파일에서 단어만 추출하여 새로운 JSON 파일로 저장되었습니다.\n"
     ]
    }
   ],
   "source": [
    "import json\n",
    "import os\n",
    "\n",
    "# JSON 파일들이 저장된 폴더 경로\n",
    "folder_path = '../data'  # JSON 파일들이 있는 폴더 경로\n",
    "\n",
    "# 단어들을 저장할 리스트 초기화\n",
    "all_words = []\n",
    "\n",
    "# 폴더 내 모든 JSON 파일에 대해 처리\n",
    "for filename in os.listdir(folder_path):\n",
    "    if filename.endswith('.json'):\n",
    "        file_path = os.path.join(folder_path, filename)\n",
    "        with open(file_path, 'r', encoding='utf-8') as file:\n",
    "            data = json.load(file)\n",
    "            # 단어들만 추출하여 리스트에 추가\n",
    "            all_words.extend([entry[\"단어\"] for entry in data])\n",
    "\n",
    "# 중복 제거\n",
    "unique_words = list(set(all_words))\n",
    "\n",
    "# 정렬 (선택 사항)\n",
    "unique_words.sort()\n",
    "\n",
    "# 추출된 단어들을 새로운 JSON 파일로 저장\n",
    "with open('non_duplicate_words.json', 'w', encoding='utf-8') as file:\n",
    "    json.dump(unique_words, file, indent=4, ensure_ascii=False)\n",
    "\n",
    "print(\"모든 파일에서 단어만 추출하여 새로운 JSON 파일로 저장되었습니다.\")\n"
   ]
  }
 ],
 "metadata": {
  "kernelspec": {
   "display_name": "eng",
   "language": "python",
   "name": "python3"
  },
  "language_info": {
   "codemirror_mode": {
    "name": "ipython",
    "version": 3
   },
   "file_extension": ".py",
   "mimetype": "text/x-python",
   "name": "python",
   "nbconvert_exporter": "python",
   "pygments_lexer": "ipython3",
   "version": "3.8.18"
  }
 },
 "nbformat": 4,
 "nbformat_minor": 2
}
