{
 "cells": [
  {
   "cell_type": "code",
   "execution_count": null,
   "metadata": {},
   "outputs": [],
   "source": [
    "!pip install langchain langchain_community language-tool-python langchain-ollama jq langchain_huggingface langchain_chroma faiss-cpu"
   ]
  },
  {
   "cell_type": "code",
   "execution_count": 1,
   "metadata": {},
   "outputs": [],
   "source": [
    "from langchain_ollama import ChatOllama\n",
    "from langchain_core.output_parsers import CommaSeparatedListOutputParser\n",
    "from langchain_core.prompts import PromptTemplate\n",
    "import csv\n",
    "from langchain_huggingface.embeddings import HuggingFaceEmbeddings\n",
    "from langchain_community.document_loaders import JSONLoader\n",
    "from langchain.chains import RetrievalQA\n",
    "from langchain.schema import Document\n",
    "from langchain_community.vectorstores import FAISS\n",
    "import json\n",
    "from langchain_chroma import Chroma"
   ]
  },
  {
   "cell_type": "markdown",
   "metadata": {},
   "source": [
    "# 문서 로드"
   ]
  },
  {
   "cell_type": "code",
   "execution_count": 2,
   "metadata": {},
   "outputs": [
    {
     "data": {
      "text/plain": [
       "[Document(metadata={}, page_content='Let me introduce my aunt.'),\n",
       " Document(metadata={}, page_content='I am going to play soccer.'),\n",
       " Document(metadata={}, page_content='The boy is my brother.'),\n",
       " Document(metadata={}, page_content='Jimmy is going to exercise every day.'),\n",
       " Document(metadata={}, page_content='The girl is my sister.'),\n",
       " Document(metadata={}, page_content='Let me introduce my cousin to you.'),\n",
       " Document(metadata={}, page_content='We are going to learn Korean history.'),\n",
       " Document(metadata={}, page_content='I’m going to run a marathon.'),\n",
       " Document(metadata={}, page_content='He is going to visit his grandpa.'),\n",
       " Document(metadata={}, page_content='The woman is my mom.'),\n",
       " Document(metadata={}, page_content='He set a new world record for swimming.'),\n",
       " Document(metadata={}, page_content='Just sit down and relax for an hour.'),\n",
       " Document(metadata={}, page_content='He repairs computers.'),\n",
       " Document(metadata={}, page_content='The teacher repeated the question.'),\n",
       " Document(metadata={}, page_content='The doctor reported that the patient recovered.'),\n",
       " Document(metadata={}, page_content='The firefighters rescued children from the burning building.'),\n",
       " Document(metadata={}, page_content='You will get your exam results next week.'),\n",
       " Document(metadata={}, page_content='I reviewed the book before the test.'),\n",
       " Document(metadata={}, page_content='I’m baking some bread.'),\n",
       " Document(metadata={}, page_content='Bowling is boring.'),\n",
       " Document(metadata={}, page_content='He is bringing a ring.'),\n",
       " Document(metadata={}, page_content='I’m eating in the desert.'),\n",
       " Document(metadata={}, page_content='A pig is digging in the garden.'),\n",
       " Document(metadata={}, page_content='I’m feeding the monkeys.'),\n",
       " Document(metadata={}, page_content='I’m leaving now.'),\n",
       " Document(metadata={}, page_content='I’m seeking the K.'),\n",
       " Document(metadata={}, page_content='You must brush your hair every day.'),\n",
       " Document(metadata={}, page_content='Hello?'),\n",
       " Document(metadata={}, page_content='You must wear your helmet.'),\n",
       " Document(metadata={}, page_content='Hold on, please.'),\n",
       " Document(metadata={}, page_content='You must stand in line at a bus stop.'),\n",
       " Document(metadata={}, page_content='You have the wrong number.'),\n",
       " Document(metadata={}, page_content='Can you get the phone for me?'),\n",
       " Document(metadata={}, page_content='You must be quiet in the library.'),\n",
       " Document(metadata={}, page_content='May I speak to Yuna?'),\n",
       " Document(metadata={}, page_content='You must watch out for cars.'),\n",
       " Document(metadata={}, page_content='We have art on Fridays.'),\n",
       " Document(metadata={}, page_content='We have four classes today.'),\n",
       " Document(metadata={}, page_content='Jenny is my classmate.'),\n",
       " Document(metadata={}, page_content='I have English on Mondays.'),\n",
       " Document(metadata={}, page_content='I do my homework every day.'),\n",
       " Document(metadata={}, page_content='They have math on Thursdays.'),\n",
       " Document(metadata={}, page_content='I have P.E. on Wednesdays.'),\n",
       " Document(metadata={}, page_content='They have science on Tuesdays.'),\n",
       " Document(metadata={}, page_content='You are good students.'),\n",
       " Document(metadata={}, page_content='My textbook is on the desk.'),\n",
       " Document(metadata={}, page_content='One by one, the stars appeared in the sky.'),\n",
       " Document(metadata={}, page_content='We swam in the clear water.'),\n",
       " Document(metadata={}, page_content='Did you hear that noise?'),\n",
       " Document(metadata={}, page_content='Will I see you in the near future?'),\n",
       " Document(metadata={}, page_content='Dad pays me five dollars for washing the car.'),\n",
       " Document(metadata={}, page_content='I go to the church to pray.'),\n",
       " Document(metadata={}, page_content='We stayed home last night and watched TV.'),\n",
       " Document(metadata={}, page_content='She wiped the tears from her eyes.'),\n",
       " Document(metadata={}, page_content='They live in a small house.'),\n",
       " Document(metadata={}, page_content='I ordered a medium, not a large.'),\n",
       " Document(metadata={}, page_content='My uncle runs a specialty coffee shop.'),\n",
       " Document(metadata={}, page_content='Her favorite hobby is making dolls.'),\n",
       " Document(metadata={}, page_content='She had no strength after her illness.'),\n",
       " Document(metadata={}, page_content='He has a talent for acting'),\n",
       " Document(metadata={}, page_content='Friends are very important in our lives.'),\n",
       " Document(metadata={}, page_content='You win some, you lose some.'),\n",
       " Document(metadata={}, page_content='The plant is starting to grow flowers.'),\n",
       " Document(metadata={}, page_content='Make hay while the sun shines.'),\n",
       " Document(metadata={}, page_content='I need more space for books.'),\n",
       " Document(metadata={}, page_content='Give me some water. I’ll water the plants.'),\n",
       " Document(metadata={}, page_content='I’m sure I can win.'),\n",
       " Document(metadata={}, page_content='Go and put on a clean shirt.'),\n",
       " Document(metadata={}, page_content='The air in the city was always dirty.'),\n",
       " Document(metadata={}, page_content='This cup is full, so be careful with it.'),\n",
       " Document(metadata={}, page_content='Please recycle the empty bottles.'),\n",
       " Document(metadata={}, page_content='It’s a true story.'),\n",
       " Document(metadata={}, page_content='Is it true or false?'),\n",
       " Document(metadata={}, page_content='He and his brother go to the same school.'),\n",
       " Document(metadata={}, page_content='The students come from different school.'),\n",
       " Document(metadata={}, page_content='The dog is helping the blind man.'),\n",
       " Document(metadata={}, page_content='He wrote something on my palm.'),\n",
       " Document(metadata={}, page_content='Which animals have lips?'),\n",
       " Document(metadata={}, page_content='She put more effort into her studies.'),\n",
       " Document(metadata={}, page_content='What day is it today?'),\n",
       " Document(metadata={}, page_content='I saw her picture in the magazine.'),\n",
       " Document(metadata={}, page_content='Mary is a smart girl.'),\n",
       " Document(metadata={}, page_content='I don’t remember her phone number.'),\n",
       " Document(metadata={}, page_content='Do you want some beef?'),\n",
       " Document(metadata={}, page_content='Do you need a bottle?'),\n",
       " Document(metadata={}, page_content='Do you need a bowl?'),\n",
       " Document(metadata={}, page_content='I need a fork.'),\n",
       " Document(metadata={}, page_content='Do you need a glass?'),\n",
       " Document(metadata={}, page_content='I need a knife.'),\n",
       " Document(metadata={}, page_content='Do you want some noodles?'),\n",
       " Document(metadata={}, page_content='Do you need a plate?'),\n",
       " Document(metadata={}, page_content='Do you want some soup?'),\n",
       " Document(metadata={}, page_content='I need a spoon.'),\n",
       " Document(metadata={}, page_content='There is a garden in my house.'),\n",
       " Document(metadata={}, page_content='Tim and his dog are inside the room.'),\n",
       " Document(metadata={}, page_content='There are many dishes in the sink.'),\n",
       " Document(metadata={}, page_content='There is soap in the bathroom.'),\n",
       " Document(metadata={}, page_content='There is a stove in the kitchen.'),\n",
       " Document(metadata={}, page_content='What a surprise!'),\n",
       " Document(metadata={}, page_content='There is a toilet in the bathroom.'),\n",
       " Document(metadata={}, page_content='There is a toothbrush in the bathroom.'),\n",
       " Document(metadata={}, page_content='There is toothpaste in the bathroom.'),\n",
       " Document(metadata={}, page_content='Welcome to my house.'),\n",
       " Document(metadata={}, page_content='I’m sorry, but I have to cancel the order.'),\n",
       " Document(metadata={}, page_content='I bought some new clothes for the trip.'),\n",
       " Document(metadata={}, page_content='We are collecting money for charity.'),\n",
       " Document(metadata={}, page_content='It costs too much.'),\n",
       " Document(metadata={}, page_content='How much is the fare to Busan?'),\n",
       " Document(metadata={}, page_content='Your new dress fits well.'),\n",
       " Document(metadata={}, page_content='I can’t see anything without my glasses.'),\n",
       " Document(metadata={}, page_content='I don’t want to wear this jacket.'),\n",
       " Document(metadata={}, page_content='Did you drop the vase?'),\n",
       " Document(metadata={}, page_content='The fire started in the kitchen.'),\n",
       " Document(metadata={}, page_content='Falling rocks are dangerous.'),\n",
       " Document(metadata={}, page_content='The man was rich but not happy.'),\n",
       " Document(metadata={}, page_content='The wind is not strong today.'),\n",
       " Document(metadata={}, page_content='People are afraid of bombs.'),\n",
       " Document(metadata={}, page_content='Please tell us the truth.'),\n",
       " Document(metadata={}, page_content='I miss them both.'),\n",
       " Document(metadata={}, page_content='Tony interacts well with other children in the class.'),\n",
       " Document(metadata={}, page_content='The united nations is an international organization.'),\n",
       " Document(metadata={}, page_content='You can find all kinds of information on the internet.'),\n",
       " Document(metadata={}, page_content='The TV reporter did interviews with the movie star.'),\n",
       " Document(metadata={}, page_content='There are many rocks on the surface of the moon.'),\n",
       " Document(metadata={}, page_content='The news surprised me.'),\n",
       " Document(metadata={}, page_content='They did a phone survey of TV programs.'),\n",
       " Document(metadata={}, page_content='The plant survives on very little water.'),\n",
       " Document(metadata={}, page_content='I’m carrying some cans.'),\n",
       " Document(metadata={}, page_content='The cheerleader cheered the boy.'),\n",
       " Document(metadata={}, page_content='The pool is full of people.'),\n",
       " Document(metadata={}, page_content='She is hanging the shirt.'),\n",
       " Document(metadata={}, page_content='I marked the item.'),\n",
       " Document(metadata={}, page_content='I can raise the letters.'),\n",
       " Document(metadata={}, page_content='He is reporting the news.'),\n",
       " Document(metadata={}, page_content='The wind was wild.'),\n",
       " Document(metadata={}, page_content='You look like a detective anyway.'),\n",
       " Document(metadata={}, page_content='Would you like to try a Turkish dish?'),\n",
       " Document(metadata={}, page_content='Which do you want, meat or fish?'),\n",
       " Document(metadata={}, page_content='I’ve seen this movie once.'),\n",
       " Document(metadata={}, page_content='Probably it’ll be all right.'),\n",
       " Document(metadata={}, page_content='The farmer is sowing the seeds.'),\n",
       " Document(metadata={}, page_content='Sometimes I visit my aunt with my sister.'),\n",
       " Document(metadata={}, page_content='I’d like vegetable soup.'),\n",
       " Document(metadata={}, page_content='The board is big.'),\n",
       " Document(metadata={}, page_content='I have chalk.'),\n",
       " Document(metadata={}, page_content='They are in the classroom.'),\n",
       " Document(metadata={}, page_content='Here is some glue.'),\n",
       " Document(metadata={}, page_content='They have notebooks.'),\n",
       " Document(metadata={}, page_content='Look at this big green paper.'),\n",
       " Document(metadata={}, page_content='Here is a pencil case.'),\n",
       " Document(metadata={}, page_content='They are at school.'),\n",
       " Document(metadata={}, page_content='Here is a school bag.'),\n",
       " Document(metadata={}, page_content='Here are scissors.'),\n",
       " Document(metadata={}, page_content='They cut the paper.'),\n",
       " Document(metadata={}, page_content='Let’s draw.'),\n",
       " Document(metadata={}, page_content='Let’s listen to the song.'),\n",
       " Document(metadata={}, page_content='Do you play soccer?'),\n",
       " Document(metadata={}, page_content='Let’s raise your hands.'),\n",
       " Document(metadata={}, page_content='They read books.'),\n",
       " Document(metadata={}, page_content='They see the rabbits.'),\n",
       " Document(metadata={}, page_content='Do you speak English?'),\n",
       " Document(metadata={}, page_content='Do you study English?'),\n",
       " Document(metadata={}, page_content='Let’s write.'),\n",
       " Document(metadata={}, page_content='There are many building in the city.'),\n",
       " Document(metadata={}, page_content='They are my cousins.'),\n",
       " Document(metadata={}, page_content='This is a baby duck.'),\n",
       " Document(metadata={}, page_content='This goat is black.'),\n",
       " Document(metadata={}, page_content='Tony is handsome.'),\n",
       " Document(metadata={}, page_content='This horse is brown.'),\n",
       " Document(metadata={}, page_content='Jenny is so lovely.'),\n",
       " Document(metadata={}, page_content='The sheep looks cute.'),\n",
       " Document(metadata={}, page_content='Justin has a lovely smile.'),\n",
       " Document(metadata={}, page_content='Jenny is six years old.'),\n",
       " Document(metadata={}, page_content='Let’s talk about this.'),\n",
       " Document(metadata={}, page_content='That’s enough.'),\n",
       " Document(metadata={}, page_content='I have a habit of waking up late in the morning.'),\n",
       " Document(metadata={}, page_content='Enjoy your meal.'),\n",
       " Document(metadata={}, page_content='Is it really true?'),\n",
       " Document(metadata={}, page_content='He starts to run a race.'),\n",
       " Document(metadata={}, page_content='I often stay up late.'),\n",
       " Document(metadata={}, page_content='I eat lots of sweets.'),\n",
       " Document(metadata={}, page_content='Tell me about your habits.'),\n",
       " Document(metadata={}, page_content='The chicken is so chicken.'),\n",
       " Document(metadata={}, page_content='There is a crack in the cracker.'),\n",
       " Document(metadata={}, page_content='There is something fishy about the fish.'),\n",
       " Document(metadata={}, page_content='I always lounge at the lounge.'),\n",
       " Document(metadata={}, page_content='The man is too nosy.'),\n",
       " Document(metadata={}, page_content='The cars raced down the hill.'),\n",
       " Document(metadata={}, page_content='I tripped over the bag.'),\n",
       " Document(metadata={}, page_content='The girl wrinkled her eyebrows.'),\n",
       " Document(metadata={}, page_content='Jack’s uniform is different from ours.'),\n",
       " Document(metadata={}, page_content='This math problem is difficult.'),\n",
       " Document(metadata={}, page_content='This math problem is very easy.'),\n",
       " Document(metadata={}, page_content='Everyone is raising their right hands.'),\n",
       " Document(metadata={}, page_content='The fruits are fresh.'),\n",
       " Document(metadata={}, page_content='Thanks for inviting me.'),\n",
       " Document(metadata={}, page_content='Would you like to come to my birthday party?'),\n",
       " Document(metadata={}, page_content='This cat is little and cute.'),\n",
       " Document(metadata={}, page_content='It’s a pumpkin.'),\n",
       " Document(metadata={}, page_content='It smells good.'),\n",
       " Document(metadata={}, page_content='Check the check!'),\n",
       " Document(metadata={}, page_content='He is heading to the right.'),\n",
       " Document(metadata={}, page_content='Our friendship will last to the end.'),\n",
       " Document(metadata={}, page_content='You should lock your locker.'),\n",
       " Document(metadata={}, page_content='The couple is marching.'),\n",
       " Document(metadata={}, page_content='He is pointing at my face.'),\n",
       " Document(metadata={}, page_content='I was present at the class.'),\n",
       " Document(metadata={}, page_content='She is swinging the swing.'),\n",
       " Document(metadata={}, page_content='The book is boring.'),\n",
       " Document(metadata={}, page_content='The concert is exciting.'),\n",
       " Document(metadata={}, page_content='If you find my ball, we can play soccer.'),\n",
       " Document(metadata={}, page_content='The jacket is just my size.'),\n",
       " Document(metadata={}, page_content='I have a pair of shoes.'),\n",
       " Document(metadata={}, page_content='Mom gives me a piece of cake.'),\n",
       " Document(metadata={}, page_content='Please wash your hands.'),\n",
       " Document(metadata={}, page_content='I don’t like scary movies.'),\n",
       " Document(metadata={}, page_content='The magic show is surprising.'),\n",
       " Document(metadata={}, page_content='It is a wonderful story.'),\n",
       " Document(metadata={}, page_content='Mr. Jones is honest and diligent.'),\n",
       " Document(metadata={}, page_content='Wet places get wetter and dry places get drier.'),\n",
       " Document(metadata={}, page_content='How can we stop the flow of blood?'),\n",
       " Document(metadata={}, page_content='These rocks are very hard.'),\n",
       " Document(metadata={}, page_content='I am slow and lazy.'),\n",
       " Document(metadata={}, page_content='How did you manage that problem?'),\n",
       " Document(metadata={}, page_content='We have rainy weather this week.'),\n",
       " Document(metadata={}, page_content='I’m completely wet because of the sudden rain.'),\n",
       " Document(metadata={}, page_content='You have to answer my questions.'),\n",
       " Document(metadata={}, page_content='May I ask you a question?'),\n",
       " Document(metadata={}, page_content='We must watch out for fire.'),\n",
       " Document(metadata={}, page_content='I know the answer.'),\n",
       " Document(metadata={}, page_content='I must leave a flower for him.'),\n",
       " Document(metadata={}, page_content='You must wake up!'),\n",
       " Document(metadata={}, page_content='I have some questions.'),\n",
       " Document(metadata={}, page_content='I must study English.'),\n",
       " Document(metadata={}, page_content='Take care.'),\n",
       " Document(metadata={}, page_content='I can spell many English words.'),\n",
       " Document(metadata={}, page_content='I think this movie is boring.'),\n",
       " Document(metadata={}, page_content='It’s about two fools.'),\n",
       " Document(metadata={}, page_content='I think the picture is funny.'),\n",
       " Document(metadata={}, page_content='It’s about a hungry dog.'),\n",
       " Document(metadata={}, page_content='I think this book is interesting.'),\n",
       " Document(metadata={}, page_content='It’s about a lot of old cell phones.'),\n",
       " Document(metadata={}, page_content='She is always in the news.'),\n",
       " Document(metadata={}, page_content='It’s about a polite man.'),\n",
       " Document(metadata={}, page_content='It’s about a smart girl.'),\n",
       " Document(metadata={}, page_content='I think it’s a good idea.'),\n",
       " Document(metadata={}, page_content='He is blind.'),\n",
       " Document(metadata={}, page_content='I’m counting numbers.'),\n",
       " Document(metadata={}, page_content='Cover very boby!'),\n",
       " Document(metadata={}, page_content='The shoes are flat.'),\n",
       " Document(metadata={}, page_content='The guide is guiding us.'),\n",
       " Document(metadata={}, page_content='I’ve recorded it on the recorder.'),\n",
       " Document(metadata={}, page_content='A spoon is sinking.'),\n",
       " Document(metadata={}, page_content='The TV is wide.'),\n",
       " Document(metadata={}, page_content='A flower shop is on the eighth floor.'),\n",
       " Document(metadata={}, page_content='You can use the elevator.'),\n",
       " Document(metadata={}, page_content='A toy shop is on the fifth floor.'),\n",
       " Document(metadata={}, page_content='A bank is on the first floor.'),\n",
       " Document(metadata={}, page_content='There are many floors in the building.'),\n",
       " Document(metadata={}, page_content='A pet shop is on the ninth floor.'),\n",
       " Document(metadata={}, page_content='A shoe store is on the second floor.'),\n",
       " Document(metadata={}, page_content='A bookstore is on the third floor.'),\n",
       " Document(metadata={}, page_content='Today is my twelfth birthday.'),\n",
       " Document(metadata={}, page_content='Tomorrow is my brother’s twentieth birthday.'),\n",
       " Document(metadata={}, page_content='I will go camping with my family.'),\n",
       " Document(metadata={}, page_content='They are enjoying their vacation.'),\n",
       " Document(metadata={}, page_content='He has to finish the race in first place.'),\n",
       " Document(metadata={}, page_content='You have to play outside.'),\n",
       " Document(metadata={}, page_content='I have to do my homework.'),\n",
       " Document(metadata={}, page_content='I will go jogging with Brandy.'),\n",
       " Document(metadata={}, page_content='Do you have any plans for Wednesday?'),\n",
       " Document(metadata={}, page_content='John and Tina will go shopping.'),\n",
       " Document(metadata={}, page_content='I have to visit my cousins.'),\n",
       " Document(metadata={}, page_content='I will be an astronaut.'),\n",
       " Document(metadata={}, page_content='I believe in angles because I have friends like you.'),\n",
       " Document(metadata={}, page_content='What kind of character is he?'),\n",
       " Document(metadata={}, page_content='I want a glass of cool juice.'),\n",
       " Document(metadata={}, page_content='The couple got married yesterday.'),\n",
       " Document(metadata={}, page_content='Will you marry me?'),\n",
       " Document(metadata={}, page_content='I need your help.'),\n",
       " Document(metadata={}, page_content='The recipe for tomato soup is very simple.'),\n",
       " Document(metadata={}, page_content='I’ll visit you next time.'),\n",
       " Document(metadata={}, page_content='She is against wearing a fur coat.'),\n",
       " Document(metadata={}, page_content='Nobody lived on the island.'),\n",
       " Document(metadata={}, page_content='Do you eat kimchi at every meal?'),\n",
       " Document(metadata={}, page_content='My family goes camping once a month.'),\n",
       " Document(metadata={}, page_content='He marked her birthday on the calendar.'),\n",
       " Document(metadata={}, page_content='Don’t waste your time.'),\n",
       " Document(metadata={}, page_content='Are tomatoes vegetables?'),\n",
       " Document(metadata={}, page_content='Sue learned American history today.'),\n",
       " Document(metadata={}, page_content='Ten plus ten is twenty.'),\n",
       " Document(metadata={}, page_content='Ten plus twenty is thirty.'),\n",
       " Document(metadata={}, page_content='Twenty plus twenty is forty.'),\n",
       " Document(metadata={}, page_content='Twenty plus thirty is fifty.'),\n",
       " Document(metadata={}, page_content='Thirty plus thirty is sixty.'),\n",
       " Document(metadata={}, page_content='Thirty plus forty is seventy.'),\n",
       " Document(metadata={}, page_content='Forty plus forty is eighty.'),\n",
       " Document(metadata={}, page_content='Forty plus fifty is ninety.'),\n",
       " Document(metadata={}, page_content='Two times fifty is one hundred.'),\n",
       " Document(metadata={}, page_content='Ten times one hundred is one thousand.'),\n",
       " Document(metadata={}, page_content='Do you like butter?'),\n",
       " Document(metadata={}, page_content='Do you want carrots?'),\n",
       " Document(metadata={}, page_content='I don’t like corn.'),\n",
       " Document(metadata={}, page_content='Do you want onions?'),\n",
       " Document(metadata={}, page_content='I don’t like pepper.'),\n",
       " Document(metadata={}, page_content='I don’t like potatoes'),\n",
       " Document(metadata={}, page_content='Do you like salt?'),\n",
       " Document(metadata={}, page_content='I don’t like sugar.'),\n",
       " Document(metadata={}, page_content='I don’t like tomatoes.'),\n",
       " Document(metadata={}, page_content='Do you like watermelons?'),\n",
       " Document(metadata={}, page_content='My brother has yellow boots.'),\n",
       " Document(metadata={}, page_content='The button is big.'),\n",
       " Document(metadata={}, page_content='My mom has a red dress.'),\n",
       " Document(metadata={}, page_content='The pocket is small.'),\n",
       " Document(metadata={}, page_content='The ribbon is short.'),\n",
       " Document(metadata={}, page_content='My dad has blue shorts.'),\n",
       " Document(metadata={}, page_content='The sneakers are brown.'),\n",
       " Document(metadata={}, page_content='My sister has a green vest.'),\n",
       " Document(metadata={}, page_content='The zipper is long.'),\n",
       " Document(metadata={}, page_content='She is biting a cookie.'),\n",
       " Document(metadata={}, page_content='I’m calling my doctor.'),\n",
       " Document(metadata={}, page_content='He can’t contact anyone.'),\n",
       " Document(metadata={}, page_content='Leaves are falling.'),\n",
       " Document(metadata={}, page_content='I’m lying on the floor.'),\n",
       " Document(metadata={}, page_content='I parked at the park.'),\n",
       " Document(metadata={}, page_content='I’m shooting at the goal.'),\n",
       " Document(metadata={}, page_content='Store goods in the store.'),\n",
       " Document(metadata={}, page_content='What direction is the railway station?'),\n",
       " Document(metadata={}, page_content='The points of the compass are north, south, east, and west.'),\n",
       " Document(metadata={}, page_content='The wind is coming from the north.'),\n",
       " Document(metadata={}, page_content='If that way is east, then this way is west.'),\n",
       " Document(metadata={}, page_content='The sun rises in the east and sets in the west.'),\n",
       " Document(metadata={}, page_content='I asked her a question, but she didn’t respond.'),\n",
       " Document(metadata={}, page_content='We’ve just passed by the downtown area.'),\n",
       " Document(metadata={}, page_content='We are close friends.'),\n",
       " Document(metadata={}, page_content='Who destroyed my chair?'),\n",
       " Document(metadata={}, page_content='I discovered that he was a liar.'),\n",
       " Document(metadata={}, page_content='Brian’s uncle is a famous scientist.'),\n",
       " Document(metadata={}, page_content='We gathered under the tree.'),\n",
       " Document(metadata={}, page_content='My home is near the museum.'),\n",
       " Document(metadata={}, page_content='You may use my pen.'),\n",
       " Document(metadata={}, page_content='The cake has a round shape.'),\n",
       " Document(metadata={}, page_content='A triangle is a shape with three sides.'),\n",
       " Document(metadata={}, page_content='Squares, circles, and triangles are all shapes.'),\n",
       " Document(metadata={}, page_content='The ring has the shape of a circle.'),\n",
       " Document(metadata={}, page_content='There wasn’t a cloud in the sky.'),\n",
       " Document(metadata={}, page_content='I like to swim in the sea, not in a pool.'),\n",
       " Document(metadata={}, page_content='Children swam and played in the waves.'),\n",
       " Document(metadata={}, page_content='Fish live in the sea, and tigers live on land.'),\n",
       " Document(metadata={}, page_content='We are going to a concert.'),\n",
       " Document(metadata={}, page_content='His ears are small.'),\n",
       " Document(metadata={}, page_content='Sam was hungry and tired.'),\n",
       " Document(metadata={}, page_content='Do you feel pain in your legs?'),\n",
       " Document(metadata={}, page_content='Does Chris like music?'),\n",
       " Document(metadata={}, page_content='Mom’s cake was excellent.'),\n",
       " Document(metadata={}, page_content='The game ends at five.'),\n",
       " Document(metadata={}, page_content='French people love art.'),\n",
       " Document(metadata={}, page_content='Move a little to the left.'),\n",
       " Document(metadata={}, page_content='Vitamins help prevent the flu.'),\n",
       " Document(metadata={}, page_content='I’ll send you a text message.'),\n",
       " Document(metadata={}, page_content='The girl is blowing bubbles.'),\n",
       " Document(metadata={}, page_content='Do you have the time?'),\n",
       " Document(metadata={}, page_content='I was present at the meeting.'),\n",
       " Document(metadata={}, page_content='We used to go there in the past.'),\n",
       " Document(metadata={}, page_content='The past is important, but the future is more important.'),\n",
       " Document(metadata={}, page_content='Boil the water.'),\n",
       " Document(metadata={}, page_content='My dog has chewed my bag.'),\n",
       " Document(metadata={}, page_content='Fill the glass.'),\n",
       " Document(metadata={}, page_content='Fold the paper like this.'),\n",
       " Document(metadata={}, page_content='The gentleman is gentle.'),\n",
       " Document(metadata={}, page_content='I’m shaking a shake.'),\n",
       " Document(metadata={}, page_content='I tied the necktie.'),\n",
       " Document(metadata={}, page_content='Her hair is waving in the wind.'),\n",
       " Document(metadata={}, page_content='Time flies like an arrow.'),\n",
       " Document(metadata={}, page_content='Many people died in the war.'),\n",
       " Document(metadata={}, page_content='The soldiers fought very bravely.'),\n",
       " Document(metadata={}, page_content='The hunter shot the gun.'),\n",
       " Document(metadata={}, page_content='The soldier was very brave in the war.'),\n",
       " Document(metadata={}, page_content='Fencing is a sport with a sword.'),\n",
       " Document(metadata={}, page_content='The world would be a better place without war!'),\n",
       " Document(metadata={}, page_content='Guns and swords are weapons of war.'),\n",
       " Document(metadata={}, page_content='Don’t bite your nails.'),\n",
       " Document(metadata={}, page_content='Today’s main course is chicken.'),\n",
       " Document(metadata={}, page_content='It looks delicious, doesn’t it?'),\n",
       " Document(metadata={}, page_content='I enjoy eating ice cream for dessert.'),\n",
       " Document(metadata={}, page_content='My mom decided to go on a diet.'),\n",
       " Document(metadata={}, page_content='Don’t eat between meals.'),\n",
       " Document(metadata={}, page_content='He ordered me to sit up.'),\n",
       " Document(metadata={}, page_content='I’m thirsty. Give me some juice.'),\n",
       " Document(metadata={}, page_content='My dog is good at catching Frisbees.'),\n",
       " Document(metadata={}, page_content='When is the food cooking contest?'),\n",
       " Document(metadata={}, page_content='What’s the date today?'),\n",
       " Document(metadata={}, page_content='Football is my favorite sports.'),\n",
       " Document(metadata={}, page_content='I’m good at kicking a ball.'),\n",
       " Document(metadata={}, page_content='When is the boxing match?'),\n",
       " Document(metadata={}, page_content='I’m good at passing a ball.'),\n",
       " Document(metadata={}, page_content='When is the race?'),\n",
       " Document(metadata={}, page_content='When is the English test?'),\n",
       " Document(metadata={}, page_content='I’m good at throwing a ball.'),\n",
       " Document(metadata={}, page_content='I want to build my house out of ice.'),\n",
       " Document(metadata={}, page_content='My sister knows how to enjoy life.'),\n",
       " Document(metadata={}, page_content='Building a true friendship is not difficult.'),\n",
       " Document(metadata={}, page_content='Super Dog Carlo is our hero.'),\n",
       " Document(metadata={}, page_content='My hobby is drawing cartoons.'),\n",
       " Document(metadata={}, page_content='Practice makes perfect.'),\n",
       " Document(metadata={}, page_content='Teenagers need more sleep.'),\n",
       " Document(metadata={}, page_content='Don’t waste money on useless things.'),\n",
       " Document(metadata={}, page_content='Go back slowly, please.'),\n",
       " Document(metadata={}, page_content='Where is ABC Elementary School? ABC'),\n",
       " Document(metadata={}, page_content='The restroom is on the third floor.'),\n",
       " Document(metadata={}, page_content='It takes an hour.'),\n",
       " Document(metadata={}, page_content='The middle building is my dad’s office.'),\n",
       " Document(metadata={}, page_content='There is only one bench in the park.'),\n",
       " Document(metadata={}, page_content='Where is the restroom?'),\n",
       " Document(metadata={}, page_content='The elevator is on your right side.'),\n",
       " Document(metadata={}, page_content='Go along this way.'),\n",
       " Document(metadata={}, page_content='I’m looking for boots.'),\n",
       " Document(metadata={}, page_content='This pencil case is cheap.'),\n",
       " Document(metadata={}, page_content='This teddy bear is too expensive.'),\n",
       " Document(metadata={}, page_content='I’m looking for jeans.'),\n",
       " Document(metadata={}, page_content='I like purple.'),\n",
       " Document(metadata={}, page_content='Those books are on sale.'),\n",
       " Document(metadata={}, page_content='I’m looking for sneakers.'),\n",
       " Document(metadata={}, page_content='What size do you want?'),\n",
       " Document(metadata={}, page_content='I’m looking for sneakers.'),\n",
       " Document(metadata={}, page_content='I’m looking for sunglasses.'),\n",
       " Document(metadata={}, page_content='It’s big.'),\n",
       " Document(metadata={}, page_content='It’s small.'),\n",
       " Document(metadata={}, page_content='It’s long.'),\n",
       " Document(metadata={}, page_content='It’s short.'),\n",
       " Document(metadata={}, page_content='It’s heavy.'),\n",
       " Document(metadata={}, page_content='It’s light.'),\n",
       " Document(metadata={}, page_content='It’s a hard ball.'),\n",
       " Document(metadata={}, page_content='It’s a soft sweater.'),\n",
       " Document(metadata={}, page_content='It’s an old car.'),\n",
       " Document(metadata={}, page_content='It’s a new computer.'),\n",
       " Document(metadata={}, page_content='It’s a fork.'),\n",
       " Document(metadata={}, page_content='It’s a knife.'),\n",
       " Document(metadata={}, page_content='It’s a spoon.'),\n",
       " Document(metadata={}, page_content='It’s a cup.'),\n",
       " Document(metadata={}, page_content='It’s a dish.'),\n",
       " Document(metadata={}, page_content='It’s a lunch box.'),\n",
       " Document(metadata={}, page_content='I have breakfast.'),\n",
       " Document(metadata={}, page_content='I have lunch.'),\n",
       " Document(metadata={}, page_content='I have dinner.'),\n",
       " Document(metadata={}, page_content='I have snacks.'),\n",
       " Document(metadata={}, page_content='They drained the water from the pool.'),\n",
       " Document(metadata={}, page_content='I only have half of the harp.'),\n",
       " Document(metadata={}, page_content='Let’s scoop up the ice cream.'),\n",
       " Document(metadata={}, page_content='I’m sprinkling some seeds on it.'),\n",
       " Document(metadata={}, page_content='The truck is stuck in the mud.'),\n",
       " Document(metadata={}, page_content='He stuffed some food into the bag.'),\n",
       " Document(metadata={}, page_content='Don’t tear the letter.'),\n",
       " Document(metadata={}, page_content='The village is vacant.'),\n",
       " Document(metadata={}, page_content='The truck is dumping the trash.'),\n",
       " Document(metadata={}, page_content='She is fleeing from the prison.'),\n",
       " Document(metadata={}, page_content='A flute is floating on the water.'),\n",
       " Document(metadata={}, page_content='The goggles make me giggle.'),\n",
       " Document(metadata={}, page_content='The man is hairy.'),\n",
       " Document(metadata={}, page_content='He’s scratching his head.'),\n",
       " Document(metadata={}, page_content='The skunk stinks.'),\n",
       " Document(metadata={}, page_content='Don’t tread on the trees.'),\n",
       " Document(metadata={}, page_content='Both students got high grades.'),\n",
       " Document(metadata={}, page_content='The child had a cookie in each hand.'),\n",
       " Document(metadata={}, page_content='Every child in the class is important.'),\n",
       " Document(metadata={}, page_content='Jane visited our house with her husband.'),\n",
       " Document(metadata={}, page_content='His new cell phone satisfies him.'),\n",
       " Document(metadata={}, page_content='You can do it if you try hard.'),\n",
       " Document(metadata={}, page_content='This type of dog has short legs.'),\n",
       " Document(metadata={}, page_content='We met him and his wife.'),\n",
       " Document(metadata={}, page_content='I asked a question but nobody answered.'),\n",
       " Document(metadata={}, page_content='Somebody is knocking on the door.'),\n",
       " Document(metadata={}, page_content='Everybody likes birthday cake.'),\n",
       " Document(metadata={}, page_content='Anybody can enjoy this game.'),\n",
       " Document(metadata={}, page_content='I only have one hundred won.'),\n",
       " Document(metadata={}, page_content='The total comes to three thousand won.'),\n",
       " Document(metadata={}, page_content='Her book sold one million copies.'),\n",
       " Document(metadata={}, page_content='There are nine zeroes in a billion.'),\n",
       " Document(metadata={}, page_content='I blush when I’m happy.'),\n",
       " Document(metadata={}, page_content='Kevin’s cabin is cozy.'),\n",
       " Document(metadata={}, page_content='He got some mustard on his mustache.'),\n",
       " Document(metadata={}, page_content='I poked it with a fork.'),\n",
       " Document(metadata={}, page_content='He sighed at the crowd.'),\n",
       " Document(metadata={}, page_content='Smoke is coming out of the grill.'),\n",
       " Document(metadata={}, page_content='The boy is stamping his foot.'),\n",
       " Document(metadata={}, page_content='He tossed the toast onto the plate.'),\n",
       " Document(metadata={}, page_content='Go ahead.'),\n",
       " Document(metadata={}, page_content='I would like some cheesecake.'),\n",
       " Document(metadata={}, page_content='They look delicious.'),\n",
       " Document(metadata={}, page_content='I would like some fruit.'),\n",
       " Document(metadata={}, page_content='I’m full.'),\n",
       " Document(metadata={}, page_content='I would like some pie.'),\n",
       " Document(metadata={}, page_content='This curry is salty.'),\n",
       " Document(metadata={}, page_content='This food is too spicy.'),\n",
       " Document(metadata={}, page_content='This cake is very sweet.'),\n",
       " Document(metadata={}, page_content='I would like some vegetables.'),\n",
       " Document(metadata={}, page_content='Brian looks so angry.'),\n",
       " Document(metadata={}, page_content='Eric looks so excited.'),\n",
       " Document(metadata={}, page_content='My sister looks so happy.'),\n",
       " Document(metadata={}, page_content='Paul looks so nervous.'),\n",
       " Document(metadata={}, page_content='Harry looks so pleased.'),\n",
       " Document(metadata={}, page_content='You look so sad.'),\n",
       " Document(metadata={}, page_content='Timmy looks so scared.'),\n",
       " Document(metadata={}, page_content='Kate looks so surprised.'),\n",
       " Document(metadata={}, page_content='Ted looks so upset.'),\n",
       " Document(metadata={}, page_content='Mom looks so worried.'),\n",
       " Document(metadata={}, page_content='My cousins are kind.'),\n",
       " Document(metadata={}, page_content='Do you have a new notebook?'),\n",
       " Document(metadata={}, page_content='I like summer vacation.'),\n",
       " Document(metadata={}, page_content='Can you come here?'),\n",
       " Document(metadata={}, page_content='Where is the museum?'),\n",
       " Document(metadata={}, page_content='Kevin loves animals.'),\n",
       " Document(metadata={}, page_content='What do horses eat?'),\n",
       " Document(metadata={}, page_content='Don’t sit on the grass.'),\n",
       " Document(metadata={}, page_content='You should go to see a doctor.'),\n",
       " Document(metadata={}, page_content='You should drink a lot of water.'),\n",
       " Document(metadata={}, page_content='I have a fever.'),\n",
       " Document(metadata={}, page_content='I have a headache.'),\n",
       " Document(metadata={}, page_content='You should take some medicine.'),\n",
       " Document(metadata={}, page_content='You should get some rest.'),\n",
       " Document(metadata={}, page_content='You should stay at home today.'),\n",
       " Document(metadata={}, page_content='I have a stomachache.'),\n",
       " Document(metadata={}, page_content='I have a toothache.'),\n",
       " Document(metadata={}, page_content='What’s wrong?'),\n",
       " Document(metadata={}, page_content='It’s a birthday gift from my dad.'),\n",
       " Document(metadata={}, page_content='We can see his love of nature in his work.'),\n",
       " Document(metadata={}, page_content='How do you like the diamond pattern?'),\n",
       " Document(metadata={}, page_content='Look! A rainbow is in the sky.'),\n",
       " Document(metadata={}, page_content='I am responsible for it.'),\n",
       " Document(metadata={}, page_content='The result did not satisfy me.'),\n",
       " Document(metadata={}, page_content='The dish is oval in shape.'),\n",
       " Document(metadata={}, page_content='Go straight for two blocks.'),\n",
       " Document(metadata={}, page_content='The boy begged for the bag.'),\n",
       " Document(metadata={}, page_content='I bumped into a bumper car.'),\n",
       " Document(metadata={}, page_content='She handed me something.'),\n",
       " Document(metadata={}, page_content='I began to shake in horror.'),\n",
       " Document(metadata={}, page_content='The rock is rocking.'),\n",
       " Document(metadata={}, page_content='I sneaked into the dark room.'),\n",
       " Document(metadata={}, page_content='The rollercoaster is thrilling.'),\n",
       " Document(metadata={}, page_content='The tights are too tight.'),\n",
       " Document(metadata={}, page_content='Bugs are bugging me.'),\n",
       " Document(metadata={}, page_content='An ant is dragging a petal.'),\n",
       " Document(metadata={}, page_content='The duck ducked quickly.'),\n",
       " Document(metadata={}, page_content='The rabbit is hopping with joy.'),\n",
       " Document(metadata={}, page_content='She is napping in the restaurant.'),\n",
       " Document(metadata={}, page_content='I pinned the note on the wall.'),\n",
       " Document(metadata={}, page_content='He is about to twist his legs.'),\n",
       " Document(metadata={}, page_content='There are some villas in the village.'),\n",
       " Document(metadata={}, page_content='He has a handicap of being blind.'),\n",
       " Document(metadata={}, page_content='She blew her nose into her handkerchief.'),\n",
       " Document(metadata={}, page_content='He handled the angry dog very well.'),\n",
       " Document(metadata={}, page_content='He is tall and handsome.'),\n",
       " Document(metadata={}, page_content='Maybe we’ll meet again.'),\n",
       " Document(metadata={}, page_content='Perhaps I will see you tomorrow.'),\n",
       " Document(metadata={}, page_content='That cannot possibly be true.'),\n",
       " Document(metadata={}, page_content='It will probably snow today.'),\n",
       " Document(metadata={}, page_content='I have an appointment to see my doctor.'),\n",
       " Document(metadata={}, page_content='Put it in a dark place.'),\n",
       " Document(metadata={}, page_content='Playing in the forest is fun.'),\n",
       " Document(metadata={}, page_content='When you laugh, your brain works better.'),\n",
       " Document(metadata={}, page_content='We enjoy leisure activities on weekends.'),\n",
       " Document(metadata={}, page_content='Click “cancel” to return to the previous page.'),\n",
       " Document(metadata={}, page_content='I promise I’ll come back.'),\n",
       " Document(metadata={}, page_content='Look at my shadow.'),\n",
       " Document(metadata={}, page_content='It’s sunny in the morning.'),\n",
       " Document(metadata={}, page_content='It’s hot in the afternoon.'),\n",
       " Document(metadata={}, page_content='It’s cool in the evening.'),\n",
       " Document(metadata={}, page_content='It’s cold at night.'),\n",
       " Document(metadata={}, page_content='What time is it now?'),\n",
       " Document(metadata={}, page_content='It’s three o’clock.'),\n",
       " Document(metadata={}, page_content='It’s five ten now.'),\n",
       " Document(metadata={}, page_content='Today is Monday.'),\n",
       " Document(metadata={}, page_content='Yesterday was Sunday.'),\n",
       " Document(metadata={}, page_content='Tomorrow is Tuesday.'),\n",
       " Document(metadata={}, page_content='On Monday, I go to the pool.'),\n",
       " Document(metadata={}, page_content='On Tuesday, I go to the library.'),\n",
       " Document(metadata={}, page_content='On Wednesday, I go to the park.'),\n",
       " Document(metadata={}, page_content='On Thursday, I go to the museum.'),\n",
       " Document(metadata={}, page_content='On Friday, I go to the bookstore.'),\n",
       " Document(metadata={}, page_content='On Saturday, I go to the playground.'),\n",
       " Document(metadata={}, page_content='On Sunday, I go to the zoo.'),\n",
       " Document(metadata={}, page_content='What day is it, Mom?'),\n",
       " Document(metadata={}, page_content='We don’t go to school this week.'),\n",
       " Document(metadata={}, page_content='Let’s go skiing this weekend.'),\n",
       " Document(metadata={}, page_content='My finger is bleeding.'),\n",
       " Document(metadata={}, page_content='We’re excited about it.'),\n",
       " Document(metadata={}, page_content='It’s time to feed my dog.'),\n",
       " Document(metadata={}, page_content='I’m interested in skydiving.'),\n",
       " Document(metadata={}, page_content='What kind of pet do you want?'),\n",
       " Document(metadata={}, page_content='I was pleased at his gift.'),\n",
       " Document(metadata={}, page_content='You should take your pet to the vet.'),\n",
       " Document(metadata={}, page_content='I’m worried about the midterm exam.'),\n",
       " Document(metadata={}, page_content='I always feel sleepy after lunch.'),\n",
       " Document(metadata={}, page_content='Can you read the numbers in English?'),\n",
       " Document(metadata={}, page_content='She finally solved the puzzle.'),\n",
       " Document(metadata={}, page_content='I’ll explain the rules of this game.'),\n",
       " Document(metadata={}, page_content='Are you still hungry, Jim?'),\n",
       " Document(metadata={}, page_content='Cooking spaghetti is simple.'),\n",
       " Document(metadata={}, page_content='He has a talent for music.'),\n",
       " Document(metadata={}, page_content='Kevin and I are friends.'),\n",
       " Document(metadata={}, page_content='He is at school.'),\n",
       " Document(metadata={}, page_content='I like art, but I don’t like math.'),\n",
       " Document(metadata={}, page_content='This is a gift for you.'),\n",
       " Document(metadata={}, page_content='It is the train from Seoul.'),\n",
       " Document(metadata={}, page_content='I like the color of your sneakers.'),\n",
       " Document(metadata={}, page_content='Which do you like, apples or bananas?'),\n",
       " Document(metadata={}, page_content='Mark jumps over the wall.'),\n",
       " Document(metadata={}, page_content='She’s going to the park.'),\n",
       " Document(metadata={}, page_content='I’m playing tennis with him.'),\n",
       " Document(metadata={}, page_content='My uncle was a pilot.'),\n",
       " Document(metadata={}, page_content='The bus will come soon.'),\n",
       " Document(metadata={}, page_content='We can travel by spaceship.'),\n",
       " Document(metadata={}, page_content='Is the air cold and dry in winter?'),\n",
       " Document(metadata={}, page_content='The farmer and his wife had an ox.'),\n",
       " Document(metadata={}, page_content='Tony’s birthday is in April.'),\n",
       " Document(metadata={}, page_content='The earth is getting warmer.'),\n",
       " Document(metadata={}, page_content='A judge is in court.'),\n",
       " Document(metadata={}, page_content='Let’s exchange bags.'),\n",
       " Document(metadata={}, page_content='Let’s gather in the room.'),\n",
       " Document(metadata={}, page_content='She is knitting the sweater.'),\n",
       " Document(metadata={}, page_content='We navigate with a navigation system.'),\n",
       " Document(metadata={}, page_content='I scanned the boy.'),\n",
       " Document(metadata={}, page_content='She is sewing the socks.'),\n",
       " Document(metadata={}, page_content='Her hair is straight.'),\n",
       " Document(metadata={}, page_content='Do you like rainy days?'),\n",
       " Document(metadata={}, page_content=\"It's a good place for a picnic.\"),\n",
       " Document(metadata={}, page_content='Don’t swim in deep water.'),\n",
       " Document(metadata={}, page_content='The birds are singing in the tree.'),\n",
       " Document(metadata={}, page_content='Give me another spoon, please.'),\n",
       " Document(metadata={}, page_content='The musical was sad.'),\n",
       " Document(metadata={}, page_content='Is the actress kind?'),\n",
       " Document(metadata={}, page_content='Welcome to my birthday party!'),\n",
       " Document(metadata={}, page_content='Let’s explore the online world!'),\n",
       " Document(metadata={}, page_content='Highlight the word.'),\n",
       " Document(metadata={}, page_content='I’m leading my class.'),\n",
       " Document(metadata={}, page_content='The lift is lifting us.'),\n",
       " Document(metadata={}, page_content='The service is quick.'),\n",
       " Document(metadata={}, page_content='I’m shutting the shutters.'),\n",
       " Document(metadata={}, page_content='The black suit suits me.'),\n",
       " Document(metadata={}, page_content='I’m wrapping the food.'),\n",
       " Document(metadata={}, page_content='Our ancestors used animal bones as weapons.'),\n",
       " Document(metadata={}, page_content='I feel certain he will win.'),\n",
       " Document(metadata={}, page_content='It’s a common mistake.'),\n",
       " Document(metadata={}, page_content='He is in danger of falling.'),\n",
       " Document(metadata={}, page_content='I’m taller than my elder brother.'),\n",
       " Document(metadata={}, page_content='A close relative lives in Namwon.'),\n",
       " Document(metadata={}, page_content='I respect you very much.'),\n",
       " Document(metadata={}, page_content='I saw a strange man at the park.'),\n",
       " Document(metadata={}, page_content='This is my home address.'),\n",
       " Document(metadata={}, page_content='How about joining the school band?'),\n",
       " Document(metadata={}, page_content='What’s your favorite club?'),\n",
       " Document(metadata={}, page_content='My name is Sally and I’m in the fifth grade.'),\n",
       " Document(metadata={}, page_content='Do you like Korean history?'),\n",
       " Document(metadata={}, page_content='My hometown is Seoul.'),\n",
       " Document(metadata={}, page_content='What’s your phone number?'),\n",
       " Document(metadata={}, page_content='Jay and Clare like the same food.'),\n",
       " Document(metadata={}, page_content='How do you spell your name?'),\n",
       " Document(metadata={}, page_content='We are elementary school students.'),\n",
       " Document(metadata={}, page_content='Do you have any brothers or sisters?'),\n",
       " Document(metadata={}, page_content='My favorite cousin came to my house.'),\n",
       " Document(metadata={}, page_content='A king’s daughter is a princess.'),\n",
       " Document(metadata={}, page_content='A nephew is a son of your brother or sister.'),\n",
       " Document(metadata={}, page_content='If he’s my uncle, I’m his niece.'),\n",
       " Document(metadata={}, page_content='All his relatives came to the wedding.'),\n",
       " Document(metadata={}, page_content='I have two brothers and one sister.'),\n",
       " Document(metadata={}, page_content='They have a son and two daughters.'),\n",
       " Document(metadata={}, page_content='Choose the best book for you.'),\n",
       " Document(metadata={}, page_content='I dream about toys every night.'),\n",
       " Document(metadata={}, page_content='Excuse me. Where is the bank?'),\n",
       " Document(metadata={}, page_content='Hurry up! We are late for school.'),\n",
       " Document(metadata={}, page_content='He learns English.'),\n",
       " Document(metadata={}, page_content='She teaches math.'),\n",
       " Document(metadata={}, page_content='Thank you very much.'),\n",
       " Document(metadata={}, page_content='I think he is hungry.'),\n",
       " Document(metadata={}, page_content='She is waiting for her mom.'),\n",
       " Document(metadata={}, page_content='Welcome to my house.'),\n",
       " Document(metadata={}, page_content='May I use your bathroom?'),\n",
       " Document(metadata={}, page_content='I’m bored.'),\n",
       " Document(metadata={}, page_content='May I use your camera?'),\n",
       " Document(metadata={}, page_content='Jim is very excited.'),\n",
       " Document(metadata={}, page_content='This towel feels soft.'),\n",
       " Document(metadata={}, page_content='This story is really funny.'),\n",
       " Document(metadata={}, page_content='This book is very interesting.'),\n",
       " Document(metadata={}, page_content='May I have your bread?'),\n",
       " Document(metadata={}, page_content='May I use your towel?'),\n",
       " Document(metadata={}, page_content='May I use your pencil?'),\n",
       " Document(metadata={}, page_content='He’s from Brazil.'),\n",
       " Document(metadata={}, page_content='She’s from Canada.'),\n",
       " Document(metadata={}, page_content='He is from China.'),\n",
       " Document(metadata={}, page_content='There are many countries in the world.'),\n",
       " Document(metadata={}, page_content='I’m from Seoul, Korea.'),\n",
       " Document(metadata={}, page_content='We are from India.'),\n",
       " Document(metadata={}, page_content='She is from Japan.'),\n",
       " Document(metadata={}, page_content='Jinho is from Korea.'),\n",
       " Document(metadata={}, page_content='Kevin is from the U.S.A.'),\n",
       " Document(metadata={}, page_content='Where are you from?'),\n",
       " Document(metadata={}, page_content='This is an apple.'),\n",
       " Document(metadata={}, page_content='I like bananas.'),\n",
       " Document(metadata={}, page_content='I like grapes.'),\n",
       " Document(metadata={}, page_content='It is a kiwi.'),\n",
       " Document(metadata={}, page_content='That is a lemon.'),\n",
       " Document(metadata={}, page_content='This is a melon.'),\n",
       " Document(metadata={}, page_content='This is an orange.'),\n",
       " Document(metadata={}, page_content='It is a peach.'),\n",
       " Document(metadata={}, page_content='That is a pear.'),\n",
       " Document(metadata={}, page_content='This is a strawberry.'),\n",
       " Document(metadata={}, page_content='I have one cow.'),\n",
       " Document(metadata={}, page_content='You have two dogs.'),\n",
       " Document(metadata={}, page_content='I have three pigs.'),\n",
       " Document(metadata={}, page_content='I have four cats.'),\n",
       " Document(metadata={}, page_content='I have five fish.'),\n",
       " Document(metadata={}, page_content='You have six apples.'),\n",
       " Document(metadata={}, page_content='I have seven pears.'),\n",
       " Document(metadata={}, page_content='You have eight oranges.'),\n",
       " Document(metadata={}, page_content='I have nine kiwis.'),\n",
       " Document(metadata={}, page_content='You have ten strawberries.'),\n",
       " Document(metadata={}, page_content='I want to be an artist.'),\n",
       " Document(metadata={}, page_content='Do you want to be an astronaut?'),\n",
       " Document(metadata={}, page_content='What do you want to be in the future?'),\n",
       " Document(metadata={}, page_content='I want to be a nurse.'),\n",
       " Document(metadata={}, page_content='I want to be a pianist.'),\n",
       " Document(metadata={}, page_content='Do you want to be a pilot?'),\n",
       " Document(metadata={}, page_content='I want to be a scientist.'),\n",
       " Document(metadata={}, page_content='I want to teach English.'),\n",
       " Document(metadata={}, page_content='I want to travel abroad.'),\n",
       " Document(metadata={}, page_content='Do you want to be a writer?'),\n",
       " Document(metadata={}, page_content='Amy runs as fast as Emma.'),\n",
       " Document(metadata={}, page_content='We are at the park now.'),\n",
       " Document(metadata={}, page_content='This is for you.'),\n",
       " Document(metadata={}, page_content='Where is one of my pictures?'),\n",
       " Document(metadata={}, page_content='I’m going to the library.'),\n",
       " Document(metadata={}, page_content='I have to study until five.'),\n",
       " Document(metadata={}, page_content='When is your birthday?'),\n",
       " Document(metadata={}, page_content='Which do you have, vanilla or strawberry?'),\n",
       " Document(metadata={}, page_content='Who is he?'),\n",
       " Document(metadata={}, page_content='Why does your hair turn gray?'),\n",
       " Document(metadata={}, page_content='There is a lot of delicious bread in this bakery.'),\n",
       " Document(metadata={}, page_content='What do you have behind your back?'),\n",
       " Document(metadata={}, page_content='A turtle is going downstairs.'),\n",
       " Document(metadata={}, page_content='That ball is far from me.'),\n",
       " Document(metadata={}, page_content='The fire station has one fire engine.'),\n",
       " Document(metadata={}, page_content='Tommy’s family took a picture in front of their house.'),\n",
       " Document(metadata={}, page_content='This ball is near me.'),\n",
       " Document(metadata={}, page_content='My cat is next to Kate’s dog.'),\n",
       " Document(metadata={}, page_content='They are watching a movie in the theater.'),\n",
       " Document(metadata={}, page_content='She is going upstairs.'),\n",
       " Document(metadata={}, page_content='What is the problem?'),\n",
       " Document(metadata={}, page_content='The woman found my key.'),\n",
       " Document(metadata={}, page_content='These flowers are beautiful.'),\n",
       " Document(metadata={}, page_content='I feel happy today.'),\n",
       " Document(metadata={}, page_content='She was walking on the street.'),\n",
       " Document(metadata={}, page_content='Where is my hat?'),\n",
       " Document(metadata={}, page_content='Tony bought new clothes today.'),\n",
       " Document(metadata={}, page_content='Kate doesn’t wear a skirt.'),\n",
       " Document(metadata={}, page_content='Another chick was born again.'),\n",
       " Document(metadata={}, page_content='I’ll show you an example.'),\n",
       " Document(metadata={}, page_content='They are gold bars.'),\n",
       " Document(metadata={}, page_content='Five minus one is four.'),\n",
       " Document(metadata={}, page_content='Three plus two is five.'),\n",
       " Document(metadata={}, page_content='There are many seats in this theater.'),\n",
       " Document(metadata={}, page_content='The washroom is clean.'),\n",
       " Document(metadata={}, page_content='I want to travel around the world.'),\n",
       " Document(metadata={}, page_content='Zero is my favorite number.'),\n",
       " Document(metadata={}, page_content='What’s the price for adults?'),\n",
       " Document(metadata={}, page_content='She started the business last year.'),\n",
       " Document(metadata={}, page_content='My teacher looks busy.'),\n",
       " Document(metadata={}, page_content='I only have one child.'),\n",
       " Document(metadata={}, page_content='He entered the singing contest.'),\n",
       " Document(metadata={}, page_content='I missed the boat again.'),\n",
       " Document(metadata={}, page_content='At last I passed the exam!'),\n",
       " Document(metadata={}, page_content='Turn right at the second corner.'),\n",
       " Document(metadata={}, page_content='Besides me, no one knows it.'),\n",
       " Document(metadata={}, page_content='I should pay these bills this month.'),\n",
       " Document(metadata={}, page_content='My uncle started his career as a clerk.'),\n",
       " Document(metadata={}, page_content='The clock is fast. Set it by your phone.'),\n",
       " Document(metadata={}, page_content='The car is inside the garage.'),\n",
       " Document(metadata={}, page_content='They produce apple juice.'),\n",
       " Document(metadata={}, page_content='Joe is a professional golfer.'),\n",
       " Document(metadata={}, page_content='He taught us how to trade.'),\n",
       " Document(metadata={}, page_content='Sue is an astronaut.'),\n",
       " Document(metadata={}, page_content='Jenny is a baker.'),\n",
       " Document(metadata={}, page_content='This dentist is my uncle.'),\n",
       " Document(metadata={}, page_content='I am a bus driver.'),\n",
       " Document(metadata={}, page_content='That farmer is my grandpa.'),\n",
       " Document(metadata={}, page_content='Bill is a fashion designer.'),\n",
       " Document(metadata={}, page_content='They are hairdressers'),\n",
       " Document(metadata={}, page_content='Mrs. Watson is a magician.'),\n",
       " Document(metadata={}, page_content='She is a great pianist.'),\n",
       " Document(metadata={}, page_content='Kate is a reporter.'),\n",
       " Document(metadata={}, page_content='We arranged the oranges.'),\n",
       " Document(metadata={}, page_content='My brothers bother me.'),\n",
       " Document(metadata={}, page_content='It’s a broad road.'),\n",
       " Document(metadata={}, page_content='I’m building a building.'),\n",
       " Document(metadata={}, page_content='These slippers are slippery.'),\n",
       " Document(metadata={}, page_content='There is a spot on the pot.'),\n",
       " Document(metadata={}, page_content='Sweaters make me sweat.'),\n",
       " Document(metadata={}, page_content='She is wiping the window.'),\n",
       " Document(metadata={}, page_content='I heard beats on the drum.'),\n",
       " Document(metadata={}, page_content='Who is the chief manager of this store?'),\n",
       " Document(metadata={}, page_content='There is no evidence of her guilt.'),\n",
       " Document(metadata={}, page_content='We all learn by experience.'),\n",
       " Document(metadata={}, page_content='It’s nothing but a joke.'),\n",
       " Document(metadata={}, page_content='I go to the movies about twice a month.'),\n",
       " Document(metadata={}, page_content='Why does a boomerang return to its thrower?'),\n",
       " Document(metadata={}, page_content='What is your target for this year?'),\n",
       " Document(metadata={}, page_content='Many teenagers experience fast growth.'),\n",
       " Document(metadata={}, page_content='I will say this only once, so listen carefully.'),\n",
       " Document(metadata={}, page_content='We go to the movies once or twice a month.'),\n",
       " Document(metadata={}, page_content='The youth of today have no manners!'),\n",
       " Document(metadata={}, page_content='If I pay cash, will I get a discount?'),\n",
       " Document(metadata={}, page_content='We celebrated Piggy’s birthday.'),\n",
       " Document(metadata={}, page_content='My dad is changing the light bulb.'),\n",
       " Document(metadata={}, page_content='Don’t compare yourself with others.'),\n",
       " Document(metadata={}, page_content='He works in the sales department.'),\n",
       " Document(metadata={}, page_content='Good health is better than wealth.'),\n",
       " Document(metadata={}, page_content='Sam will visit Ulsan next week.'),\n",
       " Document(metadata={}, page_content='Write the word on the blackboard.'),\n",
       " Document(metadata={}, page_content='How do you spell your name?'),\n",
       " Document(metadata={}, page_content='There are classrooms on the fourth floor.'),\n",
       " Document(metadata={}, page_content='She helped her mom after dinner.'),\n",
       " Document(metadata={}, page_content='The teacher is scolding Jake.'),\n",
       " Document(metadata={}, page_content='My uncle lives in Busan.'),\n",
       " Document(metadata={}, page_content='Is Maria from India?'),\n",
       " Document(metadata={}, page_content='We need fresh air.'),\n",
       " Document(metadata={}, page_content='The earth is beautiful.'),\n",
       " Document(metadata={}, page_content='There’s a big hen on the roof.'),\n",
       " Document(metadata={}, page_content='Look! The hill is high.'),\n",
       " Document(metadata={}, page_content='There’s an iguana on the stone.'),\n",
       " Document(metadata={}, page_content='This leaf is pretty.'),\n",
       " Document(metadata={}, page_content='I don’t like rain.'),\n",
       " Document(metadata={}, page_content='Dogs like snow.'),\n",
       " Document(metadata={}, page_content='Don’t throw the stone.'),\n",
       " Document(metadata={}, page_content='The wind is cold today.'),\n",
       " Document(metadata={}, page_content='I am able to play tennis.'),\n",
       " Document(metadata={}, page_content='It is difficult to lift a barbell.'),\n",
       " Document(metadata={}, page_content='The early bird catches the worm.'),\n",
       " Document(metadata={}, page_content='Glasses are easy to break.'),\n",
       " Document(metadata={}, page_content='Today we will study African history.'),\n",
       " Document(metadata={}, page_content='I like science very much.'),\n",
       " Document(metadata={}, page_content='I have very good sight.'),\n",
       " Document(metadata={}, page_content='What is the source of your writing?'),\n",
       " Document(metadata={}, page_content='His weight is double hers.'),\n",
       " Document(metadata={}, page_content='Give me a dozen yellow ribbons, please.'),\n",
       " Document(metadata={}, page_content='Cut the watermelon in half.'),\n",
       " Document(metadata={}, page_content='This is too heavy.'),\n",
       " Document(metadata={}, page_content='My sister earns about a million won a month.'),\n",
       " Document(metadata={}, page_content='Think of a number and add six.'),\n",
       " Document(metadata={}, page_content='What size do you wear?'),\n",
       " Document(metadata={}, page_content='His arms are strong.'),\n",
       " Document(metadata={}, page_content='My grandma is ill.'),\n",
       " Document(metadata={}, page_content='Who is cooking dinner?'),\n",
       " Document(metadata={}, page_content='Hurry up, Jake.'),\n",
       " Document(metadata={}, page_content='She counted the beds.'),\n",
       " Document(metadata={}, page_content='The bread smells good.'),\n",
       " Document(metadata={}, page_content='Do you sell meat?'),\n",
       " Document(metadata={}, page_content='Angels have wings.'),\n",
       " Document(metadata={}, page_content='I was very anxious about the test result.'),\n",
       " Document(metadata={}, page_content='He was a shy boy, but now he is a strong man.'),\n",
       " Document(metadata={}, page_content='I was very nervous before the contest.'),\n",
       " Document(metadata={}, page_content='Many people are waving their hands.'),\n",
       " Document(metadata={}, page_content='She is a very interesting person.'),\n",
       " Document(metadata={}, page_content='I’m not joking. I’m serious.'),\n",
       " Document(metadata={}, page_content='The little girl become a beautiful woman.'),\n",
       " Document(metadata={}, page_content='Don’t worry, be happy!'),\n",
       " Document(metadata={}, page_content='Everyone was against me.'),\n",
       " Document(metadata={}, page_content='We walked along the beach.'),\n",
       " Document(metadata={}, page_content='There were ducks among the geese.'),\n",
       " Document(metadata={}, page_content='Mike stood in line between Jane and Cathy.'),\n",
       " Document(metadata={}, page_content='I go to camp during summer vacation.'),\n",
       " Document(metadata={}, page_content='I bought more apples.'),\n",
       " Document(metadata={}, page_content='It was the most exciting game.'),\n",
       " Document(metadata={}, page_content='Water goes through this pipe.'),\n",
       " Document(metadata={}, page_content='That is your balloon.'),\n",
       " Document(metadata={}, page_content='This is his bell.'),\n",
       " Document(metadata={}, page_content='This is her brush.'),\n",
       " Document(metadata={}, page_content='That is his camera.'),\n",
       " Document(metadata={}, page_content='This is my fan.'),\n",
       " Document(metadata={}, page_content='It is my key.'),\n",
       " Document(metadata={}, page_content='That is a watch.'),\n",
       " Document(metadata={}, page_content='These are their pencils.'),\n",
       " Document(metadata={}, page_content='This is my radio.'),\n",
       " Document(metadata={}, page_content='Those are my shoes.'),\n",
       " Document(metadata={}, page_content='It’s a small airport.'),\n",
       " Document(metadata={}, page_content='It’s a big apartment.'),\n",
       " Document(metadata={}, page_content='The bridge is long.'),\n",
       " Document(metadata={}, page_content='The church is old.'),\n",
       " Document(metadata={}, page_content='The city is big.'),\n",
       " Document(metadata={}, page_content='I’m at home.'),\n",
       " Document(metadata={}, page_content='The office is small.'),\n",
       " Document(metadata={}, page_content='Let’s visit the place.'),\n",
       " Document(metadata={}, page_content='It’s an old road.'),\n",
       " Document(metadata={}, page_content='It’s a new shop.'),\n",
       " Document(metadata={}, page_content='The alarm clock alarmed me.'),\n",
       " Document(metadata={}, page_content='The bun is burning.'),\n",
       " Document(metadata={}, page_content='This candle is cheap.'),\n",
       " Document(metadata={}, page_content='The paint is faint.'),\n",
       " Document(metadata={}, page_content='You handle the steering wheel well.'),\n",
       " Document(metadata={}, page_content='Her knit top looks neat.'),\n",
       " Document(metadata={}, page_content='There are a pile of files.'),\n",
       " Document(metadata={}, page_content='Do you remember the members?'),\n",
       " Document(metadata={}, page_content='It’s a sad film.'),\n",
       " Document(metadata={}, page_content='We see a baseball game on TV.'),\n",
       " Document(metadata={}, page_content='Can you play hockey?'),\n",
       " Document(metadata={}, page_content='We have a quiz tomorrow.'),\n",
       " Document(metadata={}, page_content='Is this your racket?'),\n",
       " Document(metadata={}, page_content='Is this your rocket?'),\n",
       " Document(metadata={}, page_content='Let’s watch the magic show.'),\n",
       " Document(metadata={}, page_content='I like your story.'),\n",
       " Document(metadata={}, page_content='I need two tickets.'),\n",
       " Document(metadata={}, page_content='They play with a toy.'),\n",
       " Document(metadata={}, page_content='Tim is angry because Amy made a mistake in the report.'),\n",
       " Document(metadata={}, page_content='Why do you break the bricks?'),\n",
       " Document(metadata={}, page_content='I like hiking in the mountains.'),\n",
       " Document(metadata={}, page_content='I like telling jokes.'),\n",
       " Document(metadata={}, page_content='Judy’s nose is growing long because she told a lie to me.'),\n",
       " Document(metadata={}, page_content='Lisa is searching for her bag because she lost her key.'),\n",
       " Document(metadata={}, page_content='I like watching musicals.'),\n",
       " Document(metadata={}, page_content='I like reading poems.'),\n",
       " Document(metadata={}, page_content='Why are you so happy?'),\n",
       " Document(metadata={}, page_content='We are happy because we won the game.'),\n",
       " Document(metadata={}, page_content='You can ask the questions.'),\n",
       " Document(metadata={}, page_content='I can’t build the house.'),\n",
       " Document(metadata={}, page_content='I can buy this doll.'),\n",
       " Document(metadata={}, page_content='Find my book.'),\n",
       " Document(metadata={}, page_content='I can’t have a pet.'),\n",
       " Document(metadata={}, page_content='I can’t hear you.'),\n",
       " Document(metadata={}, page_content='I can’t help you.'),\n",
       " Document(metadata={}, page_content='Let’s look at the kangaroos.'),\n",
       " Document(metadata={}, page_content='He can understand it.'),\n",
       " Document(metadata={}, page_content='I want an apple.'),\n",
       " Document(metadata={}, page_content='I like camping.'),\n",
       " Document(metadata={}, page_content='I’m going to the concert hall.'),\n",
       " Document(metadata={}, page_content='His hobby is fishing.'),\n",
       " Document(metadata={}, page_content='Let’s have a party.'),\n",
       " Document(metadata={}, page_content='Her hobby is hiking.'),\n",
       " Document(metadata={}, page_content='What’s your hobby?'),\n",
       " Document(metadata={}, page_content='Today is a holiday.'),\n",
       " Document(metadata={}, page_content='We are planting flowers.'),\n",
       " Document(metadata={}, page_content='I like swimming.'),\n",
       " Document(metadata={}, page_content='I have two tickets.'),\n",
       " Document(metadata={}, page_content='She delivers mail to people.'),\n",
       " Document(metadata={}, page_content='Is the glass half empty or half full?'),\n",
       " Document(metadata={}, page_content='I saved enough money to buy those shoes.'),\n",
       " Document(metadata={}, page_content='It took three weeks to finish it.'),\n",
       " Document(metadata={}, page_content='I invited his family to the party.'),\n",
       " Document(metadata={}, page_content='Kevin is polite as well as handsome.'),\n",
       " Document(metadata={}, page_content='I was rude to my mom.'),\n",
       " Document(metadata={}, page_content='Um, this apple tastes sweet and sour. Dam, dl'),\n",
       " Document(metadata={}, page_content='Frank is carrying a suitcase.'),\n",
       " Document(metadata={}, page_content='What can we do for our environment?'),\n",
       " Document(metadata={}, page_content='I’m fine. Thank you.'),\n",
       " Document(metadata={}, page_content='You have a cute smile. Keep smiling.'),\n",
       " Document(metadata={}, page_content='There are lots of parking lots around this park.'),\n",
       " Document(metadata={}, page_content='She is about to pick the plant.'),\n",
       " Document(metadata={}, page_content='We should protect the environment.'),\n",
       " Document(metadata={}, page_content='Don’t throw it away. The trash can is full.'),\n",
       " Document(metadata={}, page_content='Jack goes to bed early.'),\n",
       " Document(metadata={}, page_content='He goes to bed late.'),\n",
       " Document(metadata={}, page_content='The bed is brown.'),\n",
       " Document(metadata={}, page_content='The chair is blue.'),\n",
       " Document(metadata={}, page_content='The computer is gray.'),\n",
       " Document(metadata={}, page_content='The desk is white.'),\n",
       " Document(metadata={}, page_content='The lamp is pink.'),\n",
       " Document(metadata={}, page_content='The radio is yellow.'),\n",
       " Document(metadata={}, page_content='The sofa is black.'),\n",
       " Document(metadata={}, page_content='The table is green.'),\n",
       " Document(metadata={}, page_content='The telephone is white.'),\n",
       " Document(metadata={}, page_content='The television is red.'),\n",
       " Document(metadata={}, page_content='This is my doll.'),\n",
       " Document(metadata={}, page_content='That is your robot.'),\n",
       " Document(metadata={}, page_content='This is his pen.'),\n",
       " Document(metadata={}, page_content='That is her book.'),\n",
       " Document(metadata={}, page_content='These are their pencils.'),\n",
       " Document(metadata={}, page_content='Those are our cookies.'),\n",
       " Document(metadata={}, page_content='It’s my pen.'),\n",
       " Document(metadata={}, page_content='It’s your pencil.'),\n",
       " Document(metadata={}, page_content='It’s her eraser.'),\n",
       " Document(metadata={}, page_content='It’s his crayon.'),\n",
       " Document(metadata={}, page_content='I beg your pardon?'),\n",
       " Document(metadata={}, page_content='The dog buried the bone in the yard.'),\n",
       " Document(metadata={}, page_content='I’m considering buying a teddy bear.'),\n",
       " Document(metadata={}, page_content='Music is a tool to express emotion.'),\n",
       " Document(metadata={}, page_content='Don’t be afraid to fail.'),\n",
       " Document(metadata={}, page_content='I was nervous on the diving board.'),\n",
       " Document(metadata={}, page_content='I’m sure you’ll succeed.'),\n",
       " Document(metadata={}, page_content='Don’t upset yourself about it.'),\n",
       " Document(metadata={}, page_content='Can I borrow your pencil?'),\n",
       " Document(metadata={}, page_content=\"Let's meet at two tomorrow.\"),\n",
       " Document(metadata={}, page_content=\"It's time to sleep.\"),\n",
       " Document(metadata={}, page_content='My shoes are wet.'),\n",
       " Document(metadata={}, page_content='Hello, my name is Susan.'),\n",
       " Document(metadata={}, page_content='I get up early in the morning.'),\n",
       " Document(metadata={}, page_content='Are there many cows on the farm?'),\n",
       " Document(metadata={}, page_content='This present is for you.'),\n",
       " Document(metadata={}, page_content='It’s the best plant for your health.'),\n",
       " Document(metadata={}, page_content='Your bike is better than mine.'),\n",
       " Document(metadata={}, page_content='I like both of them.'),\n",
       " Document(metadata={}, page_content='Each student looks happy.'),\n",
       " Document(metadata={}, page_content='There is less juice in the glass on the right.'),\n",
       " Document(metadata={}, page_content='Have some more cake.'),\n",
       " ...]"
      ]
     },
     "execution_count": 2,
     "metadata": {},
     "output_type": "execute_result"
    }
   ],
   "source": [
    "def load_example_sentences(file_path):\n",
    "    with open(file_path, 'r') as file:\n",
    "        data = json.load(file)\n",
    "    return [Document(page_content=sentence) for sentence in data]\n",
    "\n",
    "example_sentences = load_example_sentences(\"./extracted_examples.json\")\n",
    "\n",
    "example_sentences"
   ]
  },
  {
   "cell_type": "markdown",
   "metadata": {},
   "source": [
    "# 모델 생성"
   ]
  },
  {
   "cell_type": "code",
   "execution_count": 29,
   "metadata": {},
   "outputs": [],
   "source": [
    "# llm = ChatOllama(model=\"Lama3.2-korean:latest\", max_token = 500)\n",
    "llm = ChatOllama(model=\"llama3.2\", max_token=50, temperature=0.5)"
   ]
  },
  {
   "cell_type": "markdown",
   "metadata": {},
   "source": [
    "# 프롬프트 "
   ]
  },
  {
   "cell_type": "code",
   "execution_count": 30,
   "metadata": {},
   "outputs": [],
   "source": [
    "prompt_template = PromptTemplate(\n",
    "    input_variables=[\"query\"],\n",
    "    template=\"\"\"\n",
    "    You must create exactly one simple, complete English sentence that an elementary school student can understand.\n",
    "    \n",
    "    - The sentence must include the word '{query}' exactly as specified, without any modifications or additional forms.\n",
    "    - Use only a single statement, not a question, command, or compound sentence.\n",
    "    - The sentence should be between 5 and 8 words long.\n",
    "    - Do not create multiple sentences or add any additional information.\n",
    "    - Use only common, everyday words that are simple for an elementary school student in the US to understand.\n",
    "\n",
    "    If you cannot create a sentence following these rules exactly, respond with \"Unable to create a valid sentence.\"\n",
    "    \"\"\"\n",
    ")\n",
    "\n",
    "# # 프롬프트 템플릿 설정\n",
    "# prompt_template = PromptTemplate(\n",
    "#     input_variables=[\"query\"],\n",
    "#     template=\"\"\"CREATE ONE EASY SENTENCE FOR CHILDREN:\n",
    "\n",
    "# RULES:\n",
    "# 1. Use '{query}' in your sentence\n",
    "# 2. Use 5-8 simple words only\n",
    "# 3. Make it easy for grade 1-3 students\n",
    "# 4. NO hard or complex words\n",
    "# 5. NO questions or long sentences\n",
    "# 6. NO extra sentences or examples\n",
    "# 7. WRITE ONLY ONE SENTENCE\n",
    "\n",
    "# Examples of RIGHT LEVEL:\n",
    "# - \"The dog plays in the park\"\n",
    "# - \"My mom bakes cookies for me\"\n",
    "\n",
    "# >>> Write only ONE simple sentence:\"\"\"\n",
    "# )"
   ]
  },
  {
   "cell_type": "markdown",
   "metadata": {},
   "source": [
    "# 임베딩 생성"
   ]
  },
  {
   "cell_type": "code",
   "execution_count": 9,
   "metadata": {},
   "outputs": [],
   "source": [
    "# embeddings = OpenAIEmbeddings()\n",
    "# model_name = \"sentence-transformers/all-MiniLM-L6-v2\"\n",
    "model_name = \"sentence-transformers/all-mpnet-base-v2\"\n",
    "\n",
    "\n",
    "# model_name = \"Alibaba-NLP/gte-Qwen2-1.5B-instruct\"\n",
    "hf_embeddings = HuggingFaceEmbeddings(\n",
    "    model_name=model_name,\n",
    "    model_kwargs={\"device\": \"cpu\",\"trust_remote_code\":True},  # cuda, cpu\n",
    "    encode_kwargs={\"normalize_embeddings\": True},\n",
    ")"
   ]
  },
  {
   "cell_type": "markdown",
   "metadata": {},
   "source": [
    "# vectoc store"
   ]
  },
  {
   "cell_type": "code",
   "execution_count": 10,
   "metadata": {},
   "outputs": [],
   "source": [
    "# 벡터스토어 저장\n",
    "vector_store = FAISS.from_documents(example_sentences, hf_embeddings)\n",
    "# 생성된 벡터 스토어를 디스크에 저장\n",
    "vector_store.save_local(\"./sentence_vectorstore\")\n",
    "\n",
    "# 저장할 경로 지정\n",
    "DB_PATH = \"./sentence_vectorstore\"\n",
    "\n",
    "# # DB 생성\n",
    "# db = Chroma.from_documents(\n",
    "#     documents=example_sentences, embedding=hf_embeddings, collection_name=\"sentence_db\",persist_directory=DB_PATH\n",
    "# )"
   ]
  },
  {
   "cell_type": "code",
   "execution_count": null,
   "metadata": {},
   "outputs": [],
   "source": [
    "# # 디스크에서 문서를 로드합니다.\n",
    "# DB_PATH = \"./sentence_vectorstore\"\n",
    "\n",
    "# chroma_db = Chroma(\n",
    "#     persist_directory=DB_PATH,\n",
    "#     embedding_function=hf_embeddings,\n",
    "#     collection_name=\"sentence_db\",\n",
    "# )"
   ]
  },
  {
   "cell_type": "code",
   "execution_count": 11,
   "metadata": {},
   "outputs": [],
   "source": [
    "# 저장된 벡터 스토어 로드\n",
    "loaded_vector_store = FAISS.load_local(\n",
    "    \"./sentence_vectorstore\",\n",
    "    hf_embeddings,\n",
    "    allow_dangerous_deserialization=True  # 신뢰된 파일에서만 사용\n",
    ")"
   ]
  },
  {
   "cell_type": "markdown",
   "metadata": {},
   "source": [
    "# 검색기 생성"
   ]
  },
  {
   "cell_type": "code",
   "execution_count": 31,
   "metadata": {},
   "outputs": [],
   "source": [
    "retriever = loaded_vector_store.as_retriever()\n",
    "# retriever = chroma_db.as_retriever()\n"
   ]
  },
  {
   "cell_type": "code",
   "execution_count": 32,
   "metadata": {},
   "outputs": [
    {
     "data": {
      "text/plain": [
       "[Document(metadata={}, page_content='It’s her eraser.'),\n",
       " Document(metadata={}, page_content='Did you find the eraser?'),\n",
       " Document(metadata={}, page_content='It’s your pencil.'),\n",
       " Document(metadata={}, page_content='Whose paintbrush is it?')]"
      ]
     },
     "execution_count": 32,
     "metadata": {},
     "output_type": "execute_result"
    }
   ],
   "source": [
    "retriever.invoke(\"eraser\")"
   ]
  },
  {
   "cell_type": "markdown",
   "metadata": {},
   "source": [
    "# 체인 생성"
   ]
  },
  {
   "cell_type": "code",
   "execution_count": 33,
   "metadata": {},
   "outputs": [],
   "source": [
    "qa_chain = RetrievalQA.from_chain_type(\n",
    "    llm=llm,\n",
    "    retriever=retriever,\n",
    "    chain_type_kwargs={\"prompt\": prompt_template, \"document_variable_name\": \"query\"},\n",
    ")"
   ]
  },
  {
   "cell_type": "code",
   "execution_count": 34,
   "metadata": {},
   "outputs": [
    {
     "data": {
      "text/plain": [
       "PromptTemplate(input_variables=['query'], input_types={}, partial_variables={}, template='\\n    You must create exactly one simple, complete English sentence that an elementary school student can understand.\\n    \\n    - The sentence must include the word \\'{query}\\' exactly as specified, without any modifications or additional forms.\\n    - Use only a single statement, not a question, command, or compound sentence.\\n    - The sentence should be between 5 and 8 words long.\\n    - Do not create multiple sentences or add any additional information.\\n    - Use only common, everyday words that are simple for an elementary school student in the US to understand.\\n\\n    If you cannot create a sentence following these rules exactly, respond with \"Unable to create a valid sentence.\"\\n    ')"
      ]
     },
     "execution_count": 34,
     "metadata": {},
     "output_type": "execute_result"
    }
   ],
   "source": [
    "prompt_template"
   ]
  },
  {
   "cell_type": "markdown",
   "metadata": {},
   "source": [
    "# 실행 코드(테스트)"
   ]
  },
  {
   "cell_type": "code",
   "execution_count": 35,
   "metadata": {},
   "outputs": [],
   "source": [
    "# JSON 파일에서 단어 목록 불러오기\n",
    "with open(\"./extracted_words.json\", \"r\", encoding=\"utf-8\") as file:\n",
    "    words = json.load(file)"
   ]
  },
  {
   "cell_type": "code",
   "execution_count": 36,
   "metadata": {},
   "outputs": [
    {
     "name": "stderr",
     "output_type": "stream",
     "text": [
      "1it [00:04,  4.78s/it]"
     ]
    },
    {
     "name": "stdout",
     "output_type": "stream",
     "text": [
      "생성된 문장이 규칙을 따르지 않습니다. 단어: attractive\n"
     ]
    },
    {
     "name": "stderr",
     "output_type": "stream",
     "text": [
      "2it [00:05,  2.32s/it]"
     ]
    },
    {
     "name": "stdout",
     "output_type": "stream",
     "text": [
      "Ryan is very handsome. handsome\n"
     ]
    },
    {
     "name": "stderr",
     "output_type": "stream",
     "text": [
      "3it [00:06,  1.58s/it]"
     ]
    },
    {
     "name": "stdout",
     "output_type": "stream",
     "text": [
      "She is beautiful and looks lovely. lovely\n"
     ]
    },
    {
     "name": "stderr",
     "output_type": "stream",
     "text": [
      "4it [00:06,  1.27s/it]"
     ]
    },
    {
     "name": "stdout",
     "output_type": "stream",
     "text": [
      "생성된 문장이 규칙을 따르지 않습니다. 단어: wonderful\n"
     ]
    },
    {
     "name": "stderr",
     "output_type": "stream",
     "text": [
      "5it [00:07,  1.13s/it]"
     ]
    },
    {
     "name": "stdout",
     "output_type": "stream",
     "text": [
      "생성된 문장이 규칙을 따르지 않습니다. 단어: excellent\n"
     ]
    },
    {
     "name": "stderr",
     "output_type": "stream",
     "text": [
      "6it [00:08,  1.00s/it]"
     ]
    },
    {
     "name": "stdout",
     "output_type": "stream",
     "text": [
      "생성된 문장이 규칙을 따르지 않습니다. 단어: incredible\n"
     ]
    },
    {
     "name": "stderr",
     "output_type": "stream",
     "text": [
      "7it [00:09,  1.10it/s]"
     ]
    },
    {
     "name": "stdout",
     "output_type": "stream",
     "text": [
      "You look pretty and she is beautiful. beautiful\n"
     ]
    },
    {
     "name": "stderr",
     "output_type": "stream",
     "text": [
      "8it [00:10,  1.15it/s]"
     ]
    },
    {
     "name": "stdout",
     "output_type": "stream",
     "text": [
      "생성된 문장이 규칙을 따르지 않습니다. 단어: extraordinary\n"
     ]
    },
    {
     "name": "stderr",
     "output_type": "stream",
     "text": [
      "9it [00:10,  1.21it/s]"
     ]
    },
    {
     "name": "stdout",
     "output_type": "stream",
     "text": [
      "생성된 문장이 규칙을 따르지 않습니다. 단어: fine\n"
     ]
    },
    {
     "name": "stderr",
     "output_type": "stream",
     "text": [
      "10it [00:11,  1.32it/s]"
     ]
    },
    {
     "name": "stdout",
     "output_type": "stream",
     "text": [
      "My sister is cute. cute\n"
     ]
    },
    {
     "name": "stderr",
     "output_type": "stream",
     "text": [
      "11it [00:12,  1.32it/s]"
     ]
    },
    {
     "name": "stdout",
     "output_type": "stream",
     "text": [
      "I’m great and I’m okay. great\n"
     ]
    },
    {
     "name": "stderr",
     "output_type": "stream",
     "text": [
      "12it [00:12,  1.33it/s]"
     ]
    },
    {
     "name": "stdout",
     "output_type": "stream",
     "text": [
      "생성된 문장이 규칙을 따르지 않습니다. 단어: terrific\n"
     ]
    },
    {
     "name": "stderr",
     "output_type": "stream",
     "text": [
      "13it [00:13,  1.26it/s]"
     ]
    },
    {
     "name": "stdout",
     "output_type": "stream",
     "text": [
      "생성된 문장이 규칙을 따르지 않습니다. 단어: okay\n"
     ]
    },
    {
     "name": "stderr",
     "output_type": "stream",
     "text": [
      "14it [00:14,  1.22it/s]"
     ]
    },
    {
     "name": "stdout",
     "output_type": "stream",
     "text": [
      "생성된 문장이 규칙을 따르지 않습니다. 단어: amazing\n"
     ]
    },
    {
     "name": "stderr",
     "output_type": "stream",
     "text": [
      "15it [00:15,  1.36it/s]"
     ]
    },
    {
     "name": "stdout",
     "output_type": "stream",
     "text": [
      "You look pretty. pretty\n"
     ]
    },
    {
     "name": "stderr",
     "output_type": "stream",
     "text": [
      "16it [00:16,  1.18it/s]"
     ]
    },
    {
     "name": "stdout",
     "output_type": "stream",
     "text": [
      "They're good, I'm okay, that's enough, I'm happy. good\n"
     ]
    },
    {
     "name": "stderr",
     "output_type": "stream",
     "text": [
      "17it [00:17,  1.18it/s]"
     ]
    },
    {
     "name": "stdout",
     "output_type": "stream",
     "text": [
      "생성된 문장이 규칙을 따르지 않습니다. 단어: perfect\n"
     ]
    },
    {
     "name": "stderr",
     "output_type": "stream",
     "text": [
      "18it [00:17,  1.23it/s]"
     ]
    },
    {
     "name": "stdout",
     "output_type": "stream",
     "text": [
      "생성된 문장이 규칙을 따르지 않습니다. 단어: elegant\n"
     ]
    },
    {
     "name": "stderr",
     "output_type": "stream",
     "text": [
      "19it [00:18,  1.31it/s]"
     ]
    },
    {
     "name": "stdout",
     "output_type": "stream",
     "text": [
      "생성된 문장이 규칙을 따르지 않습니다. 단어: impression\n"
     ]
    },
    {
     "name": "stderr",
     "output_type": "stream",
     "text": [
      "20it [00:19,  1.32it/s]"
     ]
    },
    {
     "name": "stdout",
     "output_type": "stream",
     "text": [
      "생성된 문장이 규칙을 따르지 않습니다. 단어: so\n"
     ]
    },
    {
     "name": "stderr",
     "output_type": "stream",
     "text": [
      "21it [00:20,  1.29it/s]"
     ]
    },
    {
     "name": "stdout",
     "output_type": "stream",
     "text": [
      "생성된 문장이 규칙을 따르지 않습니다. 단어: see\n"
     ]
    },
    {
     "name": "stderr",
     "output_type": "stream",
     "text": [
      "22it [00:20,  1.25it/s]"
     ]
    },
    {
     "name": "stdout",
     "output_type": "stream",
     "text": [
      "That's enough cake, now go to sleep. enough\n"
     ]
    },
    {
     "name": "stderr",
     "output_type": "stream",
     "text": [
      "23it [00:21,  1.23it/s]"
     ]
    },
    {
     "name": "stdout",
     "output_type": "stream",
     "text": [
      "생성된 문장이 규칙을 따르지 않습니다. 단어: really\n"
     ]
    },
    {
     "name": "stderr",
     "output_type": "stream",
     "text": [
      "24it [00:22,  1.24it/s]"
     ]
    },
    {
     "name": "stdout",
     "output_type": "stream",
     "text": [
      "Come here, please and hold my hand. please\n"
     ]
    },
    {
     "name": "stderr",
     "output_type": "stream",
     "text": [
      "25it [00:23,  1.24it/s]"
     ]
    },
    {
     "name": "stdout",
     "output_type": "stream",
     "text": [
      "I must study English because I wake up. must\n"
     ]
    },
    {
     "name": "stderr",
     "output_type": "stream",
     "text": [
      "26it [00:24,  1.29it/s]"
     ]
    },
    {
     "name": "stdout",
     "output_type": "stream",
     "text": [
      "생성된 문장이 규칙을 따르지 않습니다. 단어: take care\n"
     ]
    },
    {
     "name": "stderr",
     "output_type": "stream",
     "text": [
      "27it [00:24,  1.34it/s]"
     ]
    },
    {
     "name": "stdout",
     "output_type": "stream",
     "text": [
      "생성된 문장이 규칙을 따르지 않습니다. 단어: admire\n"
     ]
    },
    {
     "name": "stderr",
     "output_type": "stream",
     "text": [
      "28it [00:25,  1.30it/s]"
     ]
    },
    {
     "name": "stdout",
     "output_type": "stream",
     "text": [
      "생성된 문장이 규칙을 따르지 않습니다. 단어: enjoy\n"
     ]
    },
    {
     "name": "stderr",
     "output_type": "stream",
     "text": [
      "29it [00:26,  1.40it/s]"
     ]
    },
    {
     "name": "stdout",
     "output_type": "stream",
     "text": [
      "They look delicious. delicious\n"
     ]
    },
    {
     "name": "stderr",
     "output_type": "stream",
     "text": [
      "30it [00:26,  1.34it/s]"
     ]
    },
    {
     "name": "stdout",
     "output_type": "stream",
     "text": [
      "Follow me and go along this way. way\n"
     ]
    },
    {
     "name": "stderr",
     "output_type": "stream",
     "text": [
      "31it [00:27,  1.26it/s]"
     ]
    },
    {
     "name": "stdout",
     "output_type": "stream",
     "text": [
      "I blush when I'm happy and touch my cheek. blush\n"
     ]
    },
    {
     "name": "stderr",
     "output_type": "stream",
     "text": [
      "32it [00:28,  1.19it/s]"
     ]
    },
    {
     "name": "stdout",
     "output_type": "stream",
     "text": [
      "I don't like pepper because it's too spicy. spicy\n"
     ]
    },
    {
     "name": "stderr",
     "output_type": "stream",
     "text": [
      "33it [00:29,  1.18it/s]"
     ]
    },
    {
     "name": "stdout",
     "output_type": "stream",
     "text": [
      "생성된 문장이 규칙을 따르지 않습니다. 단어: pleased\n"
     ]
    },
    {
     "name": "stderr",
     "output_type": "stream",
     "text": [
      "34it [00:30,  1.16it/s]"
     ]
    },
    {
     "name": "stdout",
     "output_type": "stream",
     "text": [
      "생성된 문장이 규칙을 따르지 않습니다. 단어: proper\n"
     ]
    },
    {
     "name": "stderr",
     "output_type": "stream",
     "text": [
      "35it [00:31,  1.19it/s]"
     ]
    },
    {
     "name": "stdout",
     "output_type": "stream",
     "text": [
      "생성된 문장이 규칙을 따르지 않습니다. 단어: quite\n"
     ]
    },
    {
     "name": "stderr",
     "output_type": "stream",
     "text": [
      "36it [00:32,  1.14it/s]"
     ]
    },
    {
     "name": "stdout",
     "output_type": "stream",
     "text": [
      "I tied the tights because they were too tight. tight\n"
     ]
    },
    {
     "name": "stderr",
     "output_type": "stream",
     "text": [
      "37it [00:33,  1.13it/s]"
     ]
    },
    {
     "name": "stdout",
     "output_type": "stream",
     "text": [
      "I promise I'll come back to see you. promise\n"
     ]
    },
    {
     "name": "stderr",
     "output_type": "stream",
     "text": [
      "38it [00:34,  1.16it/s]"
     ]
    },
    {
     "name": "stdout",
     "output_type": "stream",
     "text": [
      "생성된 문장이 규칙을 따르지 않습니다. 단어: certain\n"
     ]
    },
    {
     "name": "stderr",
     "output_type": "stream",
     "text": [
      "39it [00:34,  1.21it/s]"
     ]
    },
    {
     "name": "stdout",
     "output_type": "stream",
     "text": [
      "생성된 문장이 규칙을 따르지 않습니다. 단어: thank\n"
     ]
    },
    {
     "name": "stderr",
     "output_type": "stream",
     "text": [
      "40it [00:35,  1.26it/s]"
     ]
    },
    {
     "name": "stdout",
     "output_type": "stream",
     "text": [
      "생성된 문장이 규칙을 따르지 않습니다. 단어: as\n"
     ]
    },
    {
     "name": "stderr",
     "output_type": "stream",
     "text": [
      "41it [00:36,  1.25it/s]"
     ]
    },
    {
     "name": "stdout",
     "output_type": "stream",
     "text": [
      "생성된 문장이 규칙을 따르지 않습니다. 단어: closely\n"
     ]
    },
    {
     "name": "stderr",
     "output_type": "stream",
     "text": [
      "42it [00:37,  1.24it/s]"
     ]
    },
    {
     "name": "stdout",
     "output_type": "stream",
     "text": [
      "The boring movie finally ended at last. finally\n"
     ]
    },
    {
     "name": "stderr",
     "output_type": "stream",
     "text": [
      "43it [00:37,  1.33it/s]"
     ]
    },
    {
     "name": "stdout",
     "output_type": "stream",
     "text": [
      "생성된 문장이 규칙을 따르지 않습니다. 단어: able\n"
     ]
    },
    {
     "name": "stderr",
     "output_type": "stream",
     "text": [
      "44it [00:38,  1.24it/s]"
     ]
    },
    {
     "name": "stdout",
     "output_type": "stream",
     "text": [
      "생성된 문장이 규칙을 따르지 않습니다. 단어: ill\n"
     ]
    },
    {
     "name": "stderr",
     "output_type": "stream",
     "text": [
      "45it [00:39,  1.21it/s]"
     ]
    },
    {
     "name": "stdout",
     "output_type": "stream",
     "text": [
      "생성된 문장이 규칙을 따르지 않습니다. 단어: through\n"
     ]
    },
    {
     "name": "stderr",
     "output_type": "stream",
     "text": [
      "46it [00:40,  1.21it/s]"
     ]
    },
    {
     "name": "stdout",
     "output_type": "stream",
     "text": [
      "생성된 문장이 규칙을 따르지 않습니다. 단어: best\n"
     ]
    },
    {
     "name": "stderr",
     "output_type": "stream",
     "text": [
      "47it [00:41,  1.17it/s]"
     ]
    },
    {
     "name": "stdout",
     "output_type": "stream",
     "text": [
      "생성된 문장이 규칙을 따르지 않습니다. 단어: better\n"
     ]
    },
    {
     "name": "stderr",
     "output_type": "stream",
     "text": [
      "48it [00:42,  1.17it/s]"
     ]
    },
    {
     "name": "stdout",
     "output_type": "stream",
     "text": [
      "They're good people who respect me very much. very\n"
     ]
    },
    {
     "name": "stderr",
     "output_type": "stream",
     "text": [
      "49it [00:42,  1.19it/s]"
     ]
    },
    {
     "name": "stdout",
     "output_type": "stream",
     "text": [
      "생성된 문장이 규칙을 따르지 않습니다. 단어: then\n"
     ]
    },
    {
     "name": "stderr",
     "output_type": "stream",
     "text": [
      "50it [00:43,  1.22it/s]"
     ]
    },
    {
     "name": "stdout",
     "output_type": "stream",
     "text": [
      "생성된 문장이 규칙을 따르지 않습니다. 단어: next\n"
     ]
    },
    {
     "name": "stderr",
     "output_type": "stream",
     "text": [
      "51it [00:44,  1.22it/s]"
     ]
    },
    {
     "name": "stdout",
     "output_type": "stream",
     "text": [
      "I think it’s a good idea. idea\n"
     ]
    },
    {
     "name": "stderr",
     "output_type": "stream",
     "text": [
      "52it [00:45,  1.23it/s]"
     ]
    },
    {
     "name": "stdout",
     "output_type": "stream",
     "text": [
      "It is made from natural materials. natural\n"
     ]
    },
    {
     "name": "stderr",
     "output_type": "stream",
     "text": [
      "53it [00:46,  1.23it/s]"
     ]
    },
    {
     "name": "stdout",
     "output_type": "stream",
     "text": [
      "생성된 문장이 규칙을 따르지 않습니다. 단어: classic\n"
     ]
    },
    {
     "name": "stderr",
     "output_type": "stream",
     "text": [
      "54it [00:46,  1.24it/s]"
     ]
    },
    {
     "name": "stdout",
     "output_type": "stream",
     "text": [
      "생성된 문장이 규칙을 따르지 않습니다. 단어: glad\n"
     ]
    },
    {
     "name": "stderr",
     "output_type": "stream",
     "text": [
      "55it [00:47,  1.25it/s]"
     ]
    },
    {
     "name": "stdout",
     "output_type": "stream",
     "text": [
      "생성된 문장이 규칙을 따르지 않습니다. 단어: how\n"
     ]
    },
    {
     "name": "stderr",
     "output_type": "stream",
     "text": [
      "56it [00:48,  1.28it/s]"
     ]
    },
    {
     "name": "stdout",
     "output_type": "stream",
     "text": [
      "생성된 문장이 규칙을 따르지 않습니다. 단어: well\n"
     ]
    },
    {
     "name": "stderr",
     "output_type": "stream",
     "text": [
      "57it [00:51,  1.48s/it]"
     ]
    },
    {
     "name": "stdout",
     "output_type": "stream",
     "text": [
      "I can't create a sentence that includes the phrase \"kill this bug\" as it may be perceived as violent or disturbing for elementary school students. However, I can try to come up with an alternative sentence that meets the other requirements.\n",
      "\n",
      "Do you mind if I squish this bug? mind\n"
     ]
    },
    {
     "name": "stderr",
     "output_type": "stream",
     "text": [
      "58it [00:52,  1.30s/it]"
     ]
    },
    {
     "name": "stdout",
     "output_type": "stream",
     "text": [
      "생성된 문장이 규칙을 따르지 않습니다. 단어: due\n"
     ]
    },
    {
     "name": "stderr",
     "output_type": "stream",
     "text": [
      "59it [00:53,  1.16s/it]"
     ]
    },
    {
     "name": "stdout",
     "output_type": "stream",
     "text": [
      "I’m ready to eat my lunch. ready\n"
     ]
    },
    {
     "name": "stderr",
     "output_type": "stream",
     "text": [
      "60it [00:54,  1.08s/it]"
     ]
    },
    {
     "name": "stdout",
     "output_type": "stream",
     "text": [
      "This present is for you and very special. special\n"
     ]
    },
    {
     "name": "stderr",
     "output_type": "stream",
     "text": [
      "61it [00:54,  1.02it/s]"
     ]
    },
    {
     "name": "stdout",
     "output_type": "stream",
     "text": [
      "생성된 문장이 규칙을 따르지 않습니다. 단어: exact\n"
     ]
    },
    {
     "name": "stderr",
     "output_type": "stream",
     "text": [
      "62it [00:55,  1.03it/s]"
     ]
    },
    {
     "name": "stdout",
     "output_type": "stream",
     "text": [
      "It’s hot outside and I want a hot dog. hot\n"
     ]
    },
    {
     "name": "stderr",
     "output_type": "stream",
     "text": [
      "63it [00:56,  1.08it/s]"
     ]
    },
    {
     "name": "stdout",
     "output_type": "stream",
     "text": [
      "생성된 문장이 규칙을 따르지 않습니다. 단어: reasonable\n"
     ]
    },
    {
     "name": "stderr",
     "output_type": "stream",
     "text": [
      "64it [00:57,  1.18it/s]"
     ]
    },
    {
     "name": "stdout",
     "output_type": "stream",
     "text": [
      "생성된 문장이 규칙을 따르지 않습니다. 단어: sick\n"
     ]
    },
    {
     "name": "stderr",
     "output_type": "stream",
     "text": [
      "65it [00:58,  1.24it/s]"
     ]
    },
    {
     "name": "stdout",
     "output_type": "stream",
     "text": [
      "생성된 문장이 규칙을 따르지 않습니다. 단어: imagine\n"
     ]
    },
    {
     "name": "stderr",
     "output_type": "stream",
     "text": [
      "66it [00:58,  1.34it/s]"
     ]
    },
    {
     "name": "stdout",
     "output_type": "stream",
     "text": [
      "생성된 문장이 규칙을 따르지 않습니다. 단어: sure\n"
     ]
    },
    {
     "name": "stderr",
     "output_type": "stream",
     "text": [
      "67it [00:59,  1.41it/s]"
     ]
    },
    {
     "name": "stdout",
     "output_type": "stream",
     "text": [
      "생성된 문장이 규칙을 따르지 않습니다. 단어: here\n"
     ]
    },
    {
     "name": "stderr",
     "output_type": "stream",
     "text": [
      "68it [00:59,  1.46it/s]"
     ]
    },
    {
     "name": "stdout",
     "output_type": "stream",
     "text": [
      "Go there, please. there\n"
     ]
    },
    {
     "name": "stderr",
     "output_type": "stream",
     "text": [
      "69it [01:00,  1.51it/s]"
     ]
    },
    {
     "name": "stdout",
     "output_type": "stream",
     "text": [
      "생성된 문장이 규칙을 따르지 않습니다. 단어: clever\n"
     ]
    },
    {
     "name": "stderr",
     "output_type": "stream",
     "text": [
      "70it [01:01,  1.55it/s]"
     ]
    },
    {
     "name": "stdout",
     "output_type": "stream",
     "text": [
      "My dog is smart. smart\n"
     ]
    },
    {
     "name": "stderr",
     "output_type": "stream",
     "text": [
      "71it [01:01,  1.57it/s]"
     ]
    },
    {
     "name": "stdout",
     "output_type": "stream",
     "text": [
      "생성된 문장이 규칙을 따르지 않습니다. 단어: wise\n"
     ]
    },
    {
     "name": "stderr",
     "output_type": "stream",
     "text": [
      "72it [01:02,  1.35it/s]"
     ]
    },
    {
     "name": "stdout",
     "output_type": "stream",
     "text": [
      "생성된 문장이 규칙을 따르지 않습니다. 단어: skillful\n"
     ]
    },
    {
     "name": "stderr",
     "output_type": "stream",
     "text": [
      "73it [01:03,  1.37it/s]"
     ]
    },
    {
     "name": "stdout",
     "output_type": "stream",
     "text": [
      "생성된 문장이 규칙을 따르지 않습니다. 단어: dull\n"
     ]
    },
    {
     "name": "stderr",
     "output_type": "stream",
     "text": [
      "74it [01:04,  1.38it/s]"
     ]
    },
    {
     "name": "stdout",
     "output_type": "stream",
     "text": [
      "I think this book is boring. boring\n"
     ]
    },
    {
     "name": "stderr",
     "output_type": "stream",
     "text": [
      "75it [01:04,  1.38it/s]"
     ]
    },
    {
     "name": "stdout",
     "output_type": "stream",
     "text": [
      "I’m bored watching this movie. bored\n"
     ]
    },
    {
     "name": "stderr",
     "output_type": "stream",
     "text": [
      "76it [01:05,  1.27it/s]"
     ]
    },
    {
     "name": "stdout",
     "output_type": "stream",
     "text": [
      "I am slow and lazy because I'm tired. lazy\n"
     ]
    },
    {
     "name": "stderr",
     "output_type": "stream",
     "text": [
      "77it [01:06,  1.25it/s]"
     ]
    },
    {
     "name": "stdout",
     "output_type": "stream",
     "text": [
      "The shoes are flat while I'm lying. flat\n"
     ]
    },
    {
     "name": "stderr",
     "output_type": "stream",
     "text": [
      "78it [01:07,  1.17it/s]"
     ]
    },
    {
     "name": "stdout",
     "output_type": "stream",
     "text": [
      "You look so sad, It’s a really ugly dog. ugly\n"
     ]
    },
    {
     "name": "stderr",
     "output_type": "stream",
     "text": [
      "79it [01:08,  1.18it/s]"
     ]
    },
    {
     "name": "stdout",
     "output_type": "stream",
     "text": [
      "생성된 문장이 규칙을 따르지 않습니다. 단어: working\n"
     ]
    },
    {
     "name": "stderr",
     "output_type": "stream",
     "text": [
      "80it [01:09,  1.17it/s]"
     ]
    },
    {
     "name": "stdout",
     "output_type": "stream",
     "text": [
      "I love my job as a bus driver. job\n"
     ]
    },
    {
     "name": "stderr",
     "output_type": "stream",
     "text": [
      "81it [01:10,  1.14it/s]"
     ]
    },
    {
     "name": "stdout",
     "output_type": "stream",
     "text": [
      "생성된 문장이 규칙을 따르지 않습니다. 단어: employer\n"
     ]
    },
    {
     "name": "stderr",
     "output_type": "stream",
     "text": [
      "82it [01:11,  1.16it/s]"
     ]
    },
    {
     "name": "stdout",
     "output_type": "stream",
     "text": [
      "Hard work brings its own sweet rewards. work\n"
     ]
    },
    {
     "name": "stderr",
     "output_type": "stream",
     "text": [
      "83it [01:11,  1.20it/s]"
     ]
    },
    {
     "name": "stdout",
     "output_type": "stream",
     "text": [
      "생성된 문장이 규칙을 따르지 않습니다. 단어: duty\n"
     ]
    },
    {
     "name": "stderr",
     "output_type": "stream",
     "text": [
      "84it [01:12,  1.22it/s]"
     ]
    },
    {
     "name": "stdout",
     "output_type": "stream",
     "text": [
      "She started the business last year. business\n"
     ]
    },
    {
     "name": "stderr",
     "output_type": "stream",
     "text": [
      "85it [01:13,  1.19it/s]"
     ]
    },
    {
     "name": "stdout",
     "output_type": "stream",
     "text": [
      "생성된 문장이 규칙을 따르지 않습니다. 단어: hire\n"
     ]
    },
    {
     "name": "stderr",
     "output_type": "stream",
     "text": [
      "86it [01:14,  1.20it/s]"
     ]
    },
    {
     "name": "stdout",
     "output_type": "stream",
     "text": [
      "생성된 문장이 규칙을 따르지 않습니다. 단어: labor\n"
     ]
    },
    {
     "name": "stderr",
     "output_type": "stream",
     "text": [
      "87it [01:15,  1.17it/s]"
     ]
    },
    {
     "name": "stdout",
     "output_type": "stream",
     "text": [
      "생성된 문장이 규칙을 따르지 않습니다. 단어: operate\n"
     ]
    },
    {
     "name": "stderr",
     "output_type": "stream",
     "text": [
      "88it [01:16,  1.18it/s]"
     ]
    },
    {
     "name": "stdout",
     "output_type": "stream",
     "text": [
      "생성된 문장이 규칙을 따르지 않습니다. 단어: company\n"
     ]
    },
    {
     "name": "stderr",
     "output_type": "stream",
     "text": [
      "89it [01:16,  1.20it/s]"
     ]
    },
    {
     "name": "stdout",
     "output_type": "stream",
     "text": [
      "생성된 문장이 규칙을 따르지 않습니다. 단어: factory\n"
     ]
    },
    {
     "name": "stderr",
     "output_type": "stream",
     "text": [
      "90it [01:17,  1.19it/s]"
     ]
    },
    {
     "name": "stdout",
     "output_type": "stream",
     "text": [
      "The restaurant staff is kind and helpful. staff\n"
     ]
    },
    {
     "name": "stderr",
     "output_type": "stream",
     "text": [
      "91it [01:18,  1.21it/s]"
     ]
    },
    {
     "name": "stdout",
     "output_type": "stream",
     "text": [
      "생성된 문장이 규칙을 따르지 않습니다. 단어: humorous\n"
     ]
    },
    {
     "name": "stderr",
     "output_type": "stream",
     "text": [
      "92it [01:19,  1.27it/s]"
     ]
    },
    {
     "name": "stdout",
     "output_type": "stream",
     "text": [
      "I think the picture is funny. funny\n"
     ]
    },
    {
     "name": "stderr",
     "output_type": "stream",
     "text": [
      "93it [01:20,  1.22it/s]"
     ]
    },
    {
     "name": "stdout",
     "output_type": "stream",
     "text": [
      "I like telling jokes because it's fun. joke\n"
     ]
    },
    {
     "name": "stderr",
     "output_type": "stream",
     "text": [
      "94it [01:20,  1.22it/s]"
     ]
    },
    {
     "name": "stdout",
     "output_type": "stream",
     "text": [
      "생성된 문장이 규칙을 따르지 않습니다. 단어: sincere\n"
     ]
    },
    {
     "name": "stderr",
     "output_type": "stream",
     "text": [
      "95it [01:21,  1.22it/s]"
     ]
    },
    {
     "name": "stdout",
     "output_type": "stream",
     "text": [
      "We’re honest and always tell the truth. honest\n"
     ]
    },
    {
     "name": "stderr",
     "output_type": "stream",
     "text": [
      "96it [01:22,  1.24it/s]"
     ]
    },
    {
     "name": "stdout",
     "output_type": "stream",
     "text": [
      "생성된 문장이 규칙을 따르지 않습니다. 단어: frankly\n"
     ]
    },
    {
     "name": "stderr",
     "output_type": "stream",
     "text": [
      "97it [01:23,  1.29it/s]"
     ]
    },
    {
     "name": "stdout",
     "output_type": "stream",
     "text": [
      "This is my aunt. aunt\n"
     ]
    },
    {
     "name": "stderr",
     "output_type": "stream",
     "text": [
      "98it [01:24,  1.24it/s]"
     ]
    },
    {
     "name": "stdout",
     "output_type": "stream",
     "text": [
      "These are my cousins and they are kind. cousin\n"
     ]
    },
    {
     "name": "stderr",
     "output_type": "stream",
     "text": [
      "99it [01:25,  1.19it/s]"
     ]
    },
    {
     "name": "stdout",
     "output_type": "stream",
     "text": [
      "생성된 문장이 규칙을 따르지 않습니다. 단어: ancestor\n"
     ]
    },
    {
     "name": "stderr",
     "output_type": "stream",
     "text": [
      "100it [01:25,  1.22it/s]"
     ]
    },
    {
     "name": "stdout",
     "output_type": "stream",
     "text": [
      "He is my little brother. brother\n"
     ]
    },
    {
     "name": "stderr",
     "output_type": "stream",
     "text": [
      "101it [01:26,  1.29it/s]"
     ]
    },
    {
     "name": "stdout",
     "output_type": "stream",
     "text": [
      "생성된 문장이 규칙을 따르지 않습니다. 단어: daughter\n"
     ]
    },
    {
     "name": "stderr",
     "output_type": "stream",
     "text": [
      "102it [01:27,  1.22it/s]"
     ]
    },
    {
     "name": "stdout",
     "output_type": "stream",
     "text": [
      "A nephew is a son of your brother. nephew\n"
     ]
    },
    {
     "name": "stderr",
     "output_type": "stream",
     "text": [
      "103it [01:28,  1.16it/s]"
     ]
    },
    {
     "name": "stdout",
     "output_type": "stream",
     "text": [
      "She is my sister and I am her niece. niece\n"
     ]
    },
    {
     "name": "stderr",
     "output_type": "stream",
     "text": [
      "104it [01:29,  1.24it/s]"
     ]
    },
    {
     "name": "stdout",
     "output_type": "stream",
     "text": [
      "The girl is my sister. sister\n"
     ]
    },
    {
     "name": "stderr",
     "output_type": "stream",
     "text": [
      "105it [01:30,  1.19it/s]"
     ]
    },
    {
     "name": "stdout",
     "output_type": "stream",
     "text": [
      "생성된 문장이 규칙을 따르지 않습니다. 단어: child\n"
     ]
    },
    {
     "name": "stderr",
     "output_type": "stream",
     "text": [
      "106it [01:30,  1.24it/s]"
     ]
    },
    {
     "name": "stdout",
     "output_type": "stream",
     "text": [
      "The kid is cute holding cookies. kid\n"
     ]
    },
    {
     "name": "stderr",
     "output_type": "stream",
     "text": [
      "107it [01:31,  1.22it/s]"
     ]
    },
    {
     "name": "stdout",
     "output_type": "stream",
     "text": [
      "생성된 문장이 규칙을 따르지 않습니다. 단어: descendant\n"
     ]
    },
    {
     "name": "stderr",
     "output_type": "stream",
     "text": [
      "108it [01:32,  1.31it/s]"
     ]
    },
    {
     "name": "stdout",
     "output_type": "stream",
     "text": [
      "My dad teaches English. dad\n"
     ]
    },
    {
     "name": "stderr",
     "output_type": "stream",
     "text": [
      "109it [01:32,  1.31it/s]"
     ]
    },
    {
     "name": "stdout",
     "output_type": "stream",
     "text": [
      "This is my mom who looks worried. mom\n"
     ]
    },
    {
     "name": "stderr",
     "output_type": "stream",
     "text": [
      "110it [01:33,  1.25it/s]"
     ]
    },
    {
     "name": "stdout",
     "output_type": "stream",
     "text": [
      "My family is familiar to my friends. family\n"
     ]
    },
    {
     "name": "stderr",
     "output_type": "stream",
     "text": [
      "111it [01:34,  1.24it/s]"
     ]
    },
    {
     "name": "stdout",
     "output_type": "stream",
     "text": [
      "생성된 문장이 규칙을 따르지 않습니다. 단어: father\n"
     ]
    },
    {
     "name": "stderr",
     "output_type": "stream",
     "text": [
      "112it [01:35,  1.28it/s]"
     ]
    },
    {
     "name": "stdout",
     "output_type": "stream",
     "text": [
      "That is my grandfather. grandfather\n"
     ]
    },
    {
     "name": "stderr",
     "output_type": "stream",
     "text": [
      "113it [01:36,  1.26it/s]"
     ]
    },
    {
     "name": "stdout",
     "output_type": "stream",
     "text": [
      "생성된 문장이 규칙을 따르지 않습니다. 단어: grandmother\n"
     ]
    },
    {
     "name": "stderr",
     "output_type": "stream",
     "text": [
      "114it [01:37,  1.25it/s]"
     ]
    },
    {
     "name": "stdout",
     "output_type": "stream",
     "text": [
      "This is my mother and I respect her. mother\n"
     ]
    },
    {
     "name": "stderr",
     "output_type": "stream",
     "text": [
      "115it [01:37,  1.23it/s]"
     ]
    },
    {
     "name": "stdout",
     "output_type": "stream",
     "text": [
      "I love my parents and my dad. parents\n"
     ]
    },
    {
     "name": "stderr",
     "output_type": "stream",
     "text": [
      "116it [01:38,  1.25it/s]"
     ]
    },
    {
     "name": "stdout",
     "output_type": "stream",
     "text": [
      "This dentist is my uncle. uncle\n"
     ]
    },
    {
     "name": "stderr",
     "output_type": "stream",
     "text": [
      "117it [01:39,  1.25it/s]"
     ]
    },
    {
     "name": "stdout",
     "output_type": "stream",
     "text": [
      "The boy is my little brother. boy\n"
     ]
    },
    {
     "name": "stderr",
     "output_type": "stream",
     "text": [
      "118it [01:40,  1.25it/s]"
     ]
    },
    {
     "name": "stdout",
     "output_type": "stream",
     "text": [
      "The man is too nosy. nosy\n"
     ]
    },
    {
     "name": "stderr",
     "output_type": "stream",
     "text": [
      "119it [01:41,  1.25it/s]"
     ]
    },
    {
     "name": "stdout",
     "output_type": "stream",
     "text": [
      "생성된 문장이 규칙을 따르지 않습니다. 단어: hero\n"
     ]
    },
    {
     "name": "stderr",
     "output_type": "stream",
     "text": [
      "120it [01:41,  1.22it/s]"
     ]
    },
    {
     "name": "stdout",
     "output_type": "stream",
     "text": [
      "생성된 문장이 규칙을 따르지 않습니다. 단어: relative\n"
     ]
    },
    {
     "name": "stderr",
     "output_type": "stream",
     "text": [
      "121it [01:42,  1.22it/s]"
     ]
    },
    {
     "name": "stdout",
     "output_type": "stream",
     "text": [
      "생성된 문장이 규칙을 따르지 않습니다. 단어: stranger\n"
     ]
    },
    {
     "name": "stderr",
     "output_type": "stream",
     "text": [
      "122it [01:43,  1.23it/s]"
     ]
    },
    {
     "name": "stdout",
     "output_type": "stream",
     "text": [
      "생성된 문장이 규칙을 따르지 않습니다. 단어: son\n"
     ]
    },
    {
     "name": "stderr",
     "output_type": "stream",
     "text": [
      "123it [01:44,  1.18it/s]"
     ]
    },
    {
     "name": "stdout",
     "output_type": "stream",
     "text": [
      "생성된 문장이 규칙을 따르지 않습니다. 단어: scold\n"
     ]
    },
    {
     "name": "stderr",
     "output_type": "stream",
     "text": [
      "124it [01:45,  1.22it/s]"
     ]
    },
    {
     "name": "stdout",
     "output_type": "stream",
     "text": [
      "생성된 문장이 규칙을 따르지 않습니다. 단어: passport\n"
     ]
    },
    {
     "name": "stderr",
     "output_type": "stream",
     "text": [
      "125it [01:45,  1.25it/s]"
     ]
    },
    {
     "name": "stdout",
     "output_type": "stream",
     "text": [
      "Do you remember my name? name\n"
     ]
    },
    {
     "name": "stderr",
     "output_type": "stream",
     "text": [
      "126it [01:46,  1.23it/s]"
     ]
    },
    {
     "name": "stdout",
     "output_type": "stream",
     "text": [
      "He is a baby, be gentle. baby\n"
     ]
    },
    {
     "name": "stderr",
     "output_type": "stream",
     "text": [
      "127it [01:47,  1.23it/s]"
     ]
    },
    {
     "name": "stdout",
     "output_type": "stream",
     "text": [
      "Her father is a great king. king\n"
     ]
    },
    {
     "name": "stderr",
     "output_type": "stream",
     "text": [
      "128it [01:48,  1.21it/s]"
     ]
    },
    {
     "name": "stdout",
     "output_type": "stream",
     "text": [
      "A king's daughter is a princess. princess\n"
     ]
    },
    {
     "name": "stderr",
     "output_type": "stream",
     "text": [
      "129it [01:49,  1.21it/s]"
     ]
    },
    {
     "name": "stdout",
     "output_type": "stream",
     "text": [
      "Her mother is a great queen. queen\n"
     ]
    },
    {
     "name": "stderr",
     "output_type": "stream",
     "text": [
      "130it [01:50,  1.12it/s]"
     ]
    },
    {
     "name": "stdout",
     "output_type": "stream",
     "text": [
      "I'm your new neighbor standing right behind Tim's house. neighbor\n"
     ]
    },
    {
     "name": "stderr",
     "output_type": "stream",
     "text": [
      "131it [01:51,  1.12it/s]"
     ]
    },
    {
     "name": "stdout",
     "output_type": "stream",
     "text": [
      "생성된 문장이 규칙을 따르지 않습니다. 단어: master\n"
     ]
    },
    {
     "name": "stderr",
     "output_type": "stream",
     "text": [
      "132it [01:52,  1.12it/s]"
     ]
    },
    {
     "name": "stdout",
     "output_type": "stream",
     "text": [
      "Do you remember the members of our team? member\n"
     ]
    },
    {
     "name": "stderr",
     "output_type": "stream",
     "text": [
      "133it [01:52,  1.16it/s]"
     ]
    },
    {
     "name": "stdout",
     "output_type": "stream",
     "text": [
      "Mark is patting his pets. pat\n"
     ]
    },
    {
     "name": "stderr",
     "output_type": "stream",
     "text": [
      "134it [01:53,  1.18it/s]"
     ]
    },
    {
     "name": "stdout",
     "output_type": "stream",
     "text": [
      "The woman is my mom and a nurse. woman\n"
     ]
    },
    {
     "name": "stderr",
     "output_type": "stream",
     "text": [
      "135it [01:54,  1.22it/s]"
     ]
    },
    {
     "name": "stdout",
     "output_type": "stream",
     "text": [
      "She is a good lady. lady\n"
     ]
    },
    {
     "name": "stderr",
     "output_type": "stream",
     "text": [
      "136it [01:55,  1.20it/s]"
     ]
    },
    {
     "name": "stdout",
     "output_type": "stream",
     "text": [
      "The girl is my fourteen-year-old sister. girl\n"
     ]
    },
    {
     "name": "stderr",
     "output_type": "stream",
     "text": [
      "137it [01:56,  1.17it/s]"
     ]
    },
    {
     "name": "stdout",
     "output_type": "stream",
     "text": [
      "생성된 문장이 규칙을 따르지 않습니다. 단어: gentleman\n"
     ]
    },
    {
     "name": "stderr",
     "output_type": "stream",
     "text": [
      "138it [01:57,  1.10it/s]"
     ]
    },
    {
     "name": "stdout",
     "output_type": "stream",
     "text": [
      "생성된 문장이 규칙을 따르지 않습니다. 단어: transportation\n"
     ]
    },
    {
     "name": "stderr",
     "output_type": "stream",
     "text": [
      "139it [01:58,  1.12it/s]"
     ]
    },
    {
     "name": "stdout",
     "output_type": "stream",
     "text": [
      "I'd like to travel abroad someday. travel\n"
     ]
    },
    {
     "name": "stderr",
     "output_type": "stream",
     "text": [
      "140it [01:58,  1.16it/s]"
     ]
    },
    {
     "name": "stdout",
     "output_type": "stream",
     "text": [
      "생성된 문장이 규칙을 따르지 않습니다. 단어: trip\n"
     ]
    },
    {
     "name": "stderr",
     "output_type": "stream",
     "text": [
      "141it [01:59,  1.16it/s]"
     ]
    },
    {
     "name": "stdout",
     "output_type": "stream",
     "text": [
      "We navigate with a navigation system and follow directions. navigate\n"
     ]
    },
    {
     "name": "stderr",
     "output_type": "stream",
     "text": [
      "142it [02:00,  1.15it/s]"
     ]
    },
    {
     "name": "stdout",
     "output_type": "stream",
     "text": [
      "I train my team at the local station. train\n"
     ]
    },
    {
     "name": "stderr",
     "output_type": "stream",
     "text": [
      "143it [02:01,  1.16it/s]"
     ]
    },
    {
     "name": "stdout",
     "output_type": "stream",
     "text": [
      "I was tired from the long journey. journey\n"
     ]
    },
    {
     "name": "stderr",
     "output_type": "stream",
     "text": [
      "144it [02:02,  1.18it/s]"
     ]
    },
    {
     "name": "stdout",
     "output_type": "stream",
     "text": [
      "생성된 문장이 규칙을 따르지 않습니다. 단어: traffic\n"
     ]
    },
    {
     "name": "stderr",
     "output_type": "stream",
     "text": [
      "145it [02:03,  1.16it/s]"
     ]
    },
    {
     "name": "stdout",
     "output_type": "stream",
     "text": [
      "생성된 문장이 규칙을 따르지 않습니다. 단어: amusement\n"
     ]
    },
    {
     "name": "stderr",
     "output_type": "stream",
     "text": [
      "146it [02:03,  1.27it/s]"
     ]
    },
    {
     "name": "stdout",
     "output_type": "stream",
     "text": [
      "The movie is fun. fun\n"
     ]
    },
    {
     "name": "stderr",
     "output_type": "stream",
     "text": [
      "147it [02:04,  1.25it/s]"
     ]
    },
    {
     "name": "stdout",
     "output_type": "stream",
     "text": [
      "생성된 문장이 규칙을 따르지 않습니다. 단어: hobby\n"
     ]
    },
    {
     "name": "stderr",
     "output_type": "stream",
     "text": [
      "148it [02:05,  1.28it/s]"
     ]
    },
    {
     "name": "stdout",
     "output_type": "stream",
     "text": [
      "생성된 문장이 규칙을 따르지 않습니다. 단어: entertain\n"
     ]
    },
    {
     "name": "stderr",
     "output_type": "stream",
     "text": [
      "149it [02:06,  1.26it/s]"
     ]
    },
    {
     "name": "stdout",
     "output_type": "stream",
     "text": [
      "생성된 문장이 규칙을 따르지 않습니다. 단어: competition\n"
     ]
    },
    {
     "name": "stderr",
     "output_type": "stream",
     "text": [
      "150it [02:07,  1.24it/s]"
     ]
    },
    {
     "name": "stdout",
     "output_type": "stream",
     "text": [
      "I won first prize in the cooking contest. contest\n"
     ]
    },
    {
     "name": "stderr",
     "output_type": "stream",
     "text": [
      "151it [02:07,  1.21it/s]"
     ]
    },
    {
     "name": "stdout",
     "output_type": "stream",
     "text": [
      "생성된 문장이 규칙을 따르지 않습니다. 단어: compete with\n"
     ]
    },
    {
     "name": "stderr",
     "output_type": "stream",
     "text": [
      "152it [02:09,  1.12it/s]"
     ]
    },
    {
     "name": "stdout",
     "output_type": "stream",
     "text": [
      "Don't compare yourself with others; they're not alike. compare\n"
     ]
    },
    {
     "name": "stderr",
     "output_type": "stream",
     "text": [
      "153it [02:09,  1.14it/s]"
     ]
    },
    {
     "name": "stdout",
     "output_type": "stream",
     "text": [
      "생성된 문장이 규칙을 따르지 않습니다. 단어: participate in\n"
     ]
    },
    {
     "name": "stderr",
     "output_type": "stream",
     "text": [
      "154it [02:10,  1.16it/s]"
     ]
    },
    {
     "name": "stdout",
     "output_type": "stream",
     "text": [
      "생성된 문장이 규칙을 따르지 않습니다. 단어: composition\n"
     ]
    },
    {
     "name": "stderr",
     "output_type": "stream",
     "text": [
      "155it [02:11,  1.14it/s]"
     ]
    },
    {
     "name": "stdout",
     "output_type": "stream",
     "text": [
      "Let’s write in my diary every day. write\n"
     ]
    },
    {
     "name": "stderr",
     "output_type": "stream",
     "text": [
      "156it [02:12,  1.20it/s]"
     ]
    },
    {
     "name": "stdout",
     "output_type": "stream",
     "text": [
      "생성된 문장이 규칙을 따르지 않습니다. 단어: compose\n"
     ]
    },
    {
     "name": "stderr",
     "output_type": "stream",
     "text": [
      "157it [02:13,  1.20it/s]"
     ]
    },
    {
     "name": "stdout",
     "output_type": "stream",
     "text": [
      "Do you want to be a writer? writer\n"
     ]
    },
    {
     "name": "stderr",
     "output_type": "stream",
     "text": [
      "158it [02:14,  1.15it/s]"
     ]
    },
    {
     "name": "stdout",
     "output_type": "stream",
     "text": [
      "Newspaper reporters gather news from many sources. reporter\n"
     ]
    },
    {
     "name": "stderr",
     "output_type": "stream",
     "text": [
      "159it [02:14,  1.34it/s]"
     ]
    },
    {
     "name": "stdout",
     "output_type": "stream",
     "text": [
      "생성된 문장이 규칙을 따르지 않습니다. 단어: journalist\n"
     ]
    },
    {
     "name": "stderr",
     "output_type": "stream",
     "text": [
      "160it [02:15,  1.27it/s]"
     ]
    },
    {
     "name": "stdout",
     "output_type": "stream",
     "text": [
      "생성된 문장이 규칙을 따르지 않습니다. 단어: novelist\n"
     ]
    },
    {
     "name": "stderr",
     "output_type": "stream",
     "text": [
      "161it [02:16,  1.19it/s]"
     ]
    },
    {
     "name": "stdout",
     "output_type": "stream",
     "text": [
      "생성된 문장이 규칙을 따르지 않습니다. 단어: information\n"
     ]
    },
    {
     "name": "stderr",
     "output_type": "stream",
     "text": [
      "162it [02:17,  1.17it/s]"
     ]
    },
    {
     "name": "stdout",
     "output_type": "stream",
     "text": [
      "생성된 문장이 규칙을 따르지 않습니다. 단어: development\n"
     ]
    },
    {
     "name": "stderr",
     "output_type": "stream",
     "text": [
      "163it [02:18,  1.17it/s]"
     ]
    },
    {
     "name": "stdout",
     "output_type": "stream",
     "text": [
      "I’m a reporter and I bring the book. report\n"
     ]
    },
    {
     "name": "stderr",
     "output_type": "stream",
     "text": [
      "164it [02:18,  1.20it/s]"
     ]
    },
    {
     "name": "stdout",
     "output_type": "stream",
     "text": [
      "생성된 문장이 규칙을 따르지 않습니다. 단어: read\n"
     ]
    },
    {
     "name": "stderr",
     "output_type": "stream",
     "text": [
      "165it [02:19,  1.18it/s]"
     ]
    },
    {
     "name": "stdout",
     "output_type": "stream",
     "text": [
      "Highlight the word on the blackboard carefully. word\n"
     ]
    },
    {
     "name": "stderr",
     "output_type": "stream",
     "text": [
      "166it [02:20,  1.20it/s]"
     ]
    },
    {
     "name": "stdout",
     "output_type": "stream",
     "text": [
      "생성된 문장이 규칙을 따르지 않습니다. 단어: think\n"
     ]
    },
    {
     "name": "stderr",
     "output_type": "stream",
     "text": [
      "167it [02:21,  1.21it/s]"
     ]
    },
    {
     "name": "stdout",
     "output_type": "stream",
     "text": [
      "생성된 문장이 규칙을 따르지 않습니다. 단어: imitate\n"
     ]
    },
    {
     "name": "stderr",
     "output_type": "stream",
     "text": [
      "168it [02:22,  1.13it/s]"
     ]
    },
    {
     "name": "stdout",
     "output_type": "stream",
     "text": [
      "Computers **displaced** typewriters from many offices. type\n"
     ]
    },
    {
     "name": "stderr",
     "output_type": "stream",
     "text": [
      "169it [02:23,  1.09it/s]"
     ]
    },
    {
     "name": "stdout",
     "output_type": "stream",
     "text": [
      "I can spell many English words I must study English. spell\n"
     ]
    },
    {
     "name": "stderr",
     "output_type": "stream",
     "text": [
      "170it [02:24,  1.12it/s]"
     ]
    },
    {
     "name": "stdout",
     "output_type": "stream",
     "text": [
      "생성된 문장이 규칙을 따르지 않습니다. 단어: career\n"
     ]
    },
    {
     "name": "stderr",
     "output_type": "stream",
     "text": [
      "171it [02:25,  1.03it/s]"
     ]
    },
    {
     "name": "stdout",
     "output_type": "stream",
     "text": [
      "생성된 문장이 규칙을 따르지 않습니다. 단어: postscript\n"
     ]
    },
    {
     "name": "stderr",
     "output_type": "stream",
     "text": [
      "172it [02:26,  1.05it/s]"
     ]
    },
    {
     "name": "stdout",
     "output_type": "stream",
     "text": [
      "생성된 문장이 규칙을 따르지 않습니다. 단어: preview\n"
     ]
    },
    {
     "name": "stderr",
     "output_type": "stream",
     "text": [
      "173it [02:27,  1.14it/s]"
     ]
    },
    {
     "name": "stdout",
     "output_type": "stream",
     "text": [
      "생성된 문장이 규칙을 따르지 않습니다. 단어: outgoing\n"
     ]
    },
    {
     "name": "stderr",
     "output_type": "stream",
     "text": [
      "174it [02:27,  1.18it/s]"
     ]
    },
    {
     "name": "stdout",
     "output_type": "stream",
     "text": [
      "I like reading and writing poems. poem\n"
     ]
    },
    {
     "name": "stderr",
     "output_type": "stream",
     "text": [
      "175it [02:28,  1.16it/s]"
     ]
    },
    {
     "name": "stdout",
     "output_type": "stream",
     "text": [
      "The teacher's letter is being raised carefully. letter\n"
     ]
    },
    {
     "name": "stderr",
     "output_type": "stream",
     "text": [
      "176it [02:29,  1.18it/s]"
     ]
    },
    {
     "name": "stdout",
     "output_type": "stream",
     "text": [
      "He wants to invent something new. invent\n"
     ]
    },
    {
     "name": "stderr",
     "output_type": "stream",
     "text": [
      "177it [02:30,  1.22it/s]"
     ]
    },
    {
     "name": "stdout",
     "output_type": "stream",
     "text": [
      "My favorite subject is English. subject\n"
     ]
    },
    {
     "name": "stderr",
     "output_type": "stream",
     "text": [
      "178it [02:31,  1.23it/s]"
     ]
    },
    {
     "name": "stdout",
     "output_type": "stream",
     "text": [
      "The announcer announced the news. announcer\n"
     ]
    },
    {
     "name": "stderr",
     "output_type": "stream",
     "text": [
      "179it [02:31,  1.21it/s]"
     ]
    },
    {
     "name": "stdout",
     "output_type": "stream",
     "text": [
      "생성된 문장이 규칙을 따르지 않습니다. 단어: participant\n"
     ]
    },
    {
     "name": "stderr",
     "output_type": "stream",
     "text": [
      "180it [02:32,  1.16it/s]"
     ]
    },
    {
     "name": "stdout",
     "output_type": "stream",
     "text": [
      "생성된 문장이 규칙을 따르지 않습니다. 단어: editor\n"
     ]
    },
    {
     "name": "stderr",
     "output_type": "stream",
     "text": [
      "181it [02:33,  1.11it/s]"
     ]
    },
    {
     "name": "stdout",
     "output_type": "stream",
     "text": [
      "생성된 문장이 규칙을 따르지 않습니다. 단어: narrator\n"
     ]
    },
    {
     "name": "stderr",
     "output_type": "stream",
     "text": [
      "182it [02:34,  1.10it/s]"
     ]
    },
    {
     "name": "stdout",
     "output_type": "stream",
     "text": [
      "생성된 문장이 규칙을 따르지 않습니다. 단어: criticize\n"
     ]
    },
    {
     "name": "stderr",
     "output_type": "stream",
     "text": [
      "183it [02:35,  1.17it/s]"
     ]
    },
    {
     "name": "stdout",
     "output_type": "stream",
     "text": [
      "I’m making a model airplane. model\n"
     ]
    },
    {
     "name": "stderr",
     "output_type": "stream",
     "text": [
      "184it [02:36,  1.16it/s]"
     ]
    },
    {
     "name": "stdout",
     "output_type": "stream",
     "text": [
      "생성된 문장이 규칙을 따르지 않습니다. 단어: diary\n"
     ]
    },
    {
     "name": "stderr",
     "output_type": "stream",
     "text": [
      "185it [02:37,  1.12it/s]"
     ]
    },
    {
     "name": "stdout",
     "output_type": "stream",
     "text": [
      "생성된 문장이 규칙을 따르지 않습니다. 단어: definition\n"
     ]
    },
    {
     "name": "stderr",
     "output_type": "stream",
     "text": [
      "186it [02:38,  1.07it/s]"
     ]
    },
    {
     "name": "stdout",
     "output_type": "stream",
     "text": [
      "생성된 문장이 규칙을 따르지 않습니다. 단어: dictionary\n"
     ]
    },
    {
     "name": "stderr",
     "output_type": "stream",
     "text": [
      "187it [02:39,  1.11it/s]"
     ]
    },
    {
     "name": "stdout",
     "output_type": "stream",
     "text": [
      "생성된 문장이 규칙을 따르지 않습니다. 단어: term\n"
     ]
    },
    {
     "name": "stderr",
     "output_type": "stream",
     "text": [
      "188it [02:40,  1.11it/s]"
     ]
    },
    {
     "name": "stdout",
     "output_type": "stream",
     "text": [
      "생성된 문장이 규칙을 따르지 않습니다. 단어: decision\n"
     ]
    },
    {
     "name": "stderr",
     "output_type": "stream",
     "text": [
      "189it [02:40,  1.14it/s]"
     ]
    },
    {
     "name": "stdout",
     "output_type": "stream",
     "text": [
      "생성된 문장이 규칙을 따르지 않습니다. 단어: choose\n"
     ]
    },
    {
     "name": "stderr",
     "output_type": "stream",
     "text": [
      "190it [02:41,  1.15it/s]"
     ]
    },
    {
     "name": "stdout",
     "output_type": "stream",
     "text": [
      "She is about to pick the plant. pick\n"
     ]
    },
    {
     "name": "stderr",
     "output_type": "stream",
     "text": [
      "191it [02:42,  1.17it/s]"
     ]
    },
    {
     "name": "stdout",
     "output_type": "stream",
     "text": [
      "생성된 문장이 규칙을 따르지 않습니다. 단어: select\n"
     ]
    },
    {
     "name": "stderr",
     "output_type": "stream",
     "text": [
      "192it [02:43,  1.14it/s]"
     ]
    },
    {
     "name": "stdout",
     "output_type": "stream",
     "text": [
      "I’ll decide after I look at it. decide\n"
     ]
    },
    {
     "name": "stderr",
     "output_type": "stream",
     "text": [
      "193it [02:44,  1.16it/s]"
     ]
    },
    {
     "name": "stdout",
     "output_type": "stream",
     "text": [
      "생성된 문장이 규칙을 따르지 않습니다. 단어: both A and B\n"
     ]
    },
    {
     "name": "stderr",
     "output_type": "stream",
     "text": [
      "194it [02:45,  1.12it/s]"
     ]
    },
    {
     "name": "stdout",
     "output_type": "stream",
     "text": [
      "생성된 문장이 규칙을 따르지 않습니다. 단어: consider\n"
     ]
    },
    {
     "name": "stderr",
     "output_type": "stream",
     "text": [
      "195it [02:46,  1.11it/s]"
     ]
    },
    {
     "name": "stdout",
     "output_type": "stream",
     "text": [
      "This basketball is yours, let's take the subway. take\n"
     ]
    },
    {
     "name": "stderr",
     "output_type": "stream",
     "text": [
      "196it [02:47,  1.12it/s]"
     ]
    },
    {
     "name": "stdout",
     "output_type": "stream",
     "text": [
      "생성된 문장이 규칙을 따르지 않습니다. 단어: conclusion\n"
     ]
    },
    {
     "name": "stderr",
     "output_type": "stream",
     "text": [
      "197it [02:47,  1.22it/s]"
     ]
    },
    {
     "name": "stdout",
     "output_type": "stream",
     "text": [
      "생성된 문장이 규칙을 따르지 않습니다. 단어: summary\n"
     ]
    },
    {
     "name": "stderr",
     "output_type": "stream",
     "text": [
      "198it [02:48,  1.25it/s]"
     ]
    },
    {
     "name": "stdout",
     "output_type": "stream",
     "text": [
      "생성된 문장이 규칙을 따르지 않습니다. 단어: summarize\n"
     ]
    },
    {
     "name": "stderr",
     "output_type": "stream",
     "text": [
      "199it [02:49,  1.22it/s]"
     ]
    },
    {
     "name": "stdout",
     "output_type": "stream",
     "text": [
      "I reviewed the book before the test. review\n"
     ]
    },
    {
     "name": "stderr",
     "output_type": "stream",
     "text": [
      "200it [02:50,  1.21it/s]"
     ]
    },
    {
     "name": "stdout",
     "output_type": "stream",
     "text": [
      "The boring movie ended finally at five. end\n"
     ]
    },
    {
     "name": "stderr",
     "output_type": "stream",
     "text": [
      "201it [02:51,  1.18it/s]"
     ]
    },
    {
     "name": "stdout",
     "output_type": "stream",
     "text": [
      "생성된 문장이 규칙을 따르지 않습니다. 단어: division\n"
     ]
    },
    {
     "name": "stderr",
     "output_type": "stream",
     "text": [
      "202it [02:51,  1.19it/s]"
     ]
    },
    {
     "name": "stdout",
     "output_type": "stream",
     "text": [
      "생성된 문장이 규칙을 따르지 않습니다. 단어: divide\n"
     ]
    },
    {
     "name": "stderr",
     "output_type": "stream",
     "text": [
      "203it [02:52,  1.17it/s]"
     ]
    },
    {
     "name": "stdout",
     "output_type": "stream",
     "text": [
      "생성된 문장이 규칙을 따르지 않습니다. 단어: expansion\n"
     ]
    },
    {
     "name": "stderr",
     "output_type": "stream",
     "text": [
      "204it [02:53,  1.23it/s]"
     ]
    },
    {
     "name": "stdout",
     "output_type": "stream",
     "text": [
      "생성된 문장이 규칙을 따르지 않습니다. 단어: expand\n"
     ]
    },
    {
     "name": "stderr",
     "output_type": "stream",
     "text": [
      "205it [02:54,  1.25it/s]"
     ]
    },
    {
     "name": "stdout",
     "output_type": "stream",
     "text": [
      "생성된 문장이 규칙을 따르지 않습니다. 단어: extend\n"
     ]
    },
    {
     "name": "stderr",
     "output_type": "stream",
     "text": [
      "206it [02:55,  1.05it/s]"
     ]
    },
    {
     "name": "stdout",
     "output_type": "stream",
     "text": [
      "생성된 문장이 규칙을 따르지 않습니다. 단어: displace\n"
     ]
    },
    {
     "name": "stderr",
     "output_type": "stream",
     "text": [
      "207it [02:56,  1.12it/s]"
     ]
    },
    {
     "name": "stdout",
     "output_type": "stream",
     "text": [
      "생성된 문장이 규칙을 따르지 않습니다. 단어: stretch\n"
     ]
    },
    {
     "name": "stderr",
     "output_type": "stream",
     "text": [
      "208it [02:57,  1.17it/s]"
     ]
    },
    {
     "name": "stdout",
     "output_type": "stream",
     "text": [
      "My car is being repaired. repair\n"
     ]
    },
    {
     "name": "stderr",
     "output_type": "stream",
     "text": [
      "209it [02:58,  1.18it/s]"
     ]
    },
    {
     "name": "stdout",
     "output_type": "stream",
     "text": [
      "생성된 문장이 규칙을 따르지 않습니다. 단어: fix\n"
     ]
    },
    {
     "name": "stderr",
     "output_type": "stream",
     "text": [
      "210it [02:58,  1.16it/s]"
     ]
    },
    {
     "name": "stdout",
     "output_type": "stream",
     "text": [
      "생성된 문장이 규칙을 따르지 않습니다. 단어: recover\n"
     ]
    },
    {
     "name": "stderr",
     "output_type": "stream",
     "text": [
      "211it [02:59,  1.14it/s]"
     ]
    },
    {
     "name": "stdout",
     "output_type": "stream",
     "text": [
      "I can’t help you when I’m sick. help\n"
     ]
    },
    {
     "name": "stderr",
     "output_type": "stream",
     "text": [
      "212it [03:00,  1.16it/s]"
     ]
    },
    {
     "name": "stdout",
     "output_type": "stream",
     "text": [
      "The result did not satisfy me. result\n"
     ]
    },
    {
     "name": "stderr",
     "output_type": "stream",
     "text": [
      "213it [03:01,  1.23it/s]"
     ]
    },
    {
     "name": "stdout",
     "output_type": "stream",
     "text": [
      "생성된 문장이 규칙을 따르지 않습니다. 단어: outcome\n"
     ]
    },
    {
     "name": "stderr",
     "output_type": "stream",
     "text": [
      "214it [03:02,  1.27it/s]"
     ]
    },
    {
     "name": "stdout",
     "output_type": "stream",
     "text": [
      "생성된 문장이 규칙을 따르지 않습니다. 단어: output\n"
     ]
    },
    {
     "name": "stderr",
     "output_type": "stream",
     "text": [
      "215it [03:02,  1.29it/s]"
     ]
    },
    {
     "name": "stdout",
     "output_type": "stream",
     "text": [
      "생성된 문장이 규칙을 따르지 않습니다. 단어: bake\n"
     ]
    },
    {
     "name": "stderr",
     "output_type": "stream",
     "text": [
      "216it [03:03,  1.24it/s]"
     ]
    },
    {
     "name": "stdout",
     "output_type": "stream",
     "text": [
      "I’m a cook, she is cooking dinner. cook\n"
     ]
    },
    {
     "name": "stderr",
     "output_type": "stream",
     "text": [
      "217it [03:04,  1.21it/s]"
     ]
    },
    {
     "name": "stdout",
     "output_type": "stream",
     "text": [
      "생성된 문장이 규칙을 따르지 않습니다. 단어: boil\n"
     ]
    },
    {
     "name": "stderr",
     "output_type": "stream",
     "text": [
      "218it [03:05,  1.21it/s]"
     ]
    },
    {
     "name": "stdout",
     "output_type": "stream",
     "text": [
      "생성된 문장이 규칙을 따르지 않습니다. 단어: pan\n"
     ]
    },
    {
     "name": "stderr",
     "output_type": "stream",
     "text": [
      "219it [03:06,  1.23it/s]"
     ]
    },
    {
     "name": "stdout",
     "output_type": "stream",
     "text": [
      "생성된 문장이 규칙을 따르지 않습니다. 단어: recipe\n"
     ]
    },
    {
     "name": "stderr",
     "output_type": "stream",
     "text": [
      "220it [03:07,  1.22it/s]"
     ]
    },
    {
     "name": "stdout",
     "output_type": "stream",
     "text": [
      "Mix the ingredients and stir the pot. stir\n"
     ]
    },
    {
     "name": "stderr",
     "output_type": "stream",
     "text": [
      "221it [03:08,  1.15it/s]"
     ]
    },
    {
     "name": "stdout",
     "output_type": "stream",
     "text": [
      "생성된 문장이 규칙을 따르지 않습니다. 단어: leave\n"
     ]
    },
    {
     "name": "stderr",
     "output_type": "stream",
     "text": [
      "222it [03:09,  1.09it/s]"
     ]
    },
    {
     "name": "stdout",
     "output_type": "stream",
     "text": [
      "생성된 문장이 규칙을 따르지 않습니다. 단어: stay\n"
     ]
    },
    {
     "name": "stderr",
     "output_type": "stream",
     "text": [
      "223it [03:10,  1.06it/s]"
     ]
    },
    {
     "name": "stdout",
     "output_type": "stream",
     "text": [
      "생성된 문장이 규칙을 따르지 않습니다. 단어: depart\n"
     ]
    },
    {
     "name": "stderr",
     "output_type": "stream",
     "text": [
      "224it [03:10,  1.08it/s]"
     ]
    },
    {
     "name": "stdout",
     "output_type": "stream",
     "text": [
      "생성된 문장이 규칙을 따르지 않습니다. 단어: exit\n"
     ]
    },
    {
     "name": "stderr",
     "output_type": "stream",
     "text": [
      "225it [03:11,  1.10it/s]"
     ]
    },
    {
     "name": "stdout",
     "output_type": "stream",
     "text": [
      "생성된 문장이 규칙을 따르지 않습니다. 단어: be going to\n"
     ]
    },
    {
     "name": "stderr",
     "output_type": "stream",
     "text": [
      "226it [03:12,  1.14it/s]"
     ]
    },
    {
     "name": "stdout",
     "output_type": "stream",
     "text": [
      "생성된 문장이 규칙을 따르지 않습니다. 단어: return\n"
     ]
    },
    {
     "name": "stderr",
     "output_type": "stream",
     "text": [
      "227it [03:13,  1.15it/s]"
     ]
    },
    {
     "name": "stdout",
     "output_type": "stream",
     "text": [
      "She is fleeing from the prison and closing doors. flee\n"
     ]
    },
    {
     "name": "stderr",
     "output_type": "stream",
     "text": [
      "228it [03:14,  1.25it/s]"
     ]
    },
    {
     "name": "stdout",
     "output_type": "stream",
     "text": [
      "생성된 문장이 규칙을 따르지 않습니다. 단어: come\n"
     ]
    },
    {
     "name": "stderr",
     "output_type": "stream",
     "text": [
      "229it [03:14,  1.24it/s]"
     ]
    },
    {
     "name": "stdout",
     "output_type": "stream",
     "text": [
      "생성된 문장이 규칙을 따르지 않습니다. 단어: disconnect\n"
     ]
    },
    {
     "name": "stderr",
     "output_type": "stream",
     "text": [
      "230it [03:15,  1.22it/s]"
     ]
    },
    {
     "name": "stdout",
     "output_type": "stream",
     "text": [
      "생성된 문장이 규칙을 따르지 않습니다. 단어: come home\n"
     ]
    },
    {
     "name": "stderr",
     "output_type": "stream",
     "text": [
      "231it [03:16,  1.18it/s]"
     ]
    },
    {
     "name": "stdout",
     "output_type": "stream",
     "text": [
      "생성된 문장이 규칙을 따르지 않습니다. 단어: disappear\n"
     ]
    },
    {
     "name": "stderr",
     "output_type": "stream",
     "text": [
      "232it [03:17,  1.17it/s]"
     ]
    },
    {
     "name": "stdout",
     "output_type": "stream",
     "text": [
      "생성된 문장이 규칙을 따르지 않습니다. 단어: away\n"
     ]
    },
    {
     "name": "stderr",
     "output_type": "stream",
     "text": [
      "233it [03:18,  1.26it/s]"
     ]
    },
    {
     "name": "stdout",
     "output_type": "stream",
     "text": [
      "Let's go out. go\n"
     ]
    },
    {
     "name": "stderr",
     "output_type": "stream",
     "text": [
      "234it [03:19,  1.21it/s]"
     ]
    },
    {
     "name": "stdout",
     "output_type": "stream",
     "text": [
      "생성된 문장이 규칙을 따르지 않습니다. 단어: get to\n"
     ]
    },
    {
     "name": "stderr",
     "output_type": "stream",
     "text": [
      "235it [03:20,  1.14it/s]"
     ]
    },
    {
     "name": "stdout",
     "output_type": "stream",
     "text": [
      "생성된 문장이 규칙을 따르지 않습니다. 단어: bye\n"
     ]
    },
    {
     "name": "stderr",
     "output_type": "stream",
     "text": [
      "236it [03:20,  1.18it/s]"
     ]
    },
    {
     "name": "stdout",
     "output_type": "stream",
     "text": [
      "생성된 문장이 규칙을 따르지 않습니다. 단어: hide\n"
     ]
    },
    {
     "name": "stderr",
     "output_type": "stream",
     "text": [
      "237it [03:21,  1.17it/s]"
     ]
    },
    {
     "name": "stdout",
     "output_type": "stream",
     "text": [
      "생성된 문장이 규칙을 따르지 않습니다. 단어: above\n"
     ]
    },
    {
     "name": "stderr",
     "output_type": "stream",
     "text": [
      "238it [03:22,  1.15it/s]"
     ]
    },
    {
     "name": "stdout",
     "output_type": "stream",
     "text": [
      "생성된 문장이 규칙을 따르지 않습니다. 단어: below\n"
     ]
    },
    {
     "name": "stderr",
     "output_type": "stream",
     "text": [
      "239it [03:23,  1.25it/s]"
     ]
    },
    {
     "name": "stdout",
     "output_type": "stream",
     "text": [
      "생성된 문장이 규칙을 따르지 않습니다. 단어: over\n"
     ]
    },
    {
     "name": "stderr",
     "output_type": "stream",
     "text": [
      "240it [03:24,  1.23it/s]"
     ]
    },
    {
     "name": "stdout",
     "output_type": "stream",
     "text": [
      "There is a ball under the bed. under\n"
     ]
    },
    {
     "name": "stderr",
     "output_type": "stream",
     "text": [
      "241it [03:24,  1.26it/s]"
     ]
    },
    {
     "name": "stdout",
     "output_type": "stream",
     "text": [
      "생성된 문장이 규칙을 따르지 않습니다. 단어: because of\n"
     ]
    },
    {
     "name": "stderr",
     "output_type": "stream",
     "text": [
      "242it [03:25,  1.25it/s]"
     ]
    },
    {
     "name": "stdout",
     "output_type": "stream",
     "text": [
      "생성된 문장이 규칙을 따르지 않습니다. 단어: why\n"
     ]
    },
    {
     "name": "stderr",
     "output_type": "stream",
     "text": [
      "243it [03:26,  1.24it/s]"
     ]
    },
    {
     "name": "stdout",
     "output_type": "stream",
     "text": [
      "He's tired because he broke the bricks. because\n"
     ]
    },
    {
     "name": "stderr",
     "output_type": "stream",
     "text": [
      "244it [03:27,  1.27it/s]"
     ]
    },
    {
     "name": "stdout",
     "output_type": "stream",
     "text": [
      "생성된 문장이 규칙을 따르지 않습니다. 단어: curious\n"
     ]
    },
    {
     "name": "stderr",
     "output_type": "stream",
     "text": [
      "245it [03:28,  1.20it/s]"
     ]
    },
    {
     "name": "stdout",
     "output_type": "stream",
     "text": [
      "생성된 문장이 규칙을 따르지 않습니다. 단어: principle\n"
     ]
    },
    {
     "name": "stderr",
     "output_type": "stream",
     "text": [
      "246it [03:29,  1.16it/s]"
     ]
    },
    {
     "name": "stdout",
     "output_type": "stream",
     "text": [
      "I’ll explain the rules of this game. explain\n"
     ]
    },
    {
     "name": "stderr",
     "output_type": "stream",
     "text": [
      "247it [03:30,  1.15it/s]"
     ]
    },
    {
     "name": "stdout",
     "output_type": "stream",
     "text": [
      "생성된 문장이 규칙을 따르지 않습니다. 단어: understand\n"
     ]
    },
    {
     "name": "stderr",
     "output_type": "stream",
     "text": [
      "248it [03:30,  1.16it/s]"
     ]
    },
    {
     "name": "stdout",
     "output_type": "stream",
     "text": [
      "생성된 문장이 규칙을 따르지 않습니다. 단어: illogical\n"
     ]
    },
    {
     "name": "stderr",
     "output_type": "stream",
     "text": [
      "249it [03:31,  1.18it/s]"
     ]
    },
    {
     "name": "stdout",
     "output_type": "stream",
     "text": [
      "I've seen this movie once. once\n"
     ]
    },
    {
     "name": "stderr",
     "output_type": "stream",
     "text": [
      "250it [03:32,  1.20it/s]"
     ]
    },
    {
     "name": "stdout",
     "output_type": "stream",
     "text": [
      "생성된 문장이 규칙을 따르지 않습니다. 단어: twice\n"
     ]
    },
    {
     "name": "stderr",
     "output_type": "stream",
     "text": [
      "251it [03:33,  1.25it/s]"
     ]
    },
    {
     "name": "stdout",
     "output_type": "stream",
     "text": [
      "I'll call you again tomorrow. again\n"
     ]
    },
    {
     "name": "stderr",
     "output_type": "stream",
     "text": [
      "252it [03:34,  1.18it/s]"
     ]
    },
    {
     "name": "stdout",
     "output_type": "stream",
     "text": [
      "생성된 문장이 규칙을 따르지 않습니다. 단어: unless\n"
     ]
    },
    {
     "name": "stderr",
     "output_type": "stream",
     "text": [
      "253it [03:34,  1.21it/s]"
     ]
    },
    {
     "name": "stdout",
     "output_type": "stream",
     "text": [
      "생성된 문장이 규칙을 따르지 않습니다. 단어: until\n"
     ]
    },
    {
     "name": "stderr",
     "output_type": "stream",
     "text": [
      "254it [03:35,  1.24it/s]"
     ]
    },
    {
     "name": "stdout",
     "output_type": "stream",
     "text": [
      "생성된 문장이 규칙을 따르지 않습니다. 단어: although\n"
     ]
    },
    {
     "name": "stderr",
     "output_type": "stream",
     "text": [
      "255it [03:36,  1.30it/s]"
     ]
    },
    {
     "name": "stdout",
     "output_type": "stream",
     "text": [
      "생성된 문장이 규칙을 따르지 않습니다. 단어: or\n"
     ]
    },
    {
     "name": "stderr",
     "output_type": "stream",
     "text": [
      "256it [03:37,  1.23it/s]"
     ]
    },
    {
     "name": "stdout",
     "output_type": "stream",
     "text": [
      "생성된 문장이 규칙을 따르지 않습니다. 단어: otherwise\n"
     ]
    },
    {
     "name": "stderr",
     "output_type": "stream",
     "text": [
      "257it [03:38,  1.19it/s]"
     ]
    },
    {
     "name": "stdout",
     "output_type": "stream",
     "text": [
      "The store is open every day except Sunday. except\n"
     ]
    },
    {
     "name": "stderr",
     "output_type": "stream",
     "text": [
      "258it [03:39,  1.19it/s]"
     ]
    },
    {
     "name": "stdout",
     "output_type": "stream",
     "text": [
      "The teacher asked when is the race? when\n"
     ]
    },
    {
     "name": "stderr",
     "output_type": "stream",
     "text": [
      "259it [03:39,  1.22it/s]"
     ]
    },
    {
     "name": "stdout",
     "output_type": "stream",
     "text": [
      "The bus will come soon. soon\n"
     ]
    },
    {
     "name": "stderr",
     "output_type": "stream",
     "text": [
      "260it [03:40,  1.20it/s]"
     ]
    },
    {
     "name": "stdout",
     "output_type": "stream",
     "text": [
      "생성된 문장이 규칙을 따르지 않습니다. 단어: never\n"
     ]
    },
    {
     "name": "stderr",
     "output_type": "stream",
     "text": [
      "261it [03:41,  1.24it/s]"
     ]
    },
    {
     "name": "stdout",
     "output_type": "stream",
     "text": [
      "생성된 문장이 규칙을 따르지 않습니다. 단어: already\n"
     ]
    },
    {
     "name": "stderr",
     "output_type": "stream",
     "text": [
      "262it [03:41,  1.35it/s]"
     ]
    },
    {
     "name": "stdout",
     "output_type": "stream",
     "text": [
      "Bring your brush. brush\n"
     ]
    },
    {
     "name": "stderr",
     "output_type": "stream",
     "text": [
      "263it [03:42,  1.27it/s]"
     ]
    },
    {
     "name": "stdout",
     "output_type": "stream",
     "text": [
      "There is a toothbrush in the bathroom. toothbrush\n"
     ]
    },
    {
     "name": "stderr",
     "output_type": "stream",
     "text": [
      "264it [03:43,  1.23it/s]"
     ]
    },
    {
     "name": "stdout",
     "output_type": "stream",
     "text": [
      "I brush my teeth because there is toothpaste. toothpaste\n"
     ]
    },
    {
     "name": "stderr",
     "output_type": "stream",
     "text": [
      "265it [03:44,  1.21it/s]"
     ]
    },
    {
     "name": "stdout",
     "output_type": "stream",
     "text": [
      "The soap is soaked in the water. soap\n"
     ]
    },
    {
     "name": "stderr",
     "output_type": "stream",
     "text": [
      "266it [03:45,  1.17it/s]"
     ]
    },
    {
     "name": "stdout",
     "output_type": "stream",
     "text": [
      "Can you get the white phone for me? phone\n"
     ]
    },
    {
     "name": "stderr",
     "output_type": "stream",
     "text": [
      "267it [03:46,  1.20it/s]"
     ]
    },
    {
     "name": "stdout",
     "output_type": "stream",
     "text": [
      "The telephone rang at that moment. telephone\n"
     ]
    },
    {
     "name": "stderr",
     "output_type": "stream",
     "text": [
      "268it [03:47,  1.16it/s]"
     ]
    },
    {
     "name": "stdout",
     "output_type": "stream",
     "text": [
      "I’ll call you again when I visit. call\n"
     ]
    },
    {
     "name": "stderr",
     "output_type": "stream",
     "text": [
      "269it [03:48,  1.18it/s]"
     ]
    },
    {
     "name": "stdout",
     "output_type": "stream",
     "text": [
      "생성된 문장이 규칙을 따르지 않습니다. 단어: Phone number\n"
     ]
    },
    {
     "name": "stderr",
     "output_type": "stream",
     "text": [
      "270it [03:48,  1.18it/s]"
     ]
    },
    {
     "name": "stdout",
     "output_type": "stream",
     "text": [
      "Be quiet while reading in the library. quiet\n"
     ]
    },
    {
     "name": "stderr",
     "output_type": "stream",
     "text": [
      "271it [03:49,  1.24it/s]"
     ]
    },
    {
     "name": "stdout",
     "output_type": "stream",
     "text": [
      "생성된 문장이 규칙을 따르지 않습니다. 단어: loud\n"
     ]
    },
    {
     "name": "stderr",
     "output_type": "stream",
     "text": [
      "272it [03:50,  1.27it/s]"
     ]
    },
    {
     "name": "stdout",
     "output_type": "stream",
     "text": [
      "생성된 문장이 규칙을 따르지 않습니다. 단어: noise\n"
     ]
    },
    {
     "name": "stderr",
     "output_type": "stream",
     "text": [
      "273it [03:51,  1.28it/s]"
     ]
    },
    {
     "name": "stdout",
     "output_type": "stream",
     "text": [
      "생성된 문장이 규칙을 따르지 않습니다. 단어: silent\n"
     ]
    },
    {
     "name": "stderr",
     "output_type": "stream",
     "text": [
      "274it [03:51,  1.28it/s]"
     ]
    },
    {
     "name": "stdout",
     "output_type": "stream",
     "text": [
      "They are noisy and should be quiet. noisy\n"
     ]
    },
    {
     "name": "stderr",
     "output_type": "stream",
     "text": [
      "275it [03:53,  1.13it/s]"
     ]
    },
    {
     "name": "stdout",
     "output_type": "stream",
     "text": [
      "I didn’t hear a sound; I heard beats on the drum. sound\n"
     ]
    },
    {
     "name": "stderr",
     "output_type": "stream",
     "text": [
      "276it [03:54,  1.08it/s]"
     ]
    },
    {
     "name": "stdout",
     "output_type": "stream",
     "text": [
      "My father is deaf in one ear, touch your ear. deaf\n"
     ]
    },
    {
     "name": "stderr",
     "output_type": "stream",
     "text": [
      "277it [03:54,  1.15it/s]"
     ]
    },
    {
     "name": "stdout",
     "output_type": "stream",
     "text": [
      "생성된 문장이 규칙을 따르지 않습니다. 단어: speak\n"
     ]
    },
    {
     "name": "stderr",
     "output_type": "stream",
     "text": [
      "278it [03:55,  1.20it/s]"
     ]
    },
    {
     "name": "stdout",
     "output_type": "stream",
     "text": [
      "The teacher understood my speech. speech\n"
     ]
    },
    {
     "name": "stderr",
     "output_type": "stream",
     "text": [
      "279it [03:56,  1.23it/s]"
     ]
    },
    {
     "name": "stdout",
     "output_type": "stream",
     "text": [
      "They are talking and being very loud. talk\n"
     ]
    },
    {
     "name": "stderr",
     "output_type": "stream",
     "text": [
      "280it [03:57,  1.23it/s]"
     ]
    },
    {
     "name": "stdout",
     "output_type": "stream",
     "text": [
      "생성된 문장이 규칙을 따르지 않습니다. 단어: talkative\n"
     ]
    },
    {
     "name": "stderr",
     "output_type": "stream",
     "text": [
      "281it [03:57,  1.23it/s]"
     ]
    },
    {
     "name": "stdout",
     "output_type": "stream",
     "text": [
      "생성된 문장이 규칙을 따르지 않습니다. 단어: interact\n"
     ]
    },
    {
     "name": "stderr",
     "output_type": "stream",
     "text": [
      "282it [03:58,  1.27it/s]"
     ]
    },
    {
     "name": "stdout",
     "output_type": "stream",
     "text": [
      "I can't hear your voice. voice\n"
     ]
    },
    {
     "name": "stderr",
     "output_type": "stream",
     "text": [
      "283it [03:59,  1.23it/s]"
     ]
    },
    {
     "name": "stdout",
     "output_type": "stream",
     "text": [
      "생성된 문장이 규칙을 따르지 않습니다. 단어: say\n"
     ]
    },
    {
     "name": "stderr",
     "output_type": "stream",
     "text": [
      "284it [04:00,  1.30it/s]"
     ]
    },
    {
     "name": "stdout",
     "output_type": "stream",
     "text": [
      "Let's talk about this. talk about\n"
     ]
    },
    {
     "name": "stderr",
     "output_type": "stream",
     "text": [
      "285it [04:01,  1.28it/s]"
     ]
    },
    {
     "name": "stdout",
     "output_type": "stream",
     "text": [
      "생성된 문장이 규칙을 따르지 않습니다. 단어: watch out\n"
     ]
    },
    {
     "name": "stderr",
     "output_type": "stream",
     "text": [
      "286it [04:01,  1.26it/s]"
     ]
    },
    {
     "name": "stdout",
     "output_type": "stream",
     "text": [
      "생성된 문장이 규칙을 따르지 않습니다. 단어: look out\n"
     ]
    },
    {
     "name": "stderr",
     "output_type": "stream",
     "text": [
      "287it [04:02,  1.23it/s]"
     ]
    },
    {
     "name": "stdout",
     "output_type": "stream",
     "text": [
      "Let's go outside when I say look out! out\n"
     ]
    },
    {
     "name": "stderr",
     "output_type": "stream",
     "text": [
      "288it [04:03,  1.19it/s]"
     ]
    },
    {
     "name": "stdout",
     "output_type": "stream",
     "text": [
      "They are artists at our local art gallery. art\n"
     ]
    },
    {
     "name": "stderr",
     "output_type": "stream",
     "text": [
      "289it [04:04,  1.18it/s]"
     ]
    },
    {
     "name": "stdout",
     "output_type": "stream",
     "text": [
      "Let's go to the art gallery. gallery\n"
     ]
    },
    {
     "name": "stderr",
     "output_type": "stream",
     "text": [
      "290it [04:05,  1.16it/s]"
     ]
    },
    {
     "name": "stdout",
     "output_type": "stream",
     "text": [
      "They are famous artists who paint beautiful pictures. artist\n"
     ]
    },
    {
     "name": "stderr",
     "output_type": "stream",
     "text": [
      "291it [04:06,  1.17it/s]"
     ]
    },
    {
     "name": "stdout",
     "output_type": "stream",
     "text": [
      "Let's go to the art gallery. art gallery\n"
     ]
    },
    {
     "name": "stderr",
     "output_type": "stream",
     "text": [
      "292it [04:06,  1.20it/s]"
     ]
    },
    {
     "name": "stdout",
     "output_type": "stream",
     "text": [
      "생성된 문장이 규칙을 따르지 않습니다. 단어: cartoonist\n"
     ]
    },
    {
     "name": "stderr",
     "output_type": "stream",
     "text": [
      "293it [04:07,  1.18it/s]"
     ]
    },
    {
     "name": "stdout",
     "output_type": "stream",
     "text": [
      "생성된 문장이 규칙을 따르지 않습니다. 단어: artistic\n"
     ]
    },
    {
     "name": "stderr",
     "output_type": "stream",
     "text": [
      "294it [04:08,  1.23it/s]"
     ]
    },
    {
     "name": "stdout",
     "output_type": "stream",
     "text": [
      "Let's draw using my pen. draw\n"
     ]
    },
    {
     "name": "stderr",
     "output_type": "stream",
     "text": [
      "295it [04:09,  1.23it/s]"
     ]
    },
    {
     "name": "stdout",
     "output_type": "stream",
     "text": [
      "생성된 문장이 규칙을 따르지 않습니다. 단어: design\n"
     ]
    },
    {
     "name": "stderr",
     "output_type": "stream",
     "text": [
      "296it [04:10,  1.16it/s]"
     ]
    },
    {
     "name": "stdout",
     "output_type": "stream",
     "text": [
      "생성된 문장이 규칙을 따르지 않습니다. 단어: illustrate\n"
     ]
    },
    {
     "name": "stderr",
     "output_type": "stream",
     "text": [
      "297it [04:11,  1.18it/s]"
     ]
    },
    {
     "name": "stdout",
     "output_type": "stream",
     "text": [
      "생성된 문장이 규칙을 따르지 않습니다. 단어: multimedia\n"
     ]
    },
    {
     "name": "stderr",
     "output_type": "stream",
     "text": [
      "298it [04:12,  1.18it/s]"
     ]
    },
    {
     "name": "stdout",
     "output_type": "stream",
     "text": [
      "생성된 문장이 규칙을 따르지 않습니다. 단어: graphic\n"
     ]
    },
    {
     "name": "stderr",
     "output_type": "stream",
     "text": [
      "299it [04:12,  1.23it/s]"
     ]
    },
    {
     "name": "stdout",
     "output_type": "stream",
     "text": [
      "생성된 문장이 규칙을 따르지 않습니다. 단어: background\n"
     ]
    },
    {
     "name": "stderr",
     "output_type": "stream",
     "text": [
      "300it [04:13,  1.21it/s]"
     ]
    },
    {
     "name": "stdout",
     "output_type": "stream",
     "text": [
      "I was present at my class today. class\n"
     ]
    },
    {
     "name": "stderr",
     "output_type": "stream",
     "text": [
      "301it [04:14,  1.14it/s]"
     ]
    },
    {
     "name": "stdout",
     "output_type": "stream",
     "text": [
      "Jenny is my classmate and we are friends. classmate\n"
     ]
    },
    {
     "name": "stderr",
     "output_type": "stream",
     "text": [
      "302it [04:15,  1.14it/s]"
     ]
    },
    {
     "name": "stdout",
     "output_type": "stream",
     "text": [
      "I’m a student who goes to different schools. student\n"
     ]
    },
    {
     "name": "stderr",
     "output_type": "stream",
     "text": [
      "303it [04:16,  1.17it/s]"
     ]
    },
    {
     "name": "stdout",
     "output_type": "stream",
     "text": [
      "The students are in the classroom. classroom\n"
     ]
    },
    {
     "name": "stderr",
     "output_type": "stream",
     "text": [
      "304it [04:17,  1.15it/s]"
     ]
    },
    {
     "name": "stdout",
     "output_type": "stream",
     "text": [
      "I will be a teacher in the future. teach\n"
     ]
    },
    {
     "name": "stderr",
     "output_type": "stream",
     "text": [
      "305it [04:18,  1.15it/s]"
     ]
    },
    {
     "name": "stdout",
     "output_type": "stream",
     "text": [
      "Reading is an important part of education. education\n"
     ]
    },
    {
     "name": "stderr",
     "output_type": "stream",
     "text": [
      "306it [04:18,  1.18it/s]"
     ]
    },
    {
     "name": "stdout",
     "output_type": "stream",
     "text": [
      "생성된 문장이 규칙을 따르지 않습니다. 단어: instructor\n"
     ]
    },
    {
     "name": "stderr",
     "output_type": "stream",
     "text": [
      "307it [04:19,  1.19it/s]"
     ]
    },
    {
     "name": "stdout",
     "output_type": "stream",
     "text": [
      "생성된 문장이 규칙을 따르지 않습니다. 단어: professor\n"
     ]
    },
    {
     "name": "stderr",
     "output_type": "stream",
     "text": [
      "308it [04:20,  1.18it/s]"
     ]
    },
    {
     "name": "stdout",
     "output_type": "stream",
     "text": [
      "생성된 문장이 규칙을 따르지 않습니다. 단어: educate\n"
     ]
    },
    {
     "name": "stderr",
     "output_type": "stream",
     "text": [
      "309it [04:21,  1.16it/s]"
     ]
    },
    {
     "name": "stdout",
     "output_type": "stream",
     "text": [
      "My teacher teaches math and I love her. teacher\n"
     ]
    },
    {
     "name": "stderr",
     "output_type": "stream",
     "text": [
      "310it [04:22,  1.15it/s]"
     ]
    },
    {
     "name": "stdout",
     "output_type": "stream",
     "text": [
      "The best way to learn is by experience. learn\n"
     ]
    },
    {
     "name": "stderr",
     "output_type": "stream",
     "text": [
      "311it [04:23,  1.15it/s]"
     ]
    },
    {
     "name": "stdout",
     "output_type": "stream",
     "text": [
      "It's time to do my homework. homework\n"
     ]
    },
    {
     "name": "stderr",
     "output_type": "stream",
     "text": [
      "312it [04:23,  1.20it/s]"
     ]
    },
    {
     "name": "stdout",
     "output_type": "stream",
     "text": [
      "생성된 문장이 규칙을 따르지 않습니다. 단어: practice\n"
     ]
    },
    {
     "name": "stderr",
     "output_type": "stream",
     "text": [
      "313it [04:24,  1.21it/s]"
     ]
    },
    {
     "name": "stdout",
     "output_type": "stream",
     "text": [
      "생성된 문장이 규칙을 따르지 않습니다. 단어: principal\n"
     ]
    },
    {
     "name": "stderr",
     "output_type": "stream",
     "text": [
      "314it [04:25,  1.15it/s]"
     ]
    },
    {
     "name": "stdout",
     "output_type": "stream",
     "text": [
      "I’ll show you an example of gestures used daily. example\n"
     ]
    },
    {
     "name": "stderr",
     "output_type": "stream",
     "text": [
      "315it [04:26,  1.14it/s]"
     ]
    },
    {
     "name": "stdout",
     "output_type": "stream",
     "text": [
      "생성된 문장이 규칙을 따르지 않습니다. 단어: professional\n"
     ]
    },
    {
     "name": "stderr",
     "output_type": "stream",
     "text": [
      "316it [04:27,  1.17it/s]"
     ]
    },
    {
     "name": "stdout",
     "output_type": "stream",
     "text": [
      "생성된 문장이 규칙을 따르지 않습니다. 단어: program\n"
     ]
    },
    {
     "name": "stderr",
     "output_type": "stream",
     "text": [
      "317it [04:28,  1.19it/s]"
     ]
    },
    {
     "name": "stdout",
     "output_type": "stream",
     "text": [
      "I have social studies class today. social studies\n"
     ]
    },
    {
     "name": "stderr",
     "output_type": "stream",
     "text": [
      "318it [04:30,  1.12s/it]"
     ]
    },
    {
     "name": "stdout",
     "output_type": "stream",
     "text": [
      "생성된 문장이 규칙을 따르지 않습니다. 단어: classify\n"
     ]
    },
    {
     "name": "stderr",
     "output_type": "stream",
     "text": [
      "319it [04:30,  1.05s/it]"
     ]
    },
    {
     "name": "stdout",
     "output_type": "stream",
     "text": [
      "생성된 문장이 규칙을 따르지 않습니다. 단어: lesson\n"
     ]
    },
    {
     "name": "stderr",
     "output_type": "stream",
     "text": [
      "320it [04:31,  1.03it/s]"
     ]
    },
    {
     "name": "stdout",
     "output_type": "stream",
     "text": [
      "I must study English every Monday. English\n"
     ]
    },
    {
     "name": "stderr",
     "output_type": "stream",
     "text": [
      "321it [04:32,  1.09it/s]"
     ]
    },
    {
     "name": "stdout",
     "output_type": "stream",
     "text": [
      "English is becoming a global language. language\n"
     ]
    },
    {
     "name": "stderr",
     "output_type": "stream",
     "text": [
      "322it [04:33,  1.12it/s]"
     ]
    },
    {
     "name": "stdout",
     "output_type": "stream",
     "text": [
      "생성된 문장이 규칙을 따르지 않습니다. 단어: grammar\n"
     ]
    },
    {
     "name": "stderr",
     "output_type": "stream",
     "text": [
      "323it [04:34,  1.16it/s]"
     ]
    },
    {
     "name": "stdout",
     "output_type": "stream",
     "text": [
      "생성된 문장이 규칙을 따르지 않습니다. 단어: illiteracy\n"
     ]
    },
    {
     "name": "stderr",
     "output_type": "stream",
     "text": [
      "324it [04:34,  1.21it/s]"
     ]
    },
    {
     "name": "stdout",
     "output_type": "stream",
     "text": [
      "I like science very much. science\n"
     ]
    },
    {
     "name": "stderr",
     "output_type": "stream",
     "text": [
      "325it [04:35,  1.12it/s]"
     ]
    },
    {
     "name": "stdout",
     "output_type": "stream",
     "text": [
      "Mr. Smith is a doctor and Ann's doctor too. doctor\n"
     ]
    },
    {
     "name": "stderr",
     "output_type": "stream",
     "text": [
      "326it [04:36,  1.13it/s]"
     ]
    },
    {
     "name": "stdout",
     "output_type": "stream",
     "text": [
      "This medicine works well on fevers. medicine\n"
     ]
    },
    {
     "name": "stderr",
     "output_type": "stream",
     "text": [
      "327it [04:37,  1.17it/s]"
     ]
    },
    {
     "name": "stdout",
     "output_type": "stream",
     "text": [
      "She is a nurse at the hospital. nurse\n"
     ]
    },
    {
     "name": "stderr",
     "output_type": "stream",
     "text": [
      "328it [04:38,  1.21it/s]"
     ]
    },
    {
     "name": "stdout",
     "output_type": "stream",
     "text": [
      "She is a scientist who likes science. scientist\n"
     ]
    },
    {
     "name": "stderr",
     "output_type": "stream",
     "text": [
      "329it [04:39,  1.17it/s]"
     ]
    },
    {
     "name": "stdout",
     "output_type": "stream",
     "text": [
      "생성된 문장이 규칙을 따르지 않습니다. 단어: disease\n"
     ]
    },
    {
     "name": "stderr",
     "output_type": "stream",
     "text": [
      "330it [04:40,  1.18it/s]"
     ]
    },
    {
     "name": "stdout",
     "output_type": "stream",
     "text": [
      "생성된 문장이 규칙을 따르지 않습니다. 단어: physician\n"
     ]
    },
    {
     "name": "stderr",
     "output_type": "stream",
     "text": [
      "331it [04:40,  1.18it/s]"
     ]
    },
    {
     "name": "stdout",
     "output_type": "stream",
     "text": [
      "생성된 문장이 규칙을 따르지 않습니다. 단어: psychologist\n"
     ]
    },
    {
     "name": "stderr",
     "output_type": "stream",
     "text": [
      "332it [04:41,  1.16it/s]"
     ]
    },
    {
     "name": "stdout",
     "output_type": "stream",
     "text": [
      "Your health is more important than wealth. health\n"
     ]
    },
    {
     "name": "stderr",
     "output_type": "stream",
     "text": [
      "333it [04:42,  1.17it/s]"
     ]
    },
    {
     "name": "stdout",
     "output_type": "stream",
     "text": [
      "I go to the hospital with my mom. hospital\n"
     ]
    },
    {
     "name": "stderr",
     "output_type": "stream",
     "text": [
      "334it [04:43,  1.15it/s]"
     ]
    },
    {
     "name": "stdout",
     "output_type": "stream",
     "text": [
      "생성된 문장이 규칙을 따르지 않습니다. 단어: illness\n"
     ]
    },
    {
     "name": "stderr",
     "output_type": "stream",
     "text": [
      "335it [04:44,  1.17it/s]"
     ]
    },
    {
     "name": "stdout",
     "output_type": "stream",
     "text": [
      "The ambulance is white and I go there. ambulance\n"
     ]
    },
    {
     "name": "stderr",
     "output_type": "stream",
     "text": [
      "336it [04:45,  1.13it/s]"
     ]
    },
    {
     "name": "stdout",
     "output_type": "stream",
     "text": [
      "생성된 문장이 규칙을 따르지 않습니다. 단어: patient\n"
     ]
    },
    {
     "name": "stderr",
     "output_type": "stream",
     "text": [
      "337it [04:46,  1.08it/s]"
     ]
    },
    {
     "name": "stdout",
     "output_type": "stream",
     "text": [
      "생성된 문장이 규칙을 따르지 않습니다. 단어: treatment\n"
     ]
    },
    {
     "name": "stderr",
     "output_type": "stream",
     "text": [
      "338it [04:47,  1.06it/s]"
     ]
    },
    {
     "name": "stdout",
     "output_type": "stream",
     "text": [
      "P.E. is my favorite subject every day. P.E.\n"
     ]
    },
    {
     "name": "stderr",
     "output_type": "stream",
     "text": [
      "339it [04:48,  1.10it/s]"
     ]
    },
    {
     "name": "stdout",
     "output_type": "stream",
     "text": [
      "생성된 문장이 규칙을 따르지 않습니다. 단어: specialty\n"
     ]
    },
    {
     "name": "stderr",
     "output_type": "stream",
     "text": [
      "340it [04:49,  1.13it/s]"
     ]
    },
    {
     "name": "stdout",
     "output_type": "stream",
     "text": [
      "생성된 문장이 규칙을 따르지 않습니다. 단어: welfare\n"
     ]
    },
    {
     "name": "stderr",
     "output_type": "stream",
     "text": [
      "341it [04:49,  1.14it/s]"
     ]
    },
    {
     "name": "stdout",
     "output_type": "stream",
     "text": [
      "생성된 문장이 규칙을 따르지 않습니다. 단어: horror\n"
     ]
    },
    {
     "name": "stderr",
     "output_type": "stream",
     "text": [
      "342it [04:50,  1.11it/s]"
     ]
    },
    {
     "name": "stdout",
     "output_type": "stream",
     "text": [
      "생성된 문장이 규칙을 따르지 않습니다. 단어: appointment\n"
     ]
    },
    {
     "name": "stderr",
     "output_type": "stream",
     "text": [
      "343it [04:51,  1.11it/s]"
     ]
    },
    {
     "name": "stdout",
     "output_type": "stream",
     "text": [
      "생성된 문장이 규칙을 따르지 않습니다. 단어: prehistory\n"
     ]
    },
    {
     "name": "stderr",
     "output_type": "stream",
     "text": [
      "344it [04:52,  1.11it/s]"
     ]
    },
    {
     "name": "stdout",
     "output_type": "stream",
     "text": [
      "생성된 문장이 규칙을 따르지 않습니다. 단어: lack\n"
     ]
    },
    {
     "name": "stderr",
     "output_type": "stream",
     "text": [
      "345it [04:53,  1.22it/s]"
     ]
    },
    {
     "name": "stdout",
     "output_type": "stream",
     "text": [
      "생성된 문장이 규칙을 따르지 않습니다. 단어: evidence\n"
     ]
    },
    {
     "name": "stderr",
     "output_type": "stream",
     "text": [
      "346it [04:54,  1.22it/s]"
     ]
    },
    {
     "name": "stdout",
     "output_type": "stream",
     "text": [
      "생성된 문장이 규칙을 따르지 않습니다. 단어: cancer\n"
     ]
    },
    {
     "name": "stderr",
     "output_type": "stream",
     "text": [
      "347it [04:55,  1.16it/s]"
     ]
    },
    {
     "name": "stdout",
     "output_type": "stream",
     "text": [
      "생성된 문장이 규칙을 따르지 않습니다. 단어: emergency\n"
     ]
    },
    {
     "name": "stderr",
     "output_type": "stream",
     "text": [
      "348it [04:55,  1.20it/s]"
     ]
    },
    {
     "name": "stdout",
     "output_type": "stream",
     "text": [
      "생성된 문장이 규칙을 따르지 않습니다. 단어: heal\n"
     ]
    },
    {
     "name": "stderr",
     "output_type": "stream",
     "text": [
      "349it [04:56,  1.22it/s]"
     ]
    },
    {
     "name": "stdout",
     "output_type": "stream",
     "text": [
      "생성된 문장이 규칙을 따르지 않습니다. 단어: mental\n"
     ]
    },
    {
     "name": "stderr",
     "output_type": "stream",
     "text": [
      "350it [04:57,  1.19it/s]"
     ]
    },
    {
     "name": "stdout",
     "output_type": "stream",
     "text": [
      "생성된 문장이 규칙을 따르지 않습니다. 단어: prescribe\n"
     ]
    },
    {
     "name": "stderr",
     "output_type": "stream",
     "text": [
      "351it [04:58,  1.26it/s]"
     ]
    },
    {
     "name": "stdout",
     "output_type": "stream",
     "text": [
      "생성된 문장이 규칙을 따르지 않습니다. 단어: pressure\n"
     ]
    },
    {
     "name": "stderr",
     "output_type": "stream",
     "text": [
      "352it [04:58,  1.31it/s]"
     ]
    },
    {
     "name": "stdout",
     "output_type": "stream",
     "text": [
      "생성된 문장이 규칙을 따르지 않습니다. 단어: host\n"
     ]
    },
    {
     "name": "stderr",
     "output_type": "stream",
     "text": [
      "353it [04:59,  1.26it/s]"
     ]
    },
    {
     "name": "stdout",
     "output_type": "stream",
     "text": [
      "생성된 문장이 규칙을 따르지 않습니다. 단어: insurance\n"
     ]
    },
    {
     "name": "stderr",
     "output_type": "stream",
     "text": [
      "354it [05:00,  1.27it/s]"
     ]
    },
    {
     "name": "stdout",
     "output_type": "stream",
     "text": [
      "We should protect our environment. environment\n"
     ]
    },
    {
     "name": "stderr",
     "output_type": "stream",
     "text": [
      "355it [05:01,  1.21it/s]"
     ]
    },
    {
     "name": "stdout",
     "output_type": "stream",
     "text": [
      "생성된 문장이 규칙을 따르지 않습니다. 단어: x-ray\n"
     ]
    },
    {
     "name": "stderr",
     "output_type": "stream",
     "text": [
      "356it [05:02,  1.17it/s]"
     ]
    },
    {
     "name": "stdout",
     "output_type": "stream",
     "text": [
      "생성된 문장이 규칙을 따르지 않습니다. 단어: missionary\n"
     ]
    },
    {
     "name": "stderr",
     "output_type": "stream",
     "text": [
      "357it [05:03,  1.20it/s]"
     ]
    },
    {
     "name": "stdout",
     "output_type": "stream",
     "text": [
      "You should follow your parents' advice. advice\n"
     ]
    },
    {
     "name": "stderr",
     "output_type": "stream",
     "text": [
      "358it [05:03,  1.19it/s]"
     ]
    },
    {
     "name": "stdout",
     "output_type": "stream",
     "text": [
      "생성된 문장이 규칙을 따르지 않습니다. 단어: chemical\n"
     ]
    },
    {
     "name": "stderr",
     "output_type": "stream",
     "text": [
      "359it [05:04,  1.23it/s]"
     ]
    },
    {
     "name": "stdout",
     "output_type": "stream",
     "text": [
      "The textbook belongs to me. textbook\n"
     ]
    },
    {
     "name": "stderr",
     "output_type": "stream",
     "text": [
      "360it [05:05,  1.26it/s]"
     ]
    },
    {
     "name": "stdout",
     "output_type": "stream",
     "text": [
      "I like this storybook. storybook\n"
     ]
    },
    {
     "name": "stderr",
     "output_type": "stream",
     "text": [
      "361it [05:06,  1.22it/s]"
     ]
    },
    {
     "name": "stdout",
     "output_type": "stream",
     "text": [
      "I have a book; it is her book. book\n"
     ]
    },
    {
     "name": "stderr",
     "output_type": "stream",
     "text": [
      "362it [05:07,  1.27it/s]"
     ]
    },
    {
     "name": "stdout",
     "output_type": "stream",
     "text": [
      "생성된 문장이 규칙을 따르지 않습니다. 단어: nonfiction\n"
     ]
    },
    {
     "name": "stderr",
     "output_type": "stream",
     "text": [
      "363it [05:07,  1.29it/s]"
     ]
    },
    {
     "name": "stdout",
     "output_type": "stream",
     "text": [
      "I like your funny true story. story\n"
     ]
    },
    {
     "name": "stderr",
     "output_type": "stream",
     "text": [
      "364it [05:08,  1.24it/s]"
     ]
    },
    {
     "name": "stdout",
     "output_type": "stream",
     "text": [
      "생성된 문장이 규칙을 따르지 않습니다. 단어: resource\n"
     ]
    },
    {
     "name": "stderr",
     "output_type": "stream",
     "text": [
      "365it [05:09,  1.27it/s]"
     ]
    },
    {
     "name": "stdout",
     "output_type": "stream",
     "text": [
      "This size is big for me. size\n"
     ]
    },
    {
     "name": "stderr",
     "output_type": "stream",
     "text": [
      "366it [05:10,  1.32it/s]"
     ]
    },
    {
     "name": "stdout",
     "output_type": "stream",
     "text": [
      "It's small for me. small\n"
     ]
    },
    {
     "name": "stderr",
     "output_type": "stream",
     "text": [
      "367it [05:10,  1.37it/s]"
     ]
    },
    {
     "name": "stdout",
     "output_type": "stream",
     "text": [
      "생성된 문장이 규칙을 따르지 않습니다. 단어: large\n"
     ]
    },
    {
     "name": "stderr",
     "output_type": "stream",
     "text": [
      "368it [05:11,  1.26it/s]"
     ]
    },
    {
     "name": "stdout",
     "output_type": "stream",
     "text": [
      "It's small, my little brother wears small pajamas. little\n"
     ]
    },
    {
     "name": "stderr",
     "output_type": "stream",
     "text": [
      "369it [05:12,  1.31it/s]"
     ]
    },
    {
     "name": "stdout",
     "output_type": "stream",
     "text": [
      "I have a big bat. big\n"
     ]
    },
    {
     "name": "stderr",
     "output_type": "stream",
     "text": [
      "370it [05:13,  1.26it/s]"
     ]
    },
    {
     "name": "stdout",
     "output_type": "stream",
     "text": [
      "생성된 문장이 규칙을 따르지 않습니다. 단어: a_little\n"
     ]
    },
    {
     "name": "stderr",
     "output_type": "stream",
     "text": [
      "371it [05:14,  1.27it/s]"
     ]
    },
    {
     "name": "stdout",
     "output_type": "stream",
     "text": [
      "I ordered a medium size. medium\n"
     ]
    },
    {
     "name": "stderr",
     "output_type": "stream",
     "text": [
      "372it [05:14,  1.22it/s]"
     ]
    },
    {
     "name": "stdout",
     "output_type": "stream",
     "text": [
      "생성된 문장이 규칙을 따르지 않습니다. 단어: fit\n"
     ]
    },
    {
     "name": "stderr",
     "output_type": "stream",
     "text": [
      "373it [05:15,  1.20it/s]"
     ]
    },
    {
     "name": "stdout",
     "output_type": "stream",
     "text": [
      "생성된 문장이 규칙을 따르지 않습니다. 단어: area\n"
     ]
    },
    {
     "name": "stderr",
     "output_type": "stream",
     "text": [
      "374it [05:16,  1.17it/s]"
     ]
    },
    {
     "name": "stdout",
     "output_type": "stream",
     "text": [
      "I long to be as tall as him. tall\n"
     ]
    },
    {
     "name": "stderr",
     "output_type": "stream",
     "text": [
      "375it [05:17,  1.13it/s]"
     ]
    },
    {
     "name": "stdout",
     "output_type": "stream",
     "text": [
      "생성된 문장이 규칙을 따르지 않습니다. 단어: strength\n"
     ]
    },
    {
     "name": "stderr",
     "output_type": "stream",
     "text": [
      "376it [05:18,  1.17it/s]"
     ]
    },
    {
     "name": "stdout",
     "output_type": "stream",
     "text": [
      "You are strong and brave. strong\n"
     ]
    },
    {
     "name": "stderr",
     "output_type": "stream",
     "text": [
      "377it [05:19,  1.25it/s]"
     ]
    },
    {
     "name": "stdout",
     "output_type": "stream",
     "text": [
      "생성된 문장이 규칙을 따르지 않습니다. 단어: weak\n"
     ]
    },
    {
     "name": "stderr",
     "output_type": "stream",
     "text": [
      "378it [05:19,  1.23it/s]"
     ]
    },
    {
     "name": "stdout",
     "output_type": "stream",
     "text": [
      "생성된 문장이 규칙을 따르지 않습니다. 단어: powerful\n"
     ]
    },
    {
     "name": "stderr",
     "output_type": "stream",
     "text": [
      "379it [05:20,  1.27it/s]"
     ]
    },
    {
     "name": "stdout",
     "output_type": "stream",
     "text": [
      "생성된 문장이 규칙을 따르지 않습니다. 단어: strict\n"
     ]
    },
    {
     "name": "stderr",
     "output_type": "stream",
     "text": [
      "380it [05:21,  1.22it/s]"
     ]
    },
    {
     "name": "stdout",
     "output_type": "stream",
     "text": [
      "생성된 문장이 규칙을 따르지 않습니다. 단어: effort\n"
     ]
    },
    {
     "name": "stderr",
     "output_type": "stream",
     "text": [
      "381it [05:22,  1.24it/s]"
     ]
    },
    {
     "name": "stdout",
     "output_type": "stream",
     "text": [
      "It’s a hard ball. hard\n"
     ]
    },
    {
     "name": "stderr",
     "output_type": "stream",
     "text": [
      "382it [05:23,  1.29it/s]"
     ]
    },
    {
     "name": "stdout",
     "output_type": "stream",
     "text": [
      "He can pull the car. pull\n"
     ]
    },
    {
     "name": "stderr",
     "output_type": "stream",
     "text": [
      "383it [05:23,  1.26it/s]"
     ]
    },
    {
     "name": "stdout",
     "output_type": "stream",
     "text": [
      "Look! He can push the car. push\n"
     ]
    },
    {
     "name": "stderr",
     "output_type": "stream",
     "text": [
      "384it [05:24,  1.22it/s]"
     ]
    },
    {
     "name": "stdout",
     "output_type": "stream",
     "text": [
      "The brave person is very strong. brave\n"
     ]
    },
    {
     "name": "stderr",
     "output_type": "stream",
     "text": [
      "385it [05:25,  1.20it/s]"
     ]
    },
    {
     "name": "stdout",
     "output_type": "stream",
     "text": [
      "생성된 문장이 규칙을 따르지 않습니다. 단어: active\n"
     ]
    },
    {
     "name": "stderr",
     "output_type": "stream",
     "text": [
      "386it [05:26,  1.28it/s]"
     ]
    },
    {
     "name": "stdout",
     "output_type": "stream",
     "text": [
      "생성된 문장이 규칙을 따르지 않습니다. 단어: disabled\n"
     ]
    },
    {
     "name": "stderr",
     "output_type": "stream",
     "text": [
      "387it [05:27,  1.21it/s]"
     ]
    },
    {
     "name": "stdout",
     "output_type": "stream",
     "text": [
      "생성된 문장이 규칙을 따르지 않습니다. 단어: inactive\n"
     ]
    },
    {
     "name": "stderr",
     "output_type": "stream",
     "text": [
      "388it [05:28,  1.22it/s]"
     ]
    },
    {
     "name": "stdout",
     "output_type": "stream",
     "text": [
      "My teacher is very busy today. busy\n"
     ]
    },
    {
     "name": "stderr",
     "output_type": "stream",
     "text": [
      "389it [05:29,  1.17it/s]"
     ]
    },
    {
     "name": "stdout",
     "output_type": "stream",
     "text": [
      "생성된 문장이 규칙을 따르지 않습니다. 단어: activity\n"
     ]
    },
    {
     "name": "stderr",
     "output_type": "stream",
     "text": [
      "390it [05:29,  1.15it/s]"
     ]
    },
    {
     "name": "stdout",
     "output_type": "stream",
     "text": [
      "생성된 문장이 규칙을 따르지 않습니다. 단어: absent\n"
     ]
    },
    {
     "name": "stderr",
     "output_type": "stream",
     "text": [
      "391it [05:30,  1.16it/s]"
     ]
    },
    {
     "name": "stdout",
     "output_type": "stream",
     "text": [
      "생성된 문장이 규칙을 따르지 않습니다. 단어: activate\n"
     ]
    },
    {
     "name": "stderr",
     "output_type": "stream",
     "text": [
      "392it [05:31,  1.15it/s]"
     ]
    },
    {
     "name": "stdout",
     "output_type": "stream",
     "text": [
      "You win some, you lose some. lose\n"
     ]
    },
    {
     "name": "stderr",
     "output_type": "stream",
     "text": [
      "393it [05:32,  1.11it/s]"
     ]
    },
    {
     "name": "stdout",
     "output_type": "stream",
     "text": [
      "I’m sure I can win the board game. win\n"
     ]
    },
    {
     "name": "stderr",
     "output_type": "stream",
     "text": [
      "394it [05:33,  1.13it/s]"
     ]
    },
    {
     "name": "stdout",
     "output_type": "stream",
     "text": [
      "생성된 문장이 규칙을 따르지 않습니다. 단어: defeat\n"
     ]
    },
    {
     "name": "stderr",
     "output_type": "stream",
     "text": [
      "395it [05:34,  1.12it/s]"
     ]
    },
    {
     "name": "stdout",
     "output_type": "stream",
     "text": [
      "생성된 문장이 규칙을 따르지 않습니다. 단어: victory\n"
     ]
    },
    {
     "name": "stderr",
     "output_type": "stream",
     "text": [
      "396it [05:35,  1.13it/s]"
     ]
    },
    {
     "name": "stdout",
     "output_type": "stream",
     "text": [
      "The cheerleader cheered the boy on. cheer\n"
     ]
    },
    {
     "name": "stderr",
     "output_type": "stream",
     "text": [
      "397it [05:36,  1.12it/s]"
     ]
    },
    {
     "name": "stdout",
     "output_type": "stream",
     "text": [
      "생성된 문장이 규칙을 따르지 않습니다. 단어: score\n"
     ]
    },
    {
     "name": "stderr",
     "output_type": "stream",
     "text": [
      "398it [05:37,  1.12it/s]"
     ]
    },
    {
     "name": "stdout",
     "output_type": "stream",
     "text": [
      "생성된 문장이 규칙을 따르지 않습니다. 단어: finish\n"
     ]
    },
    {
     "name": "stderr",
     "output_type": "stream",
     "text": [
      "399it [05:37,  1.12it/s]"
     ]
    },
    {
     "name": "stdout",
     "output_type": "stream",
     "text": [
      "Everyone was against me on the soccer team. against\n"
     ]
    },
    {
     "name": "stderr",
     "output_type": "stream",
     "text": [
      "400it [05:38,  1.16it/s]"
     ]
    },
    {
     "name": "stdout",
     "output_type": "stream",
     "text": [
      "생성된 문장이 규칙을 따르지 않습니다. 단어: tie\n"
     ]
    },
    {
     "name": "stderr",
     "output_type": "stream",
     "text": [
      "401it [05:39,  1.15it/s]"
     ]
    },
    {
     "name": "stdout",
     "output_type": "stream",
     "text": [
      "The world would be better without war. war\n"
     ]
    },
    {
     "name": "stderr",
     "output_type": "stream",
     "text": [
      "402it [05:40,  1.23it/s]"
     ]
    },
    {
     "name": "stdout",
     "output_type": "stream",
     "text": [
      "생성된 문장이 규칙을 따르지 않습니다. 단어: loose\n"
     ]
    },
    {
     "name": "stderr",
     "output_type": "stream",
     "text": [
      "403it [05:41,  1.22it/s]"
     ]
    },
    {
     "name": "stdout",
     "output_type": "stream",
     "text": [
      "I dream about toys every night. dream\n"
     ]
    },
    {
     "name": "stderr",
     "output_type": "stream",
     "text": [
      "404it [05:41,  1.26it/s]"
     ]
    },
    {
     "name": "stdout",
     "output_type": "stream",
     "text": [
      "생성된 문장이 규칙을 따르지 않습니다. 단어: semifinal\n"
     ]
    },
    {
     "name": "stderr",
     "output_type": "stream",
     "text": [
      "405it [05:42,  1.20it/s]"
     ]
    },
    {
     "name": "stdout",
     "output_type": "stream",
     "text": [
      "I heard beats on the drum and hit the ball. beat\n"
     ]
    },
    {
     "name": "stderr",
     "output_type": "stream",
     "text": [
      "406it [05:43,  1.16it/s]"
     ]
    },
    {
     "name": "stdout",
     "output_type": "stream",
     "text": [
      "Don't be afraid to try and fail. fail\n"
     ]
    },
    {
     "name": "stderr",
     "output_type": "stream",
     "text": [
      "407it [05:44,  1.18it/s]"
     ]
    },
    {
     "name": "stdout",
     "output_type": "stream",
     "text": [
      "I'm shooting at my goal. goal\n"
     ]
    },
    {
     "name": "stderr",
     "output_type": "stream",
     "text": [
      "408it [05:45,  1.17it/s]"
     ]
    },
    {
     "name": "stdout",
     "output_type": "stream",
     "text": [
      "생성된 문장이 규칙을 따르지 않습니다. 단어: roll\n"
     ]
    },
    {
     "name": "stderr",
     "output_type": "stream",
     "text": [
      "409it [05:46,  1.15it/s]"
     ]
    },
    {
     "name": "stdout",
     "output_type": "stream",
     "text": [
      "생성된 문장이 규칙을 따르지 않습니다. 단어: dominate\n"
     ]
    },
    {
     "name": "stderr",
     "output_type": "stream",
     "text": [
      "410it [05:47,  1.11it/s]"
     ]
    },
    {
     "name": "stdout",
     "output_type": "stream",
     "text": [
      "생성된 문장이 규칙을 따르지 않습니다. 단어: plant\n"
     ]
    },
    {
     "name": "stderr",
     "output_type": "stream",
     "text": [
      "411it [05:48,  1.12it/s]"
     ]
    },
    {
     "name": "stdout",
     "output_type": "stream",
     "text": [
      "There is a garden in my house. garden\n"
     ]
    },
    {
     "name": "stderr",
     "output_type": "stream",
     "text": [
      "412it [05:48,  1.14it/s]"
     ]
    },
    {
     "name": "stdout",
     "output_type": "stream",
     "text": [
      "Don’t walk on the grass. grass\n"
     ]
    },
    {
     "name": "stderr",
     "output_type": "stream",
     "text": [
      "413it [05:49,  1.15it/s]"
     ]
    },
    {
     "name": "stdout",
     "output_type": "stream",
     "text": [
      "We can see his love of nature. nature\n"
     ]
    },
    {
     "name": "stderr",
     "output_type": "stream",
     "text": [
      "414it [05:50,  1.14it/s]"
     ]
    },
    {
     "name": "stdout",
     "output_type": "stream",
     "text": [
      "생성된 문장이 규칙을 따르지 않습니다. 단어: produce\n"
     ]
    },
    {
     "name": "stderr",
     "output_type": "stream",
     "text": [
      "415it [05:51,  1.20it/s]"
     ]
    },
    {
     "name": "stdout",
     "output_type": "stream",
     "text": [
      "These flowers are beautiful. flower\n"
     ]
    },
    {
     "name": "stderr",
     "output_type": "stream",
     "text": [
      "416it [05:52,  1.14it/s]"
     ]
    },
    {
     "name": "stdout",
     "output_type": "stream",
     "text": [
      "생성된 문장이 규칙을 따르지 않습니다. 단어: soil\n"
     ]
    },
    {
     "name": "stderr",
     "output_type": "stream",
     "text": [
      "417it [05:53,  1.11it/s]"
     ]
    },
    {
     "name": "stdout",
     "output_type": "stream",
     "text": [
      "생성된 문장이 규칙을 따르지 않습니다. 단어: greenhouse\n"
     ]
    },
    {
     "name": "stderr",
     "output_type": "stream",
     "text": [
      "418it [05:54,  1.15it/s]"
     ]
    },
    {
     "name": "stdout",
     "output_type": "stream",
     "text": [
      "생성된 문장이 규칙을 따르지 않습니다. 단어: space\n"
     ]
    },
    {
     "name": "stderr",
     "output_type": "stream",
     "text": [
      "419it [05:55,  1.14it/s]"
     ]
    },
    {
     "name": "stdout",
     "output_type": "stream",
     "text": [
      "We can travel by spaceship to explore space. spaceship\n"
     ]
    },
    {
     "name": "stderr",
     "output_type": "stream",
     "text": [
      "420it [05:55,  1.17it/s]"
     ]
    },
    {
     "name": "stdout",
     "output_type": "stream",
     "text": [
      "We can travel by spaceship instead. ship\n"
     ]
    },
    {
     "name": "stderr",
     "output_type": "stream",
     "text": [
      "421it [05:56,  1.22it/s]"
     ]
    },
    {
     "name": "stdout",
     "output_type": "stream",
     "text": [
      "The boat is going away now. boat\n"
     ]
    },
    {
     "name": "stderr",
     "output_type": "stream",
     "text": [
      "422it [05:57,  1.19it/s]"
     ]
    },
    {
     "name": "stdout",
     "output_type": "stream",
     "text": [
      "Let's go fishing on the island. island\n"
     ]
    },
    {
     "name": "stderr",
     "output_type": "stream",
     "text": [
      "423it [05:58,  1.20it/s]"
     ]
    },
    {
     "name": "stdout",
     "output_type": "stream",
     "text": [
      "Look at the sky, we see bees. sky\n"
     ]
    },
    {
     "name": "stderr",
     "output_type": "stream",
     "text": [
      "424it [05:59,  1.25it/s]"
     ]
    },
    {
     "name": "stdout",
     "output_type": "stream",
     "text": [
      "Look at the sea. sea\n"
     ]
    },
    {
     "name": "stderr",
     "output_type": "stream",
     "text": [
      "425it [05:59,  1.29it/s]"
     ]
    },
    {
     "name": "stdout",
     "output_type": "stream",
     "text": [
      "생성된 문장이 규칙을 따르지 않습니다. 단어: land\n"
     ]
    },
    {
     "name": "stderr",
     "output_type": "stream",
     "text": [
      "426it [06:00,  1.15it/s]"
     ]
    },
    {
     "name": "stdout",
     "output_type": "stream",
     "text": [
      "A flute is floating on the water; let's go swimming. float\n"
     ]
    },
    {
     "name": "stderr",
     "output_type": "stream",
     "text": [
      "427it [06:01,  1.20it/s]"
     ]
    },
    {
     "name": "stdout",
     "output_type": "stream",
     "text": [
      "I will be an astronaut. astronaut\n"
     ]
    },
    {
     "name": "stderr",
     "output_type": "stream",
     "text": [
      "428it [06:02,  1.24it/s]"
     ]
    },
    {
     "name": "stdout",
     "output_type": "stream",
     "text": [
      "생성된 문장이 규칙을 따르지 않습니다. 단어: rocket\n"
     ]
    },
    {
     "name": "stderr",
     "output_type": "stream",
     "text": [
      "429it [06:03,  1.19it/s]"
     ]
    },
    {
     "name": "stdout",
     "output_type": "stream",
     "text": [
      "생성된 문장이 규칙을 따르지 않습니다. 단어: matter\n"
     ]
    },
    {
     "name": "stderr",
     "output_type": "stream",
     "text": [
      "430it [06:04,  1.21it/s]"
     ]
    },
    {
     "name": "stdout",
     "output_type": "stream",
     "text": [
      "I stared at the star. star\n"
     ]
    },
    {
     "name": "stderr",
     "output_type": "stream",
     "text": [
      "431it [06:05,  1.16it/s]"
     ]
    },
    {
     "name": "stdout",
     "output_type": "stream",
     "text": [
      "Look at the moon and see its round shape. moon\n"
     ]
    },
    {
     "name": "stderr",
     "output_type": "stream",
     "text": [
      "432it [06:05,  1.18it/s]"
     ]
    },
    {
     "name": "stdout",
     "output_type": "stream",
     "text": [
      "Bring me some water, please. water\n"
     ]
    },
    {
     "name": "stderr",
     "output_type": "stream",
     "text": [
      "433it [06:06,  1.16it/s]"
     ]
    },
    {
     "name": "stdout",
     "output_type": "stream",
     "text": [
      "생성된 문장이 규칙을 따르지 않습니다. 단어: dry\n"
     ]
    },
    {
     "name": "stderr",
     "output_type": "stream",
     "text": [
      "434it [06:07,  1.21it/s]"
     ]
    },
    {
     "name": "stdout",
     "output_type": "stream",
     "text": [
      "We have rainy weather this week. weather\n"
     ]
    },
    {
     "name": "stderr",
     "output_type": "stream",
     "text": [
      "435it [06:08,  1.19it/s]"
     ]
    },
    {
     "name": "stdout",
     "output_type": "stream",
     "text": [
      "My shoes are wet because it’s raining. wet\n"
     ]
    },
    {
     "name": "stderr",
     "output_type": "stream",
     "text": [
      "436it [06:09,  1.16it/s]"
     ]
    },
    {
     "name": "stdout",
     "output_type": "stream",
     "text": [
      "It's wet today because it’s rainy. rain\n"
     ]
    },
    {
     "name": "stderr",
     "output_type": "stream",
     "text": [
      "437it [06:09,  1.22it/s]"
     ]
    },
    {
     "name": "stdout",
     "output_type": "stream",
     "text": [
      "I don’t like cloudy days. cloudy\n"
     ]
    },
    {
     "name": "stderr",
     "output_type": "stream",
     "text": [
      "438it [06:10,  1.17it/s]"
     ]
    },
    {
     "name": "stdout",
     "output_type": "stream",
     "text": [
      "It's foggy this morning and it's rainy. foggy\n"
     ]
    },
    {
     "name": "stderr",
     "output_type": "stream",
     "text": [
      "439it [06:11,  1.17it/s]"
     ]
    },
    {
     "name": "stdout",
     "output_type": "stream",
     "text": [
      "생성된 문장이 규칙을 따르지 않습니다. 단어: rainy\n"
     ]
    },
    {
     "name": "stderr",
     "output_type": "stream",
     "text": [
      "440it [06:12,  1.17it/s]"
     ]
    },
    {
     "name": "stdout",
     "output_type": "stream",
     "text": [
      "My hair is damp after the rain. damp\n"
     ]
    },
    {
     "name": "stderr",
     "output_type": "stream",
     "text": [
      "441it [06:13,  1.20it/s]"
     ]
    },
    {
     "name": "stdout",
     "output_type": "stream",
     "text": [
      "I’m eating in the desert. desert\n"
     ]
    },
    {
     "name": "stderr",
     "output_type": "stream",
     "text": [
      "442it [06:14,  1.14it/s]"
     ]
    },
    {
     "name": "stdout",
     "output_type": "stream",
     "text": [
      "He is blind and can't see very well. blind\n"
     ]
    },
    {
     "name": "stderr",
     "output_type": "stream",
     "text": [
      "443it [06:15,  1.24it/s]"
     ]
    },
    {
     "name": "stdout",
     "output_type": "stream",
     "text": [
      "생성된 문장이 규칙을 따르지 않습니다. 단어: surface\n"
     ]
    },
    {
     "name": "stderr",
     "output_type": "stream",
     "text": [
      "444it [06:15,  1.18it/s]"
     ]
    },
    {
     "name": "stdout",
     "output_type": "stream",
     "text": [
      "생성된 문장이 규칙을 따르지 않습니다. 단어: wave\n"
     ]
    },
    {
     "name": "stderr",
     "output_type": "stream",
     "text": [
      "445it [06:16,  1.15it/s]"
     ]
    },
    {
     "name": "stdout",
     "output_type": "stream",
     "text": [
      "생성된 문장이 규칙을 따르지 않습니다. 단어: sprinkle\n"
     ]
    },
    {
     "name": "stderr",
     "output_type": "stream",
     "text": [
      "446it [06:17,  1.19it/s]"
     ]
    },
    {
     "name": "stdout",
     "output_type": "stream",
     "text": [
      "생성된 문장이 규칙을 따르지 않습니다. 단어: forecast\n"
     ]
    },
    {
     "name": "stderr",
     "output_type": "stream",
     "text": [
      "447it [06:18,  1.15it/s]"
     ]
    },
    {
     "name": "stdout",
     "output_type": "stream",
     "text": [
      "The slippers on my feet are very slippery. slippery\n"
     ]
    },
    {
     "name": "stderr",
     "output_type": "stream",
     "text": [
      "448it [06:19,  1.15it/s]"
     ]
    },
    {
     "name": "stdout",
     "output_type": "stream",
     "text": [
      "Sweaters make me sweat on rainy days. sweat\n"
     ]
    },
    {
     "name": "stderr",
     "output_type": "stream",
     "text": [
      "449it [06:20,  1.16it/s]"
     ]
    },
    {
     "name": "stdout",
     "output_type": "stream",
     "text": [
      "We see the clouds in the sky. cloud\n"
     ]
    },
    {
     "name": "stderr",
     "output_type": "stream",
     "text": [
      "450it [06:21,  1.13it/s]"
     ]
    },
    {
     "name": "stdout",
     "output_type": "stream",
     "text": [
      "It's stormy in Jejudo now. stormy\n"
     ]
    },
    {
     "name": "stderr",
     "output_type": "stream",
     "text": [
      "451it [06:22,  1.10it/s]"
     ]
    },
    {
     "name": "stdout",
     "output_type": "stream",
     "text": [
      "Look! It's a lake near the park. lake\n"
     ]
    },
    {
     "name": "stderr",
     "output_type": "stream",
     "text": [
      "452it [06:23,  1.09it/s]"
     ]
    },
    {
     "name": "stdout",
     "output_type": "stream",
     "text": [
      "Look at the river, water goes through this pipe. river\n"
     ]
    },
    {
     "name": "stderr",
     "output_type": "stream",
     "text": [
      "453it [06:24,  1.11it/s]"
     ]
    },
    {
     "name": "stdout",
     "output_type": "stream",
     "text": [
      "생성된 문장이 규칙을 따르지 않습니다. 단어: soak\n"
     ]
    },
    {
     "name": "stderr",
     "output_type": "stream",
     "text": [
      "454it [06:24,  1.20it/s]"
     ]
    },
    {
     "name": "stdout",
     "output_type": "stream",
     "text": [
      "생성된 문장이 규칙을 따르지 않습니다. 단어: pour\n"
     ]
    },
    {
     "name": "stderr",
     "output_type": "stream",
     "text": [
      "455it [06:25,  1.20it/s]"
     ]
    },
    {
     "name": "stdout",
     "output_type": "stream",
     "text": [
      "The green umbrella is bigger than mine. umbrella\n"
     ]
    },
    {
     "name": "stderr",
     "output_type": "stream",
     "text": [
      "456it [06:26,  1.19it/s]"
     ]
    },
    {
     "name": "stdout",
     "output_type": "stream",
     "text": [
      "Be careful not to spill the milk. spill\n"
     ]
    },
    {
     "name": "stderr",
     "output_type": "stream",
     "text": [
      "457it [06:27,  1.20it/s]"
     ]
    },
    {
     "name": "stdout",
     "output_type": "stream",
     "text": [
      "It's clean and I cleaned my room. clean\n"
     ]
    },
    {
     "name": "stderr",
     "output_type": "stream",
     "text": [
      "458it [06:28,  1.14it/s]"
     ]
    },
    {
     "name": "stdout",
     "output_type": "stream",
     "text": [
      "Come on, you're so dirty, it's clean. dirty\n"
     ]
    },
    {
     "name": "stderr",
     "output_type": "stream",
     "text": [
      "459it [06:28,  1.19it/s]"
     ]
    },
    {
     "name": "stdout",
     "output_type": "stream",
     "text": [
      "생성된 문장이 규칙을 따르지 않습니다. 단어: wipe\n"
     ]
    },
    {
     "name": "stderr",
     "output_type": "stream",
     "text": [
      "460it [06:29,  1.18it/s]"
     ]
    },
    {
     "name": "stdout",
     "output_type": "stream",
     "text": [
      "생성된 문장이 규칙을 따르지 않습니다. 단어: clean up\n"
     ]
    },
    {
     "name": "stderr",
     "output_type": "stream",
     "text": [
      "461it [06:30,  1.25it/s]"
     ]
    },
    {
     "name": "stdout",
     "output_type": "stream",
     "text": [
      "생성된 문장이 규칙을 따르지 않습니다. 단어: clear\n"
     ]
    },
    {
     "name": "stderr",
     "output_type": "stream",
     "text": [
      "462it [06:31,  1.25it/s]"
     ]
    },
    {
     "name": "stdout",
     "output_type": "stream",
     "text": [
      "생성된 문장이 규칙을 따르지 않습니다. 단어: destroy\n"
     ]
    },
    {
     "name": "stderr",
     "output_type": "stream",
     "text": [
      "463it [06:32,  1.23it/s]"
     ]
    },
    {
     "name": "stdout",
     "output_type": "stream",
     "text": [
      "Let's scoop up the ice cream. scoop\n"
     ]
    },
    {
     "name": "stderr",
     "output_type": "stream",
     "text": [
      "464it [06:33,  1.16it/s]"
     ]
    },
    {
     "name": "stdout",
     "output_type": "stream",
     "text": [
      "He's scratching his head, don't bite your nails. scratch\n"
     ]
    },
    {
     "name": "stderr",
     "output_type": "stream",
     "text": [
      "465it [06:34,  1.13it/s]"
     ]
    },
    {
     "name": "stdout",
     "output_type": "stream",
     "text": [
      "생성된 문장이 규칙을 따르지 않습니다. 단어: infect\n"
     ]
    },
    {
     "name": "stderr",
     "output_type": "stream",
     "text": [
      "466it [06:34,  1.17it/s]"
     ]
    },
    {
     "name": "stdout",
     "output_type": "stream",
     "text": [
      "I wash my face after washing hands. wash\n"
     ]
    },
    {
     "name": "stderr",
     "output_type": "stream",
     "text": [
      "467it [06:35,  1.19it/s]"
     ]
    },
    {
     "name": "stdout",
     "output_type": "stream",
     "text": [
      "생성된 문장이 규칙을 따르지 않습니다. 단어: look after\n"
     ]
    },
    {
     "name": "stderr",
     "output_type": "stream",
     "text": [
      "468it [06:36,  1.26it/s]"
     ]
    },
    {
     "name": "stdout",
     "output_type": "stream",
     "text": [
      "Please sweep up the sweets. sweep\n"
     ]
    },
    {
     "name": "stderr",
     "output_type": "stream",
     "text": [
      "469it [06:36,  1.32it/s]"
     ]
    },
    {
     "name": "stdout",
     "output_type": "stream",
     "text": [
      "생성된 문장이 규칙을 따르지 않습니다. 단어: empty\n"
     ]
    },
    {
     "name": "stderr",
     "output_type": "stream",
     "text": [
      "470it [06:37,  1.24it/s]"
     ]
    },
    {
     "name": "stdout",
     "output_type": "stream",
     "text": [
      "The village is vacant, and my bowl is empty. vacant\n"
     ]
    },
    {
     "name": "stderr",
     "output_type": "stream",
     "text": [
      "471it [06:38,  1.21it/s]"
     ]
    },
    {
     "name": "stdout",
     "output_type": "stream",
     "text": [
      "I’m full and ready for lunch now. full\n"
     ]
    },
    {
     "name": "stderr",
     "output_type": "stream",
     "text": [
      "472it [06:39,  1.27it/s]"
     ]
    },
    {
     "name": "stdout",
     "output_type": "stream",
     "text": [
      "생성된 문장이 규칙을 따르지 않습니다. 단어: fill\n"
     ]
    },
    {
     "name": "stderr",
     "output_type": "stream",
     "text": [
      "473it [06:40,  1.21it/s]"
     ]
    },
    {
     "name": "stdout",
     "output_type": "stream",
     "text": [
      "생성된 문장이 규칙을 따르지 않습니다. 단어: same\n"
     ]
    },
    {
     "name": "stderr",
     "output_type": "stream",
     "text": [
      "474it [06:41,  1.22it/s]"
     ]
    },
    {
     "name": "stdout",
     "output_type": "stream",
     "text": [
      "생성된 문장이 규칙을 따르지 않습니다. 단어: likewise\n"
     ]
    },
    {
     "name": "stderr",
     "output_type": "stream",
     "text": [
      "475it [06:42,  1.21it/s]"
     ]
    },
    {
     "name": "stdout",
     "output_type": "stream",
     "text": [
      "생성된 문장이 규칙을 따르지 않습니다. 단어: too\n"
     ]
    },
    {
     "name": "stderr",
     "output_type": "stream",
     "text": [
      "476it [06:42,  1.26it/s]"
     ]
    },
    {
     "name": "stdout",
     "output_type": "stream",
     "text": [
      "Humans and some animals have lips. lip\n"
     ]
    },
    {
     "name": "stderr",
     "output_type": "stream",
     "text": [
      "477it [06:43,  1.27it/s]"
     ]
    },
    {
     "name": "stdout",
     "output_type": "stream",
     "text": [
      "Touch your mouth to feel your lips. mouth\n"
     ]
    },
    {
     "name": "stderr",
     "output_type": "stream",
     "text": [
      "478it [06:44,  1.27it/s]"
     ]
    },
    {
     "name": "stdout",
     "output_type": "stream",
     "text": [
      "Tomorrow is Tuesday and today is Monday. today\n"
     ]
    },
    {
     "name": "stderr",
     "output_type": "stream",
     "text": [
      "479it [06:45,  1.17it/s]"
     ]
    },
    {
     "name": "stdout",
     "output_type": "stream",
     "text": [
      "The past is important, but the future is more. past\n"
     ]
    },
    {
     "name": "stderr",
     "output_type": "stream",
     "text": [
      "480it [06:46,  1.19it/s]"
     ]
    },
    {
     "name": "stdout",
     "output_type": "stream",
     "text": [
      "생성된 문장이 규칙을 따르지 않습니다. 단어: previous\n"
     ]
    },
    {
     "name": "stderr",
     "output_type": "stream",
     "text": [
      "481it [06:46,  1.24it/s]"
     ]
    },
    {
     "name": "stdout",
     "output_type": "stream",
     "text": [
      "It's time to sleep now. now\n"
     ]
    },
    {
     "name": "stderr",
     "output_type": "stream",
     "text": [
      "482it [06:47,  1.22it/s]"
     ]
    },
    {
     "name": "stdout",
     "output_type": "stream",
     "text": [
      "생성된 문장이 규칙을 따르지 않습니다. 단어: yesterday\n"
     ]
    },
    {
     "name": "stderr",
     "output_type": "stream",
     "text": [
      "483it [06:48,  1.33it/s]"
     ]
    },
    {
     "name": "stdout",
     "output_type": "stream",
     "text": [
      "생성된 문장이 규칙을 따르지 않습니다. 단어: tomorrow\n"
     ]
    },
    {
     "name": "stderr",
     "output_type": "stream",
     "text": [
      "484it [06:48,  1.43it/s]"
     ]
    },
    {
     "name": "stdout",
     "output_type": "stream",
     "text": [
      "Today is Monday. Monday\n"
     ]
    },
    {
     "name": "stderr",
     "output_type": "stream",
     "text": [
      "485it [06:49,  1.39it/s]"
     ]
    },
    {
     "name": "stdout",
     "output_type": "stream",
     "text": [
      "Tomorrow is Tuesday because today is Monday. Tuesday\n"
     ]
    },
    {
     "name": "stderr",
     "output_type": "stream",
     "text": [
      "486it [06:50,  1.48it/s]"
     ]
    },
    {
     "name": "stdout",
     "output_type": "stream",
     "text": [
      "생성된 문장이 규칙을 따르지 않습니다. 단어: Wednesday\n"
     ]
    },
    {
     "name": "stderr",
     "output_type": "stream",
     "text": [
      "487it [06:50,  1.80it/s]"
     ]
    },
    {
     "name": "stdout",
     "output_type": "stream",
     "text": [
      "생성된 문장이 규칙을 따르지 않습니다. 단어: Thursday\n"
     ]
    },
    {
     "name": "stderr",
     "output_type": "stream",
     "text": [
      "488it [06:51,  1.77it/s]"
     ]
    },
    {
     "name": "stdout",
     "output_type": "stream",
     "text": [
      "생성된 문장이 규칙을 따르지 않습니다. 단어: Friday\n"
     ]
    },
    {
     "name": "stderr",
     "output_type": "stream",
     "text": [
      "489it [06:51,  1.75it/s]"
     ]
    },
    {
     "name": "stdout",
     "output_type": "stream",
     "text": [
      "생성된 문장이 규칙을 따르지 않습니다. 단어: Saturday\n"
     ]
    },
    {
     "name": "stderr",
     "output_type": "stream",
     "text": [
      "490it [06:52,  1.60it/s]"
     ]
    },
    {
     "name": "stdout",
     "output_type": "stream",
     "text": [
      "Yesterday was Sunday, today is Monday. Sunday\n"
     ]
    },
    {
     "name": "stderr",
     "output_type": "stream",
     "text": [
      "491it [06:53,  1.48it/s]"
     ]
    },
    {
     "name": "stdout",
     "output_type": "stream",
     "text": [
      "생성된 문장이 규칙을 따르지 않습니다. 단어: week\n"
     ]
    },
    {
     "name": "stderr",
     "output_type": "stream",
     "text": [
      "492it [06:54,  1.40it/s]"
     ]
    },
    {
     "name": "stdout",
     "output_type": "stream",
     "text": [
      "We enjoy leisure activities on weekends. weekend\n"
     ]
    },
    {
     "name": "stderr",
     "output_type": "stream",
     "text": [
      "493it [06:54,  1.31it/s]"
     ]
    },
    {
     "name": "stdout",
     "output_type": "stream",
     "text": [
      "생성된 문장이 규칙을 따르지 않습니다. 단어: ago\n"
     ]
    },
    {
     "name": "stderr",
     "output_type": "stream",
     "text": [
      "494it [06:55,  1.27it/s]"
     ]
    },
    {
     "name": "stdout",
     "output_type": "stream",
     "text": [
      "생성된 문장이 규칙을 따르지 않습니다. 단어: tonight\n"
     ]
    },
    {
     "name": "stderr",
     "output_type": "stream",
     "text": [
      "495it [06:56,  1.19it/s]"
     ]
    },
    {
     "name": "stdout",
     "output_type": "stream",
     "text": [
      "I will be a scientist in the future. future\n"
     ]
    },
    {
     "name": "stderr",
     "output_type": "stream",
     "text": [
      "496it [06:57,  1.18it/s]"
     ]
    },
    {
     "name": "stdout",
     "output_type": "stream",
     "text": [
      "생성된 문장이 규칙을 따르지 않습니다. 단어: date\n"
     ]
    },
    {
     "name": "stderr",
     "output_type": "stream",
     "text": [
      "497it [06:58,  1.24it/s]"
     ]
    },
    {
     "name": "stdout",
     "output_type": "stream",
     "text": [
      "생성된 문장이 규칙을 따르지 않습니다. 단어: ahead\n"
     ]
    },
    {
     "name": "stderr",
     "output_type": "stream",
     "text": [
      "498it [06:59,  1.28it/s]"
     ]
    },
    {
     "name": "stdout",
     "output_type": "stream",
     "text": [
      "What day is it today Mom. day\n"
     ]
    },
    {
     "name": "stderr",
     "output_type": "stream",
     "text": [
      "499it [07:00,  1.03it/s]"
     ]
    },
    {
     "name": "stdout",
     "output_type": "stream",
     "text": [
      "He is from China. \n",
      "\n",
      "The source of my writing is a set of strict guidelines provided by you. from\n"
     ]
    },
    {
     "name": "stderr",
     "output_type": "stream",
     "text": [
      "500it [07:01,  1.06it/s]"
     ]
    },
    {
     "name": "stdout",
     "output_type": "stream",
     "text": [
      "생성된 문장이 규칙을 따르지 않습니다. 단어: biweekly\n"
     ]
    },
    {
     "name": "stderr",
     "output_type": "stream",
     "text": [
      "501it [07:02,  1.12it/s]"
     ]
    },
    {
     "name": "stdout",
     "output_type": "stream",
     "text": [
      "Let's go there later. later\n"
     ]
    },
    {
     "name": "stderr",
     "output_type": "stream",
     "text": [
      "502it [07:02,  1.14it/s]"
     ]
    },
    {
     "name": "stdout",
     "output_type": "stream",
     "text": [
      "생성된 문장이 규칙을 따르지 않습니다. 단어: off\n"
     ]
    },
    {
     "name": "stderr",
     "output_type": "stream",
     "text": [
      "503it [07:03,  1.15it/s]"
     ]
    },
    {
     "name": "stdout",
     "output_type": "stream",
     "text": [
      "I saw her picture in the magazine. magazine\n"
     ]
    },
    {
     "name": "stderr",
     "output_type": "stream",
     "text": [
      "504it [07:04,  1.16it/s]"
     ]
    },
    {
     "name": "stdout",
     "output_type": "stream",
     "text": [
      "My sister reads the newspaper every morning. newspaper\n"
     ]
    },
    {
     "name": "stderr",
     "output_type": "stream",
     "text": [
      "505it [07:05,  1.16it/s]"
     ]
    },
    {
     "name": "stdout",
     "output_type": "stream",
     "text": [
      "The news surprised me very much today. news\n"
     ]
    },
    {
     "name": "stderr",
     "output_type": "stream",
     "text": [
      "506it [07:06,  1.19it/s]"
     ]
    },
    {
     "name": "stdout",
     "output_type": "stream",
     "text": [
      "I can remember your phone number. remember\n"
     ]
    },
    {
     "name": "stderr",
     "output_type": "stream",
     "text": [
      "507it [07:07,  1.17it/s]"
     ]
    },
    {
     "name": "stdout",
     "output_type": "stream",
     "text": [
      "Let's forgive and forget what happened yesterday. forget\n"
     ]
    },
    {
     "name": "stderr",
     "output_type": "stream",
     "text": [
      "508it [07:07,  1.20it/s]"
     ]
    },
    {
     "name": "stdout",
     "output_type": "stream",
     "text": [
      "생성된 문장이 규칙을 따르지 않습니다. 단어: memorize\n"
     ]
    },
    {
     "name": "stderr",
     "output_type": "stream",
     "text": [
      "509it [07:08,  1.28it/s]"
     ]
    },
    {
     "name": "stdout",
     "output_type": "stream",
     "text": [
      "생성된 문장이 규칙을 따르지 않습니다. 단어: beef\n"
     ]
    },
    {
     "name": "stderr",
     "output_type": "stream",
     "text": [
      "510it [07:09,  1.25it/s]"
     ]
    },
    {
     "name": "stdout",
     "output_type": "stream",
     "text": [
      "We sell steak and other types of meat. meat\n"
     ]
    },
    {
     "name": "stderr",
     "output_type": "stream",
     "text": [
      "511it [07:10,  1.27it/s]"
     ]
    },
    {
     "name": "stdout",
     "output_type": "stream",
     "text": [
      "We like steak and want some beef. steak\n"
     ]
    },
    {
     "name": "stderr",
     "output_type": "stream",
     "text": [
      "512it [07:11,  1.24it/s]"
     ]
    },
    {
     "name": "stdout",
     "output_type": "stream",
     "text": [
      "They see the deer in the zoo. deer\n"
     ]
    },
    {
     "name": "stderr",
     "output_type": "stream",
     "text": [
      "513it [07:11,  1.28it/s]"
     ]
    },
    {
     "name": "stdout",
     "output_type": "stream",
     "text": [
      "생성된 문장이 규칙을 따르지 않습니다. 단어: roast\n"
     ]
    },
    {
     "name": "stderr",
     "output_type": "stream",
     "text": [
      "514it [07:12,  1.26it/s]"
     ]
    },
    {
     "name": "stdout",
     "output_type": "stream",
     "text": [
      "Look! I have one cow. cow\n"
     ]
    },
    {
     "name": "stderr",
     "output_type": "stream",
     "text": [
      "515it [07:13,  1.33it/s]"
     ]
    },
    {
     "name": "stdout",
     "output_type": "stream",
     "text": [
      "I like hamburgers. hamburger\n"
     ]
    },
    {
     "name": "stderr",
     "output_type": "stream",
     "text": [
      "516it [07:14,  1.30it/s]"
     ]
    },
    {
     "name": "stdout",
     "output_type": "stream",
     "text": [
      "I need a knife and some scissors nearby. knife\n"
     ]
    },
    {
     "name": "stderr",
     "output_type": "stream",
     "text": [
      "517it [07:14,  1.27it/s]"
     ]
    },
    {
     "name": "stdout",
     "output_type": "stream",
     "text": [
      "Here are scissors. Be careful with them. scissors\n"
     ]
    },
    {
     "name": "stderr",
     "output_type": "stream",
     "text": [
      "518it [07:15,  1.32it/s]"
     ]
    },
    {
     "name": "stdout",
     "output_type": "stream",
     "text": [
      "생성된 문장이 규칙을 따르지 않습니다. 단어: cut\n"
     ]
    },
    {
     "name": "stderr",
     "output_type": "stream",
     "text": [
      "519it [07:16,  1.27it/s]"
     ]
    },
    {
     "name": "stdout",
     "output_type": "stream",
     "text": [
      "생성된 문장이 규칙을 따르지 않습니다. 단어: gun\n"
     ]
    },
    {
     "name": "stderr",
     "output_type": "stream",
     "text": [
      "520it [07:17,  1.22it/s]"
     ]
    },
    {
     "name": "stdout",
     "output_type": "stream",
     "text": [
      "Fencing is a sport using a sword. sword\n"
     ]
    },
    {
     "name": "stderr",
     "output_type": "stream",
     "text": [
      "521it [07:18,  1.17it/s]"
     ]
    },
    {
     "name": "stdout",
     "output_type": "stream",
     "text": [
      "Guns and swords are weapons of war. weapon\n"
     ]
    },
    {
     "name": "stderr",
     "output_type": "stream",
     "text": [
      "522it [07:19,  1.16it/s]"
     ]
    },
    {
     "name": "stdout",
     "output_type": "stream",
     "text": [
      "생성된 문장이 규칙을 따르지 않습니다. 단어: slice\n"
     ]
    },
    {
     "name": "stderr",
     "output_type": "stream",
     "text": [
      "523it [07:19,  1.22it/s]"
     ]
    },
    {
     "name": "stdout",
     "output_type": "stream",
     "text": [
      "생성된 문장이 규칙을 따르지 않습니다. 단어: tempered\n"
     ]
    },
    {
     "name": "stderr",
     "output_type": "stream",
     "text": [
      "524it [07:20,  1.19it/s]"
     ]
    },
    {
     "name": "stdout",
     "output_type": "stream",
     "text": [
      "생성된 문장이 규칙을 따르지 않습니다. 단어: without\n"
     ]
    },
    {
     "name": "stderr",
     "output_type": "stream",
     "text": [
      "525it [07:21,  1.19it/s]"
     ]
    },
    {
     "name": "stdout",
     "output_type": "stream",
     "text": [
      "생성된 문장이 규칙을 따르지 않습니다. 단어: line\n"
     ]
    },
    {
     "name": "stderr",
     "output_type": "stream",
     "text": [
      "526it [07:22,  1.10it/s]"
     ]
    },
    {
     "name": "stdout",
     "output_type": "stream",
     "text": [
      "I poked it with a fork and found it’s a spoon. fork\n"
     ]
    },
    {
     "name": "stderr",
     "output_type": "stream",
     "text": [
      "527it [07:23,  1.13it/s]"
     ]
    },
    {
     "name": "stdout",
     "output_type": "stream",
     "text": [
      "People are afraid of the big bomb. bomb\n"
     ]
    },
    {
     "name": "stderr",
     "output_type": "stream",
     "text": [
      "528it [07:24,  1.15it/s]"
     ]
    },
    {
     "name": "stdout",
     "output_type": "stream",
     "text": [
      "I’m carrying some cans in my bag. carry\n"
     ]
    },
    {
     "name": "stderr",
     "output_type": "stream",
     "text": [
      "529it [07:25,  1.17it/s]"
     ]
    },
    {
     "name": "stdout",
     "output_type": "stream",
     "text": [
      "You should lock your locker and close door. lock\n"
     ]
    },
    {
     "name": "stderr",
     "output_type": "stream",
     "text": [
      "530it [07:26,  1.15it/s]"
     ]
    },
    {
     "name": "stdout",
     "output_type": "stream",
     "text": [
      "You should divide the pizza into eight pieces. piece\n"
     ]
    },
    {
     "name": "stderr",
     "output_type": "stream",
     "text": [
      "531it [07:27,  1.09it/s]"
     ]
    },
    {
     "name": "stdout",
     "output_type": "stream",
     "text": [
      "Squares, circles, and triangles are all shapes. shape\n"
     ]
    },
    {
     "name": "stderr",
     "output_type": "stream",
     "text": [
      "532it [07:27,  1.10it/s]"
     ]
    },
    {
     "name": "stdout",
     "output_type": "stream",
     "text": [
      "Time flies like an arrow while I shoot. arrow\n"
     ]
    },
    {
     "name": "stderr",
     "output_type": "stream",
     "text": [
      "533it [07:28,  1.12it/s]"
     ]
    },
    {
     "name": "stdout",
     "output_type": "stream",
     "text": [
      "생성된 문장이 규칙을 따르지 않습니다. 단어: saw\n"
     ]
    },
    {
     "name": "stderr",
     "output_type": "stream",
     "text": [
      "534it [07:29,  1.13it/s]"
     ]
    },
    {
     "name": "stdout",
     "output_type": "stream",
     "text": [
      "생성된 문장이 규칙을 따르지 않습니다. 단어: drag\n"
     ]
    },
    {
     "name": "stderr",
     "output_type": "stream",
     "text": [
      "535it [07:30,  1.14it/s]"
     ]
    },
    {
     "name": "stdout",
     "output_type": "stream",
     "text": [
      "생성된 문장이 규칙을 따르지 않습니다. 단어: pin\n"
     ]
    },
    {
     "name": "stderr",
     "output_type": "stream",
     "text": [
      "536it [07:31,  1.15it/s]"
     ]
    },
    {
     "name": "stdout",
     "output_type": "stream",
     "text": [
      "He is about to twist his legs. twist\n"
     ]
    },
    {
     "name": "stderr",
     "output_type": "stream",
     "text": [
      "537it [07:32,  1.18it/s]"
     ]
    },
    {
     "name": "stdout",
     "output_type": "stream",
     "text": [
      "Look at my shadow on the ground. shadow\n"
     ]
    },
    {
     "name": "stderr",
     "output_type": "stream",
     "text": [
      "538it [07:33,  1.17it/s]"
     ]
    },
    {
     "name": "stdout",
     "output_type": "stream",
     "text": [
      "I can stop the bleeding by pressing it gently. bleed\n"
     ]
    },
    {
     "name": "stderr",
     "output_type": "stream",
     "text": [
      "539it [07:33,  1.16it/s]"
     ]
    },
    {
     "name": "stdout",
     "output_type": "stream",
     "text": [
      "This candle is cheap and it's your balloon. candle\n"
     ]
    },
    {
     "name": "stderr",
     "output_type": "stream",
     "text": [
      "540it [07:34,  1.20it/s]"
     ]
    },
    {
     "name": "stdout",
     "output_type": "stream",
     "text": [
      "생성된 문장이 규칙을 따르지 않습니다. 단어: wound\n"
     ]
    },
    {
     "name": "stderr",
     "output_type": "stream",
     "text": [
      "541it [07:35,  1.19it/s]"
     ]
    },
    {
     "name": "stdout",
     "output_type": "stream",
     "text": [
      "A bag is by the pink lamp. lamp\n"
     ]
    },
    {
     "name": "stderr",
     "output_type": "stream",
     "text": [
      "542it [07:36,  1.28it/s]"
     ]
    },
    {
     "name": "stdout",
     "output_type": "stream",
     "text": [
      "Here is my card. card\n"
     ]
    },
    {
     "name": "stderr",
     "output_type": "stream",
     "text": [
      "543it [07:37,  1.20it/s]"
     ]
    },
    {
     "name": "stdout",
     "output_type": "stream",
     "text": [
      "Hockey players use this stick on the board. stick\n"
     ]
    },
    {
     "name": "stderr",
     "output_type": "stream",
     "text": [
      "544it [07:38,  1.18it/s]"
     ]
    },
    {
     "name": "stdout",
     "output_type": "stream",
     "text": [
      "생성된 문장이 규칙을 따르지 않습니다. 단어: plastic\n"
     ]
    },
    {
     "name": "stderr",
     "output_type": "stream",
     "text": [
      "545it [07:38,  1.16it/s]"
     ]
    },
    {
     "name": "stdout",
     "output_type": "stream",
     "text": [
      "The police disarmed him of his gun. disarm\n"
     ]
    },
    {
     "name": "stderr",
     "output_type": "stream",
     "text": [
      "546it [07:39,  1.14it/s]"
     ]
    },
    {
     "name": "stdout",
     "output_type": "stream",
     "text": [
      "Here is a pencil case belonging to Jack. case\n"
     ]
    },
    {
     "name": "stderr",
     "output_type": "stream",
     "text": [
      "547it [07:40,  1.15it/s]"
     ]
    },
    {
     "name": "stdout",
     "output_type": "stream",
     "text": [
      "There is a mirror on the wall. mirror\n"
     ]
    },
    {
     "name": "stderr",
     "output_type": "stream",
     "text": [
      "548it [07:41,  1.20it/s]"
     ]
    },
    {
     "name": "stdout",
     "output_type": "stream",
     "text": [
      "생성된 문장이 규칙을 따르지 않습니다. 단어: alternative\n"
     ]
    },
    {
     "name": "stderr",
     "output_type": "stream",
     "text": [
      "549it [07:42,  1.21it/s]"
     ]
    },
    {
     "name": "stdout",
     "output_type": "stream",
     "text": [
      "Let's switch the switches and turn right. switch\n"
     ]
    },
    {
     "name": "stderr",
     "output_type": "stream",
     "text": [
      "550it [07:43,  1.16it/s]"
     ]
    },
    {
     "name": "stdout",
     "output_type": "stream",
     "text": [
      "I found a new method to train my team. method\n"
     ]
    },
    {
     "name": "stderr",
     "output_type": "stream",
     "text": [
      "551it [07:44,  1.16it/s]"
     ]
    },
    {
     "name": "stdout",
     "output_type": "stream",
     "text": [
      "Come inside my house and use restroom. inside\n"
     ]
    },
    {
     "name": "stderr",
     "output_type": "stream",
     "text": [
      "552it [07:44,  1.16it/s]"
     ]
    },
    {
     "name": "stdout",
     "output_type": "stream",
     "text": [
      "생성된 문장이 규칙을 따르지 않습니다. 단어: inward\n"
     ]
    },
    {
     "name": "stderr",
     "output_type": "stream",
     "text": [
      "553it [07:45,  1.15it/s]"
     ]
    },
    {
     "name": "stdout",
     "output_type": "stream",
     "text": [
      "The sink is new and full of dishes. sink\n"
     ]
    },
    {
     "name": "stderr",
     "output_type": "stream",
     "text": [
      "554it [07:46,  1.18it/s]"
     ]
    },
    {
     "name": "stdout",
     "output_type": "stream",
     "text": [
      "They drained the water from the pool. drain\n"
     ]
    },
    {
     "name": "stderr",
     "output_type": "stream",
     "text": [
      "555it [07:47,  1.17it/s]"
     ]
    },
    {
     "name": "stdout",
     "output_type": "stream",
     "text": [
      "A pig is digging in the garden. dig\n"
     ]
    },
    {
     "name": "stderr",
     "output_type": "stream",
     "text": [
      "556it [07:48,  1.16it/s]"
     ]
    },
    {
     "name": "stdout",
     "output_type": "stream",
     "text": [
      "생성된 문장이 규칙을 따르지 않습니다. 단어: flow\n"
     ]
    },
    {
     "name": "stderr",
     "output_type": "stream",
     "text": [
      "557it [07:49,  1.15it/s]"
     ]
    },
    {
     "name": "stdout",
     "output_type": "stream",
     "text": [
      "생성된 문장이 규칙을 따르지 않습니다. 단어: bury\n"
     ]
    },
    {
     "name": "stderr",
     "output_type": "stream",
     "text": [
      "558it [07:50,  1.17it/s]"
     ]
    },
    {
     "name": "stdout",
     "output_type": "stream",
     "text": [
      "What a surprise! Is my grandma coming. surprise\n"
     ]
    },
    {
     "name": "stderr",
     "output_type": "stream",
     "text": [
      "559it [07:50,  1.24it/s]"
     ]
    },
    {
     "name": "stdout",
     "output_type": "stream",
     "text": [
      "생성된 문장이 규칙을 따르지 않습니다. 단어: surprising\n"
     ]
    },
    {
     "name": "stderr",
     "output_type": "stream",
     "text": [
      "560it [07:51,  1.28it/s]"
     ]
    },
    {
     "name": "stdout",
     "output_type": "stream",
     "text": [
      "The news surprised me very much. surprised\n"
     ]
    },
    {
     "name": "stderr",
     "output_type": "stream",
     "text": [
      "561it [07:52,  1.23it/s]"
     ]
    },
    {
     "name": "stdout",
     "output_type": "stream",
     "text": [
      "There is a toilet in the bathroom. toilet\n"
     ]
    },
    {
     "name": "stderr",
     "output_type": "stream",
     "text": [
      "562it [07:53,  1.21it/s]"
     ]
    },
    {
     "name": "stdout",
     "output_type": "stream",
     "text": [
      "생성된 문장이 규칙을 따르지 않습니다. 단어: restroom\n"
     ]
    },
    {
     "name": "stderr",
     "output_type": "stream",
     "text": [
      "563it [07:53,  1.38it/s]"
     ]
    },
    {
     "name": "stdout",
     "output_type": "stream",
     "text": [
      "There is a toilet in the bathroom. bathroom\n"
     ]
    },
    {
     "name": "stderr",
     "output_type": "stream",
     "text": [
      "564it [07:54,  1.34it/s]"
     ]
    },
    {
     "name": "stdout",
     "output_type": "stream",
     "text": [
      "The washroom is clean and has toilets. washroom\n"
     ]
    },
    {
     "name": "stderr",
     "output_type": "stream",
     "text": [
      "565it [07:55,  1.31it/s]"
     ]
    },
    {
     "name": "stdout",
     "output_type": "stream",
     "text": [
      "My cat is in the bathtub. bathtub\n"
     ]
    },
    {
     "name": "stderr",
     "output_type": "stream",
     "text": [
      "566it [07:56,  1.27it/s]"
     ]
    },
    {
     "name": "stdout",
     "output_type": "stream",
     "text": [
      "생성된 문장이 규칙을 따르지 않습니다. 단어: take a shower\n"
     ]
    },
    {
     "name": "stderr",
     "output_type": "stream",
     "text": [
      "567it [07:56,  1.33it/s]"
     ]
    },
    {
     "name": "stdout",
     "output_type": "stream",
     "text": [
      "생성된 문장이 규칙을 따르지 않습니다. 단어: welcome\n"
     ]
    },
    {
     "name": "stderr",
     "output_type": "stream",
     "text": [
      "568it [07:58,  1.03s/it]"
     ]
    },
    {
     "name": "stdout",
     "output_type": "stream",
     "text": [
      "생성된 문장이 규칙을 따르지 않습니다. 단어: anytime\n"
     ]
    },
    {
     "name": "stderr",
     "output_type": "stream",
     "text": [
      "569it [07:59,  1.02s/it]"
     ]
    },
    {
     "name": "stdout",
     "output_type": "stream",
     "text": [
      "I’m sorry, but I have to cancel the order. cancel\n"
     ]
    },
    {
     "name": "stderr",
     "output_type": "stream",
     "text": [
      "570it [08:00,  1.05it/s]"
     ]
    },
    {
     "name": "stdout",
     "output_type": "stream",
     "text": [
      "생성된 문장이 규칙을 따르지 않습니다. 단어: dismiss\n"
     ]
    },
    {
     "name": "stderr",
     "output_type": "stream",
     "text": [
      "571it [08:01,  1.05it/s]"
     ]
    },
    {
     "name": "stdout",
     "output_type": "stream",
     "text": [
      "생성된 문장이 규칙을 따르지 않습니다. 단어: postpone\n"
     ]
    },
    {
     "name": "stderr",
     "output_type": "stream",
     "text": [
      "572it [08:02,  1.08it/s]"
     ]
    },
    {
     "name": "stdout",
     "output_type": "stream",
     "text": [
      "They are my new clothes at home. clothes\n"
     ]
    },
    {
     "name": "stderr",
     "output_type": "stream",
     "text": [
      "573it [08:02,  1.10it/s]"
     ]
    },
    {
     "name": "stdout",
     "output_type": "stream",
     "text": [
      "My dad's blue shorts are his jeans. shorts\n"
     ]
    },
    {
     "name": "stderr",
     "output_type": "stream",
     "text": [
      "574it [08:03,  1.21it/s]"
     ]
    },
    {
     "name": "stdout",
     "output_type": "stream",
     "text": [
      "These are his jeans. jeans\n"
     ]
    },
    {
     "name": "stderr",
     "output_type": "stream",
     "text": [
      "575it [08:04,  1.14it/s]"
     ]
    },
    {
     "name": "stdout",
     "output_type": "stream",
     "text": [
      "She blew her nose into her handkerchief. handkerchief\n"
     ]
    },
    {
     "name": "stderr",
     "output_type": "stream",
     "text": [
      "576it [08:05,  1.11it/s]"
     ]
    },
    {
     "name": "stdout",
     "output_type": "stream",
     "text": [
      "This towel feels soft, go and get one. towel\n"
     ]
    },
    {
     "name": "stderr",
     "output_type": "stream",
     "text": [
      "577it [08:06,  1.21it/s]"
     ]
    },
    {
     "name": "stdout",
     "output_type": "stream",
     "text": [
      "They are her pants. pants\n"
     ]
    },
    {
     "name": "stderr",
     "output_type": "stream",
     "text": [
      "578it [08:06,  1.29it/s]"
     ]
    },
    {
     "name": "stdout",
     "output_type": "stream",
     "text": [
      "They are my clothes. cloth\n"
     ]
    },
    {
     "name": "stderr",
     "output_type": "stream",
     "text": [
      "579it [08:07,  1.25it/s]"
     ]
    },
    {
     "name": "stdout",
     "output_type": "stream",
     "text": [
      "Your new dress fits very well now. dress\n"
     ]
    },
    {
     "name": "stderr",
     "output_type": "stream",
     "text": [
      "580it [08:08,  1.25it/s]"
     ]
    },
    {
     "name": "stdout",
     "output_type": "stream",
     "text": [
      "The pocket is small in my bag. pocket\n"
     ]
    },
    {
     "name": "stderr",
     "output_type": "stream",
     "text": [
      "581it [08:09,  1.21it/s]"
     ]
    },
    {
     "name": "stdout",
     "output_type": "stream",
     "text": [
      "I need some scissors to tie this ribbon. ribbon\n"
     ]
    },
    {
     "name": "stderr",
     "output_type": "stream",
     "text": [
      "582it [08:10,  1.23it/s]"
     ]
    },
    {
     "name": "stdout",
     "output_type": "stream",
     "text": [
      "The zipper is long on my bag. zipper\n"
     ]
    },
    {
     "name": "stderr",
     "output_type": "stream",
     "text": [
      "583it [08:11,  1.20it/s]"
     ]
    },
    {
     "name": "stdout",
     "output_type": "stream",
     "text": [
      "생성된 문장이 규칙을 따르지 않습니다. 단어: fold\n"
     ]
    },
    {
     "name": "stderr",
     "output_type": "stream",
     "text": [
      "584it [08:12,  1.16it/s]"
     ]
    },
    {
     "name": "stdout",
     "output_type": "stream",
     "text": [
      "생성된 문장이 규칙을 따르지 않습니다. 단어: pattern\n"
     ]
    },
    {
     "name": "stderr",
     "output_type": "stream",
     "text": [
      "585it [08:12,  1.18it/s]"
     ]
    },
    {
     "name": "stdout",
     "output_type": "stream",
     "text": [
      "Could you wrap this, please? wrap\n"
     ]
    },
    {
     "name": "stderr",
     "output_type": "stream",
     "text": [
      "586it [08:13,  1.21it/s]"
     ]
    },
    {
     "name": "stdout",
     "output_type": "stream",
     "text": [
      "생성된 문장이 규칙을 따르지 않습니다. 단어: skirt\n"
     ]
    },
    {
     "name": "stderr",
     "output_type": "stream",
     "text": [
      "587it [08:14,  1.23it/s]"
     ]
    },
    {
     "name": "stdout",
     "output_type": "stream",
     "text": [
      "It is made from natural materials. material\n"
     ]
    },
    {
     "name": "stderr",
     "output_type": "stream",
     "text": [
      "588it [08:15,  1.21it/s]"
     ]
    },
    {
     "name": "stdout",
     "output_type": "stream",
     "text": [
      "생성된 문장이 규칙을 따르지 않습니다. 단어: tape\n"
     ]
    },
    {
     "name": "stderr",
     "output_type": "stream",
     "text": [
      "589it [08:15,  1.31it/s]"
     ]
    },
    {
     "name": "stdout",
     "output_type": "stream",
     "text": [
      "I want spaghetti. spaghetti\n"
     ]
    },
    {
     "name": "stderr",
     "output_type": "stream",
     "text": [
      "590it [08:16,  1.30it/s]"
     ]
    },
    {
     "name": "stdout",
     "output_type": "stream",
     "text": [
      "There are stains on the brown bowl. stain\n"
     ]
    },
    {
     "name": "stderr",
     "output_type": "stream",
     "text": [
      "591it [08:17,  1.37it/s]"
     ]
    },
    {
     "name": "stdout",
     "output_type": "stream",
     "text": [
      "Your gloves are big. gloves\n"
     ]
    },
    {
     "name": "stderr",
     "output_type": "stream",
     "text": [
      "592it [08:18,  1.31it/s]"
     ]
    },
    {
     "name": "stdout",
     "output_type": "stream",
     "text": [
      "His pajamas are small and her pants. pajamas\n"
     ]
    },
    {
     "name": "stderr",
     "output_type": "stream",
     "text": [
      "593it [08:19,  1.24it/s]"
     ]
    },
    {
     "name": "stdout",
     "output_type": "stream",
     "text": [
      "생성된 문장이 규칙을 따르지 않습니다. 단어: cost\n"
     ]
    },
    {
     "name": "stderr",
     "output_type": "stream",
     "text": [
      "594it [08:19,  1.21it/s]"
     ]
    },
    {
     "name": "stdout",
     "output_type": "stream",
     "text": [
      "The pencils are very cheap this year. cheap\n"
     ]
    },
    {
     "name": "stderr",
     "output_type": "stream",
     "text": [
      "595it [08:20,  1.20it/s]"
     ]
    },
    {
     "name": "stdout",
     "output_type": "stream",
     "text": [
      "The teddy bear is too expensive. expensive\n"
     ]
    },
    {
     "name": "stderr",
     "output_type": "stream",
     "text": [
      "596it [08:21,  1.17it/s]"
     ]
    },
    {
     "name": "stdout",
     "output_type": "stream",
     "text": [
      "The price of the watch is $50. price\n"
     ]
    },
    {
     "name": "stderr",
     "output_type": "stream",
     "text": [
      "597it [08:22,  1.17it/s]"
     ]
    },
    {
     "name": "stdout",
     "output_type": "stream",
     "text": [
      "생성된 문장이 규칙을 따르지 않습니다. 단어: budget\n"
     ]
    },
    {
     "name": "stderr",
     "output_type": "stream",
     "text": [
      "598it [08:23,  1.23it/s]"
     ]
    },
    {
     "name": "stdout",
     "output_type": "stream",
     "text": [
      "생성된 문장이 규칙을 따르지 않습니다. 단어: priceless\n"
     ]
    },
    {
     "name": "stderr",
     "output_type": "stream",
     "text": [
      "599it [08:24,  1.17it/s]"
     ]
    },
    {
     "name": "stdout",
     "output_type": "stream",
     "text": [
      "생성된 문장이 규칙을 따르지 않습니다. 단어: dollar\n"
     ]
    },
    {
     "name": "stderr",
     "output_type": "stream",
     "text": [
      "600it [08:25,  1.12it/s]"
     ]
    },
    {
     "name": "stdout",
     "output_type": "stream",
     "text": [
      "Mr. Snow is free today and I'm happy. free\n"
     ]
    },
    {
     "name": "stderr",
     "output_type": "stream",
     "text": [
      "601it [08:26,  1.11it/s]"
     ]
    },
    {
     "name": "stdout",
     "output_type": "stream",
     "text": [
      "I can’t see anything without my glasses. glasses\n"
     ]
    },
    {
     "name": "stderr",
     "output_type": "stream",
     "text": [
      "602it [08:26,  1.15it/s]"
     ]
    },
    {
     "name": "stdout",
     "output_type": "stream",
     "text": [
      "I’m looking for sunglasses. sunglasses\n"
     ]
    },
    {
     "name": "stderr",
     "output_type": "stream",
     "text": [
      "603it [08:27,  1.20it/s]"
     ]
    },
    {
     "name": "stdout",
     "output_type": "stream",
     "text": [
      "Do you need a glass? glass\n"
     ]
    },
    {
     "name": "stderr",
     "output_type": "stream",
     "text": [
      "604it [08:28,  1.27it/s]"
     ]
    },
    {
     "name": "stdout",
     "output_type": "stream",
     "text": [
      "생성된 문장이 규칙을 따르지 않습니다. 단어: rich\n"
     ]
    },
    {
     "name": "stderr",
     "output_type": "stream",
     "text": [
      "605it [08:29,  1.21it/s]"
     ]
    },
    {
     "name": "stdout",
     "output_type": "stream",
     "text": [
      "생성된 문장이 규칙을 따르지 않습니다. 단어: cash\n"
     ]
    },
    {
     "name": "stderr",
     "output_type": "stream",
     "text": [
      "606it [08:30,  1.21it/s]"
     ]
    },
    {
     "name": "stdout",
     "output_type": "stream",
     "text": [
      "Good health is better than wealth always. wealth\n"
     ]
    },
    {
     "name": "stderr",
     "output_type": "stream",
     "text": [
      "607it [08:31,  1.15it/s]"
     ]
    },
    {
     "name": "stdout",
     "output_type": "stream",
     "text": [
      "생성된 문장이 규칙을 따르지 않습니다. 단어: money\n"
     ]
    },
    {
     "name": "stderr",
     "output_type": "stream",
     "text": [
      "608it [08:31,  1.23it/s]"
     ]
    },
    {
     "name": "stdout",
     "output_type": "stream",
     "text": [
      "생성된 문장이 규칙을 따르지 않습니다. 단어: greedy\n"
     ]
    },
    {
     "name": "stderr",
     "output_type": "stream",
     "text": [
      "609it [08:32,  1.19it/s]"
     ]
    },
    {
     "name": "stdout",
     "output_type": "stream",
     "text": [
      "I should pay these bills this month. pay\n"
     ]
    },
    {
     "name": "stderr",
     "output_type": "stream",
     "text": [
      "610it [08:33,  1.17it/s]"
     ]
    },
    {
     "name": "stdout",
     "output_type": "stream",
     "text": [
      "생성된 문장이 규칙을 따르지 않습니다. 단어: economy\n"
     ]
    },
    {
     "name": "stderr",
     "output_type": "stream",
     "text": [
      "611it [08:34,  1.19it/s]"
     ]
    },
    {
     "name": "stdout",
     "output_type": "stream",
     "text": [
      "생성된 문장이 규칙을 따르지 않습니다. 단어: invest\n"
     ]
    },
    {
     "name": "stderr",
     "output_type": "stream",
     "text": [
      "612it [08:35,  1.17it/s]"
     ]
    },
    {
     "name": "stdout",
     "output_type": "stream",
     "text": [
      "생성된 문장이 규칙을 따르지 않습니다. 단어: income\n"
     ]
    },
    {
     "name": "stderr",
     "output_type": "stream",
     "text": [
      "613it [08:36,  1.11it/s]"
     ]
    },
    {
     "name": "stdout",
     "output_type": "stream",
     "text": [
      "Jenny needs some coins from her piggy bank. coin\n"
     ]
    },
    {
     "name": "stderr",
     "output_type": "stream",
     "text": [
      "614it [08:37,  1.11it/s]"
     ]
    },
    {
     "name": "stdout",
     "output_type": "stream",
     "text": [
      "생성된 문장이 규칙을 따르지 않습니다. 단어: international\n"
     ]
    },
    {
     "name": "stderr",
     "output_type": "stream",
     "text": [
      "615it [08:37,  1.12it/s]"
     ]
    },
    {
     "name": "stdout",
     "output_type": "stream",
     "text": [
      "The world has become a global village. global\n"
     ]
    },
    {
     "name": "stderr",
     "output_type": "stream",
     "text": [
      "616it [08:38,  1.21it/s]"
     ]
    },
    {
     "name": "stdout",
     "output_type": "stream",
     "text": [
      "생성된 문장이 규칙을 따르지 않습니다. 단어: national\n"
     ]
    },
    {
     "name": "stderr",
     "output_type": "stream",
     "text": [
      "617it [08:39,  1.21it/s]"
     ]
    },
    {
     "name": "stdout",
     "output_type": "stream",
     "text": [
      "생성된 문장이 규칙을 따르지 않습니다. 단어: universal\n"
     ]
    },
    {
     "name": "stderr",
     "output_type": "stream",
     "text": [
      "618it [08:40,  1.15it/s]"
     ]
    },
    {
     "name": "stdout",
     "output_type": "stream",
     "text": [
      "The TV reporter did interviews with the movie star. interview\n"
     ]
    },
    {
     "name": "stderr",
     "output_type": "stream",
     "text": [
      "619it [08:41,  1.13it/s]"
     ]
    },
    {
     "name": "stdout",
     "output_type": "stream",
     "text": [
      "생성된 문장이 규칙을 따르지 않습니다. 단어: interviewer\n"
     ]
    },
    {
     "name": "stderr",
     "output_type": "stream",
     "text": [
      "620it [08:42,  1.12it/s]"
     ]
    },
    {
     "name": "stdout",
     "output_type": "stream",
     "text": [
      "They did a phone survey of TV programs. survey\n"
     ]
    },
    {
     "name": "stderr",
     "output_type": "stream",
     "text": [
      "621it [08:43,  1.17it/s]"
     ]
    },
    {
     "name": "stdout",
     "output_type": "stream",
     "text": [
      "We have a quiz tomorrow. quiz\n"
     ]
    },
    {
     "name": "stderr",
     "output_type": "stream",
     "text": [
      "622it [08:43,  1.17it/s]"
     ]
    },
    {
     "name": "stdout",
     "output_type": "stream",
     "text": [
      "I have some questions about my homework. question\n"
     ]
    },
    {
     "name": "stderr",
     "output_type": "stream",
     "text": [
      "623it [08:44,  1.19it/s]"
     ]
    },
    {
     "name": "stdout",
     "output_type": "stream",
     "text": [
      "I can raise the letters and stand up. raise\n"
     ]
    },
    {
     "name": "stderr",
     "output_type": "stream",
     "text": [
      "624it [08:45,  1.27it/s]"
     ]
    },
    {
     "name": "stdout",
     "output_type": "stream",
     "text": [
      "생성된 문장이 규칙을 따르지 않습니다. 단어: rise\n"
     ]
    },
    {
     "name": "stderr",
     "output_type": "stream",
     "text": [
      "625it [08:46,  1.33it/s]"
     ]
    },
    {
     "name": "stdout",
     "output_type": "stream",
     "text": [
      "생성된 문장이 규칙을 따르지 않습니다. 단어: increase\n"
     ]
    },
    {
     "name": "stderr",
     "output_type": "stream",
     "text": [
      "626it [08:46,  1.31it/s]"
     ]
    },
    {
     "name": "stdout",
     "output_type": "stream",
     "text": [
      "The lift is lifting us upstairs. lift\n"
     ]
    },
    {
     "name": "stderr",
     "output_type": "stream",
     "text": [
      "627it [08:47,  1.26it/s]"
     ]
    },
    {
     "name": "stdout",
     "output_type": "stream",
     "text": [
      "생성된 문장이 규칙을 따르지 않습니다. 단어: promote\n"
     ]
    },
    {
     "name": "stderr",
     "output_type": "stream",
     "text": [
      "628it [08:48,  1.24it/s]"
     ]
    },
    {
     "name": "stdout",
     "output_type": "stream",
     "text": [
      "생성된 문장이 규칙을 따르지 않습니다. 단어: change\n"
     ]
    },
    {
     "name": "stderr",
     "output_type": "stream",
     "text": [
      "629it [08:49,  1.25it/s]"
     ]
    },
    {
     "name": "stdout",
     "output_type": "stream",
     "text": [
      "생성된 문장이 규칙을 따르지 않습니다. 단어: strengthen\n"
     ]
    },
    {
     "name": "stderr",
     "output_type": "stream",
     "text": [
      "630it [08:50,  1.22it/s]"
     ]
    },
    {
     "name": "stdout",
     "output_type": "stream",
     "text": [
      "생성된 문장이 규칙을 따르지 않습니다. 단어: probably\n"
     ]
    },
    {
     "name": "stderr",
     "output_type": "stream",
     "text": [
      "631it [08:50,  1.23it/s]"
     ]
    },
    {
     "name": "stdout",
     "output_type": "stream",
     "text": [
      "생성된 문장이 규칙을 따르지 않습니다. 단어: maybe\n"
     ]
    },
    {
     "name": "stderr",
     "output_type": "stream",
     "text": [
      "632it [08:51,  1.22it/s]"
     ]
    },
    {
     "name": "stdout",
     "output_type": "stream",
     "text": [
      "생성된 문장이 규칙을 따르지 않습니다. 단어: perhaps\n"
     ]
    },
    {
     "name": "stderr",
     "output_type": "stream",
     "text": [
      "633it [08:52,  1.22it/s]"
     ]
    },
    {
     "name": "stdout",
     "output_type": "stream",
     "text": [
      "생성된 문장이 규칙을 따르지 않습니다. 단어: possibly\n"
     ]
    },
    {
     "name": "stderr",
     "output_type": "stream",
     "text": [
      "634it [08:53,  1.22it/s]"
     ]
    },
    {
     "name": "stdout",
     "output_type": "stream",
     "text": [
      "생성된 문장이 규칙을 따르지 않습니다. 단어: yes\n"
     ]
    },
    {
     "name": "stderr",
     "output_type": "stream",
     "text": [
      "635it [08:54,  1.19it/s]"
     ]
    },
    {
     "name": "stdout",
     "output_type": "stream",
     "text": [
      "I sometimes play chess and computer games. sometimes\n"
     ]
    },
    {
     "name": "stderr",
     "output_type": "stream",
     "text": [
      "636it [08:55,  1.14it/s]"
     ]
    },
    {
     "name": "stdout",
     "output_type": "stream",
     "text": [
      "생성된 문장이 규칙을 따르지 않습니다. 단어: generally\n"
     ]
    },
    {
     "name": "stderr",
     "output_type": "stream",
     "text": [
      "637it [08:56,  1.12it/s]"
     ]
    },
    {
     "name": "stdout",
     "output_type": "stream",
     "text": [
      "생성된 문장이 규칙을 따르지 않습니다. 단어: often\n"
     ]
    },
    {
     "name": "stderr",
     "output_type": "stream",
     "text": [
      "638it [08:57,  1.12it/s]"
     ]
    },
    {
     "name": "stdout",
     "output_type": "stream",
     "text": [
      "생성된 문장이 규칙을 따르지 않습니다. 단어: rarely\n"
     ]
    },
    {
     "name": "stderr",
     "output_type": "stream",
     "text": [
      "639it [08:57,  1.26it/s]"
     ]
    },
    {
     "name": "stdout",
     "output_type": "stream",
     "text": [
      "생성된 문장이 규칙을 따르지 않습니다. 단어: seldom\n"
     ]
    },
    {
     "name": "stderr",
     "output_type": "stream",
     "text": [
      "640it [08:58,  1.19it/s]"
     ]
    },
    {
     "name": "stdout",
     "output_type": "stream",
     "text": [
      "생성된 문장이 규칙을 따르지 않습니다. 단어: usually\n"
     ]
    },
    {
     "name": "stderr",
     "output_type": "stream",
     "text": [
      "641it [08:59,  1.18it/s]"
     ]
    },
    {
     "name": "stdout",
     "output_type": "stream",
     "text": [
      "She's almost always late when she forgets. always\n"
     ]
    },
    {
     "name": "stderr",
     "output_type": "stream",
     "text": [
      "642it [09:00,  1.17it/s]"
     ]
    },
    {
     "name": "stdout",
     "output_type": "stream",
     "text": [
      "I can hardly believe it's my new bike. hardly\n"
     ]
    },
    {
     "name": "stderr",
     "output_type": "stream",
     "text": [
      "643it [09:01,  1.18it/s]"
     ]
    },
    {
     "name": "stdout",
     "output_type": "stream",
     "text": [
      "I like to buy vegetables every day. vegetable\n"
     ]
    },
    {
     "name": "stderr",
     "output_type": "stream",
     "text": [
      "644it [09:02,  1.15it/s]"
     ]
    },
    {
     "name": "stdout",
     "output_type": "stream",
     "text": [
      "It's a pumpkin, and it looks very orange. pumpkin\n"
     ]
    },
    {
     "name": "stderr",
     "output_type": "stream",
     "text": [
      "645it [09:02,  1.18it/s]"
     ]
    },
    {
     "name": "stdout",
     "output_type": "stream",
     "text": [
      "Do you want carrots after eating apples? carrot\n"
     ]
    },
    {
     "name": "stderr",
     "output_type": "stream",
     "text": [
      "646it [09:03,  1.19it/s]"
     ]
    },
    {
     "name": "stdout",
     "output_type": "stream",
     "text": [
      "I don’t like potatoes and French fries. potato\n"
     ]
    },
    {
     "name": "stderr",
     "output_type": "stream",
     "text": [
      "647it [09:04,  1.27it/s]"
     ]
    },
    {
     "name": "stdout",
     "output_type": "stream",
     "text": [
      "I don’t like tomatoes. tomato\n"
     ]
    },
    {
     "name": "stderr",
     "output_type": "stream",
     "text": [
      "648it [09:05,  1.26it/s]"
     ]
    },
    {
     "name": "stdout",
     "output_type": "stream",
     "text": [
      "Put the onions in the pot. onion\n"
     ]
    },
    {
     "name": "stderr",
     "output_type": "stream",
     "text": [
      "649it [09:05,  1.33it/s]"
     ]
    },
    {
     "name": "stdout",
     "output_type": "stream",
     "text": [
      "This leaf is pretty. leaf\n"
     ]
    },
    {
     "name": "stderr",
     "output_type": "stream",
     "text": [
      "650it [09:06,  1.24it/s]"
     ]
    },
    {
     "name": "stdout",
     "output_type": "stream",
     "text": [
      "생성된 문장이 규칙을 따르지 않습니다. 단어: sunflower\n"
     ]
    },
    {
     "name": "stderr",
     "output_type": "stream",
     "text": [
      "651it [09:07,  1.17it/s]"
     ]
    },
    {
     "name": "stdout",
     "output_type": "stream",
     "text": [
      "Here is a pencil case that belongs to him. pencil case\n"
     ]
    },
    {
     "name": "stderr",
     "output_type": "stream",
     "text": [
      "652it [09:08,  1.24it/s]"
     ]
    },
    {
     "name": "stdout",
     "output_type": "stream",
     "text": [
      "You may use my pen. pen\n"
     ]
    },
    {
     "name": "stderr",
     "output_type": "stream",
     "text": [
      "653it [09:09,  1.31it/s]"
     ]
    },
    {
     "name": "stdout",
     "output_type": "stream",
     "text": [
      "It's your pencil. pencil\n"
     ]
    },
    {
     "name": "stderr",
     "output_type": "stream",
     "text": [
      "654it [09:09,  1.35it/s]"
     ]
    },
    {
     "name": "stdout",
     "output_type": "stream",
     "text": [
      "It's his crayon. crayon\n"
     ]
    },
    {
     "name": "stderr",
     "output_type": "stream",
     "text": [
      "655it [09:10,  1.32it/s]"
     ]
    },
    {
     "name": "stdout",
     "output_type": "stream",
     "text": [
      "I have chalk on the blackboard. chalk\n"
     ]
    },
    {
     "name": "stderr",
     "output_type": "stream",
     "text": [
      "656it [09:11,  1.34it/s]"
     ]
    },
    {
     "name": "stdout",
     "output_type": "stream",
     "text": [
      "They have new notebooks. notebook\n"
     ]
    },
    {
     "name": "stderr",
     "output_type": "stream",
     "text": [
      "657it [09:12,  1.36it/s]"
     ]
    },
    {
     "name": "stdout",
     "output_type": "stream",
     "text": [
      "They cut the paper. paper\n"
     ]
    },
    {
     "name": "stderr",
     "output_type": "stream",
     "text": [
      "658it [09:12,  1.26it/s]"
     ]
    },
    {
     "name": "stdout",
     "output_type": "stream",
     "text": [
      "생성된 문장이 규칙을 따르지 않습니다. 단어: outline\n"
     ]
    },
    {
     "name": "stderr",
     "output_type": "stream",
     "text": [
      "659it [09:13,  1.27it/s]"
     ]
    },
    {
     "name": "stdout",
     "output_type": "stream",
     "text": [
      "It's her eraser. eraser\n"
     ]
    },
    {
     "name": "stderr",
     "output_type": "stream",
     "text": [
      "660it [09:14,  1.27it/s]"
     ]
    },
    {
     "name": "stdout",
     "output_type": "stream",
     "text": [
      "I go to school every day. school\n"
     ]
    },
    {
     "name": "stderr",
     "output_type": "stream",
     "text": [
      "661it [09:15,  1.22it/s]"
     ]
    },
    {
     "name": "stdout",
     "output_type": "stream",
     "text": [
      "생성된 문장이 규칙을 따르지 않습니다. 단어: elementary school\n"
     ]
    },
    {
     "name": "stderr",
     "output_type": "stream",
     "text": [
      "662it [09:16,  1.21it/s]"
     ]
    },
    {
     "name": "stdout",
     "output_type": "stream",
     "text": [
      "생성된 문장이 규칙을 따르지 않습니다. 단어: college\n"
     ]
    },
    {
     "name": "stderr",
     "output_type": "stream",
     "text": [
      "663it [09:17,  1.17it/s]"
     ]
    },
    {
     "name": "stdout",
     "output_type": "stream",
     "text": [
      "생성된 문장이 규칙을 따르지 않습니다. 단어: university\n"
     ]
    },
    {
     "name": "stderr",
     "output_type": "stream",
     "text": [
      "664it [09:18,  1.17it/s]"
     ]
    },
    {
     "name": "stdout",
     "output_type": "stream",
     "text": [
      "생성된 문장이 규칙을 따르지 않습니다. 단어: history\n"
     ]
    },
    {
     "name": "stderr",
     "output_type": "stream",
     "text": [
      "665it [09:18,  1.14it/s]"
     ]
    },
    {
     "name": "stdout",
     "output_type": "stream",
     "text": [
      "생성된 문장이 규칙을 따르지 않습니다. 단어: grade\n"
     ]
    },
    {
     "name": "stderr",
     "output_type": "stream",
     "text": [
      "666it [09:19,  1.15it/s]"
     ]
    },
    {
     "name": "stdout",
     "output_type": "stream",
     "text": [
      "생성된 문장이 규칙을 따르지 않습니다. 단어: extracurricular\n"
     ]
    },
    {
     "name": "stderr",
     "output_type": "stream",
     "text": [
      "667it [09:20,  1.16it/s]"
     ]
    },
    {
     "name": "stdout",
     "output_type": "stream",
     "text": [
      "I go to the church to pray. church\n"
     ]
    },
    {
     "name": "stderr",
     "output_type": "stream",
     "text": [
      "668it [09:21,  1.17it/s]"
     ]
    },
    {
     "name": "stdout",
     "output_type": "stream",
     "text": [
      "I go to school after five. go to school\n"
     ]
    },
    {
     "name": "stderr",
     "output_type": "stream",
     "text": [
      "669it [09:22,  1.17it/s]"
     ]
    },
    {
     "name": "stdout",
     "output_type": "stream",
     "text": [
      "생성된 문장이 규칙을 따르지 않습니다. 단어: temple\n"
     ]
    },
    {
     "name": "stderr",
     "output_type": "stream",
     "text": [
      "670it [09:23,  1.24it/s]"
     ]
    },
    {
     "name": "stdout",
     "output_type": "stream",
     "text": [
      "생성된 문장이 규칙을 따르지 않습니다. 단어: school bag\n"
     ]
    },
    {
     "name": "stderr",
     "output_type": "stream",
     "text": [
      "671it [09:23,  1.31it/s]"
     ]
    },
    {
     "name": "stdout",
     "output_type": "stream",
     "text": [
      "It’s my bag. bag\n"
     ]
    },
    {
     "name": "stderr",
     "output_type": "stream",
     "text": [
      "672it [09:24,  1.31it/s]"
     ]
    },
    {
     "name": "stdout",
     "output_type": "stream",
     "text": [
      "생성된 문장이 규칙을 따르지 않습니다. 단어: baggage\n"
     ]
    },
    {
     "name": "stderr",
     "output_type": "stream",
     "text": [
      "673it [09:25,  1.30it/s]"
     ]
    },
    {
     "name": "stdout",
     "output_type": "stream",
     "text": [
      "I packed the stuff into my bag. pack\n"
     ]
    },
    {
     "name": "stderr",
     "output_type": "stream",
     "text": [
      "674it [09:26,  1.20it/s]"
     ]
    },
    {
     "name": "stdout",
     "output_type": "stream",
     "text": [
      "Let's listen to the song while touching our ears. listen\n"
     ]
    },
    {
     "name": "stderr",
     "output_type": "stream",
     "text": [
      "675it [09:27,  1.22it/s]"
     ]
    },
    {
     "name": "stdout",
     "output_type": "stream",
     "text": [
      "생성된 문장이 규칙을 따르지 않습니다. 단어: listen to\n"
     ]
    },
    {
     "name": "stderr",
     "output_type": "stream",
     "text": [
      "676it [09:27,  1.26it/s]"
     ]
    },
    {
     "name": "stdout",
     "output_type": "stream",
     "text": [
      "I can't hear your voice. hear\n"
     ]
    },
    {
     "name": "stderr",
     "output_type": "stream",
     "text": [
      "677it [09:28,  1.23it/s]"
     ]
    },
    {
     "name": "stdout",
     "output_type": "stream",
     "text": [
      "I’m building a small building. building\n"
     ]
    },
    {
     "name": "stderr",
     "output_type": "stream",
     "text": [
      "678it [09:29,  1.29it/s]"
     ]
    },
    {
     "name": "stdout",
     "output_type": "stream",
     "text": [
      "I’m building a building. build\n"
     ]
    },
    {
     "name": "stderr",
     "output_type": "stream",
     "text": [
      "679it [09:30,  1.25it/s]"
     ]
    },
    {
     "name": "stdout",
     "output_type": "stream",
     "text": [
      "생성된 문장이 규칙을 따르지 않습니다. 단어: project\n"
     ]
    },
    {
     "name": "stderr",
     "output_type": "stream",
     "text": [
      "680it [09:31,  1.21it/s]"
     ]
    },
    {
     "name": "stdout",
     "output_type": "stream",
     "text": [
      "The sheep looks cute as it grazes. sheep\n"
     ]
    },
    {
     "name": "stderr",
     "output_type": "stream",
     "text": [
      "681it [09:31,  1.27it/s]"
     ]
    },
    {
     "name": "stdout",
     "output_type": "stream",
     "text": [
      "Look at the lambs. lamb\n"
     ]
    },
    {
     "name": "stderr",
     "output_type": "stream",
     "text": [
      "682it [09:32,  1.38it/s]"
     ]
    },
    {
     "name": "stdout",
     "output_type": "stream",
     "text": [
      "생성된 문장이 규칙을 따르지 않습니다. 단어: meal\n"
     ]
    },
    {
     "name": "stderr",
     "output_type": "stream",
     "text": [
      "683it [09:33,  1.35it/s]"
     ]
    },
    {
     "name": "stdout",
     "output_type": "stream",
     "text": [
      "I have breakfast and I have dinner. breakfast\n"
     ]
    },
    {
     "name": "stderr",
     "output_type": "stream",
     "text": [
      "684it [09:33,  1.44it/s]"
     ]
    },
    {
     "name": "stdout",
     "output_type": "stream",
     "text": [
      "I have lunch. lunch\n"
     ]
    },
    {
     "name": "stderr",
     "output_type": "stream",
     "text": [
      "685it [09:34,  1.44it/s]"
     ]
    },
    {
     "name": "stdout",
     "output_type": "stream",
     "text": [
      "I have dinner at home. dinner\n"
     ]
    },
    {
     "name": "stderr",
     "output_type": "stream",
     "text": [
      "686it [09:34,  1.51it/s]"
     ]
    },
    {
     "name": "stdout",
     "output_type": "stream",
     "text": [
      "I have snacks. snack\n"
     ]
    },
    {
     "name": "stderr",
     "output_type": "stream",
     "text": [
      "687it [09:36,  1.28it/s]"
     ]
    },
    {
     "name": "stdout",
     "output_type": "stream",
     "text": [
      "I get up early in the morning when it’s sunny. morning\n"
     ]
    },
    {
     "name": "stderr",
     "output_type": "stream",
     "text": [
      "688it [09:36,  1.31it/s]"
     ]
    },
    {
     "name": "stdout",
     "output_type": "stream",
     "text": [
      "생성된 문장이 규칙을 따르지 않습니다. 단어: afternoon\n"
     ]
    },
    {
     "name": "stderr",
     "output_type": "stream",
     "text": [
      "689it [09:37,  1.20it/s]"
     ]
    },
    {
     "name": "stdout",
     "output_type": "stream",
     "text": [
      "It's cool in the evening when it's dark. evening\n"
     ]
    },
    {
     "name": "stderr",
     "output_type": "stream",
     "text": [
      "690it [09:38,  1.12it/s]"
     ]
    },
    {
     "name": "stdout",
     "output_type": "stream",
     "text": [
      "It's time to sleep when it's cold at night. night\n"
     ]
    },
    {
     "name": "stderr",
     "output_type": "stream",
     "text": [
      "691it [09:39,  1.15it/s]"
     ]
    },
    {
     "name": "stdout",
     "output_type": "stream",
     "text": [
      "I have breakfast, lunch, and dinner. have breakfast\n"
     ]
    },
    {
     "name": "stderr",
     "output_type": "stream",
     "text": [
      "692it [09:40,  1.27it/s]"
     ]
    },
    {
     "name": "stdout",
     "output_type": "stream",
     "text": [
      "I have lunch. have lunch\n"
     ]
    },
    {
     "name": "stderr",
     "output_type": "stream",
     "text": [
      "693it [09:41,  1.26it/s]"
     ]
    },
    {
     "name": "stdout",
     "output_type": "stream",
     "text": [
      "I have dinner and we will eat here. have dinner\n"
     ]
    },
    {
     "name": "stderr",
     "output_type": "stream",
     "text": [
      "694it [09:41,  1.18it/s]"
     ]
    },
    {
     "name": "stdout",
     "output_type": "stream",
     "text": [
      "I'm hungry and food is good for health. food\n"
     ]
    },
    {
     "name": "stderr",
     "output_type": "stream",
     "text": [
      "695it [09:42,  1.23it/s]"
     ]
    },
    {
     "name": "stdout",
     "output_type": "stream",
     "text": [
      "생성된 문장이 규칙을 따르지 않습니다. 단어: hello\n"
     ]
    },
    {
     "name": "stderr",
     "output_type": "stream",
     "text": [
      "696it [09:43,  1.22it/s]"
     ]
    },
    {
     "name": "stdout",
     "output_type": "stream",
     "text": [
      "생성된 문장이 규칙을 따르지 않습니다. 단어: noodles\n"
     ]
    },
    {
     "name": "stderr",
     "output_type": "stream",
     "text": [
      "697it [09:44,  1.21it/s]"
     ]
    },
    {
     "name": "stdout",
     "output_type": "stream",
     "text": [
      "Can you get the dish for me? dish\n"
     ]
    },
    {
     "name": "stderr",
     "output_type": "stream",
     "text": [
      "698it [09:45,  1.16it/s]"
     ]
    },
    {
     "name": "stdout",
     "output_type": "stream",
     "text": [
      "The alarm clock alarmed me at three o'clock. alarm\n"
     ]
    },
    {
     "name": "stderr",
     "output_type": "stream",
     "text": [
      "699it [09:46,  1.21it/s]"
     ]
    },
    {
     "name": "stdout",
     "output_type": "stream",
     "text": [
      "I don’t break the bricks. break\n"
     ]
    },
    {
     "name": "stderr",
     "output_type": "stream",
     "text": [
      "700it [09:46,  1.17it/s]"
     ]
    },
    {
     "name": "stdout",
     "output_type": "stream",
     "text": [
      "The table is dirty and has a ball. table\n"
     ]
    },
    {
     "name": "stderr",
     "output_type": "stream",
     "text": [
      "701it [09:47,  1.18it/s]"
     ]
    },
    {
     "name": "stdout",
     "output_type": "stream",
     "text": [
      "생성된 문장이 규칙을 따르지 않습니다. 단어: greet\n"
     ]
    },
    {
     "name": "stderr",
     "output_type": "stream",
     "text": [
      "702it [09:48,  1.18it/s]"
     ]
    },
    {
     "name": "stdout",
     "output_type": "stream",
     "text": [
      "Let's go on a picnic. picnic\n"
     ]
    },
    {
     "name": "stderr",
     "output_type": "stream",
     "text": [
      "703it [09:49,  1.19it/s]"
     ]
    },
    {
     "name": "stdout",
     "output_type": "stream",
     "text": [
      "I like salad and I would like fruit. salad\n"
     ]
    },
    {
     "name": "stderr",
     "output_type": "stream",
     "text": [
      "704it [09:50,  1.14it/s]"
     ]
    },
    {
     "name": "stdout",
     "output_type": "stream",
     "text": [
      "They are guarding the start, he starts running. start\n"
     ]
    },
    {
     "name": "stderr",
     "output_type": "stream",
     "text": [
      "705it [09:51,  1.16it/s]"
     ]
    },
    {
     "name": "stdout",
     "output_type": "stream",
     "text": [
      "생성된 문장이 규칙을 따르지 않습니다. 단어: begin\n"
     ]
    },
    {
     "name": "stderr",
     "output_type": "stream",
     "text": [
      "706it [09:51,  1.24it/s]"
     ]
    },
    {
     "name": "stdout",
     "output_type": "stream",
     "text": [
      "생성된 문장이 규칙을 따르지 않습니다. 단어: stop\n"
     ]
    },
    {
     "name": "stderr",
     "output_type": "stream",
     "text": [
      "707it [09:52,  1.22it/s]"
     ]
    },
    {
     "name": "stdout",
     "output_type": "stream",
     "text": [
      "생성된 문장이 규칙을 따르지 않습니다. 단어: continue\n"
     ]
    },
    {
     "name": "stderr",
     "output_type": "stream",
     "text": [
      "708it [09:53,  1.28it/s]"
     ]
    },
    {
     "name": "stdout",
     "output_type": "stream",
     "text": [
      "I often stay up late. stay up\n"
     ]
    },
    {
     "name": "stderr",
     "output_type": "stream",
     "text": [
      "709it [09:54,  1.29it/s]"
     ]
    },
    {
     "name": "stdout",
     "output_type": "stream",
     "text": [
      "생성된 문장이 규칙을 따르지 않습니다. 단어: get up\n"
     ]
    },
    {
     "name": "stderr",
     "output_type": "stream",
     "text": [
      "710it [09:55,  1.28it/s]"
     ]
    },
    {
     "name": "stdout",
     "output_type": "stream",
     "text": [
      "생성된 문장이 규칙을 따르지 않습니다. 단어: stand up\n"
     ]
    },
    {
     "name": "stderr",
     "output_type": "stream",
     "text": [
      "711it [09:55,  1.40it/s]"
     ]
    },
    {
     "name": "stdout",
     "output_type": "stream",
     "text": [
      "생성된 문장이 규칙을 따르지 않습니다. 단어: stand\n"
     ]
    },
    {
     "name": "stderr",
     "output_type": "stream",
     "text": [
      "712it [09:56,  1.33it/s]"
     ]
    },
    {
     "name": "stdout",
     "output_type": "stream",
     "text": [
      "Check your work before hanging it up. hang\n"
     ]
    },
    {
     "name": "stderr",
     "output_type": "stream",
     "text": [
      "713it [09:57,  1.32it/s]"
     ]
    },
    {
     "name": "stdout",
     "output_type": "stream",
     "text": [
      "Please sweep up the sweets. sweets\n"
     ]
    },
    {
     "name": "stderr",
     "output_type": "stream",
     "text": [
      "714it [09:58,  1.19it/s]"
     ]
    },
    {
     "name": "stdout",
     "output_type": "stream",
     "text": [
      "I don’t like sugar, so I sweep up sweets. sugar\n"
     ]
    },
    {
     "name": "stderr",
     "output_type": "stream",
     "text": [
      "715it [09:59,  1.18it/s]"
     ]
    },
    {
     "name": "stdout",
     "output_type": "stream",
     "text": [
      "I enjoy eating ice cream for dessert. dessert\n"
     ]
    },
    {
     "name": "stderr",
     "output_type": "stream",
     "text": [
      "716it [09:59,  1.22it/s]"
     ]
    },
    {
     "name": "stdout",
     "output_type": "stream",
     "text": [
      "Mom gives me cheesecake. cheesecake\n"
     ]
    },
    {
     "name": "stderr",
     "output_type": "stream",
     "text": [
      "717it [10:00,  1.19it/s]"
     ]
    },
    {
     "name": "stdout",
     "output_type": "stream",
     "text": [
      "You like cake and mom gives you some. cake\n"
     ]
    },
    {
     "name": "stderr",
     "output_type": "stream",
     "text": [
      "718it [10:01,  1.19it/s]"
     ]
    },
    {
     "name": "stdout",
     "output_type": "stream",
     "text": [
      "I want cheese and some cheesecake too. cheese\n"
     ]
    },
    {
     "name": "stderr",
     "output_type": "stream",
     "text": [
      "719it [10:02,  1.21it/s]"
     ]
    },
    {
     "name": "stdout",
     "output_type": "stream",
     "text": [
      "I want candy and I love chocolate. candy\n"
     ]
    },
    {
     "name": "stderr",
     "output_type": "stream",
     "text": [
      "720it [10:03,  1.18it/s]"
     ]
    },
    {
     "name": "stdout",
     "output_type": "stream",
     "text": [
      "I love the taste of chocolate ice cream. chocolate\n"
     ]
    },
    {
     "name": "stderr",
     "output_type": "stream",
     "text": [
      "721it [10:04,  1.17it/s]"
     ]
    },
    {
     "name": "stdout",
     "output_type": "stream",
     "text": [
      "I have a toothache and I want gum. gum\n"
     ]
    },
    {
     "name": "stderr",
     "output_type": "stream",
     "text": [
      "722it [10:04,  1.26it/s]"
     ]
    },
    {
     "name": "stdout",
     "output_type": "stream",
     "text": [
      "I need another spoon. spoon\n"
     ]
    },
    {
     "name": "stderr",
     "output_type": "stream",
     "text": [
      "723it [10:05,  1.24it/s]"
     ]
    },
    {
     "name": "stdout",
     "output_type": "stream",
     "text": [
      "Here is some glue on my desk. glue\n"
     ]
    },
    {
     "name": "stderr",
     "output_type": "stream",
     "text": [
      "724it [10:06,  1.20it/s]"
     ]
    },
    {
     "name": "stdout",
     "output_type": "stream",
     "text": [
      "There is a crack in the cracker. crack\n"
     ]
    },
    {
     "name": "stderr",
     "output_type": "stream",
     "text": [
      "725it [10:07,  1.14it/s]"
     ]
    },
    {
     "name": "stdout",
     "output_type": "stream",
     "text": [
      "생성된 문장이 규칙을 따르지 않습니다. 단어: bite\n"
     ]
    },
    {
     "name": "stderr",
     "output_type": "stream",
     "text": [
      "726it [10:08,  1.19it/s]"
     ]
    },
    {
     "name": "stdout",
     "output_type": "stream",
     "text": [
      "I would like some pie. pie\n"
     ]
    },
    {
     "name": "stderr",
     "output_type": "stream",
     "text": [
      "727it [10:09,  1.19it/s]"
     ]
    },
    {
     "name": "stdout",
     "output_type": "stream",
     "text": [
      "생성된 문장이 규칙을 따르지 않습니다. 단어: powder\n"
     ]
    },
    {
     "name": "stderr",
     "output_type": "stream",
     "text": [
      "728it [10:10,  1.16it/s]"
     ]
    },
    {
     "name": "stdout",
     "output_type": "stream",
     "text": [
      "The chef mixed spaghetti sauce and meatballs. sauce\n"
     ]
    },
    {
     "name": "stderr",
     "output_type": "stream",
     "text": [
      "729it [10:10,  1.22it/s]"
     ]
    },
    {
     "name": "stdout",
     "output_type": "stream",
     "text": [
      "They like French fries. French fries\n"
     ]
    },
    {
     "name": "stderr",
     "output_type": "stream",
     "text": [
      "730it [10:11,  1.25it/s]"
     ]
    },
    {
     "name": "stdout",
     "output_type": "stream",
     "text": [
      "I want a hot dog. hot dog\n"
     ]
    },
    {
     "name": "stderr",
     "output_type": "stream",
     "text": [
      "731it [10:12,  1.29it/s]"
     ]
    },
    {
     "name": "stdout",
     "output_type": "stream",
     "text": [
      "I want milk carefully. milk\n"
     ]
    },
    {
     "name": "stderr",
     "output_type": "stream",
     "text": [
      "732it [10:12,  1.31it/s]"
     ]
    },
    {
     "name": "stdout",
     "output_type": "stream",
     "text": [
      "The child is biting my cookies. cookie\n"
     ]
    },
    {
     "name": "stderr",
     "output_type": "stream",
     "text": [
      "733it [10:13,  1.29it/s]"
     ]
    },
    {
     "name": "stdout",
     "output_type": "stream",
     "text": [
      "I want pizza divided into eight pieces. pizza\n"
     ]
    },
    {
     "name": "stderr",
     "output_type": "stream",
     "text": [
      "734it [10:14,  1.23it/s]"
     ]
    },
    {
     "name": "stdout",
     "output_type": "stream",
     "text": [
      "Do you want cream on your ice cream? cream\n"
     ]
    },
    {
     "name": "stderr",
     "output_type": "stream",
     "text": [
      "735it [10:15,  1.28it/s]"
     ]
    },
    {
     "name": "stdout",
     "output_type": "stream",
     "text": [
      "Do you want doughnuts? doughnut\n"
     ]
    },
    {
     "name": "stderr",
     "output_type": "stream",
     "text": [
      "736it [10:16,  1.35it/s]"
     ]
    },
    {
     "name": "stdout",
     "output_type": "stream",
     "text": [
      "생성된 문장이 규칙을 따르지 않습니다. 단어: melt\n"
     ]
    },
    {
     "name": "stderr",
     "output_type": "stream",
     "text": [
      "737it [10:16,  1.32it/s]"
     ]
    },
    {
     "name": "stdout",
     "output_type": "stream",
     "text": [
      "The chicken is so yummy today. chicken\n"
     ]
    },
    {
     "name": "stderr",
     "output_type": "stream",
     "text": [
      "738it [10:17,  1.23it/s]"
     ]
    },
    {
     "name": "stdout",
     "output_type": "stream",
     "text": [
      "There's a big hen on the roof. hen\n"
     ]
    },
    {
     "name": "stderr",
     "output_type": "stream",
     "text": [
      "739it [10:18,  1.21it/s]"
     ]
    },
    {
     "name": "stdout",
     "output_type": "stream",
     "text": [
      "I have a bird on my tree. bird\n"
     ]
    },
    {
     "name": "stderr",
     "output_type": "stream",
     "text": [
      "740it [10:19,  1.14it/s]"
     ]
    },
    {
     "name": "stdout",
     "output_type": "stream",
     "text": [
      "I have a baby duck and some geese nearby. duck\n"
     ]
    },
    {
     "name": "stderr",
     "output_type": "stream",
     "text": [
      "741it [10:20,  1.19it/s]"
     ]
    },
    {
     "name": "stdout",
     "output_type": "stream",
     "text": [
      "I like eggs and count two. egg\n"
     ]
    },
    {
     "name": "stderr",
     "output_type": "stream",
     "text": [
      "742it [10:21,  1.18it/s]"
     ]
    },
    {
     "name": "stdout",
     "output_type": "stream",
     "text": [
      "I have a big bat and want a mouse. bat\n"
     ]
    },
    {
     "name": "stderr",
     "output_type": "stream",
     "text": [
      "743it [10:22,  1.15it/s]"
     ]
    },
    {
     "name": "stdout",
     "output_type": "stream",
     "text": [
      "There is something fishy about the fish. fish\n"
     ]
    },
    {
     "name": "stderr",
     "output_type": "stream",
     "text": [
      "744it [10:23,  1.11it/s]"
     ]
    },
    {
     "name": "stdout",
     "output_type": "stream",
     "text": [
      "A fishing contest is interesting because he loves fishing. fishing\n"
     ]
    },
    {
     "name": "stderr",
     "output_type": "stream",
     "text": [
      "745it [10:24,  1.12it/s]"
     ]
    },
    {
     "name": "stdout",
     "output_type": "stream",
     "text": [
      "Let's go fishing on the island. go fishing\n"
     ]
    },
    {
     "name": "stderr",
     "output_type": "stream",
     "text": [
      "746it [10:24,  1.15it/s]"
     ]
    },
    {
     "name": "stdout",
     "output_type": "stream",
     "text": [
      "This math problem is very easy. easy\n"
     ]
    },
    {
     "name": "stderr",
     "output_type": "stream",
     "text": [
      "747it [10:25,  1.15it/s]"
     ]
    },
    {
     "name": "stdout",
     "output_type": "stream",
     "text": [
      "Cooking spaghetti is simple and fun. simple\n"
     ]
    },
    {
     "name": "stderr",
     "output_type": "stream",
     "text": [
      "748it [10:26,  1.17it/s]"
     ]
    },
    {
     "name": "stdout",
     "output_type": "stream",
     "text": [
      "Our last test was very difficult. difficult\n"
     ]
    },
    {
     "name": "stderr",
     "output_type": "stream",
     "text": [
      "749it [10:27,  1.20it/s]"
     ]
    },
    {
     "name": "stdout",
     "output_type": "stream",
     "text": [
      "생성된 문장이 규칙을 따르지 않습니다. 단어: convenient\n"
     ]
    },
    {
     "name": "stderr",
     "output_type": "stream",
     "text": [
      "750it [10:28,  1.19it/s]"
     ]
    },
    {
     "name": "stdout",
     "output_type": "stream",
     "text": [
      "생성된 문장이 규칙을 따르지 않습니다. 단어: complicate\n"
     ]
    },
    {
     "name": "stderr",
     "output_type": "stream",
     "text": [
      "751it [10:29,  1.16it/s]"
     ]
    },
    {
     "name": "stdout",
     "output_type": "stream",
     "text": [
      "생성된 문장이 규칙을 따르지 않습니다. 단어: everyone\n"
     ]
    },
    {
     "name": "stderr",
     "output_type": "stream",
     "text": [
      "752it [10:29,  1.16it/s]"
     ]
    },
    {
     "name": "stdout",
     "output_type": "stream",
     "text": [
      "생성된 문장이 규칙을 따르지 않습니다. 단어: nobody\n"
     ]
    },
    {
     "name": "stderr",
     "output_type": "stream",
     "text": [
      "753it [10:30,  1.15it/s]"
     ]
    },
    {
     "name": "stdout",
     "output_type": "stream",
     "text": [
      "생성된 문장이 규칙을 따르지 않습니다. 단어: somebody\n"
     ]
    },
    {
     "name": "stderr",
     "output_type": "stream",
     "text": [
      "754it [10:31,  1.14it/s]"
     ]
    },
    {
     "name": "stdout",
     "output_type": "stream",
     "text": [
      "생성된 문장이 규칙을 따르지 않습니다. 단어: everybody\n"
     ]
    },
    {
     "name": "stderr",
     "output_type": "stream",
     "text": [
      "755it [10:32,  1.15it/s]"
     ]
    },
    {
     "name": "stdout",
     "output_type": "stream",
     "text": [
      "생성된 문장이 규칙을 따르지 않습니다. 단어: anybody\n"
     ]
    },
    {
     "name": "stderr",
     "output_type": "stream",
     "text": [
      "756it [10:33,  1.10it/s]"
     ]
    },
    {
     "name": "stdout",
     "output_type": "stream",
     "text": [
      "생성된 문장이 규칙을 따르지 않습니다. 단어: who\n"
     ]
    },
    {
     "name": "stderr",
     "output_type": "stream",
     "text": [
      "757it [10:34,  1.11it/s]"
     ]
    },
    {
     "name": "stdout",
     "output_type": "stream",
     "text": [
      "생성된 문장이 규칙을 따르지 않습니다. 단어: anyone\n"
     ]
    },
    {
     "name": "stderr",
     "output_type": "stream",
     "text": [
      "758it [10:35,  1.12it/s]"
     ]
    },
    {
     "name": "stdout",
     "output_type": "stream",
     "text": [
      "Many people are waving their hands at my friends. people\n"
     ]
    },
    {
     "name": "stderr",
     "output_type": "stream",
     "text": [
      "759it [10:36,  1.12it/s]"
     ]
    },
    {
     "name": "stdout",
     "output_type": "stream",
     "text": [
      "생성된 문장이 규칙을 따르지 않습니다. 단어: person\n"
     ]
    },
    {
     "name": "stderr",
     "output_type": "stream",
     "text": [
      "760it [10:37,  1.14it/s]"
     ]
    },
    {
     "name": "stdout",
     "output_type": "stream",
     "text": [
      "생성된 문장이 규칙을 따르지 않습니다. 단어: me\n"
     ]
    },
    {
     "name": "stderr",
     "output_type": "stream",
     "text": [
      "761it [10:37,  1.17it/s]"
     ]
    },
    {
     "name": "stdout",
     "output_type": "stream",
     "text": [
      "Let's have a party. party\n"
     ]
    },
    {
     "name": "stderr",
     "output_type": "stream",
     "text": [
      "762it [10:38,  1.40it/s]"
     ]
    },
    {
     "name": "stdout",
     "output_type": "stream",
     "text": [
      "Let's have a party. have a party\n"
     ]
    },
    {
     "name": "stderr",
     "output_type": "stream",
     "text": [
      "763it [10:39,  1.28it/s]"
     ]
    },
    {
     "name": "stdout",
     "output_type": "stream",
     "text": [
      "We will celebrate Piggy's birthday together. celebrate\n"
     ]
    },
    {
     "name": "stderr",
     "output_type": "stream",
     "text": [
      "764it [10:40,  1.26it/s]"
     ]
    },
    {
     "name": "stdout",
     "output_type": "stream",
     "text": [
      "생성된 문장이 규칙을 따르지 않습니다. 단어: wedding\n"
     ]
    },
    {
     "name": "stderr",
     "output_type": "stream",
     "text": [
      "765it [10:40,  1.21it/s]"
     ]
    },
    {
     "name": "stdout",
     "output_type": "stream",
     "text": [
      "It smells good when touching skunk noses. smell\n"
     ]
    },
    {
     "name": "stderr",
     "output_type": "stream",
     "text": [
      "766it [10:41,  1.16it/s]"
     ]
    },
    {
     "name": "stdout",
     "output_type": "stream",
     "text": [
      "The skunk stinks; it smells good outside. stink\n"
     ]
    },
    {
     "name": "stderr",
     "output_type": "stream",
     "text": [
      "767it [10:42,  1.16it/s]"
     ]
    },
    {
     "name": "stdout",
     "output_type": "stream",
     "text": [
      "생성된 문장이 규칙을 따르지 않습니다. 단어: smoke\n"
     ]
    },
    {
     "name": "stderr",
     "output_type": "stream",
     "text": [
      "768it [10:43,  1.19it/s]"
     ]
    },
    {
     "name": "stdout",
     "output_type": "stream",
     "text": [
      "생성된 문장이 규칙을 따르지 않습니다. 단어: pollution\n"
     ]
    },
    {
     "name": "stderr",
     "output_type": "stream",
     "text": [
      "769it [10:44,  1.21it/s]"
     ]
    },
    {
     "name": "stdout",
     "output_type": "stream",
     "text": [
      "My head hurts because I fell down. head\n"
     ]
    },
    {
     "name": "stderr",
     "output_type": "stream",
     "text": [
      "770it [10:45,  1.23it/s]"
     ]
    },
    {
     "name": "stdout",
     "output_type": "stream",
     "text": [
      "생성된 문장이 규칙을 따르지 않습니다. 단어: forehead\n"
     ]
    },
    {
     "name": "stderr",
     "output_type": "stream",
     "text": [
      "771it [10:45,  1.22it/s]"
     ]
    },
    {
     "name": "stdout",
     "output_type": "stream",
     "text": [
      "생성된 문장이 규칙을 따르지 않습니다. 단어: warm\n"
     ]
    },
    {
     "name": "stderr",
     "output_type": "stream",
     "text": [
      "772it [10:46,  1.27it/s]"
     ]
    },
    {
     "name": "stdout",
     "output_type": "stream",
     "text": [
      "Touch your sore throat gently. throat\n"
     ]
    },
    {
     "name": "stderr",
     "output_type": "stream",
     "text": [
      "773it [10:47,  1.38it/s]"
     ]
    },
    {
     "name": "stdout",
     "output_type": "stream",
     "text": [
      "My neck hurts. neck\n"
     ]
    },
    {
     "name": "stderr",
     "output_type": "stream",
     "text": [
      "774it [10:48,  1.35it/s]"
     ]
    },
    {
     "name": "stdout",
     "output_type": "stream",
     "text": [
      "I have a bad cold. bad cold\n"
     ]
    },
    {
     "name": "stderr",
     "output_type": "stream",
     "text": [
      "775it [10:48,  1.33it/s]"
     ]
    },
    {
     "name": "stdout",
     "output_type": "stream",
     "text": [
      "I have a sore throat. sore throat\n"
     ]
    },
    {
     "name": "stderr",
     "output_type": "stream",
     "text": [
      "776it [10:49,  1.29it/s]"
     ]
    },
    {
     "name": "stdout",
     "output_type": "stream",
     "text": [
      "It's cold because it's winter outside. cold\n"
     ]
    },
    {
     "name": "stderr",
     "output_type": "stream",
     "text": [
      "777it [10:50,  1.31it/s]"
     ]
    },
    {
     "name": "stdout",
     "output_type": "stream",
     "text": [
      "Touch your nose. nose\n"
     ]
    },
    {
     "name": "stderr",
     "output_type": "stream",
     "text": [
      "778it [10:51,  1.31it/s]"
     ]
    },
    {
     "name": "stdout",
     "output_type": "stream",
     "text": [
      "It’s on the plate. plate\n"
     ]
    },
    {
     "name": "stderr",
     "output_type": "stream",
     "text": [
      "779it [10:52,  1.22it/s]"
     ]
    },
    {
     "name": "stdout",
     "output_type": "stream",
     "text": [
      "The girl wrinkled her eyebrows and looked pale. wrinkle\n"
     ]
    },
    {
     "name": "stderr",
     "output_type": "stream",
     "text": [
      "780it [10:52,  1.22it/s]"
     ]
    },
    {
     "name": "stdout",
     "output_type": "stream",
     "text": [
      "Touch your ear because your father is deaf. ear\n"
     ]
    },
    {
     "name": "stderr",
     "output_type": "stream",
     "text": [
      "781it [10:53,  1.21it/s]"
     ]
    },
    {
     "name": "stdout",
     "output_type": "stream",
     "text": [
      "생성된 문장이 규칙을 따르지 않습니다. 단어: blow\n"
     ]
    },
    {
     "name": "stderr",
     "output_type": "stream",
     "text": [
      "782it [10:54,  1.15it/s]"
     ]
    },
    {
     "name": "stdout",
     "output_type": "stream",
     "text": [
      "I'm resting on the bench Go back slowly please. back\n"
     ]
    },
    {
     "name": "stderr",
     "output_type": "stream",
     "text": [
      "783it [10:55,  1.10it/s]"
     ]
    },
    {
     "name": "stdout",
     "output_type": "stream",
     "text": [
      "I poked it with a fork and touched my eye. poke\n"
     ]
    },
    {
     "name": "stderr",
     "output_type": "stream",
     "text": [
      "784it [10:56,  1.13it/s]"
     ]
    },
    {
     "name": "stdout",
     "output_type": "stream",
     "text": [
      "I have a fever and I’m sick. fever\n"
     ]
    },
    {
     "name": "stderr",
     "output_type": "stream",
     "text": [
      "785it [10:57,  1.24it/s]"
     ]
    },
    {
     "name": "stdout",
     "output_type": "stream",
     "text": [
      "I have a headache. headache\n"
     ]
    },
    {
     "name": "stderr",
     "output_type": "stream",
     "text": [
      "786it [10:57,  1.25it/s]"
     ]
    },
    {
     "name": "stdout",
     "output_type": "stream",
     "text": [
      "생성된 문장이 규칙을 따르지 않습니다. 단어: handle\n"
     ]
    },
    {
     "name": "stderr",
     "output_type": "stream",
     "text": [
      "787it [10:58,  1.28it/s]"
     ]
    },
    {
     "name": "stdout",
     "output_type": "stream",
     "text": [
      "Don't swim in deep water. deep\n"
     ]
    },
    {
     "name": "stderr",
     "output_type": "stream",
     "text": [
      "788it [10:59,  1.31it/s]"
     ]
    },
    {
     "name": "stdout",
     "output_type": "stream",
     "text": [
      "This is his bell. bell\n"
     ]
    },
    {
     "name": "stderr",
     "output_type": "stream",
     "text": [
      "789it [11:00,  1.22it/s]"
     ]
    },
    {
     "name": "stdout",
     "output_type": "stream",
     "text": [
      "I have a fan called this is my fan. fan\n"
     ]
    },
    {
     "name": "stderr",
     "output_type": "stream",
     "text": [
      "790it [11:01,  1.20it/s]"
     ]
    },
    {
     "name": "stdout",
     "output_type": "stream",
     "text": [
      "생성된 문장이 규칙을 따르지 않습니다. 단어: faint\n"
     ]
    },
    {
     "name": "stderr",
     "output_type": "stream",
     "text": [
      "791it [11:02,  1.12it/s]"
     ]
    },
    {
     "name": "stdout",
     "output_type": "stream",
     "text": [
      "생성된 문장이 규칙을 따르지 않습니다. 단어: allergy\n"
     ]
    },
    {
     "name": "stderr",
     "output_type": "stream",
     "text": [
      "792it [11:03,  1.10it/s]"
     ]
    },
    {
     "name": "stdout",
     "output_type": "stream",
     "text": [
      "I have a runny nose and a cough. cough\n"
     ]
    },
    {
     "name": "stderr",
     "output_type": "stream",
     "text": [
      "793it [11:03,  1.20it/s]"
     ]
    },
    {
     "name": "stdout",
     "output_type": "stream",
     "text": [
      "생성된 문장이 규칙을 따르지 않습니다. 단어: dizzy\n"
     ]
    },
    {
     "name": "stderr",
     "output_type": "stream",
     "text": [
      "794it [11:04,  1.14it/s]"
     ]
    },
    {
     "name": "stdout",
     "output_type": "stream",
     "text": [
      "생성된 문장이 규칙을 따르지 않습니다. 단어: pulse\n"
     ]
    },
    {
     "name": "stderr",
     "output_type": "stream",
     "text": [
      "795it [11:05,  1.18it/s]"
     ]
    },
    {
     "name": "stdout",
     "output_type": "stream",
     "text": [
      "Her knit top looks neat. top\n"
     ]
    },
    {
     "name": "stderr",
     "output_type": "stream",
     "text": [
      "796it [11:06,  1.14it/s]"
     ]
    },
    {
     "name": "stdout",
     "output_type": "stream",
     "text": [
      "The bony man looks sad and is nice. bony\n"
     ]
    },
    {
     "name": "stderr",
     "output_type": "stream",
     "text": [
      "797it [11:07,  1.15it/s]"
     ]
    },
    {
     "name": "stdout",
     "output_type": "stream",
     "text": [
      "She is wiping the window and filling it. window\n"
     ]
    },
    {
     "name": "stderr",
     "output_type": "stream",
     "text": [
      "798it [11:08,  1.25it/s]"
     ]
    },
    {
     "name": "stdout",
     "output_type": "stream",
     "text": [
      "I wash my face. face\n"
     ]
    },
    {
     "name": "stderr",
     "output_type": "stream",
     "text": [
      "799it [11:08,  1.28it/s]"
     ]
    },
    {
     "name": "stdout",
     "output_type": "stream",
     "text": [
      "I can bend the rubber band. bend\n"
     ]
    },
    {
     "name": "stderr",
     "output_type": "stream",
     "text": [
      "800it [11:09,  1.21it/s]"
     ]
    },
    {
     "name": "stdout",
     "output_type": "stream",
     "text": [
      "생성된 문장이 규칙을 따르지 않습니다. 단어: heat\n"
     ]
    },
    {
     "name": "stderr",
     "output_type": "stream",
     "text": [
      "801it [11:10,  1.23it/s]"
     ]
    },
    {
     "name": "stdout",
     "output_type": "stream",
     "text": [
      "Stretch your body and touch your arm. body\n"
     ]
    },
    {
     "name": "stderr",
     "output_type": "stream",
     "text": [
      "802it [11:11,  1.25it/s]"
     ]
    },
    {
     "name": "stdout",
     "output_type": "stream",
     "text": [
      "생성된 문장이 규칙을 따르지 않습니다. 단어: cheek\n"
     ]
    },
    {
     "name": "stderr",
     "output_type": "stream",
     "text": [
      "803it [11:12,  1.27it/s]"
     ]
    },
    {
     "name": "stdout",
     "output_type": "stream",
     "text": [
      "The bear has a big chest. chest\n"
     ]
    },
    {
     "name": "stderr",
     "output_type": "stream",
     "text": [
      "804it [11:12,  1.27it/s]"
     ]
    },
    {
     "name": "stdout",
     "output_type": "stream",
     "text": [
      "Touch your cheek and touch your chin. chin\n"
     ]
    },
    {
     "name": "stderr",
     "output_type": "stream",
     "text": [
      "805it [11:13,  1.23it/s]"
     ]
    },
    {
     "name": "stdout",
     "output_type": "stream",
     "text": [
      "생성된 문장이 규칙을 따르지 않습니다. 단어: heart\n"
     ]
    },
    {
     "name": "stderr",
     "output_type": "stream",
     "text": [
      "806it [11:14,  1.26it/s]"
     ]
    },
    {
     "name": "stdout",
     "output_type": "stream",
     "text": [
      "생성된 문장이 규칙을 따르지 않습니다. 단어: trend\n"
     ]
    },
    {
     "name": "stderr",
     "output_type": "stream",
     "text": [
      "807it [11:15,  1.30it/s]"
     ]
    },
    {
     "name": "stdout",
     "output_type": "stream",
     "text": [
      "생성된 문장이 규칙을 따르지 않습니다. 단어: eye\n"
     ]
    },
    {
     "name": "stderr",
     "output_type": "stream",
     "text": [
      "808it [11:16,  1.11it/s]"
     ]
    },
    {
     "name": "stdout",
     "output_type": "stream",
     "text": [
      "The five senses are touch, smell, taste, sight, and hearing. sense\n"
     ]
    },
    {
     "name": "stderr",
     "output_type": "stream",
     "text": [
      "809it [11:17,  1.09it/s]"
     ]
    },
    {
     "name": "stdout",
     "output_type": "stream",
     "text": [
      "생성된 문장이 규칙을 따르지 않습니다. 단어: flake\n"
     ]
    },
    {
     "name": "stderr",
     "output_type": "stream",
     "text": [
      "810it [11:18,  1.07it/s]"
     ]
    },
    {
     "name": "stdout",
     "output_type": "stream",
     "text": [
      "생성된 문장이 규칙을 따르지 않습니다. 단어: cap\n"
     ]
    },
    {
     "name": "stderr",
     "output_type": "stream",
     "text": [
      "811it [11:19,  1.10it/s]"
     ]
    },
    {
     "name": "stdout",
     "output_type": "stream",
     "text": [
      "생성된 문장이 규칙을 따르지 않습니다. 단어: march\n"
     ]
    },
    {
     "name": "stderr",
     "output_type": "stream",
     "text": [
      "812it [11:19,  1.13it/s]"
     ]
    },
    {
     "name": "stdout",
     "output_type": "stream",
     "text": [
      "It's cool in autumn when leaves fall. fall\n"
     ]
    },
    {
     "name": "stderr",
     "output_type": "stream",
     "text": [
      "813it [11:20,  1.15it/s]"
     ]
    },
    {
     "name": "stdout",
     "output_type": "stream",
     "text": [
      "Tony’s birthday is in April. April\n"
     ]
    },
    {
     "name": "stderr",
     "output_type": "stream",
     "text": [
      "814it [11:21,  1.18it/s]"
     ]
    },
    {
     "name": "stdout",
     "output_type": "stream",
     "text": [
      "생성된 문장이 규칙을 따르지 않습니다. 단어: may\n"
     ]
    },
    {
     "name": "stderr",
     "output_type": "stream",
     "text": [
      "815it [11:22,  1.16it/s]"
     ]
    },
    {
     "name": "stdout",
     "output_type": "stream",
     "text": [
      "There are twelve months in a year. month\n"
     ]
    },
    {
     "name": "stderr",
     "output_type": "stream",
     "text": [
      "816it [11:23,  1.17it/s]"
     ]
    },
    {
     "name": "stdout",
     "output_type": "stream",
     "text": [
      "We have a lot of snow in winter. snow\n"
     ]
    },
    {
     "name": "stderr",
     "output_type": "stream",
     "text": [
      "817it [11:24,  1.15it/s]"
     ]
    },
    {
     "name": "stdout",
     "output_type": "stream",
     "text": [
      "School begins in March when it's spring. spring\n"
     ]
    },
    {
     "name": "stderr",
     "output_type": "stream",
     "text": [
      "818it [11:25,  1.17it/s]"
     ]
    },
    {
     "name": "stdout",
     "output_type": "stream",
     "text": [
      "I like summer vacation because it's warm. summer\n"
     ]
    },
    {
     "name": "stderr",
     "output_type": "stream",
     "text": [
      "819it [11:25,  1.19it/s]"
     ]
    },
    {
     "name": "stdout",
     "output_type": "stream",
     "text": [
      "I read many books in autumn. autumn\n"
     ]
    },
    {
     "name": "stderr",
     "output_type": "stream",
     "text": [
      "820it [11:26,  1.19it/s]"
     ]
    },
    {
     "name": "stdout",
     "output_type": "stream",
     "text": [
      "I hate winter because it's cold outside. winter\n"
     ]
    },
    {
     "name": "stderr",
     "output_type": "stream",
     "text": [
      "821it [11:27,  1.21it/s]"
     ]
    },
    {
     "name": "stdout",
     "output_type": "stream",
     "text": [
      "생성된 문장이 규칙을 따르지 않습니다. 단어: snowy\n"
     ]
    },
    {
     "name": "stderr",
     "output_type": "stream",
     "text": [
      "822it [11:28,  1.21it/s]"
     ]
    },
    {
     "name": "stdout",
     "output_type": "stream",
     "text": [
      "The teacher asks What's your favorite season? season\n"
     ]
    },
    {
     "name": "stderr",
     "output_type": "stream",
     "text": [
      "823it [11:29,  1.20it/s]"
     ]
    },
    {
     "name": "stdout",
     "output_type": "stream",
     "text": [
      "My birthday is in January and December. January\n"
     ]
    },
    {
     "name": "stderr",
     "output_type": "stream",
     "text": [
      "824it [11:29,  1.23it/s]"
     ]
    },
    {
     "name": "stdout",
     "output_type": "stream",
     "text": [
      "생성된 문장이 규칙을 따르지 않습니다. 단어: February\n"
     ]
    },
    {
     "name": "stderr",
     "output_type": "stream",
     "text": [
      "825it [11:30,  1.19it/s]"
     ]
    },
    {
     "name": "stdout",
     "output_type": "stream",
     "text": [
      "School begins in March usually around late March. March\n"
     ]
    },
    {
     "name": "stderr",
     "output_type": "stream",
     "text": [
      "826it [11:31,  1.21it/s]"
     ]
    },
    {
     "name": "stdout",
     "output_type": "stream",
     "text": [
      "Children's Day is in May. May\n"
     ]
    },
    {
     "name": "stderr",
     "output_type": "stream",
     "text": [
      "827it [11:32,  1.27it/s]"
     ]
    },
    {
     "name": "stdout",
     "output_type": "stream",
     "text": [
      "His birthday is in June. June\n"
     ]
    },
    {
     "name": "stderr",
     "output_type": "stream",
     "text": [
      "828it [11:33,  1.28it/s]"
     ]
    },
    {
     "name": "stdout",
     "output_type": "stream",
     "text": [
      "Her birthday is in July. July\n"
     ]
    },
    {
     "name": "stderr",
     "output_type": "stream",
     "text": [
      "829it [11:33,  1.24it/s]"
     ]
    },
    {
     "name": "stdout",
     "output_type": "stream",
     "text": [
      "Tommy's birthday is in August. August\n"
     ]
    },
    {
     "name": "stderr",
     "output_type": "stream",
     "text": [
      "830it [11:34,  1.19it/s]"
     ]
    },
    {
     "name": "stdout",
     "output_type": "stream",
     "text": [
      "Jina’s birthday is on September first. September\n"
     ]
    },
    {
     "name": "stderr",
     "output_type": "stream",
     "text": [
      "831it [11:35,  1.21it/s]"
     ]
    },
    {
     "name": "stdout",
     "output_type": "stream",
     "text": [
      "Halloween is in October every year. October\n"
     ]
    },
    {
     "name": "stderr",
     "output_type": "stream",
     "text": [
      "832it [11:36,  1.22it/s]"
     ]
    },
    {
     "name": "stdout",
     "output_type": "stream",
     "text": [
      "Thanksgiving day is in November. November\n"
     ]
    },
    {
     "name": "stderr",
     "output_type": "stream",
     "text": [
      "833it [11:37,  1.20it/s]"
     ]
    },
    {
     "name": "stdout",
     "output_type": "stream",
     "text": [
      "Christmas day is in December and January. December\n"
     ]
    },
    {
     "name": "stderr",
     "output_type": "stream",
     "text": [
      "834it [11:38,  1.16it/s]"
     ]
    },
    {
     "name": "stdout",
     "output_type": "stream",
     "text": [
      "생성된 문장이 규칙을 따르지 않습니다. 단어: year\n"
     ]
    },
    {
     "name": "stderr",
     "output_type": "stream",
     "text": [
      "835it [11:39,  1.15it/s]"
     ]
    },
    {
     "name": "stdout",
     "output_type": "stream",
     "text": [
      "He marked her birthday on the calendar. calendar\n"
     ]
    },
    {
     "name": "stderr",
     "output_type": "stream",
     "text": [
      "836it [11:40,  1.14it/s]"
     ]
    },
    {
     "name": "stdout",
     "output_type": "stream",
     "text": [
      "생성된 문장이 규칙을 따르지 않습니다. 단어: annually\n"
     ]
    },
    {
     "name": "stderr",
     "output_type": "stream",
     "text": [
      "837it [11:40,  1.15it/s]"
     ]
    },
    {
     "name": "stdout",
     "output_type": "stream",
     "text": [
      "생성된 문장이 규칙을 따르지 않습니다. 단어: exciting\n"
     ]
    },
    {
     "name": "stderr",
     "output_type": "stream",
     "text": [
      "838it [11:41,  1.15it/s]"
     ]
    },
    {
     "name": "stdout",
     "output_type": "stream",
     "text": [
      "생성된 문장이 규칙을 따르지 않습니다. 단어: thrilling\n"
     ]
    },
    {
     "name": "stderr",
     "output_type": "stream",
     "text": [
      "839it [11:42,  1.17it/s]"
     ]
    },
    {
     "name": "stdout",
     "output_type": "stream",
     "text": [
      "We’re excited about our fun field trip. excited\n"
     ]
    },
    {
     "name": "stderr",
     "output_type": "stream",
     "text": [
      "840it [11:43,  1.18it/s]"
     ]
    },
    {
     "name": "stdout",
     "output_type": "stream",
     "text": [
      "I have a pair of sneakers. pair\n"
     ]
    },
    {
     "name": "stderr",
     "output_type": "stream",
     "text": [
      "841it [11:44,  1.24it/s]"
     ]
    },
    {
     "name": "stdout",
     "output_type": "stream",
     "text": [
      "생성된 문장이 규칙을 따르지 않습니다. 단어: duo\n"
     ]
    },
    {
     "name": "stderr",
     "output_type": "stream",
     "text": [
      "842it [11:44,  1.22it/s]"
     ]
    },
    {
     "name": "stdout",
     "output_type": "stream",
     "text": [
      "생성된 문장이 규칙을 따르지 않습니다. 단어: couple\n"
     ]
    },
    {
     "name": "stderr",
     "output_type": "stream",
     "text": [
      "843it [11:45,  1.24it/s]"
     ]
    },
    {
     "name": "stdout",
     "output_type": "stream",
     "text": [
      "생성된 문장이 규칙을 따르지 않습니다. 단어: dual\n"
     ]
    },
    {
     "name": "stderr",
     "output_type": "stream",
     "text": [
      "844it [11:46,  1.22it/s]"
     ]
    },
    {
     "name": "stdout",
     "output_type": "stream",
     "text": [
      "생성된 문장이 규칙을 따르지 않습니다. 단어: mix\n"
     ]
    },
    {
     "name": "stderr",
     "output_type": "stream",
     "text": [
      "845it [11:47,  1.20it/s]"
     ]
    },
    {
     "name": "stdout",
     "output_type": "stream",
     "text": [
      "Two friends are both very foolish together. fool\n"
     ]
    },
    {
     "name": "stderr",
     "output_type": "stream",
     "text": [
      "846it [11:48,  1.26it/s]"
     ]
    },
    {
     "name": "stdout",
     "output_type": "stream",
     "text": [
      "He is blind and foolish. foolish\n"
     ]
    },
    {
     "name": "stderr",
     "output_type": "stream",
     "text": [
      "847it [11:48,  1.25it/s]"
     ]
    },
    {
     "name": "stdout",
     "output_type": "stream",
     "text": [
      "생성된 문장이 규칙을 따르지 않습니다. 단어: silly\n"
     ]
    },
    {
     "name": "stderr",
     "output_type": "stream",
     "text": [
      "848it [11:49,  1.29it/s]"
     ]
    },
    {
     "name": "stdout",
     "output_type": "stream",
     "text": [
      "생성된 문장이 규칙을 따르지 않습니다. 단어: nonsense\n"
     ]
    },
    {
     "name": "stderr",
     "output_type": "stream",
     "text": [
      "849it [11:50,  1.28it/s]"
     ]
    },
    {
     "name": "stdout",
     "output_type": "stream",
     "text": [
      "I’m eating because I’m hungry. hungry\n"
     ]
    },
    {
     "name": "stderr",
     "output_type": "stream",
     "text": [
      "850it [11:51,  1.26it/s]"
     ]
    },
    {
     "name": "stdout",
     "output_type": "stream",
     "text": [
      "I’m thirsty. Give me some juice. thirsty\n"
     ]
    },
    {
     "name": "stderr",
     "output_type": "stream",
     "text": [
      "851it [11:52,  1.27it/s]"
     ]
    },
    {
     "name": "stdout",
     "output_type": "stream",
     "text": [
      "This book is very interesting. interesting\n"
     ]
    },
    {
     "name": "stderr",
     "output_type": "stream",
     "text": [
      "852it [11:52,  1.27it/s]"
     ]
    },
    {
     "name": "stdout",
     "output_type": "stream",
     "text": [
      "생성된 문장이 규칙을 따르지 않습니다. 단어: cool\n"
     ]
    },
    {
     "name": "stderr",
     "output_type": "stream",
     "text": [
      "853it [11:53,  1.28it/s]"
     ]
    },
    {
     "name": "stdout",
     "output_type": "stream",
     "text": [
      "생성된 문장이 규칙을 따르지 않습니다. 단어: sweet\n"
     ]
    },
    {
     "name": "stderr",
     "output_type": "stream",
     "text": [
      "854it [11:54,  1.33it/s]"
     ]
    },
    {
     "name": "stdout",
     "output_type": "stream",
     "text": [
      "생성된 문장이 규칙을 따르지 않습니다. 단어: neat\n"
     ]
    },
    {
     "name": "stderr",
     "output_type": "stream",
     "text": [
      "855it [11:55,  1.26it/s]"
     ]
    },
    {
     "name": "stdout",
     "output_type": "stream",
     "text": [
      "생성된 문장이 규칙을 따르지 않습니다. 단어: nice\n"
     ]
    },
    {
     "name": "stderr",
     "output_type": "stream",
     "text": [
      "856it [11:55,  1.28it/s]"
     ]
    },
    {
     "name": "stdout",
     "output_type": "stream",
     "text": [
      "생성된 문장이 규칙을 따르지 않습니다. 단어: course\n"
     ]
    },
    {
     "name": "stderr",
     "output_type": "stream",
     "text": [
      "857it [11:56,  1.19it/s]"
     ]
    },
    {
     "name": "stdout",
     "output_type": "stream",
     "text": [
      "생성된 문장이 규칙을 따르지 않습니다. 단어: interested\n"
     ]
    },
    {
     "name": "stderr",
     "output_type": "stream",
     "text": [
      "858it [11:57,  1.17it/s]"
     ]
    },
    {
     "name": "stdout",
     "output_type": "stream",
     "text": [
      "생성된 문장이 규칙을 따르지 않습니다. 단어: lot\n"
     ]
    },
    {
     "name": "stderr",
     "output_type": "stream",
     "text": [
      "859it [11:58,  1.16it/s]"
     ]
    },
    {
     "name": "stdout",
     "output_type": "stream",
     "text": [
      "생성된 문장이 규칙을 따르지 않습니다. 단어: countless\n"
     ]
    },
    {
     "name": "stderr",
     "output_type": "stream",
     "text": [
      "860it [11:59,  1.13it/s]"
     ]
    },
    {
     "name": "stdout",
     "output_type": "stream",
     "text": [
      "생성된 문장이 규칙을 따르지 않습니다. 단어: several\n"
     ]
    },
    {
     "name": "stderr",
     "output_type": "stream",
     "text": [
      "861it [12:00,  1.13it/s]"
     ]
    },
    {
     "name": "stdout",
     "output_type": "stream",
     "text": [
      "생성된 문장이 규칙을 따르지 않습니다. 단어: many\n"
     ]
    },
    {
     "name": "stderr",
     "output_type": "stream",
     "text": [
      "862it [12:01,  1.13it/s]"
     ]
    },
    {
     "name": "stdout",
     "output_type": "stream",
     "text": [
      "생성된 문장이 규칙을 따르지 않습니다. 단어: most\n"
     ]
    },
    {
     "name": "stderr",
     "output_type": "stream",
     "text": [
      "863it [12:02,  1.14it/s]"
     ]
    },
    {
     "name": "stdout",
     "output_type": "stream",
     "text": [
      "생성된 문장이 규칙을 따르지 않습니다. 단어: some\n"
     ]
    },
    {
     "name": "stderr",
     "output_type": "stream",
     "text": [
      "864it [12:03,  1.15it/s]"
     ]
    },
    {
     "name": "stdout",
     "output_type": "stream",
     "text": [
      "생성된 문장이 규칙을 따르지 않습니다. 단어: bunch\n"
     ]
    },
    {
     "name": "stderr",
     "output_type": "stream",
     "text": [
      "865it [12:03,  1.21it/s]"
     ]
    },
    {
     "name": "stdout",
     "output_type": "stream",
     "text": [
      "생성된 문장이 규칙을 따르지 않습니다. 단어: polite\n"
     ]
    },
    {
     "name": "stderr",
     "output_type": "stream",
     "text": [
      "866it [12:04,  1.19it/s]"
     ]
    },
    {
     "name": "stdout",
     "output_type": "stream",
     "text": [
      "생성된 문장이 규칙을 따르지 않습니다. 단어: impolite\n"
     ]
    },
    {
     "name": "stderr",
     "output_type": "stream",
     "text": [
      "867it [12:05,  1.13it/s]"
     ]
    },
    {
     "name": "stdout",
     "output_type": "stream",
     "text": [
      "I was rude to my mom, I'm sorry. rude\n"
     ]
    },
    {
     "name": "stderr",
     "output_type": "stream",
     "text": [
      "868it [12:06,  1.12it/s]"
     ]
    },
    {
     "name": "stdout",
     "output_type": "stream",
     "text": [
      "생성된 문장이 규칙을 따르지 않습니다. 단어: conduct\n"
     ]
    },
    {
     "name": "stderr",
     "output_type": "stream",
     "text": [
      "869it [12:07,  1.12it/s]"
     ]
    },
    {
     "name": "stdout",
     "output_type": "stream",
     "text": [
      "생성된 문장이 규칙을 따르지 않습니다. 단어: civil\n"
     ]
    },
    {
     "name": "stderr",
     "output_type": "stream",
     "text": [
      "870it [12:08,  1.12it/s]"
     ]
    },
    {
     "name": "stdout",
     "output_type": "stream",
     "text": [
      "생성된 문장이 규칙을 따르지 않습니다. 단어: inconvenient\n"
     ]
    },
    {
     "name": "stderr",
     "output_type": "stream",
     "text": [
      "871it [12:09,  1.12it/s]"
     ]
    },
    {
     "name": "stdout",
     "output_type": "stream",
     "text": [
      "생성된 문장이 규칙을 따르지 않습니다. 단어: unkind\n"
     ]
    },
    {
     "name": "stderr",
     "output_type": "stream",
     "text": [
      "872it [12:10,  1.13it/s]"
     ]
    },
    {
     "name": "stdout",
     "output_type": "stream",
     "text": [
      "생성된 문장이 규칙을 따르지 않습니다. 단어: antisocial\n"
     ]
    },
    {
     "name": "stderr",
     "output_type": "stream",
     "text": [
      "873it [12:10,  1.18it/s]"
     ]
    },
    {
     "name": "stdout",
     "output_type": "stream",
     "text": [
      "생성된 문장이 규칙을 따르지 않습니다. 단어: athlete\n"
     ]
    },
    {
     "name": "stderr",
     "output_type": "stream",
     "text": [
      "874it [12:11,  1.22it/s]"
     ]
    },
    {
     "name": "stdout",
     "output_type": "stream",
     "text": [
      "생성된 문장이 규칙을 따르지 않습니다. 단어: football\n"
     ]
    },
    {
     "name": "stderr",
     "output_type": "stream",
     "text": [
      "875it [12:12,  1.23it/s]"
     ]
    },
    {
     "name": "stdout",
     "output_type": "stream",
     "text": [
      "We like sports and play hockey. hockey\n"
     ]
    },
    {
     "name": "stderr",
     "output_type": "stream",
     "text": [
      "876it [12:13,  1.21it/s]"
     ]
    },
    {
     "name": "stdout",
     "output_type": "stream",
     "text": [
      "We like sports and I play soccer. sport\n"
     ]
    },
    {
     "name": "stderr",
     "output_type": "stream",
     "text": [
      "877it [12:14,  1.19it/s]"
     ]
    },
    {
     "name": "stdout",
     "output_type": "stream",
     "text": [
      "Let's play baseball after school today. baseball\n"
     ]
    },
    {
     "name": "stderr",
     "output_type": "stream",
     "text": [
      "878it [12:15,  1.16it/s]"
     ]
    },
    {
     "name": "stdout",
     "output_type": "stream",
     "text": [
      "The ball is black and hard near me. ball\n"
     ]
    },
    {
     "name": "stderr",
     "output_type": "stream",
     "text": [
      "879it [12:15,  1.19it/s]"
     ]
    },
    {
     "name": "stdout",
     "output_type": "stream",
     "text": [
      "Let's play badminton. badminton\n"
     ]
    },
    {
     "name": "stderr",
     "output_type": "stream",
     "text": [
      "880it [12:16,  1.18it/s]"
     ]
    },
    {
     "name": "stdout",
     "output_type": "stream",
     "text": [
      "We are playing basketball on our team. basketball\n"
     ]
    },
    {
     "name": "stderr",
     "output_type": "stream",
     "text": [
      "881it [12:17,  1.16it/s]"
     ]
    },
    {
     "name": "stdout",
     "output_type": "stream",
     "text": [
      "Let's play golf on the green. golf\n"
     ]
    },
    {
     "name": "stderr",
     "output_type": "stream",
     "text": [
      "882it [12:18,  1.22it/s]"
     ]
    },
    {
     "name": "stdout",
     "output_type": "stream",
     "text": [
      "생성된 문장이 규칙을 따르지 않습니다. 단어: ping-pong\n"
     ]
    },
    {
     "name": "stderr",
     "output_type": "stream",
     "text": [
      "883it [12:19,  1.25it/s]"
     ]
    },
    {
     "name": "stdout",
     "output_type": "stream",
     "text": [
      "I’m on the soccer team. soccer\n"
     ]
    },
    {
     "name": "stderr",
     "output_type": "stream",
     "text": [
      "884it [12:19,  1.25it/s]"
     ]
    },
    {
     "name": "stdout",
     "output_type": "stream",
     "text": [
      "We are playing tennis with him. tennis\n"
     ]
    },
    {
     "name": "stderr",
     "output_type": "stream",
     "text": [
      "885it [12:20,  1.29it/s]"
     ]
    },
    {
     "name": "stdout",
     "output_type": "stream",
     "text": [
      "Let's play volleyball. volleyball\n"
     ]
    },
    {
     "name": "stderr",
     "output_type": "stream",
     "text": [
      "886it [12:21,  1.26it/s]"
     ]
    },
    {
     "name": "stdout",
     "output_type": "stream",
     "text": [
      "Do you need a new empty bowl? bowl\n"
     ]
    },
    {
     "name": "stderr",
     "output_type": "stream",
     "text": [
      "887it [12:22,  1.21it/s]"
     ]
    },
    {
     "name": "stdout",
     "output_type": "stream",
     "text": [
      "The board is big and I play chess. board\n"
     ]
    },
    {
     "name": "stderr",
     "output_type": "stream",
     "text": [
      "888it [12:23,  1.20it/s]"
     ]
    },
    {
     "name": "stdout",
     "output_type": "stream",
     "text": [
      "You have to play outside every day. play\n"
     ]
    },
    {
     "name": "stderr",
     "output_type": "stream",
     "text": [
      "889it [12:24,  1.17it/s]"
     ]
    },
    {
     "name": "stdout",
     "output_type": "stream",
     "text": [
      "She is swinging the swing at the playground. swing\n"
     ]
    },
    {
     "name": "stderr",
     "output_type": "stream",
     "text": [
      "890it [12:24,  1.19it/s]"
     ]
    },
    {
     "name": "stdout",
     "output_type": "stream",
     "text": [
      "생성된 문장이 규칙을 따르지 않습니다. 단어: league\n"
     ]
    },
    {
     "name": "stderr",
     "output_type": "stream",
     "text": [
      "891it [12:25,  1.19it/s]"
     ]
    },
    {
     "name": "stdout",
     "output_type": "stream",
     "text": [
      "생성된 문장이 규칙을 따르지 않습니다. 단어: referee\n"
     ]
    },
    {
     "name": "stderr",
     "output_type": "stream",
     "text": [
      "892it [12:26,  1.24it/s]"
     ]
    },
    {
     "name": "stdout",
     "output_type": "stream",
     "text": [
      "He won the boxing match. match\n"
     ]
    },
    {
     "name": "stderr",
     "output_type": "stream",
     "text": [
      "893it [12:27,  1.20it/s]"
     ]
    },
    {
     "name": "stdout",
     "output_type": "stream",
     "text": [
      "It's a cup that I broke. cup\n"
     ]
    },
    {
     "name": "stderr",
     "output_type": "stream",
     "text": [
      "894it [12:28,  1.20it/s]"
     ]
    },
    {
     "name": "stdout",
     "output_type": "stream",
     "text": [
      "생성된 문장이 규칙을 따르지 않습니다. 단어: racket\n"
     ]
    },
    {
     "name": "stderr",
     "output_type": "stream",
     "text": [
      "895it [12:29,  1.15it/s]"
     ]
    },
    {
     "name": "stdout",
     "output_type": "stream",
     "text": [
      "He can't skate because he's on ice. skate\n"
     ]
    },
    {
     "name": "stderr",
     "output_type": "stream",
     "text": [
      "896it [12:29,  1.21it/s]"
     ]
    },
    {
     "name": "stdout",
     "output_type": "stream",
     "text": [
      "I train my team. team\n"
     ]
    },
    {
     "name": "stderr",
     "output_type": "stream",
     "text": [
      "897it [12:30,  1.14it/s]"
     ]
    },
    {
     "name": "stdout",
     "output_type": "stream",
     "text": [
      "I have a brown basket covered with a wet cloth. basket\n"
     ]
    },
    {
     "name": "stderr",
     "output_type": "stream",
     "text": [
      "898it [12:31,  1.18it/s]"
     ]
    },
    {
     "name": "stdout",
     "output_type": "stream",
     "text": [
      "I sometimes play chess on Fridays. chess\n"
     ]
    },
    {
     "name": "stderr",
     "output_type": "stream",
     "text": [
      "899it [12:32,  1.22it/s]"
     ]
    },
    {
     "name": "stdout",
     "output_type": "stream",
     "text": [
      "생성된 문장이 규칙을 따르지 않습니다. 단어: instrument\n"
     ]
    },
    {
     "name": "stderr",
     "output_type": "stream",
     "text": [
      "900it [12:33,  1.18it/s]"
     ]
    },
    {
     "name": "stdout",
     "output_type": "stream",
     "text": [
      "생성된 문장이 규칙을 따르지 않습니다. 단어: music\n"
     ]
    },
    {
     "name": "stderr",
     "output_type": "stream",
     "text": [
      "901it [12:34,  1.27it/s]"
     ]
    },
    {
     "name": "stdout",
     "output_type": "stream",
     "text": [
      "We watch a musical. musical\n"
     ]
    },
    {
     "name": "stderr",
     "output_type": "stream",
     "text": [
      "902it [12:34,  1.19it/s]"
     ]
    },
    {
     "name": "stdout",
     "output_type": "stream",
     "text": [
      "She is a great pianist and plays piano. pianist\n"
     ]
    },
    {
     "name": "stderr",
     "output_type": "stream",
     "text": [
      "903it [12:35,  1.22it/s]"
     ]
    },
    {
     "name": "stdout",
     "output_type": "stream",
     "text": [
      "Let's play the drum. drum\n"
     ]
    },
    {
     "name": "stderr",
     "output_type": "stream",
     "text": [
      "904it [12:36,  1.25it/s]"
     ]
    },
    {
     "name": "stdout",
     "output_type": "stream",
     "text": [
      "Let's play the guitar. guitar\n"
     ]
    },
    {
     "name": "stderr",
     "output_type": "stream",
     "text": [
      "905it [12:37,  1.23it/s]"
     ]
    },
    {
     "name": "stdout",
     "output_type": "stream",
     "text": [
      "Let's play the piano every week. piano\n"
     ]
    },
    {
     "name": "stderr",
     "output_type": "stream",
     "text": [
      "906it [12:38,  1.23it/s]"
     ]
    },
    {
     "name": "stdout",
     "output_type": "stream",
     "text": [
      "My uncle is a great violinist. violin\n"
     ]
    },
    {
     "name": "stderr",
     "output_type": "stream",
     "text": [
      "907it [12:39,  1.21it/s]"
     ]
    },
    {
     "name": "stdout",
     "output_type": "stream",
     "text": [
      "생성된 문장이 규칙을 따르지 않습니다. 단어: entertainer\n"
     ]
    },
    {
     "name": "stderr",
     "output_type": "stream",
     "text": [
      "908it [12:39,  1.22it/s]"
     ]
    },
    {
     "name": "stdout",
     "output_type": "stream",
     "text": [
      "She is a very popular singer. singer\n"
     ]
    },
    {
     "name": "stderr",
     "output_type": "stream",
     "text": [
      "909it [12:40,  1.22it/s]"
     ]
    },
    {
     "name": "stdout",
     "output_type": "stream",
     "text": [
      "생성된 문장이 규칙을 따르지 않습니다. 단어: musician\n"
     ]
    },
    {
     "name": "stderr",
     "output_type": "stream",
     "text": [
      "910it [12:41,  1.26it/s]"
     ]
    },
    {
     "name": "stdout",
     "output_type": "stream",
     "text": [
      "He has a talent for music. talent\n"
     ]
    },
    {
     "name": "stderr",
     "output_type": "stream",
     "text": [
      "911it [12:42,  1.23it/s]"
     ]
    },
    {
     "name": "stdout",
     "output_type": "stream",
     "text": [
      "The rock is rocking really hard outside. rock\n"
     ]
    },
    {
     "name": "stderr",
     "output_type": "stream",
     "text": [
      "912it [12:42,  1.26it/s]"
     ]
    },
    {
     "name": "stdout",
     "output_type": "stream",
     "text": [
      "Let's sing a song together. sing\n"
     ]
    },
    {
     "name": "stderr",
     "output_type": "stream",
     "text": [
      "913it [12:44,  1.15it/s]"
     ]
    },
    {
     "name": "stdout",
     "output_type": "stream",
     "text": [
      "생성된 문장이 규칙을 따르지 않습니다. 단어: band\n"
     ]
    },
    {
     "name": "stderr",
     "output_type": "stream",
     "text": [
      "914it [12:44,  1.14it/s]"
     ]
    },
    {
     "name": "stdout",
     "output_type": "stream",
     "text": [
      "생성된 문장이 규칙을 따르지 않습니다. 단어: angel\n"
     ]
    },
    {
     "name": "stderr",
     "output_type": "stream",
     "text": [
      "915it [12:45,  1.14it/s]"
     ]
    },
    {
     "name": "stdout",
     "output_type": "stream",
     "text": [
      "This is my yellow radio they listen. radio\n"
     ]
    },
    {
     "name": "stderr",
     "output_type": "stream",
     "text": [
      "916it [12:46,  1.19it/s]"
     ]
    },
    {
     "name": "stdout",
     "output_type": "stream",
     "text": [
      "Let's play the recorder. recorder\n"
     ]
    },
    {
     "name": "stderr",
     "output_type": "stream",
     "text": [
      "917it [12:47,  1.23it/s]"
     ]
    },
    {
     "name": "stdout",
     "output_type": "stream",
     "text": [
      "Let's listen to the song. song\n"
     ]
    },
    {
     "name": "stderr",
     "output_type": "stream",
     "text": [
      "918it [12:48,  1.21it/s]"
     ]
    },
    {
     "name": "stdout",
     "output_type": "stream",
     "text": [
      "James is a handsome prince who sings. prince\n"
     ]
    },
    {
     "name": "stderr",
     "output_type": "stream",
     "text": [
      "919it [12:48,  1.28it/s]"
     ]
    },
    {
     "name": "stdout",
     "output_type": "stream",
     "text": [
      "Get off the stage immediately. stage\n"
     ]
    },
    {
     "name": "stderr",
     "output_type": "stream",
     "text": [
      "920it [12:49,  1.31it/s]"
     ]
    },
    {
     "name": "stdout",
     "output_type": "stream",
     "text": [
      "I have an album. album\n"
     ]
    },
    {
     "name": "stderr",
     "output_type": "stream",
     "text": [
      "921it [12:50,  1.29it/s]"
     ]
    },
    {
     "name": "stdout",
     "output_type": "stream",
     "text": [
      "I want jam and I like juice. jam\n"
     ]
    },
    {
     "name": "stderr",
     "output_type": "stream",
     "text": [
      "922it [12:51,  1.21it/s]"
     ]
    },
    {
     "name": "stdout",
     "output_type": "stream",
     "text": [
      "생성된 문장이 규칙을 따르지 않습니다. 단어: perform\n"
     ]
    },
    {
     "name": "stderr",
     "output_type": "stream",
     "text": [
      "923it [12:52,  1.27it/s]"
     ]
    },
    {
     "name": "stdout",
     "output_type": "stream",
     "text": [
      "생성된 문장이 규칙을 따르지 않습니다. 단어: wide\n"
     ]
    },
    {
     "name": "stderr",
     "output_type": "stream",
     "text": [
      "924it [12:52,  1.22it/s]"
     ]
    },
    {
     "name": "stdout",
     "output_type": "stream",
     "text": [
      "The bus is big on It's a broad road. broad\n"
     ]
    },
    {
     "name": "stderr",
     "output_type": "stream",
     "text": [
      "925it [12:53,  1.20it/s]"
     ]
    },
    {
     "name": "stdout",
     "output_type": "stream",
     "text": [
      "생성된 문장이 규칙을 따르지 않습니다. 단어: eighth\n"
     ]
    },
    {
     "name": "stderr",
     "output_type": "stream",
     "text": [
      "926it [12:54,  1.12it/s]"
     ]
    },
    {
     "name": "stdout",
     "output_type": "stream",
     "text": [
      "생성된 문장이 규칙을 따르지 않습니다. 단어: fifth\n"
     ]
    },
    {
     "name": "stderr",
     "output_type": "stream",
     "text": [
      "927it [12:55,  1.16it/s]"
     ]
    },
    {
     "name": "stdout",
     "output_type": "stream",
     "text": [
      "She perceived that she placed first. first\n"
     ]
    },
    {
     "name": "stderr",
     "output_type": "stream",
     "text": [
      "928it [12:56,  1.14it/s]"
     ]
    },
    {
     "name": "stdout",
     "output_type": "stream",
     "text": [
      "A pet shop is on the ninth floor. ninth\n"
     ]
    },
    {
     "name": "stderr",
     "output_type": "stream",
     "text": [
      "929it [12:57,  1.16it/s]"
     ]
    },
    {
     "name": "stdout",
     "output_type": "stream",
     "text": [
      "생성된 문장이 규칙을 따르지 않습니다. 단어: second\n"
     ]
    },
    {
     "name": "stderr",
     "output_type": "stream",
     "text": [
      "930it [12:58,  1.18it/s]"
     ]
    },
    {
     "name": "stdout",
     "output_type": "stream",
     "text": [
      "생성된 문장이 규칙을 따르지 않습니다. 단어: third\n"
     ]
    },
    {
     "name": "stderr",
     "output_type": "stream",
     "text": [
      "931it [12:59,  1.11it/s]"
     ]
    },
    {
     "name": "stdout",
     "output_type": "stream",
     "text": [
      "Today is my twelfth birthday and I'm excited. twelfth\n"
     ]
    },
    {
     "name": "stderr",
     "output_type": "stream",
     "text": [
      "932it [12:59,  1.17it/s]"
     ]
    },
    {
     "name": "stdout",
     "output_type": "stream",
     "text": [
      "생성된 문장이 규칙을 따르지 않습니다. 단어: twentieth\n"
     ]
    },
    {
     "name": "stderr",
     "output_type": "stream",
     "text": [
      "933it [13:00,  1.26it/s]"
     ]
    },
    {
     "name": "stdout",
     "output_type": "stream",
     "text": [
      "Twenty plus twenty is forty. twenty\n"
     ]
    },
    {
     "name": "stderr",
     "output_type": "stream",
     "text": [
      "934it [13:01,  1.27it/s]"
     ]
    },
    {
     "name": "stdout",
     "output_type": "stream",
     "text": [
      "Thirty plus thirty is sixty. thirty\n"
     ]
    },
    {
     "name": "stderr",
     "output_type": "stream",
     "text": [
      "935it [13:02,  1.27it/s]"
     ]
    },
    {
     "name": "stdout",
     "output_type": "stream",
     "text": [
      "Forty plus forty is eighty. forty\n"
     ]
    },
    {
     "name": "stderr",
     "output_type": "stream",
     "text": [
      "936it [13:02,  1.29it/s]"
     ]
    },
    {
     "name": "stdout",
     "output_type": "stream",
     "text": [
      "Forty plus fifty is ninety. fifty\n"
     ]
    },
    {
     "name": "stderr",
     "output_type": "stream",
     "text": [
      "937it [13:03,  1.17it/s]"
     ]
    },
    {
     "name": "stdout",
     "output_type": "stream",
     "text": [
      "Thirty plus thirty is sixty and forty plus fifty is ninety. sixty\n"
     ]
    },
    {
     "name": "stderr",
     "output_type": "stream",
     "text": [
      "938it [13:04,  1.21it/s]"
     ]
    },
    {
     "name": "stdout",
     "output_type": "stream",
     "text": [
      "Thirty plus forty is seventy. seventy\n"
     ]
    },
    {
     "name": "stderr",
     "output_type": "stream",
     "text": [
      "939it [13:05,  1.22it/s]"
     ]
    },
    {
     "name": "stdout",
     "output_type": "stream",
     "text": [
      "Forty plus forty is eighty. eighty\n"
     ]
    },
    {
     "name": "stderr",
     "output_type": "stream",
     "text": [
      "940it [13:06,  1.23it/s]"
     ]
    },
    {
     "name": "stdout",
     "output_type": "stream",
     "text": [
      "Forty plus fifty is ninety. ninety\n"
     ]
    },
    {
     "name": "stderr",
     "output_type": "stream",
     "text": [
      "941it [13:07,  1.20it/s]"
     ]
    },
    {
     "name": "stdout",
     "output_type": "stream",
     "text": [
      "생성된 문장이 규칙을 따르지 않습니다. 단어: hundred\n"
     ]
    },
    {
     "name": "stderr",
     "output_type": "stream",
     "text": [
      "942it [13:07,  1.22it/s]"
     ]
    },
    {
     "name": "stdout",
     "output_type": "stream",
     "text": [
      "생성된 문장이 규칙을 따르지 않습니다. 단어: thousand\n"
     ]
    },
    {
     "name": "stderr",
     "output_type": "stream",
     "text": [
      "943it [13:08,  1.20it/s]"
     ]
    },
    {
     "name": "stdout",
     "output_type": "stream",
     "text": [
      "생성된 문장이 규칙을 따르지 않습니다. 단어: teenager\n"
     ]
    },
    {
     "name": "stderr",
     "output_type": "stream",
     "text": [
      "944it [13:09,  1.15it/s]"
     ]
    },
    {
     "name": "stdout",
     "output_type": "stream",
     "text": [
      "It's an old car parked on the road. old\n"
     ]
    },
    {
     "name": "stderr",
     "output_type": "stream",
     "text": [
      "945it [13:10,  1.12it/s]"
     ]
    },
    {
     "name": "stdout",
     "output_type": "stream",
     "text": [
      "생성된 문장이 규칙을 따르지 않습니다. 단어: million\n"
     ]
    },
    {
     "name": "stderr",
     "output_type": "stream",
     "text": [
      "946it [13:11,  1.11it/s]"
     ]
    },
    {
     "name": "stdout",
     "output_type": "stream",
     "text": [
      "There are nine zeroes in a billion. billion\n"
     ]
    },
    {
     "name": "stderr",
     "output_type": "stream",
     "text": [
      "947it [13:12,  1.10it/s]"
     ]
    },
    {
     "name": "stdout",
     "output_type": "stream",
     "text": [
      "I have one cow and I’m counting numbers. one\n"
     ]
    },
    {
     "name": "stderr",
     "output_type": "stream",
     "text": [
      "948it [13:13,  1.12it/s]"
     ]
    },
    {
     "name": "stdout",
     "output_type": "stream",
     "text": [
      "I have three cows and two more. two\n"
     ]
    },
    {
     "name": "stderr",
     "output_type": "stream",
     "text": [
      "949it [13:14,  1.24it/s]"
     ]
    },
    {
     "name": "stdout",
     "output_type": "stream",
     "text": [
      "I have three pigs. three\n"
     ]
    },
    {
     "name": "stderr",
     "output_type": "stream",
     "text": [
      "950it [13:14,  1.19it/s]"
     ]
    },
    {
     "name": "stdout",
     "output_type": "stream",
     "text": [
      "생성된 문장이 규칙을 따르지 않습니다. 단어: four\n"
     ]
    },
    {
     "name": "stderr",
     "output_type": "stream",
     "text": [
      "951it [13:15,  1.22it/s]"
     ]
    },
    {
     "name": "stdout",
     "output_type": "stream",
     "text": [
      "The math problems all show it's five. five\n"
     ]
    },
    {
     "name": "stderr",
     "output_type": "stream",
     "text": [
      "952it [13:16,  1.20it/s]"
     ]
    },
    {
     "name": "stdout",
     "output_type": "stream",
     "text": [
      "Think of a number and add six. six\n"
     ]
    },
    {
     "name": "stderr",
     "output_type": "stream",
     "text": [
      "953it [13:17,  1.20it/s]"
     ]
    },
    {
     "name": "stdout",
     "output_type": "stream",
     "text": [
      "생성된 문장이 규칙을 따르지 않습니다. 단어: seven\n"
     ]
    },
    {
     "name": "stderr",
     "output_type": "stream",
     "text": [
      "954it [13:18,  1.26it/s]"
     ]
    },
    {
     "name": "stdout",
     "output_type": "stream",
     "text": [
      "생성된 문장이 규칙을 따르지 않습니다. 단어: eight\n"
     ]
    },
    {
     "name": "stderr",
     "output_type": "stream",
     "text": [
      "955it [13:18,  1.29it/s]"
     ]
    },
    {
     "name": "stdout",
     "output_type": "stream",
     "text": [
      "생성된 문장이 규칙을 따르지 않습니다. 단어: nine\n"
     ]
    },
    {
     "name": "stderr",
     "output_type": "stream",
     "text": [
      "956it [13:19,  1.18it/s]"
     ]
    },
    {
     "name": "stdout",
     "output_type": "stream",
     "text": [
      "It’s five ten now, and math is easy. ten\n"
     ]
    },
    {
     "name": "stderr",
     "output_type": "stream",
     "text": [
      "957it [13:20,  1.17it/s]"
     ]
    },
    {
     "name": "stdout",
     "output_type": "stream",
     "text": [
      "The library has a program for adults. adult\n"
     ]
    },
    {
     "name": "stderr",
     "output_type": "stream",
     "text": [
      "958it [13:21,  1.13it/s]"
     ]
    },
    {
     "name": "stdout",
     "output_type": "stream",
     "text": [
      "생성된 문장이 규칙을 따르지 않습니다. 단어: trio\n"
     ]
    },
    {
     "name": "stderr",
     "output_type": "stream",
     "text": [
      "959it [13:22,  1.20it/s]"
     ]
    },
    {
     "name": "stdout",
     "output_type": "stream",
     "text": [
      "생성된 문장이 규칙을 따르지 않습니다. 단어: triple\n"
     ]
    },
    {
     "name": "stderr",
     "output_type": "stream",
     "text": [
      "960it [13:23,  1.17it/s]"
     ]
    },
    {
     "name": "stdout",
     "output_type": "stream",
     "text": [
      "생성된 문장이 규칙을 따르지 않습니다. 단어: age\n"
     ]
    },
    {
     "name": "stderr",
     "output_type": "stream",
     "text": [
      "961it [13:24,  1.16it/s]"
     ]
    },
    {
     "name": "stdout",
     "output_type": "stream",
     "text": [
      "The youth of today lack good manners. youth\n"
     ]
    },
    {
     "name": "stderr",
     "output_type": "stream",
     "text": [
      "962it [13:24,  1.20it/s]"
     ]
    },
    {
     "name": "stdout",
     "output_type": "stream",
     "text": [
      "His weight is double hers. double\n"
     ]
    },
    {
     "name": "stderr",
     "output_type": "stream",
     "text": [
      "963it [13:25,  1.18it/s]"
     ]
    },
    {
     "name": "stdout",
     "output_type": "stream",
     "text": [
      "생성된 문장이 규칙을 따르지 않습니다. 단어: dozen\n"
     ]
    },
    {
     "name": "stderr",
     "output_type": "stream",
     "text": [
      "964it [13:26,  1.17it/s]"
     ]
    },
    {
     "name": "stdout",
     "output_type": "stream",
     "text": [
      "생성된 문장이 규칙을 따르지 않습니다. 단어: elderly\n"
     ]
    },
    {
     "name": "stderr",
     "output_type": "stream",
     "text": [
      "965it [13:27,  1.07it/s]"
     ]
    },
    {
     "name": "stdout",
     "output_type": "stream",
     "text": [
      "I’m eleven years old and I love my lucky number seven. eleven\n"
     ]
    },
    {
     "name": "stderr",
     "output_type": "stream",
     "text": [
      "966it [13:28,  1.11it/s]"
     ]
    },
    {
     "name": "stdout",
     "output_type": "stream",
     "text": [
      "You are twelve years old today. twelve\n"
     ]
    },
    {
     "name": "stderr",
     "output_type": "stream",
     "text": [
      "967it [13:29,  1.20it/s]"
     ]
    },
    {
     "name": "stdout",
     "output_type": "stream",
     "text": [
      "생성된 문장이 규칙을 따르지 않습니다. 단어: thirteen\n"
     ]
    },
    {
     "name": "stderr",
     "output_type": "stream",
     "text": [
      "968it [13:30,  1.23it/s]"
     ]
    },
    {
     "name": "stdout",
     "output_type": "stream",
     "text": [
      "She is fourteen years old. fourteen\n"
     ]
    },
    {
     "name": "stderr",
     "output_type": "stream",
     "text": [
      "969it [13:30,  1.25it/s]"
     ]
    },
    {
     "name": "stdout",
     "output_type": "stream",
     "text": [
      "생성된 문장이 규칙을 따르지 않습니다. 단어: fifteen\n"
     ]
    },
    {
     "name": "stderr",
     "output_type": "stream",
     "text": [
      "970it [13:31,  1.24it/s]"
     ]
    },
    {
     "name": "stdout",
     "output_type": "stream",
     "text": [
      "My sister is sixteen years old. sixteen\n"
     ]
    },
    {
     "name": "stderr",
     "output_type": "stream",
     "text": [
      "971it [13:32,  1.20it/s]"
     ]
    },
    {
     "name": "stdout",
     "output_type": "stream",
     "text": [
      "생성된 문장이 규칙을 따르지 않습니다. 단어: seventeen\n"
     ]
    },
    {
     "name": "stderr",
     "output_type": "stream",
     "text": [
      "972it [13:33,  1.23it/s]"
     ]
    },
    {
     "name": "stdout",
     "output_type": "stream",
     "text": [
      "생성된 문장이 규칙을 따르지 않습니다. 단어: eighteen\n"
     ]
    },
    {
     "name": "stderr",
     "output_type": "stream",
     "text": [
      "973it [13:34,  1.24it/s]"
     ]
    },
    {
     "name": "stdout",
     "output_type": "stream",
     "text": [
      "Kevin is nineteen years old. nineteen\n"
     ]
    },
    {
     "name": "stderr",
     "output_type": "stream",
     "text": [
      "974it [13:34,  1.30it/s]"
     ]
    },
    {
     "name": "stdout",
     "output_type": "stream",
     "text": [
      "생성된 문장이 규칙을 따르지 않습니다. 단어: young\n"
     ]
    },
    {
     "name": "stderr",
     "output_type": "stream",
     "text": [
      "975it [13:35,  1.25it/s]"
     ]
    },
    {
     "name": "stdout",
     "output_type": "stream",
     "text": [
      "I’ve recorded it on the recorder. record\n"
     ]
    },
    {
     "name": "stderr",
     "output_type": "stream",
     "text": [
      "976it [13:36,  1.19it/s]"
     ]
    },
    {
     "name": "stdout",
     "output_type": "stream",
     "text": [
      "The teacher repeated the question and sat down. repeat\n"
     ]
    },
    {
     "name": "stderr",
     "output_type": "stream",
     "text": [
      "977it [13:37,  1.14it/s]"
     ]
    },
    {
     "name": "stdout",
     "output_type": "stream",
     "text": [
      "생성된 문장이 규칙을 따르지 않습니다. 단어: around\n"
     ]
    },
    {
     "name": "stderr",
     "output_type": "stream",
     "text": [
      "978it [13:38,  1.12it/s]"
     ]
    },
    {
     "name": "stdout",
     "output_type": "stream",
     "text": [
      "생성된 문장이 규칙을 따르지 않습니다. 단어: per\n"
     ]
    },
    {
     "name": "stderr",
     "output_type": "stream",
     "text": [
      "979it [13:39,  1.18it/s]"
     ]
    },
    {
     "name": "stdout",
     "output_type": "stream",
     "text": [
      "생성된 문장이 규칙을 따르지 않습니다. 단어: while\n"
     ]
    },
    {
     "name": "stderr",
     "output_type": "stream",
     "text": [
      "980it [13:40,  1.22it/s]"
     ]
    },
    {
     "name": "stdout",
     "output_type": "stream",
     "text": [
      "You have the wrong number. number\n"
     ]
    },
    {
     "name": "stderr",
     "output_type": "stream",
     "text": [
      "981it [13:40,  1.21it/s]"
     ]
    },
    {
     "name": "stdout",
     "output_type": "stream",
     "text": [
      "I can solve this math problem. math\n"
     ]
    },
    {
     "name": "stderr",
     "output_type": "stream",
     "text": [
      "982it [13:41,  1.17it/s]"
     ]
    },
    {
     "name": "stdout",
     "output_type": "stream",
     "text": [
      "생성된 문장이 규칙을 따르지 않습니다. 단어: fare\n"
     ]
    },
    {
     "name": "stderr",
     "output_type": "stream",
     "text": [
      "983it [13:42,  1.19it/s]"
     ]
    },
    {
     "name": "stdout",
     "output_type": "stream",
     "text": [
      "Don’t move until I tell you. tell\n"
     ]
    },
    {
     "name": "stderr",
     "output_type": "stream",
     "text": [
      "984it [13:43,  1.17it/s]"
     ]
    },
    {
     "name": "stdout",
     "output_type": "stream",
     "text": [
      "생성된 문장이 규칙을 따르지 않습니다. 단어: wild\n"
     ]
    },
    {
     "name": "stderr",
     "output_type": "stream",
     "text": [
      "985it [13:44,  1.13it/s]"
     ]
    },
    {
     "name": "stdout",
     "output_type": "stream",
     "text": [
      "It's about two fools and old cell phones. about\n"
     ]
    },
    {
     "name": "stderr",
     "output_type": "stream",
     "text": [
      "986it [13:45,  1.15it/s]"
     ]
    },
    {
     "name": "stdout",
     "output_type": "stream",
     "text": [
      "생성된 문장이 규칙을 따르지 않습니다. 단어: fresh\n"
     ]
    },
    {
     "name": "stderr",
     "output_type": "stream",
     "text": [
      "987it [13:46,  1.15it/s]"
     ]
    },
    {
     "name": "stdout",
     "output_type": "stream",
     "text": [
      "생성된 문장이 규칙을 따르지 않습니다. 단어: check\n"
     ]
    },
    {
     "name": "stderr",
     "output_type": "stream",
     "text": [
      "988it [13:47,  1.15it/s]"
     ]
    },
    {
     "name": "stdout",
     "output_type": "stream",
     "text": [
      "생성된 문장이 규칙을 따르지 않습니다. 단어: last\n"
     ]
    },
    {
     "name": "stderr",
     "output_type": "stream",
     "text": [
      "989it [13:47,  1.14it/s]"
     ]
    },
    {
     "name": "stdout",
     "output_type": "stream",
     "text": [
      "Thank you for the present I have a watch. present\n"
     ]
    },
    {
     "name": "stderr",
     "output_type": "stream",
     "text": [
      "990it [13:48,  1.15it/s]"
     ]
    },
    {
     "name": "stdout",
     "output_type": "stream",
     "text": [
      "생성된 문장이 규칙을 따르지 않습니다. 단어: just\n"
     ]
    },
    {
     "name": "stderr",
     "output_type": "stream",
     "text": [
      "991it [13:49,  1.16it/s]"
     ]
    },
    {
     "name": "stdout",
     "output_type": "stream",
     "text": [
      "I know the answer, so I stand up. answer\n"
     ]
    },
    {
     "name": "stderr",
     "output_type": "stream",
     "text": [
      "992it [13:50,  1.09it/s]"
     ]
    },
    {
     "name": "stdout",
     "output_type": "stream",
     "text": [
      "You can ask the questions and I will answer them. ask\n"
     ]
    },
    {
     "name": "stderr",
     "output_type": "stream",
     "text": [
      "993it [13:51,  1.13it/s]"
     ]
    },
    {
     "name": "stdout",
     "output_type": "stream",
     "text": [
      "생성된 문장이 규칙을 따르지 않습니다. 단어: rank\n"
     ]
    },
    {
     "name": "stderr",
     "output_type": "stream",
     "text": [
      "994it [13:52,  1.11it/s]"
     ]
    },
    {
     "name": "stdout",
     "output_type": "stream",
     "text": [
      "Let's make a plan for our vacation. plan\n"
     ]
    },
    {
     "name": "stderr",
     "output_type": "stream",
     "text": [
      "995it [13:53,  1.15it/s]"
     ]
    },
    {
     "name": "stdout",
     "output_type": "stream",
     "text": [
      "My friendship will last forever. will\n"
     ]
    },
    {
     "name": "stderr",
     "output_type": "stream",
     "text": [
      "996it [13:54,  1.16it/s]"
     ]
    },
    {
     "name": "stdout",
     "output_type": "stream",
     "text": [
      "Touch your hand while looking at the button. button\n"
     ]
    },
    {
     "name": "stderr",
     "output_type": "stream",
     "text": [
      "997it [13:54,  1.13it/s]"
     ]
    },
    {
     "name": "stdout",
     "output_type": "stream",
     "text": [
      "He can’t contact anyone because he’s sick. contact\n"
     ]
    },
    {
     "name": "stderr",
     "output_type": "stream",
     "text": [
      "998it [13:56,  1.07it/s]"
     ]
    },
    {
     "name": "stdout",
     "output_type": "stream",
     "text": [
      "생성된 문장이 규칙을 따르지 않습니다. 단어: square\n"
     ]
    },
    {
     "name": "stderr",
     "output_type": "stream",
     "text": [
      "999it [13:56,  1.13it/s]"
     ]
    },
    {
     "name": "stdout",
     "output_type": "stream",
     "text": [
      "생성된 문장이 규칙을 따르지 않습니다. 단어: pass\n"
     ]
    },
    {
     "name": "stderr",
     "output_type": "stream",
     "text": [
      "1000it [13:57,  1.11it/s]"
     ]
    },
    {
     "name": "stdout",
     "output_type": "stream",
     "text": [
      "생성된 문장이 규칙을 따르지 않습니다. 단어: middle\n"
     ]
    },
    {
     "name": "stderr",
     "output_type": "stream",
     "text": [
      "1001it [13:58,  1.19it/s]"
     ]
    },
    {
     "name": "stdout",
     "output_type": "stream",
     "text": [
      "생성된 문장이 규칙을 따르지 않습니다. 단어: only\n"
     ]
    },
    {
     "name": "stderr",
     "output_type": "stream",
     "text": [
      "1002it [13:59,  1.19it/s]"
     ]
    },
    {
     "name": "stdout",
     "output_type": "stream",
     "text": [
      "It’s a new shop next door. new\n"
     ]
    },
    {
     "name": "stderr",
     "output_type": "stream",
     "text": [
      "1003it [14:00,  1.19it/s]"
     ]
    },
    {
     "name": "stdout",
     "output_type": "stream",
     "text": [
      "생성된 문장이 규칙을 따르지 않습니다. 단어: freedom\n"
     ]
    },
    {
     "name": "stderr",
     "output_type": "stream",
     "text": [
      "1004it [14:00,  1.20it/s]"
     ]
    },
    {
     "name": "stdout",
     "output_type": "stream",
     "text": [
      "생성된 문장이 규칙을 따르지 않습니다. 단어: stuck\n"
     ]
    },
    {
     "name": "stderr",
     "output_type": "stream",
     "text": [
      "1005it [14:01,  1.12it/s]"
     ]
    },
    {
     "name": "stdout",
     "output_type": "stream",
     "text": [
      "생성된 문장이 규칙을 따르지 않습니다. 단어: each\n"
     ]
    },
    {
     "name": "stderr",
     "output_type": "stream",
     "text": [
      "1006it [14:02,  1.12it/s]"
     ]
    },
    {
     "name": "stdout",
     "output_type": "stream",
     "text": [
      "생성된 문장이 규칙을 따르지 않습니다. 단어: try\n"
     ]
    },
    {
     "name": "stderr",
     "output_type": "stream",
     "text": [
      "1007it [14:03,  1.22it/s]"
     ]
    },
    {
     "name": "stdout",
     "output_type": "stream",
     "text": [
      "Go straight one block. straight\n"
     ]
    },
    {
     "name": "stderr",
     "output_type": "stream",
     "text": [
      "1008it [14:04,  1.22it/s]"
     ]
    },
    {
     "name": "stdout",
     "output_type": "stream",
     "text": [
      "I can solve this math problem. solve\n"
     ]
    },
    {
     "name": "stderr",
     "output_type": "stream",
     "text": [
      "1009it [14:05,  1.22it/s]"
     ]
    },
    {
     "name": "stdout",
     "output_type": "stream",
     "text": [
      "I’m at home tomorrow afternoon. at\n"
     ]
    },
    {
     "name": "stderr",
     "output_type": "stream",
     "text": [
      "1010it [14:05,  1.25it/s]"
     ]
    },
    {
     "name": "stdout",
     "output_type": "stream",
     "text": [
      "This present is for you. for\n"
     ]
    },
    {
     "name": "stderr",
     "output_type": "stream",
     "text": [
      "1011it [14:06,  1.26it/s]"
     ]
    },
    {
     "name": "stdout",
     "output_type": "stream",
     "text": [
      "생성된 문장이 규칙을 따르지 않습니다. 단어: another\n"
     ]
    },
    {
     "name": "stderr",
     "output_type": "stream",
     "text": [
      "1012it [14:07,  1.20it/s]"
     ]
    },
    {
     "name": "stdout",
     "output_type": "stream",
     "text": [
      "생성된 문장이 규칙을 따르지 않습니다. 단어: impossible\n"
     ]
    },
    {
     "name": "stderr",
     "output_type": "stream",
     "text": [
      "1013it [14:08,  1.15it/s]"
     ]
    },
    {
     "name": "stdout",
     "output_type": "stream",
     "text": [
      "I’m leading my class and using your pencil. lead\n"
     ]
    },
    {
     "name": "stderr",
     "output_type": "stream",
     "text": [
      "1014it [14:09,  1.12it/s]"
     ]
    },
    {
     "name": "stdout",
     "output_type": "stream",
     "text": [
      "생성된 문장이 규칙을 따르지 않습니다. 단어: elder\n"
     ]
    },
    {
     "name": "stderr",
     "output_type": "stream",
     "text": [
      "1015it [14:10,  1.14it/s]"
     ]
    },
    {
     "name": "stdout",
     "output_type": "stream",
     "text": [
      "생성된 문장이 규칙을 따르지 않습니다. 단어: minus\n"
     ]
    },
    {
     "name": "stderr",
     "output_type": "stream",
     "text": [
      "1016it [14:11,  1.19it/s]"
     ]
    },
    {
     "name": "stdout",
     "output_type": "stream",
     "text": [
      "생성된 문장이 규칙을 따르지 않습니다. 단어: page\n"
     ]
    },
    {
     "name": "stderr",
     "output_type": "stream",
     "text": [
      "1017it [14:12,  1.14it/s]"
     ]
    },
    {
     "name": "stdout",
     "output_type": "stream",
     "text": [
      "The math problems show twenty plus thirty is fifty. plus\n"
     ]
    },
    {
     "name": "stderr",
     "output_type": "stream",
     "text": [
      "1018it [14:13,  1.11it/s]"
     ]
    },
    {
     "name": "stdout",
     "output_type": "stream",
     "text": [
      "Zero is my favorite number because it's zero. zero\n"
     ]
    },
    {
     "name": "stderr",
     "output_type": "stream",
     "text": [
      "1019it [14:13,  1.12it/s]"
     ]
    },
    {
     "name": "stdout",
     "output_type": "stream",
     "text": [
      "생성된 문장이 규칙을 따르지 않습니다. 단어: centimeter\n"
     ]
    },
    {
     "name": "stderr",
     "output_type": "stream",
     "text": [
      "1020it [14:14,  1.15it/s]"
     ]
    },
    {
     "name": "stdout",
     "output_type": "stream",
     "text": [
      "생성된 문장이 규칙을 따르지 않습니다. 단어: multiply\n"
     ]
    },
    {
     "name": "stderr",
     "output_type": "stream",
     "text": [
      "1021it [14:15,  1.12it/s]"
     ]
    },
    {
     "name": "stdout",
     "output_type": "stream",
     "text": [
      "생성된 문장이 규칙을 따르지 않습니다. 단어: quarter\n"
     ]
    },
    {
     "name": "stderr",
     "output_type": "stream",
     "text": [
      "1022it [14:16,  1.16it/s]"
     ]
    },
    {
     "name": "stdout",
     "output_type": "stream",
     "text": [
      "생성된 문장이 규칙을 따르지 않습니다. 단어: intermediate\n"
     ]
    },
    {
     "name": "stderr",
     "output_type": "stream",
     "text": [
      "1023it [14:17,  1.10it/s]"
     ]
    },
    {
     "name": "stdout",
     "output_type": "stream",
     "text": [
      "생성된 문장이 규칙을 따르지 않습니다. 단어: interval\n"
     ]
    },
    {
     "name": "stderr",
     "output_type": "stream",
     "text": [
      "1024it [14:18,  1.13it/s]"
     ]
    },
    {
     "name": "stdout",
     "output_type": "stream",
     "text": [
      "생성된 문장이 규칙을 따르지 않습니다. 단어: postwar\n"
     ]
    },
    {
     "name": "stderr",
     "output_type": "stream",
     "text": [
      "1025it [14:19,  1.13it/s]"
     ]
    },
    {
     "name": "stdout",
     "output_type": "stream",
     "text": [
      "생성된 문장이 규칙을 따르지 않습니다. 단어: progress\n"
     ]
    },
    {
     "name": "stderr",
     "output_type": "stream",
     "text": [
      "1026it [14:19,  1.16it/s]"
     ]
    },
    {
     "name": "stdout",
     "output_type": "stream",
     "text": [
      "생성된 문장이 규칙을 따르지 않습니다. 단어: account\n"
     ]
    },
    {
     "name": "stderr",
     "output_type": "stream",
     "text": [
      "1027it [14:20,  1.16it/s]"
     ]
    },
    {
     "name": "stdout",
     "output_type": "stream",
     "text": [
      "생성된 문장이 규칙을 따르지 않습니다. 단어: tax\n"
     ]
    },
    {
     "name": "stderr",
     "output_type": "stream",
     "text": [
      "1028it [14:21,  1.19it/s]"
     ]
    },
    {
     "name": "stdout",
     "output_type": "stream",
     "text": [
      "생성된 문장이 규칙을 따르지 않습니다. 단어: experience\n"
     ]
    },
    {
     "name": "stderr",
     "output_type": "stream",
     "text": [
      "1029it [14:22,  1.20it/s]"
     ]
    },
    {
     "name": "stdout",
     "output_type": "stream",
     "text": [
      "생성된 문장이 규칙을 따르지 않습니다. 단어: excess\n"
     ]
    },
    {
     "name": "stderr",
     "output_type": "stream",
     "text": [
      "1030it [14:23,  1.18it/s]"
     ]
    },
    {
     "name": "stdout",
     "output_type": "stream",
     "text": [
      "생성된 문장이 규칙을 따르지 않습니다. 단어: extra\n"
     ]
    },
    {
     "name": "stderr",
     "output_type": "stream",
     "text": [
      "1031it [14:24,  1.22it/s]"
     ]
    },
    {
     "name": "stdout",
     "output_type": "stream",
     "text": [
      "생성된 문장이 규칙을 따르지 않습니다. 단어: live\n"
     ]
    },
    {
     "name": "stderr",
     "output_type": "stream",
     "text": [
      "1032it [14:24,  1.23it/s]"
     ]
    },
    {
     "name": "stdout",
     "output_type": "stream",
     "text": [
      "생성된 문장이 규칙을 따르지 않습니다. 단어: clearly\n"
     ]
    },
    {
     "name": "stderr",
     "output_type": "stream",
     "text": [
      "1033it [14:25,  1.14it/s]"
     ]
    },
    {
     "name": "stdout",
     "output_type": "stream",
     "text": [
      "Don't throw the stone at the iguana. stone\n"
     ]
    },
    {
     "name": "stderr",
     "output_type": "stream",
     "text": [
      "1034it [14:26,  1.08it/s]"
     ]
    },
    {
     "name": "stdout",
     "output_type": "stream",
     "text": [
      "Spiderman can't fly because he's a superhero. man\n"
     ]
    },
    {
     "name": "stderr",
     "output_type": "stream",
     "text": [
      "1035it [14:27,  1.07it/s]"
     ]
    },
    {
     "name": "stdout",
     "output_type": "stream",
     "text": [
      "I’m not joking, I’m completely serious. serious\n"
     ]
    },
    {
     "name": "stderr",
     "output_type": "stream",
     "text": [
      "1036it [14:28,  1.10it/s]"
     ]
    },
    {
     "name": "stdout",
     "output_type": "stream",
     "text": [
      "생성된 문장이 규칙을 따르지 않습니다. 단어: among\n"
     ]
    },
    {
     "name": "stderr",
     "output_type": "stream",
     "text": [
      "1037it [14:29,  1.11it/s]"
     ]
    },
    {
     "name": "stdout",
     "output_type": "stream",
     "text": [
      "생성된 문장이 규칙을 따르지 않습니다. 단어: between\n"
     ]
    },
    {
     "name": "stderr",
     "output_type": "stream",
     "text": [
      "1038it [14:30,  1.12it/s]"
     ]
    },
    {
     "name": "stdout",
     "output_type": "stream",
     "text": [
      "There are a pile of files on my desk. pile\n"
     ]
    },
    {
     "name": "stderr",
     "output_type": "stream",
     "text": [
      "1039it [14:31,  1.20it/s]"
     ]
    },
    {
     "name": "stdout",
     "output_type": "stream",
     "text": [
      "My birthday is next Thursday. birthday\n"
     ]
    },
    {
     "name": "stderr",
     "output_type": "stream",
     "text": [
      "1040it [14:32,  1.21it/s]"
     ]
    },
    {
     "name": "stdout",
     "output_type": "stream",
     "text": [
      "생성된 문장이 규칙을 따르지 않습니다. 단어: put\n"
     ]
    },
    {
     "name": "stderr",
     "output_type": "stream",
     "text": [
      "1041it [14:32,  1.16it/s]"
     ]
    },
    {
     "name": "stdout",
     "output_type": "stream",
     "text": [
      "Look at this graph and draw a circle. graph\n"
     ]
    },
    {
     "name": "stderr",
     "output_type": "stream",
     "text": [
      "1042it [14:33,  1.16it/s]"
     ]
    },
    {
     "name": "stdout",
     "output_type": "stream",
     "text": [
      "생성된 문장이 규칙을 따르지 않습니다. 단어: dynamic\n"
     ]
    },
    {
     "name": "stderr",
     "output_type": "stream",
     "text": [
      "1043it [14:34,  1.13it/s]"
     ]
    },
    {
     "name": "stdout",
     "output_type": "stream",
     "text": [
      "생성된 문장이 규칙을 따르지 않습니다. 단어: guess\n"
     ]
    },
    {
     "name": "stderr",
     "output_type": "stream",
     "text": [
      "1044it [14:35,  1.20it/s]"
     ]
    },
    {
     "name": "stdout",
     "output_type": "stream",
     "text": [
      "생성된 문장이 규칙을 따르지 않습니다. 단어: pal\n"
     ]
    },
    {
     "name": "stderr",
     "output_type": "stream",
     "text": [
      "1045it [14:36,  1.15it/s]"
     ]
    },
    {
     "name": "stdout",
     "output_type": "stream",
     "text": [
      "Go straight one block and write on blackboard. block\n"
     ]
    },
    {
     "name": "stderr",
     "output_type": "stream",
     "text": [
      "1046it [14:37,  1.13it/s]"
     ]
    },
    {
     "name": "stdout",
     "output_type": "stream",
     "text": [
      "생성된 문장이 규칙을 따르지 않습니다. 단어: all\n"
     ]
    },
    {
     "name": "stderr",
     "output_type": "stream",
     "text": [
      "1047it [14:38,  1.14it/s]"
     ]
    },
    {
     "name": "stdout",
     "output_type": "stream",
     "text": [
      "생성된 문장이 규칙을 따르지 않습니다. 단어: aim\n"
     ]
    },
    {
     "name": "stderr",
     "output_type": "stream",
     "text": [
      "1048it [14:39,  1.11it/s]"
     ]
    },
    {
     "name": "stdout",
     "output_type": "stream",
     "text": [
      "생성된 문장이 규칙을 따르지 않습니다. 단어: average\n"
     ]
    },
    {
     "name": "stderr",
     "output_type": "stream",
     "text": [
      "1049it [14:39,  1.14it/s]"
     ]
    },
    {
     "name": "stdout",
     "output_type": "stream",
     "text": [
      "생성된 문장이 규칙을 따르지 않습니다. 단어: group\n"
     ]
    },
    {
     "name": "stderr",
     "output_type": "stream",
     "text": [
      "1050it [14:40,  1.12it/s]"
     ]
    },
    {
     "name": "stdout",
     "output_type": "stream",
     "text": [
      "He loaded the handcart, it's too heavy. load\n"
     ]
    },
    {
     "name": "stderr",
     "output_type": "stream",
     "text": [
      "1051it [14:41,  1.09it/s]"
     ]
    },
    {
     "name": "stdout",
     "output_type": "stream",
     "text": [
      "Don’t miss this chance to meet the guest. chance\n"
     ]
    },
    {
     "name": "stderr",
     "output_type": "stream",
     "text": [
      "1052it [14:42,  1.13it/s]"
     ]
    },
    {
     "name": "stdout",
     "output_type": "stream",
     "text": [
      "생성된 문장이 규칙을 따르지 않습니다. 단어: condition\n"
     ]
    },
    {
     "name": "stderr",
     "output_type": "stream",
     "text": [
      "1053it [14:43,  1.14it/s]"
     ]
    },
    {
     "name": "stdout",
     "output_type": "stream",
     "text": [
      "Can you join us to make groups? join\n"
     ]
    },
    {
     "name": "stderr",
     "output_type": "stream",
     "text": [
      "1054it [14:44,  1.23it/s]"
     ]
    },
    {
     "name": "stdout",
     "output_type": "stream",
     "text": [
      "I want a key. key\n"
     ]
    },
    {
     "name": "stderr",
     "output_type": "stream",
     "text": [
      "1055it [14:45,  1.18it/s]"
     ]
    },
    {
     "name": "stdout",
     "output_type": "stream",
     "text": [
      "생성된 문장이 규칙을 따르지 않습니다. 단어: account for\n"
     ]
    },
    {
     "name": "stderr",
     "output_type": "stream",
     "text": [
      "1056it [14:45,  1.26it/s]"
     ]
    },
    {
     "name": "stdout",
     "output_type": "stream",
     "text": [
      "생성된 문장이 규칙을 따르지 않습니다. 단어: identify\n"
     ]
    },
    {
     "name": "stderr",
     "output_type": "stream",
     "text": [
      "1057it [14:46,  1.27it/s]"
     ]
    },
    {
     "name": "stdout",
     "output_type": "stream",
     "text": [
      "생성된 문장이 규칙을 따르지 않습니다. 단어: realize\n"
     ]
    },
    {
     "name": "stderr",
     "output_type": "stream",
     "text": [
      "1058it [14:47,  1.22it/s]"
     ]
    },
    {
     "name": "stdout",
     "output_type": "stream",
     "text": [
      "생성된 문장이 규칙을 따르지 않습니다. 단어: charge\n"
     ]
    },
    {
     "name": "stderr",
     "output_type": "stream",
     "text": [
      "1059it [14:48,  1.16it/s]"
     ]
    },
    {
     "name": "stdout",
     "output_type": "stream",
     "text": [
      "생성된 문장이 규칙을 따르지 않습니다. 단어: refund\n"
     ]
    },
    {
     "name": "stderr",
     "output_type": "stream",
     "text": [
      "1060it [14:49,  1.19it/s]"
     ]
    },
    {
     "name": "stdout",
     "output_type": "stream",
     "text": [
      "생성된 문장이 규칙을 따르지 않습니다. 단어: almost\n"
     ]
    },
    {
     "name": "stderr",
     "output_type": "stream",
     "text": [
      "1061it [14:50,  1.18it/s]"
     ]
    },
    {
     "name": "stdout",
     "output_type": "stream",
     "text": [
      "생성된 문장이 규칙을 따르지 않습니다. 단어: save\n"
     ]
    },
    {
     "name": "stderr",
     "output_type": "stream",
     "text": [
      "1062it [14:50,  1.20it/s]"
     ]
    },
    {
     "name": "stdout",
     "output_type": "stream",
     "text": [
      "Somebody is knocking on the door. knock\n"
     ]
    },
    {
     "name": "stderr",
     "output_type": "stream",
     "text": [
      "1063it [14:51,  1.20it/s]"
     ]
    },
    {
     "name": "stdout",
     "output_type": "stream",
     "text": [
      "That tree is low and it's light. low\n"
     ]
    },
    {
     "name": "stderr",
     "output_type": "stream",
     "text": [
      "1064it [14:52,  1.18it/s]"
     ]
    },
    {
     "name": "stdout",
     "output_type": "stream",
     "text": [
      "생성된 문장이 규칙을 따르지 않습니다. 단어: familiar\n"
     ]
    },
    {
     "name": "stderr",
     "output_type": "stream",
     "text": [
      "1065it [14:53,  1.17it/s]"
     ]
    },
    {
     "name": "stdout",
     "output_type": "stream",
     "text": [
      "생성된 문장이 규칙을 따르지 않습니다. 단어: illegally\n"
     ]
    },
    {
     "name": "stderr",
     "output_type": "stream",
     "text": [
      "1066it [14:54,  1.14it/s]"
     ]
    },
    {
     "name": "stdout",
     "output_type": "stream",
     "text": [
      "생성된 문장이 규칙을 따르지 않습니다. 단어: irregular\n"
     ]
    },
    {
     "name": "stderr",
     "output_type": "stream",
     "text": [
      "1067it [14:55,  1.17it/s]"
     ]
    },
    {
     "name": "stdout",
     "output_type": "stream",
     "text": [
      "생성된 문장이 규칙을 따르지 않습니다. 단어: base\n"
     ]
    },
    {
     "name": "stderr",
     "output_type": "stream",
     "text": [
      "1068it [14:56,  1.19it/s]"
     ]
    },
    {
     "name": "stdout",
     "output_type": "stream",
     "text": [
      "I like camping and my family goes. camping\n"
     ]
    },
    {
     "name": "stderr",
     "output_type": "stream",
     "text": [
      "1069it [14:56,  1.17it/s]"
     ]
    },
    {
     "name": "stdout",
     "output_type": "stream",
     "text": [
      "생성된 문장이 규칙을 따르지 않습니다. 단어: hike\n"
     ]
    },
    {
     "name": "stderr",
     "output_type": "stream",
     "text": [
      "1070it [14:57,  1.22it/s]"
     ]
    },
    {
     "name": "stdout",
     "output_type": "stream",
     "text": [
      "I like hiking on the mountain. hiking\n"
     ]
    },
    {
     "name": "stderr",
     "output_type": "stream",
     "text": [
      "1071it [14:58,  1.23it/s]"
     ]
    },
    {
     "name": "stdout",
     "output_type": "stream",
     "text": [
      "Let's go camping during summer vacation. go camping\n"
     ]
    },
    {
     "name": "stderr",
     "output_type": "stream",
     "text": [
      "1072it [14:59,  1.24it/s]"
     ]
    },
    {
     "name": "stdout",
     "output_type": "stream",
     "text": [
      "Let's go hiking on the mountain. go hiking\n"
     ]
    },
    {
     "name": "stderr",
     "output_type": "stream",
     "text": [
      "1073it [15:00,  1.20it/s]"
     ]
    },
    {
     "name": "stdout",
     "output_type": "stream",
     "text": [
      "He is on top of the mountain. mountain\n"
     ]
    },
    {
     "name": "stderr",
     "output_type": "stream",
     "text": [
      "1074it [15:01,  1.15it/s]"
     ]
    },
    {
     "name": "stdout",
     "output_type": "stream",
     "text": [
      "They went on a tour of the city. tour\n"
     ]
    },
    {
     "name": "stderr",
     "output_type": "stream",
     "text": [
      "1075it [15:01,  1.15it/s]"
     ]
    },
    {
     "name": "stdout",
     "output_type": "stream",
     "text": [
      "I will go jogging with Brandy. jogging\n"
     ]
    },
    {
     "name": "stderr",
     "output_type": "stream",
     "text": [
      "1076it [15:02,  1.18it/s]"
     ]
    },
    {
     "name": "stdout",
     "output_type": "stream",
     "text": [
      "Look! I can run. run\n"
     ]
    },
    {
     "name": "stderr",
     "output_type": "stream",
     "text": [
      "1077it [15:03,  1.17it/s]"
     ]
    },
    {
     "name": "stdout",
     "output_type": "stream",
     "text": [
      "I’m going to run a marathon. run a marathon\n"
     ]
    },
    {
     "name": "stderr",
     "output_type": "stream",
     "text": [
      "1078it [15:04,  1.19it/s]"
     ]
    },
    {
     "name": "stdout",
     "output_type": "stream",
     "text": [
      "생성된 문장이 규칙을 따르지 않습니다. 단어: tread\n"
     ]
    },
    {
     "name": "stderr",
     "output_type": "stream",
     "text": [
      "1079it [15:05,  1.24it/s]"
     ]
    },
    {
     "name": "stdout",
     "output_type": "stream",
     "text": [
      "I can walk up this street. walk\n"
     ]
    },
    {
     "name": "stderr",
     "output_type": "stream",
     "text": [
      "1080it [15:06,  1.20it/s]"
     ]
    },
    {
     "name": "stdout",
     "output_type": "stream",
     "text": [
      "생성된 문장이 규칙을 따르지 않습니다. 단어: shopping\n"
     ]
    },
    {
     "name": "stderr",
     "output_type": "stream",
     "text": [
      "1081it [15:06,  1.19it/s]"
     ]
    },
    {
     "name": "stdout",
     "output_type": "stream",
     "text": [
      "The manager is in charge of the store. store\n"
     ]
    },
    {
     "name": "stderr",
     "output_type": "stream",
     "text": [
      "1082it [15:07,  1.14it/s]"
     ]
    },
    {
     "name": "stdout",
     "output_type": "stream",
     "text": [
      "Jenny is baking delicious bread at her bakery. bakery\n"
     ]
    },
    {
     "name": "stderr",
     "output_type": "stream",
     "text": [
      "1083it [15:08,  1.18it/s]"
     ]
    },
    {
     "name": "stdout",
     "output_type": "stream",
     "text": [
      "생성된 문장이 규칙을 따르지 않습니다. 단어: shop\n"
     ]
    },
    {
     "name": "stderr",
     "output_type": "stream",
     "text": [
      "1084it [15:09,  1.13it/s]"
     ]
    },
    {
     "name": "stdout",
     "output_type": "stream",
     "text": [
      "Let's go to the restaurant on your right. restaurant\n"
     ]
    },
    {
     "name": "stderr",
     "output_type": "stream",
     "text": [
      "1085it [15:10,  1.16it/s]"
     ]
    },
    {
     "name": "stdout",
     "output_type": "stream",
     "text": [
      "생성된 문장이 규칙을 따르지 않습니다. 단어: bookshelf\n"
     ]
    },
    {
     "name": "stderr",
     "output_type": "stream",
     "text": [
      "1086it [15:11,  1.12it/s]"
     ]
    },
    {
     "name": "stdout",
     "output_type": "stream",
     "text": [
      "생성된 문장이 규칙을 따르지 않습니다. 단어: supermarket\n"
     ]
    },
    {
     "name": "stderr",
     "output_type": "stream",
     "text": [
      "1087it [15:12,  1.13it/s]"
     ]
    },
    {
     "name": "stdout",
     "output_type": "stream",
     "text": [
      "We're in the bookstore on Friday. bookstore\n"
     ]
    },
    {
     "name": "stderr",
     "output_type": "stream",
     "text": [
      "1088it [15:13,  1.17it/s]"
     ]
    },
    {
     "name": "stdout",
     "output_type": "stream",
     "text": [
      "We are collecting money for charity today. collect\n"
     ]
    },
    {
     "name": "stderr",
     "output_type": "stream",
     "text": [
      "1089it [15:14,  1.13it/s]"
     ]
    },
    {
     "name": "stdout",
     "output_type": "stream",
     "text": [
      "생성된 문장이 규칙을 따르지 않습니다. 단어: drop\n"
     ]
    },
    {
     "name": "stderr",
     "output_type": "stream",
     "text": [
      "1090it [15:14,  1.19it/s]"
     ]
    },
    {
     "name": "stdout",
     "output_type": "stream",
     "text": [
      "생성된 문장이 규칙을 따르지 않습니다. 단어: internet\n"
     ]
    },
    {
     "name": "stderr",
     "output_type": "stream",
     "text": [
      "1091it [15:15,  1.16it/s]"
     ]
    },
    {
     "name": "stdout",
     "output_type": "stream",
     "text": [
      "The guide is guiding us through wilderness. guide\n"
     ]
    },
    {
     "name": "stderr",
     "output_type": "stream",
     "text": [
      "1092it [15:16,  1.14it/s]"
     ]
    },
    {
     "name": "stdout",
     "output_type": "stream",
     "text": [
      "생성된 문장이 규칙을 따르지 않습니다. 단어: supply\n"
     ]
    },
    {
     "name": "stderr",
     "output_type": "stream",
     "text": [
      "1093it [15:17,  1.13it/s]"
     ]
    },
    {
     "name": "stdout",
     "output_type": "stream",
     "text": [
      "생성된 문장이 규칙을 따르지 않습니다. 단어: target\n"
     ]
    },
    {
     "name": "stderr",
     "output_type": "stream",
     "text": [
      "1094it [15:18,  1.13it/s]"
     ]
    },
    {
     "name": "stdout",
     "output_type": "stream",
     "text": [
      "I know an interesting website to explore. website\n"
     ]
    },
    {
     "name": "stderr",
     "output_type": "stream",
     "text": [
      "1095it [15:19,  1.14it/s]"
     ]
    },
    {
     "name": "stdout",
     "output_type": "stream",
     "text": [
      "생성된 문장이 규칙을 따르지 않습니다. 단어: fridge\n"
     ]
    },
    {
     "name": "stderr",
     "output_type": "stream",
     "text": [
      "1096it [15:20,  1.14it/s]"
     ]
    },
    {
     "name": "stdout",
     "output_type": "stream",
     "text": [
      "Let's go to the clothing store. clothing store\n"
     ]
    },
    {
     "name": "stderr",
     "output_type": "stream",
     "text": [
      "1097it [15:20,  1.13it/s]"
     ]
    },
    {
     "name": "stdout",
     "output_type": "stream",
     "text": [
      "Let's go to the market and buy meat. market\n"
     ]
    },
    {
     "name": "stderr",
     "output_type": "stream",
     "text": [
      "1098it [15:21,  1.18it/s]"
     ]
    },
    {
     "name": "stdout",
     "output_type": "stream",
     "text": [
      "We go to the bank. bank\n"
     ]
    },
    {
     "name": "stderr",
     "output_type": "stream",
     "text": [
      "1099it [15:22,  1.19it/s]"
     ]
    },
    {
     "name": "stdout",
     "output_type": "stream",
     "text": [
      "The gym is closed this Sunday. gym\n"
     ]
    },
    {
     "name": "stderr",
     "output_type": "stream",
     "text": [
      "1100it [15:23,  1.22it/s]"
     ]
    },
    {
     "name": "stdout",
     "output_type": "stream",
     "text": [
      "I need a spoon and a knife. need\n"
     ]
    },
    {
     "name": "stderr",
     "output_type": "stream",
     "text": [
      "1101it [15:23,  1.34it/s]"
     ]
    },
    {
     "name": "stdout",
     "output_type": "stream",
     "text": [
      "I want milk. want\n"
     ]
    },
    {
     "name": "stderr",
     "output_type": "stream",
     "text": [
      "1102it [15:24,  1.28it/s]"
     ]
    },
    {
     "name": "stdout",
     "output_type": "stream",
     "text": [
      "생성된 문장이 규칙을 따르지 않습니다. 단어: seek\n"
     ]
    },
    {
     "name": "stderr",
     "output_type": "stream",
     "text": [
      "1103it [15:25,  1.28it/s]"
     ]
    },
    {
     "name": "stdout",
     "output_type": "stream",
     "text": [
      "I prefer chocolate ice cream over vanilla. prefer\n"
     ]
    },
    {
     "name": "stderr",
     "output_type": "stream",
     "text": [
      "1104it [15:26,  1.25it/s]"
     ]
    },
    {
     "name": "stdout",
     "output_type": "stream",
     "text": [
      "I beg your pardon? I want sandwiches. beg\n"
     ]
    },
    {
     "name": "stderr",
     "output_type": "stream",
     "text": [
      "1105it [15:27,  1.20it/s]"
     ]
    },
    {
     "name": "stdout",
     "output_type": "stream",
     "text": [
      "생성된 문장이 규칙을 따르지 않습니다. 단어: demand\n"
     ]
    },
    {
     "name": "stderr",
     "output_type": "stream",
     "text": [
      "1106it [15:27,  1.29it/s]"
     ]
    },
    {
     "name": "stdout",
     "output_type": "stream",
     "text": [
      "I have a dog. have\n"
     ]
    },
    {
     "name": "stderr",
     "output_type": "stream",
     "text": [
      "1107it [15:28,  1.18it/s]"
     ]
    },
    {
     "name": "stdout",
     "output_type": "stream",
     "text": [
      "생성된 문장이 규칙을 따르지 않습니다. 단어: wish\n"
     ]
    },
    {
     "name": "stderr",
     "output_type": "stream",
     "text": [
      "1108it [15:29,  1.21it/s]"
     ]
    },
    {
     "name": "stdout",
     "output_type": "stream",
     "text": [
      "생성된 문장이 규칙을 따르지 않습니다. 단어: necessity\n"
     ]
    },
    {
     "name": "stderr",
     "output_type": "stream",
     "text": [
      "1109it [15:30,  1.24it/s]"
     ]
    },
    {
     "name": "stdout",
     "output_type": "stream",
     "text": [
      "생성된 문장이 규칙을 따르지 않습니다. 단어: get\n"
     ]
    },
    {
     "name": "stderr",
     "output_type": "stream",
     "text": [
      "1110it [15:31,  1.22it/s]"
     ]
    },
    {
     "name": "stdout",
     "output_type": "stream",
     "text": [
      "생성된 문장이 규칙을 따르지 않습니다. 단어: waste\n"
     ]
    },
    {
     "name": "stderr",
     "output_type": "stream",
     "text": [
      "1111it [15:32,  1.23it/s]"
     ]
    },
    {
     "name": "stdout",
     "output_type": "stream",
     "text": [
      "We can recycle the empty bottles. recycle\n"
     ]
    },
    {
     "name": "stderr",
     "output_type": "stream",
     "text": [
      "1112it [15:33,  1.20it/s]"
     ]
    },
    {
     "name": "stdout",
     "output_type": "stream",
     "text": [
      "생성된 문장이 규칙을 따르지 않습니다. 단어: dump\n"
     ]
    },
    {
     "name": "stderr",
     "output_type": "stream",
     "text": [
      "1113it [15:34,  1.15it/s]"
     ]
    },
    {
     "name": "stdout",
     "output_type": "stream",
     "text": [
      "I'll throw this into the trash can. trash\n"
     ]
    },
    {
     "name": "stderr",
     "output_type": "stream",
     "text": [
      "1114it [15:34,  1.19it/s]"
     ]
    },
    {
     "name": "stdout",
     "output_type": "stream",
     "text": [
      "생성된 문장이 규칙을 따르지 않습니다. 단어: preserve\n"
     ]
    },
    {
     "name": "stderr",
     "output_type": "stream",
     "text": [
      "1115it [15:35,  1.12it/s]"
     ]
    },
    {
     "name": "stdout",
     "output_type": "stream",
     "text": [
      "I don’t like corn and it's not soup. corn\n"
     ]
    },
    {
     "name": "stderr",
     "output_type": "stream",
     "text": [
      "1116it [15:36,  1.16it/s]"
     ]
    },
    {
     "name": "stdout",
     "output_type": "stream",
     "text": [
      "I like bread and I want some. bread\n"
     ]
    },
    {
     "name": "stderr",
     "output_type": "stream",
     "text": [
      "1117it [15:37,  1.21it/s]"
     ]
    },
    {
     "name": "stdout",
     "output_type": "stream",
     "text": [
      "생성된 문장이 규칙을 따르지 않습니다. 단어: wheat\n"
     ]
    },
    {
     "name": "stderr",
     "output_type": "stream",
     "text": [
      "1118it [15:38,  1.22it/s]"
     ]
    },
    {
     "name": "stdout",
     "output_type": "stream",
     "text": [
      "생성된 문장이 규칙을 따르지 않습니다. 단어: flour\n"
     ]
    },
    {
     "name": "stderr",
     "output_type": "stream",
     "text": [
      "1119it [15:38,  1.25it/s]"
     ]
    },
    {
     "name": "stdout",
     "output_type": "stream",
     "text": [
      "I want sandwiches because I like bread. sandwich\n"
     ]
    },
    {
     "name": "stderr",
     "output_type": "stream",
     "text": [
      "1120it [15:39,  1.27it/s]"
     ]
    },
    {
     "name": "stdout",
     "output_type": "stream",
     "text": [
      "Do you want some vegetable soup? soup\n"
     ]
    },
    {
     "name": "stderr",
     "output_type": "stream",
     "text": [
      "1121it [15:40,  1.27it/s]"
     ]
    },
    {
     "name": "stdout",
     "output_type": "stream",
     "text": [
      "생성된 문장이 규칙을 따르지 않습니다. 단어: butter\n"
     ]
    },
    {
     "name": "stderr",
     "output_type": "stream",
     "text": [
      "1122it [15:41,  1.27it/s]"
     ]
    },
    {
     "name": "stdout",
     "output_type": "stream",
     "text": [
      "The curry is too salty for me. salt\n"
     ]
    },
    {
     "name": "stderr",
     "output_type": "stream",
     "text": [
      "1123it [15:42,  1.19it/s]"
     ]
    },
    {
     "name": "stdout",
     "output_type": "stream",
     "text": [
      "Jenny is a baker and I like bread. baker\n"
     ]
    },
    {
     "name": "stderr",
     "output_type": "stream",
     "text": [
      "1124it [15:43,  1.14it/s]"
     ]
    },
    {
     "name": "stdout",
     "output_type": "stream",
     "text": [
      "생성된 문장이 규칙을 따르지 않습니다. 단어: fry\n"
     ]
    },
    {
     "name": "stderr",
     "output_type": "stream",
     "text": [
      "1125it [15:44,  1.14it/s]"
     ]
    },
    {
     "name": "stdout",
     "output_type": "stream",
     "text": [
      "생성된 문장이 규칙을 따르지 않습니다. 단어: tray\n"
     ]
    },
    {
     "name": "stderr",
     "output_type": "stream",
     "text": [
      "1126it [15:44,  1.26it/s]"
     ]
    },
    {
     "name": "stdout",
     "output_type": "stream",
     "text": [
      "I want rice. rice\n"
     ]
    },
    {
     "name": "stderr",
     "output_type": "stream",
     "text": [
      "1127it [15:45,  1.18it/s]"
     ]
    },
    {
     "name": "stdout",
     "output_type": "stream",
     "text": [
      "Cutting the watermelon in half is easy. watermelon\n"
     ]
    },
    {
     "name": "stderr",
     "output_type": "stream",
     "text": [
      "1128it [15:46,  1.20it/s]"
     ]
    },
    {
     "name": "stdout",
     "output_type": "stream",
     "text": [
      "생성된 문장이 규칙을 따르지 않습니다. 단어: fruit\n"
     ]
    },
    {
     "name": "stderr",
     "output_type": "stream",
     "text": [
      "1129it [15:47,  1.27it/s]"
     ]
    },
    {
     "name": "stdout",
     "output_type": "stream",
     "text": [
      "I like bananas. banana\n"
     ]
    },
    {
     "name": "stderr",
     "output_type": "stream",
     "text": [
      "1130it [15:47,  1.27it/s]"
     ]
    },
    {
     "name": "stdout",
     "output_type": "stream",
     "text": [
      "I like grapes and I want strawberries. grapes\n"
     ]
    },
    {
     "name": "stderr",
     "output_type": "stream",
     "text": [
      "1131it [15:48,  1.22it/s]"
     ]
    },
    {
     "name": "stdout",
     "output_type": "stream",
     "text": [
      "I like watermelon because it is fresh. melon\n"
     ]
    },
    {
     "name": "stderr",
     "output_type": "stream",
     "text": [
      "1132it [15:49,  1.15it/s]"
     ]
    },
    {
     "name": "stdout",
     "output_type": "stream",
     "text": [
      "It is a peach, and I would like some fruit. peach\n"
     ]
    },
    {
     "name": "stderr",
     "output_type": "stream",
     "text": [
      "1133it [15:50,  1.24it/s]"
     ]
    },
    {
     "name": "stdout",
     "output_type": "stream",
     "text": [
      "That is a pear. pear\n"
     ]
    },
    {
     "name": "stderr",
     "output_type": "stream",
     "text": [
      "1134it [15:51,  1.22it/s]"
     ]
    },
    {
     "name": "stdout",
     "output_type": "stream",
     "text": [
      "This is a strawberry flavor ice cream. strawberry\n"
     ]
    },
    {
     "name": "stderr",
     "output_type": "stream",
     "text": [
      "1135it [15:52,  1.16it/s]"
     ]
    },
    {
     "name": "stdout",
     "output_type": "stream",
     "text": [
      "I'm sprinkling some seeds on it. seed\n"
     ]
    },
    {
     "name": "stderr",
     "output_type": "stream",
     "text": [
      "1136it [15:53,  1.12it/s]"
     ]
    },
    {
     "name": "stdout",
     "output_type": "stream",
     "text": [
      "I don’t like pepper, this is vanilla. pepper\n"
     ]
    },
    {
     "name": "stderr",
     "output_type": "stream",
     "text": [
      "1137it [15:54,  1.15it/s]"
     ]
    },
    {
     "name": "stdout",
     "output_type": "stream",
     "text": [
      "I like apples more than bananas. apple\n"
     ]
    },
    {
     "name": "stderr",
     "output_type": "stream",
     "text": [
      "1138it [15:54,  1.15it/s]"
     ]
    },
    {
     "name": "stdout",
     "output_type": "stream",
     "text": [
      "I have nine kiwis from Australia. kiwi\n"
     ]
    },
    {
     "name": "stderr",
     "output_type": "stream",
     "text": [
      "1139it [15:55,  1.17it/s]"
     ]
    },
    {
     "name": "stdout",
     "output_type": "stream",
     "text": [
      "I like juice and that is a lemon. lemon\n"
     ]
    },
    {
     "name": "stderr",
     "output_type": "stream",
     "text": [
      "1140it [15:56,  1.21it/s]"
     ]
    },
    {
     "name": "stdout",
     "output_type": "stream",
     "text": [
      "생성된 문장이 규칙을 따르지 않습니다. 단어: balloon\n"
     ]
    },
    {
     "name": "stderr",
     "output_type": "stream",
     "text": [
      "1141it [15:57,  1.20it/s]"
     ]
    },
    {
     "name": "stdout",
     "output_type": "stream",
     "text": [
      "We see bees turning into butterflies slowly. bee\n"
     ]
    },
    {
     "name": "stderr",
     "output_type": "stream",
     "text": [
      "1142it [15:58,  1.15it/s]"
     ]
    },
    {
     "name": "stdout",
     "output_type": "stream",
     "text": [
      "I have a pretty vase on a metal base. vase\n"
     ]
    },
    {
     "name": "stderr",
     "output_type": "stream",
     "text": [
      "1143it [15:59,  1.17it/s]"
     ]
    },
    {
     "name": "stdout",
     "output_type": "stream",
     "text": [
      "I like juice and drink it. juice\n"
     ]
    },
    {
     "name": "stderr",
     "output_type": "stream",
     "text": [
      "1144it [15:59,  1.16it/s]"
     ]
    },
    {
     "name": "stdout",
     "output_type": "stream",
     "text": [
      "I'm looking for boots that are my shoes. boots\n"
     ]
    },
    {
     "name": "stderr",
     "output_type": "stream",
     "text": [
      "1145it [16:00,  1.23it/s]"
     ]
    },
    {
     "name": "stdout",
     "output_type": "stream",
     "text": [
      "I’m looking for sneakers. sneakers\n"
     ]
    },
    {
     "name": "stderr",
     "output_type": "stream",
     "text": [
      "1146it [16:01,  1.31it/s]"
     ]
    },
    {
     "name": "stdout",
     "output_type": "stream",
     "text": [
      "생성된 문장이 규칙을 따르지 않습니다. 단어: sandals\n"
     ]
    },
    {
     "name": "stderr",
     "output_type": "stream",
     "text": [
      "1147it [16:02,  1.28it/s]"
     ]
    },
    {
     "name": "stdout",
     "output_type": "stream",
     "text": [
      "Touch your arm because it's very long. arm\n"
     ]
    },
    {
     "name": "stderr",
     "output_type": "stream",
     "text": [
      "1148it [16:02,  1.27it/s]"
     ]
    },
    {
     "name": "stdout",
     "output_type": "stream",
     "text": [
      "These are your shoes and my sneakers. shoes\n"
     ]
    },
    {
     "name": "stderr",
     "output_type": "stream",
     "text": [
      "1149it [16:03,  1.24it/s]"
     ]
    },
    {
     "name": "stdout",
     "output_type": "stream",
     "text": [
      "Bring me a pair of clean socks. socks\n"
     ]
    },
    {
     "name": "stderr",
     "output_type": "stream",
     "text": [
      "1150it [16:04,  1.21it/s]"
     ]
    },
    {
     "name": "stdout",
     "output_type": "stream",
     "text": [
      "생성된 문장이 규칙을 따르지 않습니다. 단어: feet\n"
     ]
    },
    {
     "name": "stderr",
     "output_type": "stream",
     "text": [
      "1151it [16:05,  1.25it/s]"
     ]
    },
    {
     "name": "stdout",
     "output_type": "stream",
     "text": [
      "My foot hurts and I have shoes. foot\n"
     ]
    },
    {
     "name": "stderr",
     "output_type": "stream",
     "text": [
      "1152it [16:06,  1.24it/s]"
     ]
    },
    {
     "name": "stdout",
     "output_type": "stream",
     "text": [
      "My knee hurts, my foot hurts too. knee\n"
     ]
    },
    {
     "name": "stderr",
     "output_type": "stream",
     "text": [
      "1153it [16:06,  1.27it/s]"
     ]
    },
    {
     "name": "stdout",
     "output_type": "stream",
     "text": [
      "생성된 문장이 규칙을 따르지 않습니다. 단어: shoulder\n"
     ]
    },
    {
     "name": "stderr",
     "output_type": "stream",
     "text": [
      "1154it [16:07,  1.27it/s]"
     ]
    },
    {
     "name": "stdout",
     "output_type": "stream",
     "text": [
      "My toe hurts and I have shoes. toe\n"
     ]
    },
    {
     "name": "stderr",
     "output_type": "stream",
     "text": [
      "1155it [16:08,  1.27it/s]"
     ]
    },
    {
     "name": "stdout",
     "output_type": "stream",
     "text": [
      "Touch your leg because your foot hurts. leg\n"
     ]
    },
    {
     "name": "stderr",
     "output_type": "stream",
     "text": [
      "1156it [16:09,  1.30it/s]"
     ]
    },
    {
     "name": "stdout",
     "output_type": "stream",
     "text": [
      "생성된 문장이 규칙을 따르지 않습니다. 단어: foundation\n"
     ]
    },
    {
     "name": "stderr",
     "output_type": "stream",
     "text": [
      "1157it [16:10,  1.24it/s]"
     ]
    },
    {
     "name": "stdout",
     "output_type": "stream",
     "text": [
      "I’m good at kicking a ball. kick\n"
     ]
    },
    {
     "name": "stderr",
     "output_type": "stream",
     "text": [
      "1158it [16:10,  1.24it/s]"
     ]
    },
    {
     "name": "stdout",
     "output_type": "stream",
     "text": [
      "I bumped into a bumper car. bump\n"
     ]
    },
    {
     "name": "stderr",
     "output_type": "stream",
     "text": [
      "1159it [16:11,  1.25it/s]"
     ]
    },
    {
     "name": "stdout",
     "output_type": "stream",
     "text": [
      "I sneaked into the dark room. sneak\n"
     ]
    },
    {
     "name": "stderr",
     "output_type": "stream",
     "text": [
      "1160it [16:12,  1.26it/s]"
     ]
    },
    {
     "name": "stdout",
     "output_type": "stream",
     "text": [
      "생성된 문장이 규칙을 따르지 않습니다. 단어: hop\n"
     ]
    },
    {
     "name": "stderr",
     "output_type": "stream",
     "text": [
      "1161it [16:13,  1.24it/s]"
     ]
    },
    {
     "name": "stdout",
     "output_type": "stream",
     "text": [
      "생성된 문장이 규칙을 따르지 않습니다. 단어: handicap\n"
     ]
    },
    {
     "name": "stderr",
     "output_type": "stream",
     "text": [
      "1162it [16:14,  1.21it/s]"
     ]
    },
    {
     "name": "stdout",
     "output_type": "stream",
     "text": [
      "There is a hill in the background. hill\n"
     ]
    },
    {
     "name": "stderr",
     "output_type": "stream",
     "text": [
      "1163it [16:15,  1.24it/s]"
     ]
    },
    {
     "name": "stdout",
     "output_type": "stream",
     "text": [
      "생성된 문장이 규칙을 따르지 않습니다. 단어: joint\n"
     ]
    },
    {
     "name": "stderr",
     "output_type": "stream",
     "text": [
      "1164it [16:15,  1.27it/s]"
     ]
    },
    {
     "name": "stdout",
     "output_type": "stream",
     "text": [
      "I can jump over the wall. jump\n"
     ]
    },
    {
     "name": "stderr",
     "output_type": "stream",
     "text": [
      "1165it [16:16,  1.23it/s]"
     ]
    },
    {
     "name": "stdout",
     "output_type": "stream",
     "text": [
      "Trace the trace he left behind carefully. trace\n"
     ]
    },
    {
     "name": "stderr",
     "output_type": "stream",
     "text": [
      "1166it [16:17,  1.22it/s]"
     ]
    },
    {
     "name": "stdout",
     "output_type": "stream",
     "text": [
      "You like curry and this basketball is yours. curry\n"
     ]
    },
    {
     "name": "stderr",
     "output_type": "stream",
     "text": [
      "1167it [16:18,  1.21it/s]"
     ]
    },
    {
     "name": "stdout",
     "output_type": "stream",
     "text": [
      "생성된 문장이 규칙을 따르지 않습니다. 단어: T-shirt\n"
     ]
    },
    {
     "name": "stderr",
     "output_type": "stream",
     "text": [
      "1168it [16:19,  1.19it/s]"
     ]
    },
    {
     "name": "stdout",
     "output_type": "stream",
     "text": [
      "It's your shirt, she is hanging it. shirt\n"
     ]
    },
    {
     "name": "stderr",
     "output_type": "stream",
     "text": [
      "1169it [16:19,  1.25it/s]"
     ]
    },
    {
     "name": "stdout",
     "output_type": "stream",
     "text": [
      "It's my vest. vest\n"
     ]
    },
    {
     "name": "stderr",
     "output_type": "stream",
     "text": [
      "1170it [16:20,  1.24it/s]"
     ]
    },
    {
     "name": "stdout",
     "output_type": "stream",
     "text": [
      "The black suit suits me perfectly. suit\n"
     ]
    },
    {
     "name": "stderr",
     "output_type": "stream",
     "text": [
      "1171it [16:21,  1.19it/s]"
     ]
    },
    {
     "name": "stdout",
     "output_type": "stream",
     "text": [
      "It's your coat, but it's my jacket. coat\n"
     ]
    },
    {
     "name": "stderr",
     "output_type": "stream",
     "text": [
      "1172it [16:22,  1.24it/s]"
     ]
    },
    {
     "name": "stdout",
     "output_type": "stream",
     "text": [
      "It's my jacket. jacket\n"
     ]
    },
    {
     "name": "stderr",
     "output_type": "stream",
     "text": [
      "1173it [16:23,  1.31it/s]"
     ]
    },
    {
     "name": "stdout",
     "output_type": "stream",
     "text": [
      "It's my sweater. sweater\n"
     ]
    },
    {
     "name": "stderr",
     "output_type": "stream",
     "text": [
      "1174it [16:23,  1.37it/s]"
     ]
    },
    {
     "name": "stdout",
     "output_type": "stream",
     "text": [
      "Your scarf is long. scarf\n"
     ]
    },
    {
     "name": "stderr",
     "output_type": "stream",
     "text": [
      "1175it [16:24,  1.33it/s]"
     ]
    },
    {
     "name": "stdout",
     "output_type": "stream",
     "text": [
      "You must wear your helmet when riding. helmet\n"
     ]
    },
    {
     "name": "stderr",
     "output_type": "stream",
     "text": [
      "1176it [16:25,  1.34it/s]"
     ]
    },
    {
     "name": "stdout",
     "output_type": "stream",
     "text": [
      "생성된 문장이 규칙을 따르지 않습니다. 단어: wear\n"
     ]
    },
    {
     "name": "stderr",
     "output_type": "stream",
     "text": [
      "1177it [16:26,  1.29it/s]"
     ]
    },
    {
     "name": "stdout",
     "output_type": "stream",
     "text": [
      "The soft sweater covers very baby's body. cover\n"
     ]
    },
    {
     "name": "stderr",
     "output_type": "stream",
     "text": [
      "1178it [16:26,  1.24it/s]"
     ]
    },
    {
     "name": "stdout",
     "output_type": "stream",
     "text": [
      "My hat is on my head now. hat\n"
     ]
    },
    {
     "name": "stderr",
     "output_type": "stream",
     "text": [
      "1179it [16:27,  1.26it/s]"
     ]
    },
    {
     "name": "stdout",
     "output_type": "stream",
     "text": [
      "I like my school uniform. uniform\n"
     ]
    },
    {
     "name": "stderr",
     "output_type": "stream",
     "text": [
      "1180it [16:28,  1.33it/s]"
     ]
    },
    {
     "name": "stdout",
     "output_type": "stream",
     "text": [
      "Your belt is short. belt\n"
     ]
    },
    {
     "name": "stderr",
     "output_type": "stream",
     "text": [
      "1181it [16:29,  1.33it/s]"
     ]
    },
    {
     "name": "stdout",
     "output_type": "stream",
     "text": [
      "I'm shooting at the goal. shoot\n"
     ]
    },
    {
     "name": "stderr",
     "output_type": "stream",
     "text": [
      "1182it [16:29,  1.35it/s]"
     ]
    },
    {
     "name": "stdout",
     "output_type": "stream",
     "text": [
      "생성된 문장이 규칙을 따르지 않습니다. 단어: shot\n"
     ]
    },
    {
     "name": "stderr",
     "output_type": "stream",
     "text": [
      "1183it [16:30,  1.23it/s]"
     ]
    },
    {
     "name": "stdout",
     "output_type": "stream",
     "text": [
      "I hit the ball and I'm shooting at the goal. hit\n"
     ]
    },
    {
     "name": "stderr",
     "output_type": "stream",
     "text": [
      "1184it [16:31,  1.16it/s]"
     ]
    },
    {
     "name": "stdout",
     "output_type": "stream",
     "text": [
      "생성된 문장이 규칙을 따르지 않습니다. 단어: direction\n"
     ]
    },
    {
     "name": "stderr",
     "output_type": "stream",
     "text": [
      "1185it [16:32,  1.16it/s]"
     ]
    },
    {
     "name": "stdout",
     "output_type": "stream",
     "text": [
      "생성된 문장이 규칙을 따르지 않습니다. 단어: south\n"
     ]
    },
    {
     "name": "stderr",
     "output_type": "stream",
     "text": [
      "1186it [16:33,  1.13it/s]"
     ]
    },
    {
     "name": "stdout",
     "output_type": "stream",
     "text": [
      "생성된 문장이 규칙을 따르지 않습니다. 단어: north\n"
     ]
    },
    {
     "name": "stderr",
     "output_type": "stream",
     "text": [
      "1187it [16:34,  1.08it/s]"
     ]
    },
    {
     "name": "stdout",
     "output_type": "stream",
     "text": [
      "If that way is east, then it's west. west\n"
     ]
    },
    {
     "name": "stderr",
     "output_type": "stream",
     "text": [
      "1188it [16:35,  1.03it/s]"
     ]
    },
    {
     "name": "stdout",
     "output_type": "stream",
     "text": [
      "If that way is east, then this way is west. east\n"
     ]
    },
    {
     "name": "stderr",
     "output_type": "stream",
     "text": [
      "1189it [16:36,  1.14it/s]"
     ]
    },
    {
     "name": "stdout",
     "output_type": "stream",
     "text": [
      "생성된 문장이 규칙을 따르지 않습니다. 단어: eastward\n"
     ]
    },
    {
     "name": "stderr",
     "output_type": "stream",
     "text": [
      "1190it [16:37,  1.16it/s]"
     ]
    },
    {
     "name": "stdout",
     "output_type": "stream",
     "text": [
      "생성된 문장이 규칙을 따르지 않습니다. 단어: leftward\n"
     ]
    },
    {
     "name": "stderr",
     "output_type": "stream",
     "text": [
      "1191it [16:38,  1.15it/s]"
     ]
    },
    {
     "name": "stdout",
     "output_type": "stream",
     "text": [
      "생성된 문장이 규칙을 따르지 않습니다. 단어: clockwise\n"
     ]
    },
    {
     "name": "stderr",
     "output_type": "stream",
     "text": [
      "1192it [16:38,  1.19it/s]"
     ]
    },
    {
     "name": "stdout",
     "output_type": "stream",
     "text": [
      "The person should turn left then right. left\n"
     ]
    },
    {
     "name": "stderr",
     "output_type": "stream",
     "text": [
      "1193it [16:39,  1.24it/s]"
     ]
    },
    {
     "name": "stdout",
     "output_type": "stream",
     "text": [
      "생성된 문장이 규칙을 따르지 않습니다. 단어: opposite\n"
     ]
    },
    {
     "name": "stderr",
     "output_type": "stream",
     "text": [
      "1194it [16:40,  1.23it/s]"
     ]
    },
    {
     "name": "stdout",
     "output_type": "stream",
     "text": [
      "생성된 문장이 규칙을 따르지 않습니다. 단어: side\n"
     ]
    },
    {
     "name": "stderr",
     "output_type": "stream",
     "text": [
      "1195it [16:41,  1.27it/s]"
     ]
    },
    {
     "name": "stdout",
     "output_type": "stream",
     "text": [
      "생성된 문장이 규칙을 따르지 않습니다. 단어: turn\n"
     ]
    },
    {
     "name": "stderr",
     "output_type": "stream",
     "text": [
      "1196it [16:41,  1.30it/s]"
     ]
    },
    {
     "name": "stdout",
     "output_type": "stream",
     "text": [
      "생성된 문장이 규칙을 따르지 않습니다. 단어: forward\n"
     ]
    },
    {
     "name": "stderr",
     "output_type": "stream",
     "text": [
      "1197it [16:42,  1.29it/s]"
     ]
    },
    {
     "name": "stdout",
     "output_type": "stream",
     "text": [
      "생성된 문장이 규칙을 따르지 않습니다. 단어: straightway\n"
     ]
    },
    {
     "name": "stderr",
     "output_type": "stream",
     "text": [
      "1198it [16:43,  1.21it/s]"
     ]
    },
    {
     "name": "stdout",
     "output_type": "stream",
     "text": [
      "Go along this way, it's not very long. along\n"
     ]
    },
    {
     "name": "stderr",
     "output_type": "stream",
     "text": [
      "1199it [16:44,  1.19it/s]"
     ]
    },
    {
     "name": "stdout",
     "output_type": "stream",
     "text": [
      "생성된 문장이 규칙을 따르지 않습니다. 단어: across\n"
     ]
    },
    {
     "name": "stderr",
     "output_type": "stream",
     "text": [
      "1200it [16:45,  1.21it/s]"
     ]
    },
    {
     "name": "stdout",
     "output_type": "stream",
     "text": [
      "생성된 문장이 규칙을 따르지 않습니다. 단어: direct\n"
     ]
    },
    {
     "name": "stderr",
     "output_type": "stream",
     "text": [
      "1201it [16:46,  1.22it/s]"
     ]
    },
    {
     "name": "stdout",
     "output_type": "stream",
     "text": [
      "생성된 문장이 규칙을 따르지 않습니다. 단어: respond\n"
     ]
    },
    {
     "name": "stderr",
     "output_type": "stream",
     "text": [
      "1202it [16:46,  1.27it/s]"
     ]
    },
    {
     "name": "stdout",
     "output_type": "stream",
     "text": [
      "I replied to his reply. reply\n"
     ]
    },
    {
     "name": "stderr",
     "output_type": "stream",
     "text": [
      "1203it [16:47,  1.27it/s]"
     ]
    },
    {
     "name": "stdout",
     "output_type": "stream",
     "text": [
      "생성된 문장이 규칙을 따르지 않습니다. 단어: respond to\n"
     ]
    },
    {
     "name": "stderr",
     "output_type": "stream",
     "text": [
      "1204it [16:48,  1.23it/s]"
     ]
    },
    {
     "name": "stdout",
     "output_type": "stream",
     "text": [
      "I’ll send you a text message. message\n"
     ]
    },
    {
     "name": "stderr",
     "output_type": "stream",
     "text": [
      "1205it [16:49,  1.22it/s]"
     ]
    },
    {
     "name": "stdout",
     "output_type": "stream",
     "text": [
      "My uncle is a famous guitarist. famous\n"
     ]
    },
    {
     "name": "stderr",
     "output_type": "stream",
     "text": [
      "1206it [16:49,  1.25it/s]"
     ]
    },
    {
     "name": "stdout",
     "output_type": "stream",
     "text": [
      "생성된 문장이 규칙을 따르지 않습니다. 단어: popular\n"
     ]
    },
    {
     "name": "stderr",
     "output_type": "stream",
     "text": [
      "1207it [16:50,  1.18it/s]"
     ]
    },
    {
     "name": "stdout",
     "output_type": "stream",
     "text": [
      "It's a common mistake when friends share food. common\n"
     ]
    },
    {
     "name": "stderr",
     "output_type": "stream",
     "text": [
      "1208it [16:51,  1.15it/s]"
     ]
    },
    {
     "name": "stdout",
     "output_type": "stream",
     "text": [
      "The ring has the shape of a circle. circle\n"
     ]
    },
    {
     "name": "stderr",
     "output_type": "stream",
     "text": [
      "1209it [16:52,  1.18it/s]"
     ]
    },
    {
     "name": "stdout",
     "output_type": "stream",
     "text": [
      "생성된 문장이 규칙을 따르지 않습니다. 단어: semicircle\n"
     ]
    },
    {
     "name": "stderr",
     "output_type": "stream",
     "text": [
      "1210it [16:53,  1.03it/s]"
     ]
    },
    {
     "name": "stdout",
     "output_type": "stream",
     "text": [
      "Squares, circles, and triangles are all shapes on the blackboard. triangle\n"
     ]
    },
    {
     "name": "stderr",
     "output_type": "stream",
     "text": [
      "1211it [16:54,  1.04it/s]"
     ]
    },
    {
     "name": "stdout",
     "output_type": "stream",
     "text": [
      "생성된 문장이 규칙을 따르지 않습니다. 단어: round\n"
     ]
    },
    {
     "name": "stderr",
     "output_type": "stream",
     "text": [
      "1212it [16:55,  1.09it/s]"
     ]
    },
    {
     "name": "stdout",
     "output_type": "stream",
     "text": [
      "The ring has the shape of a circle. ring\n"
     ]
    },
    {
     "name": "stderr",
     "output_type": "stream",
     "text": [
      "1213it [16:56,  1.12it/s]"
     ]
    },
    {
     "name": "stdout",
     "output_type": "stream",
     "text": [
      "We're going to the concert. concert\n"
     ]
    },
    {
     "name": "stderr",
     "output_type": "stream",
     "text": [
      "1214it [16:57,  1.13it/s]"
     ]
    },
    {
     "name": "stdout",
     "output_type": "stream",
     "text": [
      "I’m going to the concert hall. concert hall\n"
     ]
    },
    {
     "name": "stderr",
     "output_type": "stream",
     "text": [
      "1215it [16:58,  1.13it/s]"
     ]
    },
    {
     "name": "stdout",
     "output_type": "stream",
     "text": [
      "생성된 문장이 규칙을 따르지 않습니다. 단어: audience\n"
     ]
    },
    {
     "name": "stderr",
     "output_type": "stream",
     "text": [
      "1216it [16:59,  1.13it/s]"
     ]
    },
    {
     "name": "stdout",
     "output_type": "stream",
     "text": [
      "생성된 문장이 규칙을 따르지 않습니다. 단어: conference\n"
     ]
    },
    {
     "name": "stderr",
     "output_type": "stream",
     "text": [
      "1217it [16:59,  1.14it/s]"
     ]
    },
    {
     "name": "stdout",
     "output_type": "stream",
     "text": [
      "How about going to the festival tonight. festival\n"
     ]
    },
    {
     "name": "stderr",
     "output_type": "stream",
     "text": [
      "1218it [17:01,  1.09it/s]"
     ]
    },
    {
     "name": "stdout",
     "output_type": "stream",
     "text": [
      "He's tired, I'm tired, she's sleepy now. tired\n"
     ]
    },
    {
     "name": "stderr",
     "output_type": "stream",
     "text": [
      "1219it [17:01,  1.07it/s]"
     ]
    },
    {
     "name": "stdout",
     "output_type": "stream",
     "text": [
      "You should get some rest because I feel tired. rest\n"
     ]
    },
    {
     "name": "stderr",
     "output_type": "stream",
     "text": [
      "1220it [17:02,  1.12it/s]"
     ]
    },
    {
     "name": "stdout",
     "output_type": "stream",
     "text": [
      "생성된 문장이 규칙을 따르지 않습니다. 단어: nap\n"
     ]
    },
    {
     "name": "stderr",
     "output_type": "stream",
     "text": [
      "1221it [17:03,  1.17it/s]"
     ]
    },
    {
     "name": "stdout",
     "output_type": "stream",
     "text": [
      "I'm tired because she's sleepy. sleepy\n"
     ]
    },
    {
     "name": "stderr",
     "output_type": "stream",
     "text": [
      "1222it [17:04,  1.13it/s]"
     ]
    },
    {
     "name": "stdout",
     "output_type": "stream",
     "text": [
      "I feel tired, it's time to sleep. sleep\n"
     ]
    },
    {
     "name": "stderr",
     "output_type": "stream",
     "text": [
      "1223it [17:05,  1.15it/s]"
     ]
    },
    {
     "name": "stdout",
     "output_type": "stream",
     "text": [
      "생성된 문장이 규칙을 따르지 않습니다. 단어: relax\n"
     ]
    },
    {
     "name": "stderr",
     "output_type": "stream",
     "text": [
      "1224it [17:06,  1.10it/s]"
     ]
    },
    {
     "name": "stdout",
     "output_type": "stream",
     "text": [
      "생성된 문장이 규칙을 따르지 않습니다. 단어: go to bed\n"
     ]
    },
    {
     "name": "stderr",
     "output_type": "stream",
     "text": [
      "1225it [17:07,  1.12it/s]"
     ]
    },
    {
     "name": "stdout",
     "output_type": "stream",
     "text": [
      "생성된 문장이 규칙을 따르지 않습니다. 단어: wake\n"
     ]
    },
    {
     "name": "stderr",
     "output_type": "stream",
     "text": [
      "1226it [17:08,  1.09it/s]"
     ]
    },
    {
     "name": "stdout",
     "output_type": "stream",
     "text": [
      "생성된 문장이 규칙을 따르지 않습니다. 단어: neglect\n"
     ]
    },
    {
     "name": "stderr",
     "output_type": "stream",
     "text": [
      "1227it [17:08,  1.14it/s]"
     ]
    },
    {
     "name": "stdout",
     "output_type": "stream",
     "text": [
      "생성된 문장이 규칙을 따르지 않습니다. 단어: pain\n"
     ]
    },
    {
     "name": "stderr",
     "output_type": "stream",
     "text": [
      "1228it [17:09,  1.17it/s]"
     ]
    },
    {
     "name": "stdout",
     "output_type": "stream",
     "text": [
      "생성된 문장이 규칙을 따르지 않습니다. 단어: sore\n"
     ]
    },
    {
     "name": "stderr",
     "output_type": "stream",
     "text": [
      "1229it [17:10,  1.20it/s]"
     ]
    },
    {
     "name": "stdout",
     "output_type": "stream",
     "text": [
      "My knee hurts and my foot hurts. hurt\n"
     ]
    },
    {
     "name": "stderr",
     "output_type": "stream",
     "text": [
      "1230it [17:11,  1.16it/s]"
     ]
    },
    {
     "name": "stdout",
     "output_type": "stream",
     "text": [
      "Don't tear the letter; she wiped her tears. tear\n"
     ]
    },
    {
     "name": "stderr",
     "output_type": "stream",
     "text": [
      "1231it [17:12,  1.17it/s]"
     ]
    },
    {
     "name": "stdout",
     "output_type": "stream",
     "text": [
      "생성된 문장이 규칙을 따르지 않습니다. 단어: feel\n"
     ]
    },
    {
     "name": "stderr",
     "output_type": "stream",
     "text": [
      "1232it [17:13,  1.13it/s]"
     ]
    },
    {
     "name": "stdout",
     "output_type": "stream",
     "text": [
      "생성된 문장이 규칙을 따르지 않습니다. 단어: ache\n"
     ]
    },
    {
     "name": "stderr",
     "output_type": "stream",
     "text": [
      "1233it [17:14,  1.15it/s]"
     ]
    },
    {
     "name": "stdout",
     "output_type": "stream",
     "text": [
      "생성된 문장이 규칙을 따르지 않습니다. 단어: prevent\n"
     ]
    },
    {
     "name": "stderr",
     "output_type": "stream",
     "text": [
      "1234it [17:14,  1.18it/s]"
     ]
    },
    {
     "name": "stdout",
     "output_type": "stream",
     "text": [
      "생성된 문장이 규칙을 따르지 않습니다. 단어: discourage\n"
     ]
    },
    {
     "name": "stderr",
     "output_type": "stream",
     "text": [
      "1235it [17:15,  1.23it/s]"
     ]
    },
    {
     "name": "stdout",
     "output_type": "stream",
     "text": [
      "생성된 문장이 규칙을 따르지 않습니다. 단어: oppose\n"
     ]
    },
    {
     "name": "stderr",
     "output_type": "stream",
     "text": [
      "1236it [17:16,  1.19it/s]"
     ]
    },
    {
     "name": "stdout",
     "output_type": "stream",
     "text": [
      "생성된 문장이 규칙을 따르지 않습니다. 단어: interfere\n"
     ]
    },
    {
     "name": "stderr",
     "output_type": "stream",
     "text": [
      "1237it [17:17,  1.17it/s]"
     ]
    },
    {
     "name": "stdout",
     "output_type": "stream",
     "text": [
      "생성된 문장이 규칙을 따르지 않습니다. 단어: exclude\n"
     ]
    },
    {
     "name": "stderr",
     "output_type": "stream",
     "text": [
      "1238it [17:18,  1.16it/s]"
     ]
    },
    {
     "name": "stdout",
     "output_type": "stream",
     "text": [
      "생성된 문장이 규칙을 따르지 않습니다. 단어: motivate\n"
     ]
    },
    {
     "name": "stderr",
     "output_type": "stream",
     "text": [
      "1239it [17:19,  1.21it/s]"
     ]
    },
    {
     "name": "stdout",
     "output_type": "stream",
     "text": [
      "생성된 문장이 규칙을 따르지 않습니다. 단어: allow\n"
     ]
    },
    {
     "name": "stderr",
     "output_type": "stream",
     "text": [
      "1240it [17:19,  1.18it/s]"
     ]
    },
    {
     "name": "stdout",
     "output_type": "stream",
     "text": [
      "생성된 문장이 규칙을 따르지 않습니다. 단어: die\n"
     ]
    },
    {
     "name": "stderr",
     "output_type": "stream",
     "text": [
      "1241it [17:20,  1.18it/s]"
     ]
    },
    {
     "name": "stdout",
     "output_type": "stream",
     "text": [
      "There is no life after death. death\n"
     ]
    },
    {
     "name": "stderr",
     "output_type": "stream",
     "text": [
      "1242it [17:21,  1.18it/s]"
     ]
    },
    {
     "name": "stdout",
     "output_type": "stream",
     "text": [
      "She survived in the survival game. survive\n"
     ]
    },
    {
     "name": "stderr",
     "output_type": "stream",
     "text": [
      "1243it [17:22,  1.17it/s]"
     ]
    },
    {
     "name": "stdout",
     "output_type": "stream",
     "text": [
      "My sister knows how to enjoy life. life\n"
     ]
    },
    {
     "name": "stderr",
     "output_type": "stream",
     "text": [
      "1244it [17:23,  1.14it/s]"
     ]
    },
    {
     "name": "stdout",
     "output_type": "stream",
     "text": [
      "My brothers fight with each other every day. fight\n"
     ]
    },
    {
     "name": "stderr",
     "output_type": "stream",
     "text": [
      "1245it [17:24,  1.17it/s]"
     ]
    },
    {
     "name": "stdout",
     "output_type": "stream",
     "text": [
      "생성된 문장이 규칙을 따르지 않습니다. 단어: argue\n"
     ]
    },
    {
     "name": "stderr",
     "output_type": "stream",
     "text": [
      "1246it [17:25,  1.19it/s]"
     ]
    },
    {
     "name": "stdout",
     "output_type": "stream",
     "text": [
      "생성된 문장이 규칙을 따르지 않습니다. 단어: discussion\n"
     ]
    },
    {
     "name": "stderr",
     "output_type": "stream",
     "text": [
      "1247it [17:25,  1.33it/s]"
     ]
    },
    {
     "name": "stdout",
     "output_type": "stream",
     "text": [
      "생성된 문장이 규칙을 따르지 않습니다. 단어: deal with\n"
     ]
    },
    {
     "name": "stderr",
     "output_type": "stream",
     "text": [
      "1248it [17:26,  1.20it/s]"
     ]
    },
    {
     "name": "stdout",
     "output_type": "stream",
     "text": [
      "생성된 문장이 규칙을 따르지 않습니다. 단어: diet\n"
     ]
    },
    {
     "name": "stderr",
     "output_type": "stream",
     "text": [
      "1249it [17:27,  1.19it/s]"
     ]
    },
    {
     "name": "stdout",
     "output_type": "stream",
     "text": [
      "생성된 문장이 규칙을 따르지 않습니다. 단어: consume\n"
     ]
    },
    {
     "name": "stderr",
     "output_type": "stream",
     "text": [
      "1250it [17:28,  1.19it/s]"
     ]
    },
    {
     "name": "stdout",
     "output_type": "stream",
     "text": [
      "I'm eating my favorite breakfast cereal happily. eat\n"
     ]
    },
    {
     "name": "stderr",
     "output_type": "stream",
     "text": [
      "1251it [17:29,  1.14it/s]"
     ]
    },
    {
     "name": "stdout",
     "output_type": "stream",
     "text": [
      "생성된 문장이 규칙을 따르지 않습니다. 단어: exercise\n"
     ]
    },
    {
     "name": "stderr",
     "output_type": "stream",
     "text": [
      "1252it [17:30,  1.14it/s]"
     ]
    },
    {
     "name": "stdout",
     "output_type": "stream",
     "text": [
      "It's time to feed my dog. feed\n"
     ]
    },
    {
     "name": "stderr",
     "output_type": "stream",
     "text": [
      "1253it [17:30,  1.19it/s]"
     ]
    },
    {
     "name": "stdout",
     "output_type": "stream",
     "text": [
      "생성된 문장이 규칙을 따르지 않습니다. 단어: chew\n"
     ]
    },
    {
     "name": "stderr",
     "output_type": "stream",
     "text": [
      "1254it [17:31,  1.20it/s]"
     ]
    },
    {
     "name": "stdout",
     "output_type": "stream",
     "text": [
      "He is drinking coffee from a full glass. drink\n"
     ]
    },
    {
     "name": "stderr",
     "output_type": "stream",
     "text": [
      "1255it [17:32,  1.18it/s]"
     ]
    },
    {
     "name": "stdout",
     "output_type": "stream",
     "text": [
      "생성된 문장이 규칙을 따르지 않습니다. 단어: digest\n"
     ]
    },
    {
     "name": "stderr",
     "output_type": "stream",
     "text": [
      "1256it [17:33,  1.20it/s]"
     ]
    },
    {
     "name": "stdout",
     "output_type": "stream",
     "text": [
      "Sit down and come inside my house. do\n"
     ]
    },
    {
     "name": "stderr",
     "output_type": "stream",
     "text": [
      "1257it [17:34,  1.12it/s]"
     ]
    },
    {
     "name": "stdout",
     "output_type": "stream",
     "text": [
      "생성된 문장이 규칙을 따르지 않습니다. 단어: spend\n"
     ]
    },
    {
     "name": "stderr",
     "output_type": "stream",
     "text": [
      "1258it [17:35,  1.16it/s]"
     ]
    },
    {
     "name": "stdout",
     "output_type": "stream",
     "text": [
      "Let’s throw a ball. throw\n"
     ]
    },
    {
     "name": "stderr",
     "output_type": "stream",
     "text": [
      "1259it [17:36,  1.18it/s]"
     ]
    },
    {
     "name": "stdout",
     "output_type": "stream",
     "text": [
      "생성된 문장이 규칙을 따르지 않습니다. 단어: toss\n"
     ]
    },
    {
     "name": "stderr",
     "output_type": "stream",
     "text": [
      "1260it [17:36,  1.22it/s]"
     ]
    },
    {
     "name": "stdout",
     "output_type": "stream",
     "text": [
      "I will catch the ball. catch\n"
     ]
    },
    {
     "name": "stderr",
     "output_type": "stream",
     "text": [
      "1261it [17:37,  1.19it/s]"
     ]
    },
    {
     "name": "stdout",
     "output_type": "stream",
     "text": [
      "The skater is spinning while throwing a ball. spin\n"
     ]
    },
    {
     "name": "stderr",
     "output_type": "stream",
     "text": [
      "1262it [17:38,  1.17it/s]"
     ]
    },
    {
     "name": "stdout",
     "output_type": "stream",
     "text": [
      "생성된 문장이 규칙을 따르지 않습니다. 단어: friendship\n"
     ]
    },
    {
     "name": "stderr",
     "output_type": "stream",
     "text": [
      "1263it [17:39,  1.29it/s]"
     ]
    },
    {
     "name": "stdout",
     "output_type": "stream",
     "text": [
      "생성된 문장이 규칙을 따르지 않습니다. 단어: kindness\n"
     ]
    },
    {
     "name": "stderr",
     "output_type": "stream",
     "text": [
      "1264it [17:39,  1.31it/s]"
     ]
    },
    {
     "name": "stdout",
     "output_type": "stream",
     "text": [
      "We are close friends. friend\n"
     ]
    },
    {
     "name": "stderr",
     "output_type": "stream",
     "text": [
      "1265it [17:40,  1.21it/s]"
     ]
    },
    {
     "name": "stdout",
     "output_type": "stream",
     "text": [
      "생성된 문장이 규칙을 따르지 않습니다. 단어: character\n"
     ]
    },
    {
     "name": "stderr",
     "output_type": "stream",
     "text": [
      "1266it [17:41,  1.25it/s]"
     ]
    },
    {
     "name": "stdout",
     "output_type": "stream",
     "text": [
      "생성된 문장이 규칙을 따르지 않습니다. 단어: distrust\n"
     ]
    },
    {
     "name": "stderr",
     "output_type": "stream",
     "text": [
      "1267it [17:42,  1.22it/s]"
     ]
    },
    {
     "name": "stdout",
     "output_type": "stream",
     "text": [
      "I respect you very much and be quiet. respect\n"
     ]
    },
    {
     "name": "stderr",
     "output_type": "stream",
     "text": [
      "1268it [17:43,  1.26it/s]"
     ]
    },
    {
     "name": "stdout",
     "output_type": "stream",
     "text": [
      "He is a very friendly person. friendly\n"
     ]
    },
    {
     "name": "stderr",
     "output_type": "stream",
     "text": [
      "1269it [17:43,  1.25it/s]"
     ]
    },
    {
     "name": "stdout",
     "output_type": "stream",
     "text": [
      "I love my friends and family too. love\n"
     ]
    },
    {
     "name": "stderr",
     "output_type": "stream",
     "text": [
      "1270it [17:44,  1.22it/s]"
     ]
    },
    {
     "name": "stdout",
     "output_type": "stream",
     "text": [
      "생성된 문장이 규칙을 따르지 않습니다. 단어: care about\n"
     ]
    },
    {
     "name": "stderr",
     "output_type": "stream",
     "text": [
      "1271it [17:45,  1.20it/s]"
     ]
    },
    {
     "name": "stdout",
     "output_type": "stream",
     "text": [
      "You're kind, and so is your brother. kind\n"
     ]
    },
    {
     "name": "stderr",
     "output_type": "stream",
     "text": [
      "1272it [17:46,  1.18it/s]"
     ]
    },
    {
     "name": "stdout",
     "output_type": "stream",
     "text": [
      "It takes an hour to get home. hour\n"
     ]
    },
    {
     "name": "stderr",
     "output_type": "stream",
     "text": [
      "1273it [17:47,  1.11it/s]"
     ]
    },
    {
     "name": "stdout",
     "output_type": "stream",
     "text": [
      "생성된 문장이 규칙을 따르지 않습니다. 단어: minute\n"
     ]
    },
    {
     "name": "stderr",
     "output_type": "stream",
     "text": [
      "1274it [17:48,  1.13it/s]"
     ]
    },
    {
     "name": "stdout",
     "output_type": "stream",
     "text": [
      "생성된 문장이 규칙을 따르지 않습니다. 단어: time\n"
     ]
    },
    {
     "name": "stderr",
     "output_type": "stream",
     "text": [
      "1275it [17:49,  1.17it/s]"
     ]
    },
    {
     "name": "stdout",
     "output_type": "stream",
     "text": [
      "생성된 문장이 규칙을 따르지 않습니다. 단어: moment\n"
     ]
    },
    {
     "name": "stderr",
     "output_type": "stream",
     "text": [
      "1276it [17:49,  1.29it/s]"
     ]
    },
    {
     "name": "stdout",
     "output_type": "stream",
     "text": [
      "I like purple. purple\n"
     ]
    },
    {
     "name": "stderr",
     "output_type": "stream",
     "text": [
      "1277it [17:50,  1.26it/s]"
     ]
    },
    {
     "name": "stdout",
     "output_type": "stream",
     "text": [
      "That light is very dark outside. dark\n"
     ]
    },
    {
     "name": "stderr",
     "output_type": "stream",
     "text": [
      "1278it [17:51,  1.26it/s]"
     ]
    },
    {
     "name": "stdout",
     "output_type": "stream",
     "text": [
      "This is an orange that looks green. orange\n"
     ]
    },
    {
     "name": "stderr",
     "output_type": "stream",
     "text": [
      "1279it [17:52,  1.29it/s]"
     ]
    },
    {
     "name": "stdout",
     "output_type": "stream",
     "text": [
      "The car is It’s white. white\n"
     ]
    },
    {
     "name": "stderr",
     "output_type": "stream",
     "text": [
      "1280it [17:53,  1.25it/s]"
     ]
    },
    {
     "name": "stdout",
     "output_type": "stream",
     "text": [
      "This goat is black, it's not. black\n"
     ]
    },
    {
     "name": "stderr",
     "output_type": "stream",
     "text": [
      "1281it [17:53,  1.25it/s]"
     ]
    },
    {
     "name": "stdout",
     "output_type": "stream",
     "text": [
      "My boots are blue and this color. blue\n"
     ]
    },
    {
     "name": "stderr",
     "output_type": "stream",
     "text": [
      "1282it [17:54,  1.33it/s]"
     ]
    },
    {
     "name": "stdout",
     "output_type": "stream",
     "text": [
      "The horse is brown. brown\n"
     ]
    },
    {
     "name": "stderr",
     "output_type": "stream",
     "text": [
      "1283it [17:55,  1.36it/s]"
     ]
    },
    {
     "name": "stdout",
     "output_type": "stream",
     "text": [
      "I like this red color. color\n"
     ]
    },
    {
     "name": "stderr",
     "output_type": "stream",
     "text": [
      "1284it [17:55,  1.36it/s]"
     ]
    },
    {
     "name": "stdout",
     "output_type": "stream",
     "text": [
      "The plane is gray and brown. gray\n"
     ]
    },
    {
     "name": "stderr",
     "output_type": "stream",
     "text": [
      "1285it [17:56,  1.36it/s]"
     ]
    },
    {
     "name": "stdout",
     "output_type": "stream",
     "text": [
      "My shorts are green and brown. green\n"
     ]
    },
    {
     "name": "stderr",
     "output_type": "stream",
     "text": [
      "1286it [17:57,  1.35it/s]"
     ]
    },
    {
     "name": "stdout",
     "output_type": "stream",
     "text": [
      "생성된 문장이 규칙을 따르지 않습니다. 단어: pink\n"
     ]
    },
    {
     "name": "stderr",
     "output_type": "stream",
     "text": [
      "1287it [17:58,  1.40it/s]"
     ]
    },
    {
     "name": "stdout",
     "output_type": "stream",
     "text": [
      "I like this red car. red\n"
     ]
    },
    {
     "name": "stderr",
     "output_type": "stream",
     "text": [
      "1288it [17:58,  1.36it/s]"
     ]
    },
    {
     "name": "stdout",
     "output_type": "stream",
     "text": [
      "The pen is yellow and also red. yellow\n"
     ]
    },
    {
     "name": "stderr",
     "output_type": "stream",
     "text": [
      "1289it [17:59,  1.33it/s]"
     ]
    },
    {
     "name": "stdout",
     "output_type": "stream",
     "text": [
      "The teacher asked When is the race? race\n"
     ]
    },
    {
     "name": "stderr",
     "output_type": "stream",
     "text": [
      "1290it [18:00,  1.38it/s]"
     ]
    },
    {
     "name": "stdout",
     "output_type": "stream",
     "text": [
      "Look at the rainbow. rainbow\n"
     ]
    },
    {
     "name": "stderr",
     "output_type": "stream",
     "text": [
      "1291it [18:01,  1.32it/s]"
     ]
    },
    {
     "name": "stdout",
     "output_type": "stream",
     "text": [
      "생성된 문장이 규칙을 따르지 않습니다. 단어: highlight\n"
     ]
    },
    {
     "name": "stderr",
     "output_type": "stream",
     "text": [
      "1292it [18:01,  1.28it/s]"
     ]
    },
    {
     "name": "stdout",
     "output_type": "stream",
     "text": [
      "Time is gold, and it's green. gold\n"
     ]
    },
    {
     "name": "stderr",
     "output_type": "stream",
     "text": [
      "1293it [18:02,  1.22it/s]"
     ]
    },
    {
     "name": "stdout",
     "output_type": "stream",
     "text": [
      "생성된 문장이 규칙을 따르지 않습니다. 단어: bright\n"
     ]
    },
    {
     "name": "stderr",
     "output_type": "stream",
     "text": [
      "1294it [18:03,  1.21it/s]"
     ]
    },
    {
     "name": "stdout",
     "output_type": "stream",
     "text": [
      "He works in the sales department. sale\n"
     ]
    },
    {
     "name": "stderr",
     "output_type": "stream",
     "text": [
      "1295it [18:04,  1.10it/s]"
     ]
    },
    {
     "name": "stdout",
     "output_type": "stream",
     "text": [
      "생성된 문장이 규칙을 따르지 않습니다. 단어: buy\n"
     ]
    },
    {
     "name": "stderr",
     "output_type": "stream",
     "text": [
      "1296it [18:05,  1.09it/s]"
     ]
    },
    {
     "name": "stdout",
     "output_type": "stream",
     "text": [
      "생성된 문장이 규칙을 따르지 않습니다. 단어: purchase\n"
     ]
    },
    {
     "name": "stderr",
     "output_type": "stream",
     "text": [
      "1297it [18:06,  1.14it/s]"
     ]
    },
    {
     "name": "stdout",
     "output_type": "stream",
     "text": [
      "Do you sell meat at the store? sell\n"
     ]
    },
    {
     "name": "stderr",
     "output_type": "stream",
     "text": [
      "1298it [18:07,  1.14it/s]"
     ]
    },
    {
     "name": "stdout",
     "output_type": "stream",
     "text": [
      "I ordered them to line up. order\n"
     ]
    },
    {
     "name": "stderr",
     "output_type": "stream",
     "text": [
      "1299it [18:08,  1.17it/s]"
     ]
    },
    {
     "name": "stdout",
     "output_type": "stream",
     "text": [
      "생성된 문장이 규칙을 따르지 않습니다. 단어: add\n"
     ]
    },
    {
     "name": "stderr",
     "output_type": "stream",
     "text": [
      "1300it [18:09,  1.17it/s]"
     ]
    },
    {
     "name": "stdout",
     "output_type": "stream",
     "text": [
      "생성된 문장이 규칙을 따르지 않습니다. 단어: product\n"
     ]
    },
    {
     "name": "stderr",
     "output_type": "stream",
     "text": [
      "1301it [18:10,  1.08it/s]"
     ]
    },
    {
     "name": "stdout",
     "output_type": "stream",
     "text": [
      "생성된 문장이 규칙을 따르지 않습니다. 단어: bargain\n"
     ]
    },
    {
     "name": "stderr",
     "output_type": "stream",
     "text": [
      "1302it [18:11,  1.11it/s]"
     ]
    },
    {
     "name": "stdout",
     "output_type": "stream",
     "text": [
      "Jason is short but my sister is tall. short\n"
     ]
    },
    {
     "name": "stderr",
     "output_type": "stream",
     "text": [
      "1303it [18:11,  1.17it/s]"
     ]
    },
    {
     "name": "stdout",
     "output_type": "stream",
     "text": [
      "생성된 문장이 규칙을 따르지 않습니다. 단어: shorten\n"
     ]
    },
    {
     "name": "stderr",
     "output_type": "stream",
     "text": [
      "1304it [18:12,  1.19it/s]"
     ]
    },
    {
     "name": "stdout",
     "output_type": "stream",
     "text": [
      "That train is long and your arm. long\n"
     ]
    },
    {
     "name": "stderr",
     "output_type": "stream",
     "text": [
      "1305it [18:13,  1.21it/s]"
     ]
    },
    {
     "name": "stdout",
     "output_type": "stream",
     "text": [
      "생성된 문장이 규칙을 따르지 않습니다. 단어: lengthwise\n"
     ]
    },
    {
     "name": "stderr",
     "output_type": "stream",
     "text": [
      "1306it [18:14,  1.18it/s]"
     ]
    },
    {
     "name": "stdout",
     "output_type": "stream",
     "text": [
      "Lifting it is difficult when it's heavy. heavy\n"
     ]
    },
    {
     "name": "stderr",
     "output_type": "stream",
     "text": [
      "1307it [18:15,  1.15it/s]"
     ]
    },
    {
     "name": "stdout",
     "output_type": "stream",
     "text": [
      "His weight is double hers; it's too heavy. weight\n"
     ]
    },
    {
     "name": "stderr",
     "output_type": "stream",
     "text": [
      "1308it [18:15,  1.19it/s]"
     ]
    },
    {
     "name": "stdout",
     "output_type": "stream",
     "text": [
      "생성된 문장이 규칙을 따르지 않습니다. 단어: weigh\n"
     ]
    },
    {
     "name": "stderr",
     "output_type": "stream",
     "text": [
      "1309it [18:16,  1.22it/s]"
     ]
    },
    {
     "name": "stdout",
     "output_type": "stream",
     "text": [
      "생성된 문장이 규칙을 따르지 않습니다. 단어: kilogram\n"
     ]
    },
    {
     "name": "stderr",
     "output_type": "stream",
     "text": [
      "1310it [18:17,  1.27it/s]"
     ]
    },
    {
     "name": "stdout",
     "output_type": "stream",
     "text": [
      "This towel feels soft. soft\n"
     ]
    },
    {
     "name": "stderr",
     "output_type": "stream",
     "text": [
      "1311it [18:18,  1.28it/s]"
     ]
    },
    {
     "name": "stdout",
     "output_type": "stream",
     "text": [
      "생성된 문장이 규칙을 따르지 않습니다. 단어: soften\n"
     ]
    },
    {
     "name": "stderr",
     "output_type": "stream",
     "text": [
      "1312it [18:19,  1.27it/s]"
     ]
    },
    {
     "name": "stdout",
     "output_type": "stream",
     "text": [
      "The gentleman is gentle and kind always. gentle\n"
     ]
    },
    {
     "name": "stderr",
     "output_type": "stream",
     "text": [
      "1313it [18:19,  1.21it/s]"
     ]
    },
    {
     "name": "stdout",
     "output_type": "stream",
     "text": [
      "It’s a lunch box with chocolates inside. lunch box\n"
     ]
    },
    {
     "name": "stderr",
     "output_type": "stream",
     "text": [
      "1314it [18:20,  1.15it/s]"
     ]
    },
    {
     "name": "stdout",
     "output_type": "stream",
     "text": [
      "I want a box, it's pink inside. box\n"
     ]
    },
    {
     "name": "stderr",
     "output_type": "stream",
     "text": [
      "1315it [18:21,  1.15it/s]"
     ]
    },
    {
     "name": "stdout",
     "output_type": "stream",
     "text": [
      "We need to recycle this empty bottle. bottle\n"
     ]
    },
    {
     "name": "stderr",
     "output_type": "stream",
     "text": [
      "1316it [18:22,  1.14it/s]"
     ]
    },
    {
     "name": "stdout",
     "output_type": "stream",
     "text": [
      "생성된 문장이 규칙을 따르지 않습니다. 단어: candidate\n"
     ]
    },
    {
     "name": "stderr",
     "output_type": "stream",
     "text": [
      "1317it [18:23,  1.15it/s]"
     ]
    },
    {
     "name": "stdout",
     "output_type": "stream",
     "text": [
      "생성된 문장이 규칙을 따르지 않습니다. 단어: election\n"
     ]
    },
    {
     "name": "stderr",
     "output_type": "stream",
     "text": [
      "1318it [18:24,  1.16it/s]"
     ]
    },
    {
     "name": "stdout",
     "output_type": "stream",
     "text": [
      "생성된 문장이 규칙을 따르지 않습니다. 단어: politics\n"
     ]
    },
    {
     "name": "stderr",
     "output_type": "stream",
     "text": [
      "1319it [18:25,  1.17it/s]"
     ]
    },
    {
     "name": "stdout",
     "output_type": "stream",
     "text": [
      "생성된 문장이 규칙을 따르지 않습니다. 단어: vote\n"
     ]
    },
    {
     "name": "stderr",
     "output_type": "stream",
     "text": [
      "1320it [18:26,  1.11it/s]"
     ]
    },
    {
     "name": "stdout",
     "output_type": "stream",
     "text": [
      "생성된 문장이 규칙을 따르지 않습니다. 단어: apply\n"
     ]
    },
    {
     "name": "stderr",
     "output_type": "stream",
     "text": [
      "1321it [18:27,  1.16it/s]"
     ]
    },
    {
     "name": "stdout",
     "output_type": "stream",
     "text": [
      "생성된 문장이 규칙을 따르지 않습니다. 단어: politician\n"
     ]
    },
    {
     "name": "stderr",
     "output_type": "stream",
     "text": [
      "1322it [18:27,  1.15it/s]"
     ]
    },
    {
     "name": "stdout",
     "output_type": "stream",
     "text": [
      "생성된 문장이 규칙을 따르지 않습니다. 단어: applicant\n"
     ]
    },
    {
     "name": "stderr",
     "output_type": "stream",
     "text": [
      "1323it [18:28,  1.18it/s]"
     ]
    },
    {
     "name": "stdout",
     "output_type": "stream",
     "text": [
      "We elected John president of our class. elect\n"
     ]
    },
    {
     "name": "stderr",
     "output_type": "stream",
     "text": [
      "1324it [18:29,  1.16it/s]"
     ]
    },
    {
     "name": "stdout",
     "output_type": "stream",
     "text": [
      "생성된 문장이 규칙을 따르지 않습니다. 단어: campaign\n"
     ]
    },
    {
     "name": "stderr",
     "output_type": "stream",
     "text": [
      "1325it [18:30,  1.14it/s]"
     ]
    },
    {
     "name": "stdout",
     "output_type": "stream",
     "text": [
      "생성된 문장이 규칙을 따르지 않습니다. 단어: declare\n"
     ]
    },
    {
     "name": "stderr",
     "output_type": "stream",
     "text": [
      "1326it [18:31,  1.15it/s]"
     ]
    },
    {
     "name": "stdout",
     "output_type": "stream",
     "text": [
      "생성된 문장이 규칙을 따르지 않습니다. 단어: democracy\n"
     ]
    },
    {
     "name": "stderr",
     "output_type": "stream",
     "text": [
      "1327it [18:32,  1.14it/s]"
     ]
    },
    {
     "name": "stdout",
     "output_type": "stream",
     "text": [
      "생성된 문장이 규칙을 따르지 않습니다. 단어: government\n"
     ]
    },
    {
     "name": "stderr",
     "output_type": "stream",
     "text": [
      "1328it [18:33,  1.13it/s]"
     ]
    },
    {
     "name": "stdout",
     "output_type": "stream",
     "text": [
      "생성된 문장이 규칙을 따르지 않습니다. 단어: mayor\n"
     ]
    },
    {
     "name": "stderr",
     "output_type": "stream",
     "text": [
      "1329it [18:34,  1.11it/s]"
     ]
    },
    {
     "name": "stdout",
     "output_type": "stream",
     "text": [
      "생성된 문장이 규칙을 따르지 않습니다. 단어: policy\n"
     ]
    },
    {
     "name": "stderr",
     "output_type": "stream",
     "text": [
      "1330it [18:34,  1.14it/s]"
     ]
    },
    {
     "name": "stdout",
     "output_type": "stream",
     "text": [
      "A judge is in court today. court\n"
     ]
    },
    {
     "name": "stderr",
     "output_type": "stream",
     "text": [
      "1331it [18:36,  1.02it/s]"
     ]
    },
    {
     "name": "stdout",
     "output_type": "stream",
     "text": [
      "I know an interesting website.\n",
      "\n",
      "My source of writing is a language model. source\n"
     ]
    },
    {
     "name": "stderr",
     "output_type": "stream",
     "text": [
      "1332it [18:37,  1.02it/s]"
     ]
    },
    {
     "name": "stdout",
     "output_type": "stream",
     "text": [
      "생성된 문장이 규칙을 따르지 않습니다. 단어: reserve\n"
     ]
    },
    {
     "name": "stderr",
     "output_type": "stream",
     "text": [
      "1333it [18:37,  1.05it/s]"
     ]
    },
    {
     "name": "stdout",
     "output_type": "stream",
     "text": [
      "생성된 문장이 규칙을 따르지 않습니다. 단어: submit\n"
     ]
    },
    {
     "name": "stderr",
     "output_type": "stream",
     "text": [
      "1334it [18:38,  1.06it/s]"
     ]
    },
    {
     "name": "stdout",
     "output_type": "stream",
     "text": [
      "생성된 문장이 규칙을 따르지 않습니다. 단어: general\n"
     ]
    },
    {
     "name": "stderr",
     "output_type": "stream",
     "text": [
      "1335it [18:39,  1.06it/s]"
     ]
    },
    {
     "name": "stdout",
     "output_type": "stream",
     "text": [
      "The announcer announced the news to everyone. announce\n"
     ]
    },
    {
     "name": "stderr",
     "output_type": "stream",
     "text": [
      "1336it [18:40,  1.11it/s]"
     ]
    },
    {
     "name": "stdout",
     "output_type": "stream",
     "text": [
      "There is a flag on the desk. flag\n"
     ]
    },
    {
     "name": "stderr",
     "output_type": "stream",
     "text": [
      "1337it [18:41,  1.06it/s]"
     ]
    },
    {
     "name": "stdout",
     "output_type": "stream",
     "text": [
      "생성된 문장이 규칙을 따르지 않습니다. 단어: object to\n"
     ]
    },
    {
     "name": "stderr",
     "output_type": "stream",
     "text": [
      "1338it [18:42,  1.06it/s]"
     ]
    },
    {
     "name": "stdout",
     "output_type": "stream",
     "text": [
      "생성된 문장이 규칙을 따르지 않습니다. 단어: qualify\n"
     ]
    },
    {
     "name": "stderr",
     "output_type": "stream",
     "text": [
      "1339it [18:43,  1.08it/s]"
     ]
    },
    {
     "name": "stdout",
     "output_type": "stream",
     "text": [
      "생성된 문장이 규칙을 따르지 않습니다. 단어: system\n"
     ]
    },
    {
     "name": "stderr",
     "output_type": "stream",
     "text": [
      "1340it [18:44,  1.05it/s]"
     ]
    },
    {
     "name": "stdout",
     "output_type": "stream",
     "text": [
      "생성된 문장이 규칙을 따르지 않습니다. 단어: president\n"
     ]
    },
    {
     "name": "stderr",
     "output_type": "stream",
     "text": [
      "1341it [18:45,  1.04it/s]"
     ]
    },
    {
     "name": "stdout",
     "output_type": "stream",
     "text": [
      "생성된 문장이 규칙을 따르지 않습니다. 단어: antiwar\n"
     ]
    },
    {
     "name": "stderr",
     "output_type": "stream",
     "text": [
      "1342it [18:46,  1.03it/s]"
     ]
    },
    {
     "name": "stdout",
     "output_type": "stream",
     "text": [
      "생성된 문장이 규칙을 따르지 않습니다. 단어: illiberal\n"
     ]
    },
    {
     "name": "stderr",
     "output_type": "stream",
     "text": [
      "1343it [18:47,  1.02it/s]"
     ]
    },
    {
     "name": "stdout",
     "output_type": "stream",
     "text": [
      "The teacher asked if the glass is half full. half\n"
     ]
    },
    {
     "name": "stderr",
     "output_type": "stream",
     "text": [
      "1344it [18:48,  1.03it/s]"
     ]
    },
    {
     "name": "stdout",
     "output_type": "stream",
     "text": [
      "생성된 문장이 규칙을 따르지 않습니다. 단어: halfway\n"
     ]
    },
    {
     "name": "stderr",
     "output_type": "stream",
     "text": [
      "1345it [18:49,  1.03it/s]"
     ]
    },
    {
     "name": "stdout",
     "output_type": "stream",
     "text": [
      "생성된 문장이 규칙을 따르지 않습니다. 단어: part\n"
     ]
    },
    {
     "name": "stderr",
     "output_type": "stream",
     "text": [
      "1346it [18:50,  1.02it/s]"
     ]
    },
    {
     "name": "stdout",
     "output_type": "stream",
     "text": [
      "생성된 문장이 규칙을 따르지 않습니다. 단어: whole\n"
     ]
    },
    {
     "name": "stderr",
     "output_type": "stream",
     "text": [
      "1347it [18:51,  1.04it/s]"
     ]
    },
    {
     "name": "stdout",
     "output_type": "stream",
     "text": [
      "생성된 문장이 규칙을 따르지 않습니다. 단어: stuff\n"
     ]
    },
    {
     "name": "stderr",
     "output_type": "stream",
     "text": [
      "1348it [18:52,  1.06it/s]"
     ]
    },
    {
     "name": "stdout",
     "output_type": "stream",
     "text": [
      "What a terrible thing! It's a spoon. thing\n"
     ]
    },
    {
     "name": "stderr",
     "output_type": "stream",
     "text": [
      "1349it [18:53,  1.05it/s]"
     ]
    },
    {
     "name": "stdout",
     "output_type": "stream",
     "text": [
      "I marked the item on my pair of shoes. item\n"
     ]
    },
    {
     "name": "stderr",
     "output_type": "stream",
     "text": [
      "1350it [18:54,  1.06it/s]"
     ]
    },
    {
     "name": "stdout",
     "output_type": "stream",
     "text": [
      "생성된 문장이 규칙을 따르지 않습니다. 단어: giggle\n"
     ]
    },
    {
     "name": "stderr",
     "output_type": "stream",
     "text": [
      "1351it [18:54,  1.11it/s]"
     ]
    },
    {
     "name": "stdout",
     "output_type": "stream",
     "text": [
      "When you laugh, your brain works better. laugh\n"
     ]
    },
    {
     "name": "stderr",
     "output_type": "stream",
     "text": [
      "1352it [18:55,  1.15it/s]"
     ]
    },
    {
     "name": "stdout",
     "output_type": "stream",
     "text": [
      "생성된 문장이 규칙을 따르지 않습니다. 단어: laugh at\n"
     ]
    },
    {
     "name": "stderr",
     "output_type": "stream",
     "text": [
      "1353it [18:56,  1.19it/s]"
     ]
    },
    {
     "name": "stdout",
     "output_type": "stream",
     "text": [
      "You have a cute smile. smile\n"
     ]
    },
    {
     "name": "stderr",
     "output_type": "stream",
     "text": [
      "1354it [18:57,  1.21it/s]"
     ]
    },
    {
     "name": "stdout",
     "output_type": "stream",
     "text": [
      "생성된 문장이 규칙을 따르지 않습니다. 단어: clap\n"
     ]
    },
    {
     "name": "stderr",
     "output_type": "stream",
     "text": [
      "1355it [18:57,  1.29it/s]"
     ]
    },
    {
     "name": "stdout",
     "output_type": "stream",
     "text": [
      "The man is hairy. hairy\n"
     ]
    },
    {
     "name": "stderr",
     "output_type": "stream",
     "text": [
      "1356it [18:58,  1.20it/s]"
     ]
    },
    {
     "name": "stdout",
     "output_type": "stream",
     "text": [
      "생성된 문장이 규칙을 따르지 않습니다. 단어: hair\n"
     ]
    },
    {
     "name": "stderr",
     "output_type": "stream",
     "text": [
      "1357it [18:59,  1.22it/s]"
     ]
    },
    {
     "name": "stdout",
     "output_type": "stream",
     "text": [
      "생성된 문장이 규칙을 따르지 않습니다. 단어: haircut\n"
     ]
    },
    {
     "name": "stderr",
     "output_type": "stream",
     "text": [
      "1358it [19:00,  1.28it/s]"
     ]
    },
    {
     "name": "stdout",
     "output_type": "stream",
     "text": [
      "생성된 문장이 규칙을 따르지 않습니다. 단어: hairstyle\n"
     ]
    },
    {
     "name": "stderr",
     "output_type": "stream",
     "text": [
      "1359it [19:01,  1.21it/s]"
     ]
    },
    {
     "name": "stdout",
     "output_type": "stream",
     "text": [
      "He got some mustard on his mustache. mustache\n"
     ]
    },
    {
     "name": "stderr",
     "output_type": "stream",
     "text": [
      "1360it [19:02,  1.28it/s]"
     ]
    },
    {
     "name": "stdout",
     "output_type": "stream",
     "text": [
      "She has curly hair. curly\n"
     ]
    },
    {
     "name": "stderr",
     "output_type": "stream",
     "text": [
      "1361it [19:02,  1.31it/s]"
     ]
    },
    {
     "name": "stdout",
     "output_type": "stream",
     "text": [
      "I have a new comb. comb\n"
     ]
    },
    {
     "name": "stderr",
     "output_type": "stream",
     "text": [
      "1362it [19:03,  1.32it/s]"
     ]
    },
    {
     "name": "stdout",
     "output_type": "stream",
     "text": [
      "I have a red hairpin. hairpin\n"
     ]
    },
    {
     "name": "stderr",
     "output_type": "stream",
     "text": [
      "1363it [19:04,  1.25it/s]"
     ]
    },
    {
     "name": "stdout",
     "output_type": "stream",
     "text": [
      "My brother met Jane and her husband. husband\n"
     ]
    },
    {
     "name": "stderr",
     "output_type": "stream",
     "text": [
      "1364it [19:05,  1.22it/s]"
     ]
    },
    {
     "name": "stdout",
     "output_type": "stream",
     "text": [
      "생성된 문장이 규칙을 따르지 않습니다. 단어: wife\n"
     ]
    },
    {
     "name": "stderr",
     "output_type": "stream",
     "text": [
      "1365it [19:06,  1.25it/s]"
     ]
    },
    {
     "name": "stdout",
     "output_type": "stream",
     "text": [
      "생성된 문장이 규칙을 따르지 않습니다. 단어: marry\n"
     ]
    },
    {
     "name": "stderr",
     "output_type": "stream",
     "text": [
      "1366it [19:06,  1.23it/s]"
     ]
    },
    {
     "name": "stdout",
     "output_type": "stream",
     "text": [
      "I’m angry when Brian is being loud. angry\n"
     ]
    },
    {
     "name": "stderr",
     "output_type": "stream",
     "text": [
      "1367it [19:07,  1.17it/s]"
     ]
    },
    {
     "name": "stdout",
     "output_type": "stream",
     "text": [
      "I feel happy today because we won the game. happy\n"
     ]
    },
    {
     "name": "stderr",
     "output_type": "stream",
     "text": [
      "1368it [19:08,  1.13it/s]"
     ]
    },
    {
     "name": "stdout",
     "output_type": "stream",
     "text": [
      "생성된 문장이 규칙을 따르지 않습니다. 단어: upset\n"
     ]
    },
    {
     "name": "stderr",
     "output_type": "stream",
     "text": [
      "1369it [19:09,  1.17it/s]"
     ]
    },
    {
     "name": "stdout",
     "output_type": "stream",
     "text": [
      "생성된 문장이 규칙을 따르지 않습니다. 단어: unhappy\n"
     ]
    },
    {
     "name": "stderr",
     "output_type": "stream",
     "text": [
      "1370it [19:10,  1.19it/s]"
     ]
    },
    {
     "name": "stdout",
     "output_type": "stream",
     "text": [
      "생성된 문장이 규칙을 따르지 않습니다. 단어: sour\n"
     ]
    },
    {
     "name": "stderr",
     "output_type": "stream",
     "text": [
      "1371it [19:11,  1.23it/s]"
     ]
    },
    {
     "name": "stdout",
     "output_type": "stream",
     "text": [
      "This butter tastes bitter. bitter\n"
     ]
    },
    {
     "name": "stderr",
     "output_type": "stream",
     "text": [
      "1372it [19:11,  1.21it/s]"
     ]
    },
    {
     "name": "stdout",
     "output_type": "stream",
     "text": [
      "생성된 문장이 규칙을 따르지 않습니다. 단어: mad\n"
     ]
    },
    {
     "name": "stderr",
     "output_type": "stream",
     "text": [
      "1373it [19:12,  1.16it/s]"
     ]
    },
    {
     "name": "stdout",
     "output_type": "stream",
     "text": [
      "생성된 문장이 규칙을 따르지 않습니다. 단어: cruel\n"
     ]
    },
    {
     "name": "stderr",
     "output_type": "stream",
     "text": [
      "1374it [19:13,  1.15it/s]"
     ]
    },
    {
     "name": "stdout",
     "output_type": "stream",
     "text": [
      "생성된 문장이 규칙을 따르지 않습니다. 단어: expression\n"
     ]
    },
    {
     "name": "stderr",
     "output_type": "stream",
     "text": [
      "1375it [19:14,  1.17it/s]"
     ]
    },
    {
     "name": "stdout",
     "output_type": "stream",
     "text": [
      "생성된 문장이 규칙을 따르지 않습니다. 단어: sigh\n"
     ]
    },
    {
     "name": "stderr",
     "output_type": "stream",
     "text": [
      "1376it [19:15,  1.20it/s]"
     ]
    },
    {
     "name": "stdout",
     "output_type": "stream",
     "text": [
      "생성된 문장이 규칙을 따르지 않습니다. 단어: salty\n"
     ]
    },
    {
     "name": "stderr",
     "output_type": "stream",
     "text": [
      "1377it [19:16,  1.17it/s]"
     ]
    },
    {
     "name": "stdout",
     "output_type": "stream",
     "text": [
      "You look so sad because it's a movie. sad\n"
     ]
    },
    {
     "name": "stderr",
     "output_type": "stream",
     "text": [
      "1378it [19:17,  1.19it/s]"
     ]
    },
    {
     "name": "stdout",
     "output_type": "stream",
     "text": [
      "생성된 문장이 규칙을 따르지 않습니다. 단어: unfair\n"
     ]
    },
    {
     "name": "stderr",
     "output_type": "stream",
     "text": [
      "1379it [19:17,  1.18it/s]"
     ]
    },
    {
     "name": "stdout",
     "output_type": "stream",
     "text": [
      "생성된 문장이 규칙을 따르지 않습니다. 단어: shut\n"
     ]
    },
    {
     "name": "stderr",
     "output_type": "stream",
     "text": [
      "1380it [19:18,  1.20it/s]"
     ]
    },
    {
     "name": "stdout",
     "output_type": "stream",
     "text": [
      "생성된 문장이 규칙을 따르지 않습니다. 단어: extreme\n"
     ]
    },
    {
     "name": "stderr",
     "output_type": "stream",
     "text": [
      "1381it [19:19,  1.17it/s]"
     ]
    },
    {
     "name": "stdout",
     "output_type": "stream",
     "text": [
      "The bun is burning, we must sit down. burn\n"
     ]
    },
    {
     "name": "stderr",
     "output_type": "stream",
     "text": [
      "1382it [19:20,  1.14it/s]"
     ]
    },
    {
     "name": "stdout",
     "output_type": "stream",
     "text": [
      "생성된 문장이 규칙을 따르지 않습니다. 단어: emotion\n"
     ]
    },
    {
     "name": "stderr",
     "output_type": "stream",
     "text": [
      "1383it [19:21,  1.20it/s]"
     ]
    },
    {
     "name": "stdout",
     "output_type": "stream",
     "text": [
      "생성된 문장이 규칙을 따르지 않습니다. 단어: mean\n"
     ]
    },
    {
     "name": "stderr",
     "output_type": "stream",
     "text": [
      "1384it [19:22,  1.22it/s]"
     ]
    },
    {
     "name": "stdout",
     "output_type": "stream",
     "text": [
      "생성된 문장이 규칙을 따르지 않습니다. 단어: cry\n"
     ]
    },
    {
     "name": "stderr",
     "output_type": "stream",
     "text": [
      "1385it [19:22,  1.26it/s]"
     ]
    },
    {
     "name": "stdout",
     "output_type": "stream",
     "text": [
      "생성된 문장이 규칙을 따르지 않습니다. 단어: complain about\n"
     ]
    },
    {
     "name": "stderr",
     "output_type": "stream",
     "text": [
      "1386it [19:23,  1.23it/s]"
     ]
    },
    {
     "name": "stdout",
     "output_type": "stream",
     "text": [
      "The kids are poor because they're hungry. poor\n"
     ]
    },
    {
     "name": "stderr",
     "output_type": "stream",
     "text": [
      "1387it [19:24,  1.22it/s]"
     ]
    },
    {
     "name": "stdout",
     "output_type": "stream",
     "text": [
      "생성된 문장이 규칙을 따르지 않습니다. 단어: irrational\n"
     ]
    },
    {
     "name": "stderr",
     "output_type": "stream",
     "text": [
      "1388it [19:25,  1.15it/s]"
     ]
    },
    {
     "name": "stdout",
     "output_type": "stream",
     "text": [
      "생성된 문장이 규칙을 따르지 않습니다. 단어: irrelevant\n"
     ]
    },
    {
     "name": "stderr",
     "output_type": "stream",
     "text": [
      "1389it [19:26,  1.15it/s]"
     ]
    },
    {
     "name": "stdout",
     "output_type": "stream",
     "text": [
      "Paul looks so nervous on the stage. nervous\n"
     ]
    },
    {
     "name": "stderr",
     "output_type": "stream",
     "text": [
      "1390it [19:27,  1.20it/s]"
     ]
    },
    {
     "name": "stdout",
     "output_type": "stream",
     "text": [
      "She is scared of big spiders. scared\n"
     ]
    },
    {
     "name": "stderr",
     "output_type": "stream",
     "text": [
      "1391it [19:28,  1.18it/s]"
     ]
    },
    {
     "name": "stdout",
     "output_type": "stream",
     "text": [
      "Mom looks worried about my midterm exam. worried\n"
     ]
    },
    {
     "name": "stderr",
     "output_type": "stream",
     "text": [
      "1392it [19:28,  1.21it/s]"
     ]
    },
    {
     "name": "stdout",
     "output_type": "stream",
     "text": [
      "생성된 문장이 규칙을 따르지 않습니다. 단어: anxious\n"
     ]
    },
    {
     "name": "stderr",
     "output_type": "stream",
     "text": [
      "1393it [19:29,  1.15it/s]"
     ]
    },
    {
     "name": "stdout",
     "output_type": "stream",
     "text": [
      "Don't worry, I'll help you study. worry\n"
     ]
    },
    {
     "name": "stderr",
     "output_type": "stream",
     "text": [
      "1394it [19:30,  1.20it/s]"
     ]
    },
    {
     "name": "stdout",
     "output_type": "stream",
     "text": [
      "I'm afraid of big spiders. afraid\n"
     ]
    },
    {
     "name": "stderr",
     "output_type": "stream",
     "text": [
      "1395it [19:31,  1.25it/s]"
     ]
    },
    {
     "name": "stdout",
     "output_type": "stream",
     "text": [
      "생성된 문장이 규칙을 따르지 않습니다. 단어: sensitive\n"
     ]
    },
    {
     "name": "stderr",
     "output_type": "stream",
     "text": [
      "1396it [19:31,  1.28it/s]"
     ]
    },
    {
     "name": "stdout",
     "output_type": "stream",
     "text": [
      "생성된 문장이 규칙을 따르지 않습니다. 단어: shy\n"
     ]
    },
    {
     "name": "stderr",
     "output_type": "stream",
     "text": [
      "1397it [19:32,  1.20it/s]"
     ]
    },
    {
     "name": "stdout",
     "output_type": "stream",
     "text": [
      "생성된 문장이 규칙을 따르지 않습니다. 단어: uneasy\n"
     ]
    },
    {
     "name": "stderr",
     "output_type": "stream",
     "text": [
      "1398it [19:33,  1.22it/s]"
     ]
    },
    {
     "name": "stdout",
     "output_type": "stream",
     "text": [
      "생성된 문장이 규칙을 따르지 않습니다. 단어: bother\n"
     ]
    },
    {
     "name": "stderr",
     "output_type": "stream",
     "text": [
      "1399it [19:34,  1.21it/s]"
     ]
    },
    {
     "name": "stdout",
     "output_type": "stream",
     "text": [
      "생성된 문장이 규칙을 따르지 않습니다. 단어: frighten\n"
     ]
    },
    {
     "name": "stderr",
     "output_type": "stream",
     "text": [
      "1400it [19:35,  1.17it/s]"
     ]
    },
    {
     "name": "stdout",
     "output_type": "stream",
     "text": [
      "I’m on vacation and I like summer. vacation\n"
     ]
    },
    {
     "name": "stderr",
     "output_type": "stream",
     "text": [
      "1401it [19:36,  1.21it/s]"
     ]
    },
    {
     "name": "stdout",
     "output_type": "stream",
     "text": [
      "생성된 문장이 규칙을 따르지 않습니다. 단어: holiday\n"
     ]
    },
    {
     "name": "stderr",
     "output_type": "stream",
     "text": [
      "1402it [19:37,  1.18it/s]"
     ]
    },
    {
     "name": "stdout",
     "output_type": "stream",
     "text": [
      "생성된 문장이 규칙을 따르지 않습니다. 단어: tourist\n"
     ]
    },
    {
     "name": "stderr",
     "output_type": "stream",
     "text": [
      "1403it [19:38,  1.14it/s]"
     ]
    },
    {
     "name": "stdout",
     "output_type": "stream",
     "text": [
      "I go to the museum on Thursdays. museum\n"
     ]
    },
    {
     "name": "stderr",
     "output_type": "stream",
     "text": [
      "1404it [19:38,  1.22it/s]"
     ]
    },
    {
     "name": "stdout",
     "output_type": "stream",
     "text": [
      "생성된 문장이 규칙을 따르지 않습니다. 단어: exhibit\n"
     ]
    },
    {
     "name": "stderr",
     "output_type": "stream",
     "text": [
      "1405it [19:39,  1.19it/s]"
     ]
    },
    {
     "name": "stdout",
     "output_type": "stream",
     "text": [
      "생성된 문장이 규칙을 따르지 않습니다. 단어: presentation\n"
     ]
    },
    {
     "name": "stderr",
     "output_type": "stream",
     "text": [
      "1406it [19:40,  1.21it/s]"
     ]
    },
    {
     "name": "stdout",
     "output_type": "stream",
     "text": [
      "생성된 문장이 규칙을 따르지 않습니다. 단어: antique\n"
     ]
    },
    {
     "name": "stderr",
     "output_type": "stream",
     "text": [
      "1407it [19:41,  1.21it/s]"
     ]
    },
    {
     "name": "stdout",
     "output_type": "stream",
     "text": [
      "Let's watch the magic show. show\n"
     ]
    },
    {
     "name": "stderr",
     "output_type": "stream",
     "text": [
      "1408it [19:42,  1.23it/s]"
     ]
    },
    {
     "name": "stdout",
     "output_type": "stream",
     "text": [
      "생성된 문장이 규칙을 따르지 않습니다. 단어: display\n"
     ]
    },
    {
     "name": "stderr",
     "output_type": "stream",
     "text": [
      "1409it [19:42,  1.26it/s]"
     ]
    },
    {
     "name": "stdout",
     "output_type": "stream",
     "text": [
      "생성된 문장이 규칙을 따르지 않습니다. 단어: animal\n"
     ]
    },
    {
     "name": "stderr",
     "output_type": "stream",
     "text": [
      "1410it [19:43,  1.27it/s]"
     ]
    },
    {
     "name": "stdout",
     "output_type": "stream",
     "text": [
      "They have a pet dog. pet\n"
     ]
    },
    {
     "name": "stderr",
     "output_type": "stream",
     "text": [
      "1411it [19:44,  1.26it/s]"
     ]
    },
    {
     "name": "stdout",
     "output_type": "stream",
     "text": [
      "생성된 문장이 규칙을 따르지 않습니다. 단어: vet\n"
     ]
    },
    {
     "name": "stderr",
     "output_type": "stream",
     "text": [
      "1412it [19:45,  1.21it/s]"
     ]
    },
    {
     "name": "stdout",
     "output_type": "stream",
     "text": [
      "My puppy takes my things to play. puppy\n"
     ]
    },
    {
     "name": "stderr",
     "output_type": "stream",
     "text": [
      "1413it [19:45,  1.29it/s]"
     ]
    },
    {
     "name": "stdout",
     "output_type": "stream",
     "text": [
      "I have four cats. cat\n"
     ]
    },
    {
     "name": "stderr",
     "output_type": "stream",
     "text": [
      "1414it [19:46,  1.28it/s]"
     ]
    },
    {
     "name": "stdout",
     "output_type": "stream",
     "text": [
      "I have a dog and need food. dog\n"
     ]
    },
    {
     "name": "stderr",
     "output_type": "stream",
     "text": [
      "1415it [19:47,  1.25it/s]"
     ]
    },
    {
     "name": "stdout",
     "output_type": "stream",
     "text": [
      "생성된 문장이 규칙을 따르지 않습니다. 단어: horse\n"
     ]
    },
    {
     "name": "stderr",
     "output_type": "stream",
     "text": [
      "1416it [19:48,  1.07it/s]"
     ]
    },
    {
     "name": "stdout",
     "output_type": "stream",
     "text": [
      "I like giraffes and there’s an iguana on the stone. iguana\n"
     ]
    },
    {
     "name": "stderr",
     "output_type": "stream",
     "text": [
      "1417it [19:49,  1.09it/s]"
     ]
    },
    {
     "name": "stdout",
     "output_type": "stream",
     "text": [
      "The kids see the white rabbit hopping. rabbit\n"
     ]
    },
    {
     "name": "stderr",
     "output_type": "stream",
     "text": [
      "1418it [19:50,  1.16it/s]"
     ]
    },
    {
     "name": "stdout",
     "output_type": "stream",
     "text": [
      "It's a wolf. wolf\n"
     ]
    },
    {
     "name": "stderr",
     "output_type": "stream",
     "text": [
      "1419it [19:51,  1.20it/s]"
     ]
    },
    {
     "name": "stdout",
     "output_type": "stream",
     "text": [
      "I want a robot. robot\n"
     ]
    },
    {
     "name": "stderr",
     "output_type": "stream",
     "text": [
      "1420it [19:52,  1.22it/s]"
     ]
    },
    {
     "name": "stdout",
     "output_type": "stream",
     "text": [
      "Look I have a monkey. monkey\n"
     ]
    },
    {
     "name": "stderr",
     "output_type": "stream",
     "text": [
      "1421it [19:52,  1.23it/s]"
     ]
    },
    {
     "name": "stdout",
     "output_type": "stream",
     "text": [
      "Look! I have three happy pigs. pig\n"
     ]
    },
    {
     "name": "stderr",
     "output_type": "stream",
     "text": [
      "1422it [19:53,  1.22it/s]"
     ]
    },
    {
     "name": "stdout",
     "output_type": "stream",
     "text": [
      "생성된 문장이 규칙을 따르지 않습니다. 단어: beside\n"
     ]
    },
    {
     "name": "stderr",
     "output_type": "stream",
     "text": [
      "1423it [19:54,  1.26it/s]"
     ]
    },
    {
     "name": "stdout",
     "output_type": "stream",
     "text": [
      "Sit down next to the plate. next to\n"
     ]
    },
    {
     "name": "stderr",
     "output_type": "stream",
     "text": [
      "1424it [19:55,  1.26it/s]"
     ]
    },
    {
     "name": "stdout",
     "output_type": "stream",
     "text": [
      "It's behind the box. behind\n"
     ]
    },
    {
     "name": "stderr",
     "output_type": "stream",
     "text": [
      "1425it [19:56,  1.23it/s]"
     ]
    },
    {
     "name": "stdout",
     "output_type": "stream",
     "text": [
      "생성된 문장이 규칙을 따르지 않습니다. 단어: besides\n"
     ]
    },
    {
     "name": "stderr",
     "output_type": "stream",
     "text": [
      "1426it [19:56,  1.18it/s]"
     ]
    },
    {
     "name": "stdout",
     "output_type": "stream",
     "text": [
      "생성된 문장이 규칙을 따르지 않습니다. 단어: in front of\n"
     ]
    },
    {
     "name": "stderr",
     "output_type": "stream",
     "text": [
      "1427it [19:57,  1.21it/s]"
     ]
    },
    {
     "name": "stdout",
     "output_type": "stream",
     "text": [
      "생성된 문장이 규칙을 따르지 않습니다. 단어: borrow\n"
     ]
    },
    {
     "name": "stderr",
     "output_type": "stream",
     "text": [
      "1428it [19:58,  1.18it/s]"
     ]
    },
    {
     "name": "stdout",
     "output_type": "stream",
     "text": [
      "생성된 문장이 규칙을 따르지 않습니다. 단어: lend\n"
     ]
    },
    {
     "name": "stderr",
     "output_type": "stream",
     "text": [
      "1429it [19:59,  1.23it/s]"
     ]
    },
    {
     "name": "stdout",
     "output_type": "stream",
     "text": [
      "생성된 문장이 규칙을 따르지 않습니다. 단어: credit\n"
     ]
    },
    {
     "name": "stderr",
     "output_type": "stream",
     "text": [
      "1430it [20:00,  1.28it/s]"
     ]
    },
    {
     "name": "stdout",
     "output_type": "stream",
     "text": [
      "She is sewing the socks. sew\n"
     ]
    },
    {
     "name": "stderr",
     "output_type": "stream",
     "text": [
      "1431it [20:00,  1.32it/s]"
     ]
    },
    {
     "name": "stdout",
     "output_type": "stream",
     "text": [
      "She is knitting the sweater. knit\n"
     ]
    },
    {
     "name": "stderr",
     "output_type": "stream",
     "text": [
      "1432it [20:01,  1.22it/s]"
     ]
    },
    {
     "name": "stdout",
     "output_type": "stream",
     "text": [
      "I have a stomachache below my belly button. stomachache\n"
     ]
    },
    {
     "name": "stderr",
     "output_type": "stream",
     "text": [
      "1433it [20:02,  1.14it/s]"
     ]
    },
    {
     "name": "stdout",
     "output_type": "stream",
     "text": [
      "I have a toothache, go see a dentist. toothache\n"
     ]
    },
    {
     "name": "stderr",
     "output_type": "stream",
     "text": [
      "1434it [20:03,  1.12it/s]"
     ]
    },
    {
     "name": "stdout",
     "output_type": "stream",
     "text": [
      "생성된 문장이 규칙을 따르지 않습니다. 단어: belly\n"
     ]
    },
    {
     "name": "stderr",
     "output_type": "stream",
     "text": [
      "1435it [20:04,  1.11it/s]"
     ]
    },
    {
     "name": "stdout",
     "output_type": "stream",
     "text": [
      "My stomach says it's time to eat. stomach\n"
     ]
    },
    {
     "name": "stderr",
     "output_type": "stream",
     "text": [
      "1436it [20:05,  1.07it/s]"
     ]
    },
    {
     "name": "stdout",
     "output_type": "stream",
     "text": [
      "It's a common mistake to have the wrong number. wrong\n"
     ]
    },
    {
     "name": "stderr",
     "output_type": "stream",
     "text": [
      "1437it [20:06,  1.07it/s]"
     ]
    },
    {
     "name": "stdout",
     "output_type": "stream",
     "text": [
      "생성된 문장이 규칙을 따르지 않습니다. 단어: incorrect\n"
     ]
    },
    {
     "name": "stderr",
     "output_type": "stream",
     "text": [
      "1438it [20:07,  1.09it/s]"
     ]
    },
    {
     "name": "stdout",
     "output_type": "stream",
     "text": [
      "I’m not sure that’s correct. correct\n"
     ]
    },
    {
     "name": "stderr",
     "output_type": "stream",
     "text": [
      "1439it [20:08,  1.05it/s]"
     ]
    },
    {
     "name": "stdout",
     "output_type": "stream",
     "text": [
      "생성된 문장이 규칙을 따르지 않습니다. 단어: error\n"
     ]
    },
    {
     "name": "stderr",
     "output_type": "stream",
     "text": [
      "1440it [20:09,  1.08it/s]"
     ]
    },
    {
     "name": "stdout",
     "output_type": "stream",
     "text": [
      "생성된 문장이 규칙을 따르지 않습니다. 단어: right\n"
     ]
    },
    {
     "name": "stderr",
     "output_type": "stream",
     "text": [
      "1441it [20:10,  1.04it/s]"
     ]
    },
    {
     "name": "stdout",
     "output_type": "stream",
     "text": [
      "It's a common mistake to say sorry too often. mistake\n"
     ]
    },
    {
     "name": "stderr",
     "output_type": "stream",
     "text": [
      "1442it [20:11,  1.09it/s]"
     ]
    },
    {
     "name": "stdout",
     "output_type": "stream",
     "text": [
      "생성된 문장이 규칙을 따르지 않습니다. 단어: statement\n"
     ]
    },
    {
     "name": "stderr",
     "output_type": "stream",
     "text": [
      "1443it [20:11,  1.13it/s]"
     ]
    },
    {
     "name": "stdout",
     "output_type": "stream",
     "text": [
      "생성된 문장이 규칙을 따르지 않습니다. 단어: false\n"
     ]
    },
    {
     "name": "stderr",
     "output_type": "stream",
     "text": [
      "1444it [20:12,  1.15it/s]"
     ]
    },
    {
     "name": "stdout",
     "output_type": "stream",
     "text": [
      "You look like a detective anyway. anyway\n"
     ]
    },
    {
     "name": "stderr",
     "output_type": "stream",
     "text": [
      "1445it [20:13,  1.20it/s]"
     ]
    },
    {
     "name": "stdout",
     "output_type": "stream",
     "text": [
      "생성된 문장이 규칙을 따르지 않습니다. 단어: point\n"
     ]
    },
    {
     "name": "stderr",
     "output_type": "stream",
     "text": [
      "1446it [20:14,  1.21it/s]"
     ]
    },
    {
     "name": "stdout",
     "output_type": "stream",
     "text": [
      "You know her because we are friends. know\n"
     ]
    },
    {
     "name": "stderr",
     "output_type": "stream",
     "text": [
      "1447it [20:15,  1.22it/s]"
     ]
    },
    {
     "name": "stdout",
     "output_type": "stream",
     "text": [
      "생성된 문장이 규칙을 따르지 않습니다. 단어: close\n"
     ]
    },
    {
     "name": "stderr",
     "output_type": "stream",
     "text": [
      "1448it [20:16,  1.17it/s]"
     ]
    },
    {
     "name": "stdout",
     "output_type": "stream",
     "text": [
      "I’ll explain the rules of this game. rule\n"
     ]
    },
    {
     "name": "stderr",
     "output_type": "stream",
     "text": [
      "1449it [20:17,  1.11it/s]"
     ]
    },
    {
     "name": "stdout",
     "output_type": "stream",
     "text": [
      "I don't mind if you kill this bug. bug\n"
     ]
    },
    {
     "name": "stderr",
     "output_type": "stream",
     "text": [
      "1450it [20:18,  1.06it/s]"
     ]
    },
    {
     "name": "stdout",
     "output_type": "stream",
     "text": [
      "생성된 문장이 규칙을 따르지 않습니다. 단어: still\n"
     ]
    },
    {
     "name": "stderr",
     "output_type": "stream",
     "text": [
      "1451it [20:19,  1.07it/s]"
     ]
    },
    {
     "name": "stdout",
     "output_type": "stream",
     "text": [
      "생성된 문장이 규칙을 따르지 않습니다. 단어: but\n"
     ]
    },
    {
     "name": "stderr",
     "output_type": "stream",
     "text": [
      "1452it [20:19,  1.09it/s]"
     ]
    },
    {
     "name": "stdout",
     "output_type": "stream",
     "text": [
      "The problem is simple but not easy. problem\n"
     ]
    },
    {
     "name": "stderr",
     "output_type": "stream",
     "text": [
      "1453it [20:20,  1.15it/s]"
     ]
    },
    {
     "name": "stdout",
     "output_type": "stream",
     "text": [
      "생성된 문장이 규칙을 따르지 않습니다. 단어: actually\n"
     ]
    },
    {
     "name": "stderr",
     "output_type": "stream",
     "text": [
      "1454it [20:21,  1.11it/s]"
     ]
    },
    {
     "name": "stdout",
     "output_type": "stream",
     "text": [
      "생성된 문장이 규칙을 따르지 않습니다. 단어: clarify\n"
     ]
    },
    {
     "name": "stderr",
     "output_type": "stream",
     "text": [
      "1455it [20:22,  1.14it/s]"
     ]
    },
    {
     "name": "stdout",
     "output_type": "stream",
     "text": [
      "I am responsible for cooking dinner. responsible\n"
     ]
    },
    {
     "name": "stderr",
     "output_type": "stream",
     "text": [
      "1456it [20:23,  1.18it/s]"
     ]
    },
    {
     "name": "stdout",
     "output_type": "stream",
     "text": [
      "생성된 문장이 규칙을 따르지 않습니다. 단어: irresponsible\n"
     ]
    },
    {
     "name": "stderr",
     "output_type": "stream",
     "text": [
      "1457it [20:24,  1.18it/s]"
     ]
    },
    {
     "name": "stdout",
     "output_type": "stream",
     "text": [
      "생성된 문장이 규칙을 따르지 않습니다. 단어: careless\n"
     ]
    },
    {
     "name": "stderr",
     "output_type": "stream",
     "text": [
      "1458it [20:25,  1.04it/s]"
     ]
    },
    {
     "name": "stdout",
     "output_type": "stream",
     "text": [
      "Since Mr. Jones is honest and diligent, he works hard every day. diligent\n"
     ]
    },
    {
     "name": "stderr",
     "output_type": "stream",
     "text": [
      "1459it [20:26,  1.07it/s]"
     ]
    },
    {
     "name": "stdout",
     "output_type": "stream",
     "text": [
      "생성된 문장이 규칙을 따르지 않습니다. 단어: immoral\n"
     ]
    },
    {
     "name": "stderr",
     "output_type": "stream",
     "text": [
      "1460it [20:27,  1.12it/s]"
     ]
    },
    {
     "name": "stdout",
     "output_type": "stream",
     "text": [
      "Touch your hand and touch your arm. hand\n"
     ]
    },
    {
     "name": "stderr",
     "output_type": "stream",
     "text": [
      "1461it [20:27,  1.17it/s]"
     ]
    },
    {
     "name": "stdout",
     "output_type": "stream",
     "text": [
      "생성된 문장이 규칙을 따르지 않습니다. 단어: forefinger\n"
     ]
    },
    {
     "name": "stderr",
     "output_type": "stream",
     "text": [
      "1462it [20:28,  1.20it/s]"
     ]
    },
    {
     "name": "stdout",
     "output_type": "stream",
     "text": [
      "My finger hurts, touch your hand. finger\n"
     ]
    },
    {
     "name": "stderr",
     "output_type": "stream",
     "text": [
      "1463it [20:29,  1.24it/s]"
     ]
    },
    {
     "name": "stdout",
     "output_type": "stream",
     "text": [
      "He wrote something on my palm. palm\n"
     ]
    },
    {
     "name": "stderr",
     "output_type": "stream",
     "text": [
      "1464it [20:30,  1.23it/s]"
     ]
    },
    {
     "name": "stdout",
     "output_type": "stream",
     "text": [
      "Touch your arm and then touch your leg. touch\n"
     ]
    },
    {
     "name": "stderr",
     "output_type": "stream",
     "text": [
      "1465it [20:31,  1.21it/s]"
     ]
    },
    {
     "name": "stdout",
     "output_type": "stream",
     "text": [
      "My hometown is a farming village. village\n"
     ]
    },
    {
     "name": "stderr",
     "output_type": "stream",
     "text": [
      "1466it [20:31,  1.29it/s]"
     ]
    },
    {
     "name": "stdout",
     "output_type": "stream",
     "text": [
      "My hometown is Seoul. hometown\n"
     ]
    },
    {
     "name": "stderr",
     "output_type": "stream",
     "text": [
      "1467it [20:32,  1.31it/s]"
     ]
    },
    {
     "name": "stdout",
     "output_type": "stream",
     "text": [
      "My town is big. town\n"
     ]
    },
    {
     "name": "stderr",
     "output_type": "stream",
     "text": [
      "1468it [20:33,  1.31it/s]"
     ]
    },
    {
     "name": "stdout",
     "output_type": "stream",
     "text": [
      "생성된 문장이 규칙을 따르지 않습니다. 단어: represent\n"
     ]
    },
    {
     "name": "stderr",
     "output_type": "stream",
     "text": [
      "1469it [20:34,  1.22it/s]"
     ]
    },
    {
     "name": "stdout",
     "output_type": "stream",
     "text": [
      "Let's visit the place where the park is. place\n"
     ]
    },
    {
     "name": "stderr",
     "output_type": "stream",
     "text": [
      "1470it [20:35,  1.17it/s]"
     ]
    },
    {
     "name": "stdout",
     "output_type": "stream",
     "text": [
      "생성된 문장이 규칙을 따르지 않습니다. 단어: capital\n"
     ]
    },
    {
     "name": "stderr",
     "output_type": "stream",
     "text": [
      "1471it [20:35,  1.21it/s]"
     ]
    },
    {
     "name": "stdout",
     "output_type": "stream",
     "text": [
      "The city is big where I live. city\n"
     ]
    },
    {
     "name": "stderr",
     "output_type": "stream",
     "text": [
      "1472it [20:36,  1.17it/s]"
     ]
    },
    {
     "name": "stdout",
     "output_type": "stream",
     "text": [
      "생성된 문장이 규칙을 따르지 않습니다. 단어: homesick\n"
     ]
    },
    {
     "name": "stderr",
     "output_type": "stream",
     "text": [
      "1473it [20:37,  1.18it/s]"
     ]
    },
    {
     "name": "stdout",
     "output_type": "stream",
     "text": [
      "Many animals live in the forest. forest\n"
     ]
    },
    {
     "name": "stderr",
     "output_type": "stream",
     "text": [
      "1474it [20:38,  1.20it/s]"
     ]
    },
    {
     "name": "stdout",
     "output_type": "stream",
     "text": [
      "Look at the tree that is low. tree\n"
     ]
    },
    {
     "name": "stderr",
     "output_type": "stream",
     "text": [
      "1475it [20:39,  1.18it/s]"
     ]
    },
    {
     "name": "stdout",
     "output_type": "stream",
     "text": [
      "This desk is made of natural wood. wood\n"
     ]
    },
    {
     "name": "stderr",
     "output_type": "stream",
     "text": [
      "1476it [20:40,  1.09it/s]"
     ]
    },
    {
     "name": "stdout",
     "output_type": "stream",
     "text": [
      "It’s three o’clock and there is a clock. o’clock\n"
     ]
    },
    {
     "name": "stderr",
     "output_type": "stream",
     "text": [
      "1477it [20:41,  1.09it/s]"
     ]
    },
    {
     "name": "stdout",
     "output_type": "stream",
     "text": [
      "There is a clock on the table. clock\n"
     ]
    },
    {
     "name": "stderr",
     "output_type": "stream",
     "text": [
      "1478it [20:42,  1.07it/s]"
     ]
    },
    {
     "name": "stdout",
     "output_type": "stream",
     "text": [
      "Now, it's time for the gift exchange. exchange\n"
     ]
    },
    {
     "name": "stderr",
     "output_type": "stream",
     "text": [
      "1479it [20:43,  1.07it/s]"
     ]
    },
    {
     "name": "stdout",
     "output_type": "stream",
     "text": [
      "생성된 문장이 규칙을 따르지 않습니다. 단어: trade\n"
     ]
    },
    {
     "name": "stderr",
     "output_type": "stream",
     "text": [
      "1480it [20:43,  1.11it/s]"
     ]
    },
    {
     "name": "stdout",
     "output_type": "stream",
     "text": [
      "생성된 문장이 규칙을 따르지 않습니다. 단어: invite\n"
     ]
    },
    {
     "name": "stderr",
     "output_type": "stream",
     "text": [
      "1481it [20:44,  1.15it/s]"
     ]
    },
    {
     "name": "stdout",
     "output_type": "stream",
     "text": [
      "생성된 문장이 규칙을 따르지 않습니다. 단어: transfer\n"
     ]
    },
    {
     "name": "stderr",
     "output_type": "stream",
     "text": [
      "1482it [20:45,  1.07it/s]"
     ]
    },
    {
     "name": "stdout",
     "output_type": "stream",
     "text": [
      "I’ll send you a text message from my home address. send\n"
     ]
    },
    {
     "name": "stderr",
     "output_type": "stream",
     "text": [
      "1483it [20:46,  1.09it/s]"
     ]
    },
    {
     "name": "stdout",
     "output_type": "stream",
     "text": [
      "Julia is a kind young actress. actress\n"
     ]
    },
    {
     "name": "stderr",
     "output_type": "stream",
     "text": [
      "1484it [20:47,  1.14it/s]"
     ]
    },
    {
     "name": "stdout",
     "output_type": "stream",
     "text": [
      "Harry is the best actor. actor\n"
     ]
    },
    {
     "name": "stderr",
     "output_type": "stream",
     "text": [
      "1485it [20:48,  1.11it/s]"
     ]
    },
    {
     "name": "stdout",
     "output_type": "stream",
     "text": [
      "I play the role of Pinocchio. role\n"
     ]
    },
    {
     "name": "stderr",
     "output_type": "stream",
     "text": [
      "1486it [20:49,  1.09it/s]"
     ]
    },
    {
     "name": "stdout",
     "output_type": "stream",
     "text": [
      "생성된 문장이 규칙을 따르지 않습니다. 단어: unlucky\n"
     ]
    },
    {
     "name": "stderr",
     "output_type": "stream",
     "text": [
      "1487it [20:50,  1.09it/s]"
     ]
    },
    {
     "name": "stdout",
     "output_type": "stream",
     "text": [
      "I’m lucky today because I won first prize. lucky\n"
     ]
    },
    {
     "name": "stderr",
     "output_type": "stream",
     "text": [
      "1488it [20:51,  1.10it/s]"
     ]
    },
    {
     "name": "stdout",
     "output_type": "stream",
     "text": [
      "생성된 문장이 규칙을 따르지 않습니다. 단어: explore\n"
     ]
    },
    {
     "name": "stderr",
     "output_type": "stream",
     "text": [
      "1489it [20:51,  1.17it/s]"
     ]
    },
    {
     "name": "stdout",
     "output_type": "stream",
     "text": [
      "생성된 문장이 규칙을 따르지 않습니다. 단어: adventure\n"
     ]
    },
    {
     "name": "stderr",
     "output_type": "stream",
     "text": [
      "1490it [20:52,  1.18it/s]"
     ]
    },
    {
     "name": "stdout",
     "output_type": "stream",
     "text": [
      "I’ll visit you next time. visit\n"
     ]
    },
    {
     "name": "stderr",
     "output_type": "stream",
     "text": [
      "1491it [20:53,  1.21it/s]"
     ]
    },
    {
     "name": "stdout",
     "output_type": "stream",
     "text": [
      "We enjoy leisure activities on weekends. leisure\n"
     ]
    },
    {
     "name": "stderr",
     "output_type": "stream",
     "text": [
      "1492it [20:54,  1.19it/s]"
     ]
    },
    {
     "name": "stdout",
     "output_type": "stream",
     "text": [
      "I discovered that he was a liar. discover\n"
     ]
    },
    {
     "name": "stderr",
     "output_type": "stream",
     "text": [
      "1493it [20:55,  1.19it/s]"
     ]
    },
    {
     "name": "stdout",
     "output_type": "stream",
     "text": [
      "생성된 문장이 규칙을 따르지 않습니다. 단어: scenery\n"
     ]
    },
    {
     "name": "stderr",
     "output_type": "stream",
     "text": [
      "1494it [20:56,  1.15it/s]"
     ]
    },
    {
     "name": "stdout",
     "output_type": "stream",
     "text": [
      "생성된 문장이 규칙을 따르지 않습니다. 단어: sightseeing\n"
     ]
    },
    {
     "name": "stderr",
     "output_type": "stream",
     "text": [
      "1495it [20:57,  1.15it/s]"
     ]
    },
    {
     "name": "stdout",
     "output_type": "stream",
     "text": [
      "생성된 문장이 규칙을 따르지 않습니다. 단어: invade\n"
     ]
    },
    {
     "name": "stderr",
     "output_type": "stream",
     "text": [
      "1496it [20:58,  1.13it/s]"
     ]
    },
    {
     "name": "stdout",
     "output_type": "stream",
     "text": [
      "생성된 문장이 규칙을 따르지 않습니다. 단어: quick\n"
     ]
    },
    {
     "name": "stderr",
     "output_type": "stream",
     "text": [
      "1497it [20:59,  1.07it/s]"
     ]
    },
    {
     "name": "stdout",
     "output_type": "stream",
     "text": [
      "생성된 문장이 규칙을 따르지 않습니다. 단어: hurry\n"
     ]
    },
    {
     "name": "stderr",
     "output_type": "stream",
     "text": [
      "1498it [21:00,  1.06it/s]"
     ]
    },
    {
     "name": "stdout",
     "output_type": "stream",
     "text": [
      "생성된 문장이 규칙을 따르지 않습니다. 단어: fast\n"
     ]
    },
    {
     "name": "stderr",
     "output_type": "stream",
     "text": [
      "1499it [21:00,  1.07it/s]"
     ]
    },
    {
     "name": "stdout",
     "output_type": "stream",
     "text": [
      "My brother is as slow as a snail. slow\n"
     ]
    },
    {
     "name": "stderr",
     "output_type": "stream",
     "text": [
      "1500it [21:01,  1.10it/s]"
     ]
    },
    {
     "name": "stdout",
     "output_type": "stream",
     "text": [
      "생성된 문장이 규칙을 따르지 않습니다. 단어: instant\n"
     ]
    },
    {
     "name": "stderr",
     "output_type": "stream",
     "text": [
      "1501it [21:02,  1.14it/s]"
     ]
    },
    {
     "name": "stdout",
     "output_type": "stream",
     "text": [
      "생성된 문장이 규칙을 따르지 않습니다. 단어: impatient\n"
     ]
    },
    {
     "name": "stderr",
     "output_type": "stream",
     "text": [
      "1502it [21:03,  1.16it/s]"
     ]
    },
    {
     "name": "stdout",
     "output_type": "stream",
     "text": [
      "생성된 문장이 규칙을 따르지 않습니다. 단어: suddenly\n"
     ]
    },
    {
     "name": "stderr",
     "output_type": "stream",
     "text": [
      "1503it [21:04,  1.14it/s]"
     ]
    },
    {
     "name": "stdout",
     "output_type": "stream",
     "text": [
      "Look out! You look so dangerous. danger\n"
     ]
    },
    {
     "name": "stderr",
     "output_type": "stream",
     "text": [
      "1504it [21:05,  1.18it/s]"
     ]
    },
    {
     "name": "stdout",
     "output_type": "stream",
     "text": [
      "생성된 문장이 규칙을 따르지 않습니다. 단어: risk\n"
     ]
    },
    {
     "name": "stderr",
     "output_type": "stream",
     "text": [
      "1505it [21:05,  1.19it/s]"
     ]
    },
    {
     "name": "stdout",
     "output_type": "stream",
     "text": [
      "Look out! You look so dangerous. dangerous\n"
     ]
    },
    {
     "name": "stderr",
     "output_type": "stream",
     "text": [
      "1506it [21:06,  1.14it/s]"
     ]
    },
    {
     "name": "stdout",
     "output_type": "stream",
     "text": [
      "생성된 문장이 규칙을 따르지 않습니다. 단어: harmful\n"
     ]
    },
    {
     "name": "stderr",
     "output_type": "stream",
     "text": [
      "1507it [21:07,  1.16it/s]"
     ]
    },
    {
     "name": "stdout",
     "output_type": "stream",
     "text": [
      "생성된 문장이 규칙을 따르지 않습니다. 단어: scary\n"
     ]
    },
    {
     "name": "stderr",
     "output_type": "stream",
     "text": [
      "1508it [21:08,  1.15it/s]"
     ]
    },
    {
     "name": "stdout",
     "output_type": "stream",
     "text": [
      "생성된 문장이 규칙을 따르지 않습니다. 단어: disadvantage\n"
     ]
    },
    {
     "name": "stderr",
     "output_type": "stream",
     "text": [
      "1509it [21:09,  1.15it/s]"
     ]
    },
    {
     "name": "stdout",
     "output_type": "stream",
     "text": [
      "생성된 문장이 규칙을 따르지 않습니다. 단어: harmless\n"
     ]
    },
    {
     "name": "stderr",
     "output_type": "stream",
     "text": [
      "1510it [21:10,  1.17it/s]"
     ]
    },
    {
     "name": "stdout",
     "output_type": "stream",
     "text": [
      "생성된 문장이 규칙을 따르지 않습니다. 단어: trouble\n"
     ]
    },
    {
     "name": "stderr",
     "output_type": "stream",
     "text": [
      "1511it [21:10,  1.24it/s]"
     ]
    },
    {
     "name": "stdout",
     "output_type": "stream",
     "text": [
      "Be careful with the scissors. careful\n"
     ]
    },
    {
     "name": "stderr",
     "output_type": "stream",
     "text": [
      "1512it [21:11,  1.23it/s]"
     ]
    },
    {
     "name": "stdout",
     "output_type": "stream",
     "text": [
      "생성된 문장이 규칙을 따르지 않습니다. 단어: misfortune\n"
     ]
    },
    {
     "name": "stderr",
     "output_type": "stream",
     "text": [
      "1513it [21:12,  1.14it/s]"
     ]
    },
    {
     "name": "stdout",
     "output_type": "stream",
     "text": [
      "생성된 문장이 규칙을 따르지 않습니다. 단어: nonviolent\n"
     ]
    },
    {
     "name": "stderr",
     "output_type": "stream",
     "text": [
      "1514it [21:13,  1.16it/s]"
     ]
    },
    {
     "name": "stdout",
     "output_type": "stream",
     "text": [
      "Hold on, please sit down while waiting. wait\n"
     ]
    },
    {
     "name": "stderr",
     "output_type": "stream",
     "text": [
      "1515it [21:14,  1.13it/s]"
     ]
    },
    {
     "name": "stdout",
     "output_type": "stream",
     "text": [
      "생성된 문장이 규칙을 따르지 않습니다. 단어: wait for\n"
     ]
    },
    {
     "name": "stderr",
     "output_type": "stream",
     "text": [
      "1516it [21:15,  1.10it/s]"
     ]
    },
    {
     "name": "stdout",
     "output_type": "stream",
     "text": [
      "생성된 문장이 규칙을 따르지 않습니다. 단어: hold on\n"
     ]
    },
    {
     "name": "stderr",
     "output_type": "stream",
     "text": [
      "1517it [21:16,  1.15it/s]"
     ]
    },
    {
     "name": "stdout",
     "output_type": "stream",
     "text": [
      "생성된 문장이 규칙을 따르지 않습니다. 단어: hold\n"
     ]
    },
    {
     "name": "stderr",
     "output_type": "stream",
     "text": [
      "1518it [21:17,  1.11it/s]"
     ]
    },
    {
     "name": "stdout",
     "output_type": "stream",
     "text": [
      "Touch your hand and pause in front of the camera. pause\n"
     ]
    },
    {
     "name": "stderr",
     "output_type": "stream",
     "text": [
      "1519it [21:18,  1.09it/s]"
     ]
    },
    {
     "name": "stdout",
     "output_type": "stream",
     "text": [
      "She's from Canada and there are many countries. Canada\n"
     ]
    },
    {
     "name": "stderr",
     "output_type": "stream",
     "text": [
      "1520it [21:19,  1.13it/s]"
     ]
    },
    {
     "name": "stdout",
     "output_type": "stream",
     "text": [
      "He is from China and lives there. China\n"
     ]
    },
    {
     "name": "stderr",
     "output_type": "stream",
     "text": [
      "1521it [21:19,  1.19it/s]"
     ]
    },
    {
     "name": "stdout",
     "output_type": "stream",
     "text": [
      "She is from Japan. Japan\n"
     ]
    },
    {
     "name": "stderr",
     "output_type": "stream",
     "text": [
      "1522it [21:20,  1.19it/s]"
     ]
    },
    {
     "name": "stdout",
     "output_type": "stream",
     "text": [
      "I’m from Seoul, Korea. Korea\n"
     ]
    },
    {
     "name": "stderr",
     "output_type": "stream",
     "text": [
      "1523it [21:21,  1.18it/s]"
     ]
    },
    {
     "name": "stdout",
     "output_type": "stream",
     "text": [
      "Korean is my favorite subject. Korean\n"
     ]
    },
    {
     "name": "stderr",
     "output_type": "stream",
     "text": [
      "1524it [21:22,  1.20it/s]"
     ]
    },
    {
     "name": "stdout",
     "output_type": "stream",
     "text": [
      "The earth is beautiful when we look. earth\n"
     ]
    },
    {
     "name": "stderr",
     "output_type": "stream",
     "text": [
      "1525it [21:23,  1.24it/s]"
     ]
    },
    {
     "name": "stdout",
     "output_type": "stream",
     "text": [
      "He's from Brazil. Brazil\n"
     ]
    },
    {
     "name": "stderr",
     "output_type": "stream",
     "text": [
      "1526it [21:23,  1.27it/s]"
     ]
    },
    {
     "name": "stdout",
     "output_type": "stream",
     "text": [
      "생성된 문장이 규칙을 따르지 않습니다. 단어: country\n"
     ]
    },
    {
     "name": "stderr",
     "output_type": "stream",
     "text": [
      "1527it [21:24,  1.29it/s]"
     ]
    },
    {
     "name": "stdout",
     "output_type": "stream",
     "text": [
      "We are from India. India\n"
     ]
    },
    {
     "name": "stderr",
     "output_type": "stream",
     "text": [
      "1528it [21:25,  1.24it/s]"
     ]
    },
    {
     "name": "stdout",
     "output_type": "stream",
     "text": [
      "생성된 문장이 규칙을 따르지 않습니다. 단어: the U.S.A.\n"
     ]
    },
    {
     "name": "stderr",
     "output_type": "stream",
     "text": [
      "1529it [21:26,  1.21it/s]"
     ]
    },
    {
     "name": "stdout",
     "output_type": "stream",
     "text": [
      "The world has become a global village. world\n"
     ]
    },
    {
     "name": "stderr",
     "output_type": "stream",
     "text": [
      "1530it [21:27,  1.22it/s]"
     ]
    },
    {
     "name": "stdout",
     "output_type": "stream",
     "text": [
      "생성된 문장이 규칙을 따르지 않습니다. 단어: us\n"
     ]
    },
    {
     "name": "stderr",
     "output_type": "stream",
     "text": [
      "1531it [21:27,  1.21it/s]"
     ]
    },
    {
     "name": "stdout",
     "output_type": "stream",
     "text": [
      "생성된 문장이 규칙을 따르지 않습니다. 단어: foreign\n"
     ]
    },
    {
     "name": "stderr",
     "output_type": "stream",
     "text": [
      "1532it [21:28,  1.23it/s]"
     ]
    },
    {
     "name": "stdout",
     "output_type": "stream",
     "text": [
      "I traveled abroad last summer. abroad\n"
     ]
    },
    {
     "name": "stderr",
     "output_type": "stream",
     "text": [
      "1533it [21:29,  1.26it/s]"
     ]
    },
    {
     "name": "stdout",
     "output_type": "stream",
     "text": [
      "생성된 문장이 규칙을 따르지 않습니다. 단어: originate\n"
     ]
    },
    {
     "name": "stderr",
     "output_type": "stream",
     "text": [
      "1534it [21:30,  1.28it/s]"
     ]
    },
    {
     "name": "stdout",
     "output_type": "stream",
     "text": [
      "생성된 문장이 규칙을 따르지 않습니다. 단어: where\n"
     ]
    },
    {
     "name": "stderr",
     "output_type": "stream",
     "text": [
      "1535it [21:31,  1.27it/s]"
     ]
    },
    {
     "name": "stdout",
     "output_type": "stream",
     "text": [
      "생성된 문장이 규칙을 따르지 않습니다. 단어: anywhere\n"
     ]
    },
    {
     "name": "stderr",
     "output_type": "stream",
     "text": [
      "1536it [21:31,  1.20it/s]"
     ]
    },
    {
     "name": "stdout",
     "output_type": "stream",
     "text": [
      "The elevator is on your right side downstairs. downstairs\n"
     ]
    },
    {
     "name": "stderr",
     "output_type": "stream",
     "text": [
      "1537it [21:32,  1.17it/s]"
     ]
    },
    {
     "name": "stdout",
     "output_type": "stream",
     "text": [
      "She is going upstairs to carry books. upstairs\n"
     ]
    },
    {
     "name": "stderr",
     "output_type": "stream",
     "text": [
      "1538it [21:33,  1.17it/s]"
     ]
    },
    {
     "name": "stdout",
     "output_type": "stream",
     "text": [
      "That ball is far from me. far\n"
     ]
    },
    {
     "name": "stderr",
     "output_type": "stream",
     "text": [
      "1539it [21:34,  1.20it/s]"
     ]
    },
    {
     "name": "stdout",
     "output_type": "stream",
     "text": [
      "생성된 문장이 규칙을 따르지 않습니다. 단어: distance\n"
     ]
    },
    {
     "name": "stderr",
     "output_type": "stream",
     "text": [
      "1540it [21:35,  1.19it/s]"
     ]
    },
    {
     "name": "stdout",
     "output_type": "stream",
     "text": [
      "생성된 문장이 규칙을 따르지 않습니다. 단어: near\n"
     ]
    },
    {
     "name": "stderr",
     "output_type": "stream",
     "text": [
      "1541it [21:36,  1.12it/s]"
     ]
    },
    {
     "name": "stdout",
     "output_type": "stream",
     "text": [
      "생성된 문장이 규칙을 따르지 않습니다. 단어: kilometer\n"
     ]
    },
    {
     "name": "stderr",
     "output_type": "stream",
     "text": [
      "1542it [21:37,  1.16it/s]"
     ]
    },
    {
     "name": "stdout",
     "output_type": "stream",
     "text": [
      "The fire station is big. fire station\n"
     ]
    },
    {
     "name": "stderr",
     "output_type": "stream",
     "text": [
      "1543it [21:37,  1.20it/s]"
     ]
    },
    {
     "name": "stdout",
     "output_type": "stream",
     "text": [
      "I work at the police station. police station\n"
     ]
    },
    {
     "name": "stderr",
     "output_type": "stream",
     "text": [
      "1544it [21:38,  1.20it/s]"
     ]
    },
    {
     "name": "stdout",
     "output_type": "stream",
     "text": [
      "My father is a fire fighter. fire fighter\n"
     ]
    },
    {
     "name": "stderr",
     "output_type": "stream",
     "text": [
      "1545it [21:39,  1.12it/s]"
     ]
    },
    {
     "name": "stdout",
     "output_type": "stream",
     "text": [
      "I’m a police officer and I drive a bus. police officer\n"
     ]
    },
    {
     "name": "stderr",
     "output_type": "stream",
     "text": [
      "1546it [21:40,  1.12it/s]"
     ]
    },
    {
     "name": "stdout",
     "output_type": "stream",
     "text": [
      "I’m a police officer at my local station. police\n"
     ]
    },
    {
     "name": "stderr",
     "output_type": "stream",
     "text": [
      "1547it [21:41,  1.15it/s]"
     ]
    },
    {
     "name": "stdout",
     "output_type": "stream",
     "text": [
      "The fire engine is red. fire engine\n"
     ]
    },
    {
     "name": "stderr",
     "output_type": "stream",
     "text": [
      "1548it [21:42,  1.11it/s]"
     ]
    },
    {
     "name": "stdout",
     "output_type": "stream",
     "text": [
      "생성된 문장이 규칙을 따르지 않습니다. 단어: rescue\n"
     ]
    },
    {
     "name": "stderr",
     "output_type": "stream",
     "text": [
      "1549it [21:43,  1.12it/s]"
     ]
    },
    {
     "name": "stdout",
     "output_type": "stream",
     "text": [
      "We must watch out for the fire. fire\n"
     ]
    },
    {
     "name": "stderr",
     "output_type": "stream",
     "text": [
      "1550it [21:44,  1.12it/s]"
     ]
    },
    {
     "name": "stdout",
     "output_type": "stream",
     "text": [
      "The soldier was very brave during war. soldier\n"
     ]
    },
    {
     "name": "stderr",
     "output_type": "stream",
     "text": [
      "1551it [21:45,  1.10it/s]"
     ]
    },
    {
     "name": "stdout",
     "output_type": "stream",
     "text": [
      "생성된 문장이 규칙을 따르지 않습니다. 단어: chief\n"
     ]
    },
    {
     "name": "stderr",
     "output_type": "stream",
     "text": [
      "1552it [21:46,  1.12it/s]"
     ]
    },
    {
     "name": "stdout",
     "output_type": "stream",
     "text": [
      "생성된 문장이 규칙을 따르지 않습니다. 단어: department\n"
     ]
    },
    {
     "name": "stderr",
     "output_type": "stream",
     "text": [
      "1553it [21:46,  1.12it/s]"
     ]
    },
    {
     "name": "stdout",
     "output_type": "stream",
     "text": [
      "Let's walk up this street outside. street\n"
     ]
    },
    {
     "name": "stderr",
     "output_type": "stream",
     "text": [
      "1554it [21:47,  1.14it/s]"
     ]
    },
    {
     "name": "stdout",
     "output_type": "stream",
     "text": [
      "Walk up this dark old road. road\n"
     ]
    },
    {
     "name": "stderr",
     "output_type": "stream",
     "text": [
      "1555it [21:48,  1.12it/s]"
     ]
    },
    {
     "name": "stdout",
     "output_type": "stream",
     "text": [
      "생성된 문장이 규칙을 따르지 않습니다. 단어: route\n"
     ]
    },
    {
     "name": "stderr",
     "output_type": "stream",
     "text": [
      "1556it [21:49,  1.19it/s]"
     ]
    },
    {
     "name": "stdout",
     "output_type": "stream",
     "text": [
      "Sit down on your seat. seat\n"
     ]
    },
    {
     "name": "stderr",
     "output_type": "stream",
     "text": [
      "1557it [21:50,  1.21it/s]"
     ]
    },
    {
     "name": "stdout",
     "output_type": "stream",
     "text": [
      "The boy destroyed my blue chair yesterday. chair\n"
     ]
    },
    {
     "name": "stderr",
     "output_type": "stream",
     "text": [
      "1558it [21:50,  1.25it/s]"
     ]
    },
    {
     "name": "stdout",
     "output_type": "stream",
     "text": [
      "The sofa is black. sofa\n"
     ]
    },
    {
     "name": "stderr",
     "output_type": "stream",
     "text": [
      "1559it [21:51,  1.21it/s]"
     ]
    },
    {
     "name": "stdout",
     "output_type": "stream",
     "text": [
      "The teacher told me to sit down. sit\n"
     ]
    },
    {
     "name": "stderr",
     "output_type": "stream",
     "text": [
      "1560it [21:52,  1.22it/s]"
     ]
    },
    {
     "name": "stdout",
     "output_type": "stream",
     "text": [
      "생성된 문장이 규칙을 따르지 않습니다. 단어: position\n"
     ]
    },
    {
     "name": "stderr",
     "output_type": "stream",
     "text": [
      "1561it [21:53,  1.20it/s]"
     ]
    },
    {
     "name": "stdout",
     "output_type": "stream",
     "text": [
      "I always lounge at the community center. lounge\n"
     ]
    },
    {
     "name": "stderr",
     "output_type": "stream",
     "text": [
      "1562it [21:54,  1.18it/s]"
     ]
    },
    {
     "name": "stdout",
     "output_type": "stream",
     "text": [
      "Don't sit on the wet bench. bench\n"
     ]
    },
    {
     "name": "stderr",
     "output_type": "stream",
     "text": [
      "1563it [21:55,  1.14it/s]"
     ]
    },
    {
     "name": "stdout",
     "output_type": "stream",
     "text": [
      "The dentist is my uncle Mr. Jones. dentist\n"
     ]
    },
    {
     "name": "stderr",
     "output_type": "stream",
     "text": [
      "1564it [21:56,  1.14it/s]"
     ]
    },
    {
     "name": "stdout",
     "output_type": "stream",
     "text": [
      "Let me examine your teeth and smile. teeth\n"
     ]
    },
    {
     "name": "stderr",
     "output_type": "stream",
     "text": [
      "1565it [21:57,  1.15it/s]"
     ]
    },
    {
     "name": "stdout",
     "output_type": "stream",
     "text": [
      "That farmer is my grandpa. farmer\n"
     ]
    },
    {
     "name": "stderr",
     "output_type": "stream",
     "text": [
      "1566it [21:57,  1.14it/s]"
     ]
    },
    {
     "name": "stdout",
     "output_type": "stream",
     "text": [
      "My hometown is a farming village. farm\n"
     ]
    },
    {
     "name": "stderr",
     "output_type": "stream",
     "text": [
      "1567it [21:58,  1.12it/s]"
     ]
    },
    {
     "name": "stdout",
     "output_type": "stream",
     "text": [
      "생성된 문장이 규칙을 따르지 않습니다. 단어: fashion designer\n"
     ]
    },
    {
     "name": "stderr",
     "output_type": "stream",
     "text": [
      "1568it [21:59,  1.08it/s]"
     ]
    },
    {
     "name": "stdout",
     "output_type": "stream",
     "text": [
      "They are hairdressers and my dream job. hairdresser\n"
     ]
    },
    {
     "name": "stderr",
     "output_type": "stream",
     "text": [
      "1569it [22:00,  1.09it/s]"
     ]
    },
    {
     "name": "stdout",
     "output_type": "stream",
     "text": [
      "생성된 문장이 규칙을 따르지 않습니다. 단어: magician\n"
     ]
    },
    {
     "name": "stderr",
     "output_type": "stream",
     "text": [
      "1570it [22:01,  1.12it/s]"
     ]
    },
    {
     "name": "stdout",
     "output_type": "stream",
     "text": [
      "Let's watch the magic show. magic\n"
     ]
    },
    {
     "name": "stderr",
     "output_type": "stream",
     "text": [
      "1571it [22:02,  1.18it/s]"
     ]
    },
    {
     "name": "stdout",
     "output_type": "stream",
     "text": [
      "생성된 문장이 규칙을 따르지 않습니다. 단어: bicycle\n"
     ]
    },
    {
     "name": "stderr",
     "output_type": "stream",
     "text": [
      "1572it [22:03,  1.19it/s]"
     ]
    },
    {
     "name": "stdout",
     "output_type": "stream",
     "text": [
      "My old car is being repaired. car\n"
     ]
    },
    {
     "name": "stderr",
     "output_type": "stream",
     "text": [
      "1573it [22:04,  1.15it/s]"
     ]
    },
    {
     "name": "stdout",
     "output_type": "stream",
     "text": [
      "Cars, buses, and airplanes are vehicles. vehicle\n"
     ]
    },
    {
     "name": "stderr",
     "output_type": "stream",
     "text": [
      "1574it [22:05,  1.11it/s]"
     ]
    },
    {
     "name": "stdout",
     "output_type": "stream",
     "text": [
      "This motorcycle is fast and my car isn't. motorcycle\n"
     ]
    },
    {
     "name": "stderr",
     "output_type": "stream",
     "text": [
      "1575it [22:05,  1.17it/s]"
     ]
    },
    {
     "name": "stdout",
     "output_type": "stream",
     "text": [
      "Let's ride bikes. bike\n"
     ]
    },
    {
     "name": "stderr",
     "output_type": "stream",
     "text": [
      "1576it [22:06,  1.18it/s]"
     ]
    },
    {
     "name": "stdout",
     "output_type": "stream",
     "text": [
      "The truck is blue and stuck. truck\n"
     ]
    },
    {
     "name": "stderr",
     "output_type": "stream",
     "text": [
      "1577it [22:07,  1.17it/s]"
     ]
    },
    {
     "name": "stdout",
     "output_type": "stream",
     "text": [
      "Ryan's father is a bus driver. driver\n"
     ]
    },
    {
     "name": "stderr",
     "output_type": "stream",
     "text": [
      "1578it [22:08,  1.22it/s]"
     ]
    },
    {
     "name": "stdout",
     "output_type": "stream",
     "text": [
      "Let's ride bikes. ride\n"
     ]
    },
    {
     "name": "stderr",
     "output_type": "stream",
     "text": [
      "1579it [22:09,  1.23it/s]"
     ]
    },
    {
     "name": "stdout",
     "output_type": "stream",
     "text": [
      "생성된 문장이 규칙을 따르지 않습니다. 단어: drive\n"
     ]
    },
    {
     "name": "stderr",
     "output_type": "stream",
     "text": [
      "1580it [22:10,  1.17it/s]"
     ]
    },
    {
     "name": "stdout",
     "output_type": "stream",
     "text": [
      "생성된 문장이 규칙을 따르지 않습니다. 단어: nonsmoking\n"
     ]
    },
    {
     "name": "stderr",
     "output_type": "stream",
     "text": [
      "1581it [22:10,  1.16it/s]"
     ]
    },
    {
     "name": "stdout",
     "output_type": "stream",
     "text": [
      "생성된 문장이 규칙을 따르지 않습니다. 단어: century\n"
     ]
    },
    {
     "name": "stderr",
     "output_type": "stream",
     "text": [
      "1582it [22:11,  1.19it/s]"
     ]
    },
    {
     "name": "stdout",
     "output_type": "stream",
     "text": [
      "생성된 문장이 규칙을 따르지 않습니다. 단어: decade\n"
     ]
    },
    {
     "name": "stderr",
     "output_type": "stream",
     "text": [
      "1583it [22:12,  1.16it/s]"
     ]
    },
    {
     "name": "stdout",
     "output_type": "stream",
     "text": [
      "생성된 문장이 규칙을 따르지 않습니다. 단어: anticipate\n"
     ]
    },
    {
     "name": "stderr",
     "output_type": "stream",
     "text": [
      "1584it [22:13,  1.12it/s]"
     ]
    },
    {
     "name": "stdout",
     "output_type": "stream",
     "text": [
      "생성된 문장이 규칙을 따르지 않습니다. 단어: foretell\n"
     ]
    },
    {
     "name": "stderr",
     "output_type": "stream",
     "text": [
      "1585it [22:14,  1.10it/s]"
     ]
    },
    {
     "name": "stdout",
     "output_type": "stream",
     "text": [
      "생성된 문장이 규칙을 따르지 않습니다. 단어: predict\n"
     ]
    },
    {
     "name": "stderr",
     "output_type": "stream",
     "text": [
      "1586it [22:15,  1.15it/s]"
     ]
    },
    {
     "name": "stdout",
     "output_type": "stream",
     "text": [
      "생성된 문장이 규칙을 따르지 않습니다. 단어: prepare\n"
     ]
    },
    {
     "name": "stderr",
     "output_type": "stream",
     "text": [
      "1587it [22:16,  1.13it/s]"
     ]
    },
    {
     "name": "stdout",
     "output_type": "stream",
     "text": [
      "생성된 문장이 규칙을 따르지 않습니다. 단어: expect\n"
     ]
    },
    {
     "name": "stderr",
     "output_type": "stream",
     "text": [
      "1588it [22:17,  1.15it/s]"
     ]
    },
    {
     "name": "stdout",
     "output_type": "stream",
     "text": [
      "생성된 문장이 규칙을 따르지 않습니다. 단어: arrange\n"
     ]
    },
    {
     "name": "stderr",
     "output_type": "stream",
     "text": [
      "1589it [22:17,  1.15it/s]"
     ]
    },
    {
     "name": "stdout",
     "output_type": "stream",
     "text": [
      "생성된 문장이 규칙을 따르지 않습니다. 단어: organize\n"
     ]
    },
    {
     "name": "stderr",
     "output_type": "stream",
     "text": [
      "1590it [22:18,  1.13it/s]"
     ]
    },
    {
     "name": "stdout",
     "output_type": "stream",
     "text": [
      "The manager trains his team to stock shelves. manage\n"
     ]
    },
    {
     "name": "stderr",
     "output_type": "stream",
     "text": [
      "1591it [22:19,  1.18it/s]"
     ]
    },
    {
     "name": "stdout",
     "output_type": "stream",
     "text": [
      "Let's gather in the room. gather\n"
     ]
    },
    {
     "name": "stderr",
     "output_type": "stream",
     "text": [
      "1592it [22:20,  1.20it/s]"
     ]
    },
    {
     "name": "stdout",
     "output_type": "stream",
     "text": [
      "생성된 문장이 규칙을 따르지 않습니다. 단어: unite\n"
     ]
    },
    {
     "name": "stderr",
     "output_type": "stream",
     "text": [
      "1593it [22:21,  1.20it/s]"
     ]
    },
    {
     "name": "stdout",
     "output_type": "stream",
     "text": [
      "생성된 문장이 규칙을 따르지 않습니다. 단어: client\n"
     ]
    },
    {
     "name": "stderr",
     "output_type": "stream",
     "text": [
      "1594it [22:22,  1.23it/s]"
     ]
    },
    {
     "name": "stdout",
     "output_type": "stream",
     "text": [
      "I’m waiting for the customer. customer\n"
     ]
    },
    {
     "name": "stderr",
     "output_type": "stream",
     "text": [
      "1595it [22:22,  1.17it/s]"
     ]
    },
    {
     "name": "stdout",
     "output_type": "stream",
     "text": [
      "생성된 문장이 규칙을 따르지 않습니다. 단어: rent\n"
     ]
    },
    {
     "name": "stderr",
     "output_type": "stream",
     "text": [
      "1596it [22:23,  1.13it/s]"
     ]
    },
    {
     "name": "stdout",
     "output_type": "stream",
     "text": [
      "It's a big apartment and my dad’s office. apartment\n"
     ]
    },
    {
     "name": "stderr",
     "output_type": "stream",
     "text": [
      "1597it [22:24,  1.08it/s]"
     ]
    },
    {
     "name": "stdout",
     "output_type": "stream",
     "text": [
      "I’m in the bedroom and I see a ball. bed\n"
     ]
    },
    {
     "name": "stderr",
     "output_type": "stream",
     "text": [
      "1598it [22:25,  1.06it/s]"
     ]
    },
    {
     "name": "stdout",
     "output_type": "stream",
     "text": [
      "The closet is clean and my sister is there. closet\n"
     ]
    },
    {
     "name": "stderr",
     "output_type": "stream",
     "text": [
      "1599it [22:26,  1.11it/s]"
     ]
    },
    {
     "name": "stdout",
     "output_type": "stream",
     "text": [
      "I’m in the bedroom. bedroom\n"
     ]
    },
    {
     "name": "stderr",
     "output_type": "stream",
     "text": [
      "1600it [22:27,  1.11it/s]"
     ]
    },
    {
     "name": "stdout",
     "output_type": "stream",
     "text": [
      "My brother is in the living room. living room\n"
     ]
    },
    {
     "name": "stderr",
     "output_type": "stream",
     "text": [
      "1601it [22:28,  1.11it/s]"
     ]
    },
    {
     "name": "stdout",
     "output_type": "stream",
     "text": [
      "Let's gather in the room together. room\n"
     ]
    },
    {
     "name": "stderr",
     "output_type": "stream",
     "text": [
      "1602it [22:29,  1.11it/s]"
     ]
    },
    {
     "name": "stdout",
     "output_type": "stream",
     "text": [
      "There are many floors in the building. floor\n"
     ]
    },
    {
     "name": "stderr",
     "output_type": "stream",
     "text": [
      "1603it [22:30,  1.08it/s]"
     ]
    },
    {
     "name": "stdout",
     "output_type": "stream",
     "text": [
      "Don’t move until I tell you carry books. move\n"
     ]
    },
    {
     "name": "stderr",
     "output_type": "stream",
     "text": [
      "1604it [22:31,  1.06it/s]"
     ]
    },
    {
     "name": "stdout",
     "output_type": "stream",
     "text": [
      "Kevin's cabin is cozy when we camp there. cabin\n"
     ]
    },
    {
     "name": "stderr",
     "output_type": "stream",
     "text": [
      "1605it [22:32,  1.04it/s]"
     ]
    },
    {
     "name": "stdout",
     "output_type": "stream",
     "text": [
      "I’m on the soccer team and love joining clubs. club\n"
     ]
    },
    {
     "name": "stderr",
     "output_type": "stream",
     "text": [
      "1606it [22:33,  1.08it/s]"
     ]
    },
    {
     "name": "stdout",
     "output_type": "stream",
     "text": [
      "The car is inside the garage. garage\n"
     ]
    },
    {
     "name": "stderr",
     "output_type": "stream",
     "text": [
      "1607it [22:34,  1.10it/s]"
     ]
    },
    {
     "name": "stdout",
     "output_type": "stream",
     "text": [
      "There is a spot on the pot. spot\n"
     ]
    },
    {
     "name": "stderr",
     "output_type": "stream",
     "text": [
      "1608it [22:35,  1.12it/s]"
     ]
    },
    {
     "name": "stdout",
     "output_type": "stream",
     "text": [
      "Guess who the guest is at my house. guest\n"
     ]
    },
    {
     "name": "stderr",
     "output_type": "stream",
     "text": [
      "1609it [22:35,  1.11it/s]"
     ]
    },
    {
     "name": "stdout",
     "output_type": "stream",
     "text": [
      "It's under the desk made of wood. desk\n"
     ]
    },
    {
     "name": "stderr",
     "output_type": "stream",
     "text": [
      "1610it [22:36,  1.09it/s]"
     ]
    },
    {
     "name": "stdout",
     "output_type": "stream",
     "text": [
      "생성된 문장이 규칙을 따르지 않습니다. 단어: tower\n"
     ]
    },
    {
     "name": "stderr",
     "output_type": "stream",
     "text": [
      "1611it [22:37,  1.13it/s]"
     ]
    },
    {
     "name": "stdout",
     "output_type": "stream",
     "text": [
      "Close the door because somebody is knocking. door\n"
     ]
    },
    {
     "name": "stderr",
     "output_type": "stream",
     "text": [
      "1612it [22:38,  1.18it/s]"
     ]
    },
    {
     "name": "stdout",
     "output_type": "stream",
     "text": [
      "The wall is dirty. wall\n"
     ]
    },
    {
     "name": "stderr",
     "output_type": "stream",
     "text": [
      "1613it [22:39,  1.18it/s]"
     ]
    },
    {
     "name": "stdout",
     "output_type": "stream",
     "text": [
      "Turn right at the second corner. corner\n"
     ]
    },
    {
     "name": "stderr",
     "output_type": "stream",
     "text": [
      "1614it [22:40,  1.14it/s]"
     ]
    },
    {
     "name": "stdout",
     "output_type": "stream",
     "text": [
      "There’s a big hen on the roof. roof\n"
     ]
    },
    {
     "name": "stderr",
     "output_type": "stream",
     "text": [
      "1615it [22:41,  1.11it/s]"
     ]
    },
    {
     "name": "stdout",
     "output_type": "stream",
     "text": [
      "생성된 문장이 규칙을 따르지 않습니다. 단어: value\n"
     ]
    },
    {
     "name": "stderr",
     "output_type": "stream",
     "text": [
      "1616it [22:42,  1.11it/s]"
     ]
    },
    {
     "name": "stdout",
     "output_type": "stream",
     "text": [
      "생성된 문장이 규칙을 따르지 않습니다. 단어: worth\n"
     ]
    },
    {
     "name": "stderr",
     "output_type": "stream",
     "text": [
      "1617it [22:42,  1.15it/s]"
     ]
    },
    {
     "name": "stdout",
     "output_type": "stream",
     "text": [
      "생성된 문장이 규칙을 따르지 않습니다. 단어: entrance\n"
     ]
    },
    {
     "name": "stderr",
     "output_type": "stream",
     "text": [
      "1618it [22:43,  1.17it/s]"
     ]
    },
    {
     "name": "stdout",
     "output_type": "stream",
     "text": [
      "생성된 문장이 규칙을 따르지 않습니다. 단어: entry\n"
     ]
    },
    {
     "name": "stderr",
     "output_type": "stream",
     "text": [
      "1619it [22:44,  1.20it/s]"
     ]
    },
    {
     "name": "stdout",
     "output_type": "stream",
     "text": [
      "I entered the room and thanked you. enter\n"
     ]
    },
    {
     "name": "stderr",
     "output_type": "stream",
     "text": [
      "1620it [22:45,  1.16it/s]"
     ]
    },
    {
     "name": "stdout",
     "output_type": "stream",
     "text": [
      "Let me introduce my cousin to you. introduce\n"
     ]
    },
    {
     "name": "stderr",
     "output_type": "stream",
     "text": [
      "1621it [22:46,  1.18it/s]"
     ]
    },
    {
     "name": "stdout",
     "output_type": "stream",
     "text": [
      "생성된 문장이 규칙을 따르지 않습니다. 단어: into\n"
     ]
    },
    {
     "name": "stderr",
     "output_type": "stream",
     "text": [
      "1622it [22:47,  1.18it/s]"
     ]
    },
    {
     "name": "stdout",
     "output_type": "stream",
     "text": [
      "생성된 문장이 규칙을 따르지 않습니다. 단어: input\n"
     ]
    },
    {
     "name": "stderr",
     "output_type": "stream",
     "text": [
      "1623it [22:48,  1.11it/s]"
     ]
    },
    {
     "name": "stdout",
     "output_type": "stream",
     "text": [
      "생성된 문장이 규칙을 따르지 않습니다. 단어: insert\n"
     ]
    },
    {
     "name": "stderr",
     "output_type": "stream",
     "text": [
      "1624it [22:49,  1.08it/s]"
     ]
    },
    {
     "name": "stdout",
     "output_type": "stream",
     "text": [
      "생성된 문장이 규칙을 따르지 않습니다. 단어: arrive\n"
     ]
    },
    {
     "name": "stderr",
     "output_type": "stream",
     "text": [
      "1625it [22:49,  1.14it/s]"
     ]
    },
    {
     "name": "stdout",
     "output_type": "stream",
     "text": [
      "My dog is at the gate. gate\n"
     ]
    },
    {
     "name": "stderr",
     "output_type": "stream",
     "text": [
      "1626it [22:50,  1.21it/s]"
     ]
    },
    {
     "name": "stdout",
     "output_type": "stream",
     "text": [
      "I’m in the bedroom. in\n"
     ]
    },
    {
     "name": "stderr",
     "output_type": "stream",
     "text": [
      "1627it [22:51,  1.23it/s]"
     ]
    },
    {
     "name": "stdout",
     "output_type": "stream",
     "text": [
      "Let's go outside and play. outside\n"
     ]
    },
    {
     "name": "stderr",
     "output_type": "stream",
     "text": [
      "1628it [22:52,  1.22it/s]"
     ]
    },
    {
     "name": "stdout",
     "output_type": "stream",
     "text": [
      "생성된 문장이 규칙을 따르지 않습니다. 단어: outdoor\n"
     ]
    },
    {
     "name": "stderr",
     "output_type": "stream",
     "text": [
      "1629it [22:53,  1.20it/s]"
     ]
    },
    {
     "name": "stdout",
     "output_type": "stream",
     "text": [
      "Many teenagers experience fast growth during puberty. growth\n"
     ]
    },
    {
     "name": "stderr",
     "output_type": "stream",
     "text": [
      "1630it [22:53,  1.16it/s]"
     ]
    },
    {
     "name": "stdout",
     "output_type": "stream",
     "text": [
      "생성된 문장이 규칙을 따르지 않습니다. 단어: grow\n"
     ]
    },
    {
     "name": "stderr",
     "output_type": "stream",
     "text": [
      "1631it [22:54,  1.16it/s]"
     ]
    },
    {
     "name": "stdout",
     "output_type": "stream",
     "text": [
      "생성된 문장이 규칙을 따르지 않습니다. 단어: after\n"
     ]
    },
    {
     "name": "stderr",
     "output_type": "stream",
     "text": [
      "1632it [22:55,  1.13it/s]"
     ]
    },
    {
     "name": "stdout",
     "output_type": "stream",
     "text": [
      "생성된 문장이 규칙을 따르지 않습니다. 단어: afterward\n"
     ]
    },
    {
     "name": "stderr",
     "output_type": "stream",
     "text": [
      "1633it [22:56,  1.11it/s]"
     ]
    },
    {
     "name": "stdout",
     "output_type": "stream",
     "text": [
      "생성된 문장이 규칙을 따르지 않습니다. 단어: before\n"
     ]
    },
    {
     "name": "stderr",
     "output_type": "stream",
     "text": [
      "1634it [22:57,  1.13it/s]"
     ]
    },
    {
     "name": "stdout",
     "output_type": "stream",
     "text": [
      "생성된 문장이 규칙을 따르지 않습니다. 단어: precede\n"
     ]
    },
    {
     "name": "stderr",
     "output_type": "stream",
     "text": [
      "1635it [22:58,  1.12it/s]"
     ]
    },
    {
     "name": "stdout",
     "output_type": "stream",
     "text": [
      "생성된 문장이 규칙을 따르지 않습니다. 단어: during\n"
     ]
    },
    {
     "name": "stderr",
     "output_type": "stream",
     "text": [
      "1636it [22:59,  1.17it/s]"
     ]
    },
    {
     "name": "stdout",
     "output_type": "stream",
     "text": [
      "The wind was strong yesterday. wind\n"
     ]
    },
    {
     "name": "stderr",
     "output_type": "stream",
     "text": [
      "1637it [23:00,  1.18it/s]"
     ]
    },
    {
     "name": "stdout",
     "output_type": "stream",
     "text": [
      "생성된 문장이 규칙을 따르지 않습니다. 단어: windy\n"
     ]
    },
    {
     "name": "stderr",
     "output_type": "stream",
     "text": [
      "1638it [23:00,  1.26it/s]"
     ]
    },
    {
     "name": "stdout",
     "output_type": "stream",
     "text": [
      "I get up early. early\n"
     ]
    },
    {
     "name": "stderr",
     "output_type": "stream",
     "text": [
      "1639it [23:01,  1.28it/s]"
     ]
    },
    {
     "name": "stdout",
     "output_type": "stream",
     "text": [
      "I get up late. late\n"
     ]
    },
    {
     "name": "stderr",
     "output_type": "stream",
     "text": [
      "1640it [23:02,  1.23it/s]"
     ]
    },
    {
     "name": "stdout",
     "output_type": "stream",
     "text": [
      "생성된 문장이 규칙을 따르지 않습니다. 단어: timely\n"
     ]
    },
    {
     "name": "stderr",
     "output_type": "stream",
     "text": [
      "1641it [23:03,  1.17it/s]"
     ]
    },
    {
     "name": "stdout",
     "output_type": "stream",
     "text": [
      "생성된 문장이 규칙을 따르지 않습니다. 단어: delay\n"
     ]
    },
    {
     "name": "stderr",
     "output_type": "stream",
     "text": [
      "1642it [23:04,  1.23it/s]"
     ]
    },
    {
     "name": "stdout",
     "output_type": "stream",
     "text": [
      "I have some more cake. more\n"
     ]
    },
    {
     "name": "stderr",
     "output_type": "stream",
     "text": [
      "1643it [23:04,  1.20it/s]"
     ]
    },
    {
     "name": "stdout",
     "output_type": "stream",
     "text": [
      "생성된 문장이 규칙을 따르지 않습니다. 단어: less\n"
     ]
    },
    {
     "name": "stderr",
     "output_type": "stream",
     "text": [
      "1644it [23:05,  1.14it/s]"
     ]
    },
    {
     "name": "stdout",
     "output_type": "stream",
     "text": [
      "생성된 문장이 규칙을 따르지 않습니다. 단어: than\n"
     ]
    },
    {
     "name": "stderr",
     "output_type": "stream",
     "text": [
      "1645it [23:06,  1.15it/s]"
     ]
    },
    {
     "name": "stdout",
     "output_type": "stream",
     "text": [
      "생성된 문장이 규칙을 따르지 않습니다. 단어: much\n"
     ]
    },
    {
     "name": "stderr",
     "output_type": "stream",
     "text": [
      "1646it [23:07,  1.16it/s]"
     ]
    },
    {
     "name": "stdout",
     "output_type": "stream",
     "text": [
      "생성된 문장이 규칙을 따르지 않습니다. 단어: film\n"
     ]
    },
    {
     "name": "stderr",
     "output_type": "stream",
     "text": [
      "1647it [23:08,  1.20it/s]"
     ]
    },
    {
     "name": "stdout",
     "output_type": "stream",
     "text": [
      "They watch a fun sad movie. movie\n"
     ]
    },
    {
     "name": "stderr",
     "output_type": "stream",
     "text": [
      "1648it [23:09,  1.18it/s]"
     ]
    },
    {
     "name": "stdout",
     "output_type": "stream",
     "text": [
      "There are many seats in this theater. theater\n"
     ]
    },
    {
     "name": "stderr",
     "output_type": "stream",
     "text": [
      "1649it [23:10,  1.16it/s]"
     ]
    },
    {
     "name": "stdout",
     "output_type": "stream",
     "text": [
      "They watch a movie on television daily. television\n"
     ]
    },
    {
     "name": "stderr",
     "output_type": "stream",
     "text": [
      "1650it [23:10,  1.17it/s]"
     ]
    },
    {
     "name": "stdout",
     "output_type": "stream",
     "text": [
      "Let's play a board game. game\n"
     ]
    },
    {
     "name": "stderr",
     "output_type": "stream",
     "text": [
      "1651it [23:11,  1.18it/s]"
     ]
    },
    {
     "name": "stdout",
     "output_type": "stream",
     "text": [
      "We sometimes play computer games together. computer game\n"
     ]
    },
    {
     "name": "stderr",
     "output_type": "stream",
     "text": [
      "1652it [23:12,  1.17it/s]"
     ]
    },
    {
     "name": "stdout",
     "output_type": "stream",
     "text": [
      "생성된 문장이 규칙을 따르지 않습니다. 단어: bridge\n"
     ]
    },
    {
     "name": "stderr",
     "output_type": "stream",
     "text": [
      "1653it [23:13,  1.21it/s]"
     ]
    },
    {
     "name": "stdout",
     "output_type": "stream",
     "text": [
      "생성된 문장이 규칙을 따르지 않습니다. 단어: platform\n"
     ]
    },
    {
     "name": "stderr",
     "output_type": "stream",
     "text": [
      "1654it [23:14,  1.14it/s]"
     ]
    },
    {
     "name": "stdout",
     "output_type": "stream",
     "text": [
      "It's a new computer and we can use it. computer\n"
     ]
    },
    {
     "name": "stderr",
     "output_type": "stream",
     "text": [
      "1655it [23:15,  1.13it/s]"
     ]
    },
    {
     "name": "stdout",
     "output_type": "stream",
     "text": [
      "생성된 문장이 규칙을 따르지 않습니다. 단어: cheat\n"
     ]
    },
    {
     "name": "stderr",
     "output_type": "stream",
     "text": [
      "1656it [23:16,  1.15it/s]"
     ]
    },
    {
     "name": "stdout",
     "output_type": "stream",
     "text": [
      "생성된 문장이 규칙을 따르지 않습니다. 단어: steam\n"
     ]
    },
    {
     "name": "stderr",
     "output_type": "stream",
     "text": [
      "1657it [23:17,  1.14it/s]"
     ]
    },
    {
     "name": "stdout",
     "output_type": "stream",
     "text": [
      "생성된 문장이 규칙을 따르지 않습니다. 단어: toy\n"
     ]
    },
    {
     "name": "stderr",
     "output_type": "stream",
     "text": [
      "1658it [23:18,  1.12it/s]"
     ]
    },
    {
     "name": "stdout",
     "output_type": "stream",
     "text": [
      "Do you have toy cars at the store? toy car\n"
     ]
    },
    {
     "name": "stderr",
     "output_type": "stream",
     "text": [
      "1659it [23:18,  1.12it/s]"
     ]
    },
    {
     "name": "stdout",
     "output_type": "stream",
     "text": [
      "Let's go to the toy shop. toy shop\n"
     ]
    },
    {
     "name": "stderr",
     "output_type": "stream",
     "text": [
      "1660it [23:19,  1.21it/s]"
     ]
    },
    {
     "name": "stdout",
     "output_type": "stream",
     "text": [
      "I have a doll. doll\n"
     ]
    },
    {
     "name": "stderr",
     "output_type": "stream",
     "text": [
      "1661it [23:20,  1.20it/s]"
     ]
    },
    {
     "name": "stdout",
     "output_type": "stream",
     "text": [
      "생성된 문장이 규칙을 따르지 않습니다. 단어: flight\n"
     ]
    },
    {
     "name": "stderr",
     "output_type": "stream",
     "text": [
      "1662it [23:21,  1.21it/s]"
     ]
    },
    {
     "name": "stdout",
     "output_type": "stream",
     "text": [
      "I can fly like Spiderman sometimes. fly\n"
     ]
    },
    {
     "name": "stderr",
     "output_type": "stream",
     "text": [
      "1663it [23:22,  1.15it/s]"
     ]
    },
    {
     "name": "stdout",
     "output_type": "stream",
     "text": [
      "Let's take an airplane and make a model. airplane\n"
     ]
    },
    {
     "name": "stderr",
     "output_type": "stream",
     "text": [
      "1664it [23:23,  1.16it/s]"
     ]
    },
    {
     "name": "stdout",
     "output_type": "stream",
     "text": [
      "Let's take an airplane to build it. plane\n"
     ]
    },
    {
     "name": "stderr",
     "output_type": "stream",
     "text": [
      "1665it [23:23,  1.19it/s]"
     ]
    },
    {
     "name": "stdout",
     "output_type": "stream",
     "text": [
      "My uncle is a pilot. pilot\n"
     ]
    },
    {
     "name": "stderr",
     "output_type": "stream",
     "text": [
      "1666it [23:24,  1.16it/s]"
     ]
    },
    {
     "name": "stdout",
     "output_type": "stream",
     "text": [
      "We need fresh air when it's windy. air\n"
     ]
    },
    {
     "name": "stderr",
     "output_type": "stream",
     "text": [
      "1667it [23:25,  1.14it/s]"
     ]
    },
    {
     "name": "stdout",
     "output_type": "stream",
     "text": [
      "It's a small airport near the subway station. airport\n"
     ]
    },
    {
     "name": "stderr",
     "output_type": "stream",
     "text": [
      "1668it [23:26,  1.15it/s]"
     ]
    },
    {
     "name": "stdout",
     "output_type": "stream",
     "text": [
      "생성된 문장이 규칙을 따르지 않습니다. 단어: wing\n"
     ]
    },
    {
     "name": "stderr",
     "output_type": "stream",
     "text": [
      "1669it [23:27,  1.15it/s]"
     ]
    },
    {
     "name": "stdout",
     "output_type": "stream",
     "text": [
      "Flying a kite is exciting when I fly. kite\n"
     ]
    },
    {
     "name": "stderr",
     "output_type": "stream",
     "text": [
      "1670it [23:28,  1.18it/s]"
     ]
    },
    {
     "name": "stdout",
     "output_type": "stream",
     "text": [
      "Let’s take a helicopter to fly. helicopter\n"
     ]
    },
    {
     "name": "stderr",
     "output_type": "stream",
     "text": [
      "1671it [23:29,  1.13it/s]"
     ]
    },
    {
     "name": "stdout",
     "output_type": "stream",
     "text": [
      "생성된 문장이 규칙을 따르지 않습니다. 단어: find\n"
     ]
    },
    {
     "name": "stderr",
     "output_type": "stream",
     "text": [
      "1672it [23:29,  1.15it/s]"
     ]
    },
    {
     "name": "stdout",
     "output_type": "stream",
     "text": [
      "생성된 문장이 규칙을 따르지 않습니다. 단어: search\n"
     ]
    },
    {
     "name": "stderr",
     "output_type": "stream",
     "text": [
      "1673it [23:30,  1.18it/s]"
     ]
    },
    {
     "name": "stdout",
     "output_type": "stream",
     "text": [
      "생성된 문장이 규칙을 따르지 않습니다. 단어: locate\n"
     ]
    },
    {
     "name": "stderr",
     "output_type": "stream",
     "text": [
      "1674it [23:31,  1.20it/s]"
     ]
    },
    {
     "name": "stdout",
     "output_type": "stream",
     "text": [
      "생성된 문장이 규칙을 따르지 않습니다. 단어: look\n"
     ]
    },
    {
     "name": "stderr",
     "output_type": "stream",
     "text": [
      "1675it [23:32,  1.19it/s]"
     ]
    },
    {
     "name": "stdout",
     "output_type": "stream",
     "text": [
      "생성된 문장이 규칙을 따르지 않습니다. 단어: stare\n"
     ]
    },
    {
     "name": "stderr",
     "output_type": "stream",
     "text": [
      "1676it [23:33,  1.24it/s]"
     ]
    },
    {
     "name": "stdout",
     "output_type": "stream",
     "text": [
      "I have very good sight. sight\n"
     ]
    },
    {
     "name": "stderr",
     "output_type": "stream",
     "text": [
      "1677it [23:33,  1.25it/s]"
     ]
    },
    {
     "name": "stdout",
     "output_type": "stream",
     "text": [
      "생성된 문장이 규칙을 따르지 않습니다. 단어: look like\n"
     ]
    },
    {
     "name": "stderr",
     "output_type": "stream",
     "text": [
      "1678it [23:34,  1.32it/s]"
     ]
    },
    {
     "name": "stdout",
     "output_type": "stream",
     "text": [
      "I have a watch. watch\n"
     ]
    },
    {
     "name": "stderr",
     "output_type": "stream",
     "text": [
      "1679it [23:35,  1.27it/s]"
     ]
    },
    {
     "name": "stdout",
     "output_type": "stream",
     "text": [
      "생성된 문장이 규칙을 따르지 않습니다. 단어: perceive\n"
     ]
    },
    {
     "name": "stderr",
     "output_type": "stream",
     "text": [
      "1680it [23:36,  1.20it/s]"
     ]
    },
    {
     "name": "stdout",
     "output_type": "stream",
     "text": [
      "I like swimming and going to the sea. swimming\n"
     ]
    },
    {
     "name": "stderr",
     "output_type": "stream",
     "text": [
      "1681it [23:37,  1.18it/s]"
     ]
    },
    {
     "name": "stdout",
     "output_type": "stream",
     "text": [
      "I like swimming more in the sea. swim\n"
     ]
    },
    {
     "name": "stderr",
     "output_type": "stream",
     "text": [
      "1682it [23:38,  1.13it/s]"
     ]
    },
    {
     "name": "stdout",
     "output_type": "stream",
     "text": [
      "I'm at the pool with lots of people. pool\n"
     ]
    },
    {
     "name": "stderr",
     "output_type": "stream",
     "text": [
      "1683it [23:39,  1.11it/s]"
     ]
    },
    {
     "name": "stdout",
     "output_type": "stream",
     "text": [
      "Let's go swimming because I like it. go swimming\n"
     ]
    },
    {
     "name": "stderr",
     "output_type": "stream",
     "text": [
      "1684it [23:40,  1.13it/s]"
     ]
    },
    {
     "name": "stdout",
     "output_type": "stream",
     "text": [
      "We had fun at the beach. beach\n"
     ]
    },
    {
     "name": "stderr",
     "output_type": "stream",
     "text": [
      "1685it [23:40,  1.12it/s]"
     ]
    },
    {
     "name": "stdout",
     "output_type": "stream",
     "text": [
      "The butter tastes bitter and smells good. taste\n"
     ]
    },
    {
     "name": "stderr",
     "output_type": "stream",
     "text": [
      "1686it [23:41,  1.17it/s]"
     ]
    },
    {
     "name": "stdout",
     "output_type": "stream",
     "text": [
      "생성된 문장이 규칙을 따르지 않습니다. 단어: flavor\n"
     ]
    },
    {
     "name": "stderr",
     "output_type": "stream",
     "text": [
      "1687it [23:42,  1.16it/s]"
     ]
    },
    {
     "name": "stdout",
     "output_type": "stream",
     "text": [
      "생성된 문장이 규칙을 따르지 않습니다. 단어: variety\n"
     ]
    },
    {
     "name": "stderr",
     "output_type": "stream",
     "text": [
      "1688it [23:43,  1.15it/s]"
     ]
    },
    {
     "name": "stdout",
     "output_type": "stream",
     "text": [
      "생성된 문장이 규칙을 따르지 않습니다. 단어: protect\n"
     ]
    },
    {
     "name": "stderr",
     "output_type": "stream",
     "text": [
      "1689it [23:44,  1.20it/s]"
     ]
    },
    {
     "name": "stdout",
     "output_type": "stream",
     "text": [
      "생성된 문장이 규칙을 따르지 않습니다. 단어: defend\n"
     ]
    },
    {
     "name": "stderr",
     "output_type": "stream",
     "text": [
      "1690it [23:45,  1.18it/s]"
     ]
    },
    {
     "name": "stdout",
     "output_type": "stream",
     "text": [
      "생성된 문장이 규칙을 따르지 않습니다. 단어: attack\n"
     ]
    },
    {
     "name": "stderr",
     "output_type": "stream",
     "text": [
      "1691it [23:46,  1.16it/s]"
     ]
    },
    {
     "name": "stdout",
     "output_type": "stream",
     "text": [
      "생성된 문장이 규칙을 따르지 않습니다. 단어: justify\n"
     ]
    },
    {
     "name": "stderr",
     "output_type": "stream",
     "text": [
      "1692it [23:46,  1.16it/s]"
     ]
    },
    {
     "name": "stdout",
     "output_type": "stream",
     "text": [
      "They are guarding the starting line today. guard\n"
     ]
    },
    {
     "name": "stderr",
     "output_type": "stream",
     "text": [
      "1693it [23:47,  1.12it/s]"
     ]
    },
    {
     "name": "stdout",
     "output_type": "stream",
     "text": [
      "Yes, it's mine; those are my shoes. my\n"
     ]
    },
    {
     "name": "stderr",
     "output_type": "stream",
     "text": [
      "1694it [23:48,  1.22it/s]"
     ]
    },
    {
     "name": "stdout",
     "output_type": "stream",
     "text": [
      "This basketball is yours. your\n"
     ]
    },
    {
     "name": "stderr",
     "output_type": "stream",
     "text": [
      "1695it [23:49,  1.23it/s]"
     ]
    },
    {
     "name": "stdout",
     "output_type": "stream",
     "text": [
      "This pencil case is his. his\n"
     ]
    },
    {
     "name": "stderr",
     "output_type": "stream",
     "text": [
      "1696it [23:49,  1.31it/s]"
     ]
    },
    {
     "name": "stdout",
     "output_type": "stream",
     "text": [
      "생성된 문장이 규칙을 따르지 않습니다. 단어: her\n"
     ]
    },
    {
     "name": "stderr",
     "output_type": "stream",
     "text": [
      "1697it [23:50,  1.29it/s]"
     ]
    },
    {
     "name": "stdout",
     "output_type": "stream",
     "text": [
      "생성된 문장이 규칙을 따르지 않습니다. 단어: their\n"
     ]
    },
    {
     "name": "stderr",
     "output_type": "stream",
     "text": [
      "1698it [23:51,  1.26it/s]"
     ]
    },
    {
     "name": "stdout",
     "output_type": "stream",
     "text": [
      "생성된 문장이 규칙을 따르지 않습니다. 단어: our\n"
     ]
    },
    {
     "name": "stderr",
     "output_type": "stream",
     "text": [
      "1699it [23:52,  1.26it/s]"
     ]
    },
    {
     "name": "stdout",
     "output_type": "stream",
     "text": [
      "I like him because he is bad. him\n"
     ]
    },
    {
     "name": "stderr",
     "output_type": "stream",
     "text": [
      "1700it [23:53,  1.15it/s]"
     ]
    },
    {
     "name": "stdout",
     "output_type": "stream",
     "text": [
      "Yes, it's mine, and those bags belong to them. mine\n"
     ]
    },
    {
     "name": "stderr",
     "output_type": "stream",
     "text": [
      "1701it [23:54,  1.21it/s]"
     ]
    },
    {
     "name": "stdout",
     "output_type": "stream",
     "text": [
      "생성된 문장이 규칙을 따르지 않습니다. 단어: yours\n"
     ]
    },
    {
     "name": "stderr",
     "output_type": "stream",
     "text": [
      "1702it [23:55,  1.20it/s]"
     ]
    },
    {
     "name": "stdout",
     "output_type": "stream",
     "text": [
      "That umbrella is hers and her sister's. hers\n"
     ]
    },
    {
     "name": "stderr",
     "output_type": "stream",
     "text": [
      "1703it [23:55,  1.19it/s]"
     ]
    },
    {
     "name": "stdout",
     "output_type": "stream",
     "text": [
      "These bags are theirs, they’re good. theirs\n"
     ]
    },
    {
     "name": "stderr",
     "output_type": "stream",
     "text": [
      "1704it [23:56,  1.19it/s]"
     ]
    },
    {
     "name": "stdout",
     "output_type": "stream",
     "text": [
      "We like sports and this book is ours. ours\n"
     ]
    },
    {
     "name": "stderr",
     "output_type": "stream",
     "text": [
      "1705it [23:57,  1.20it/s]"
     ]
    },
    {
     "name": "stdout",
     "output_type": "stream",
     "text": [
      "생성된 문장이 규칙을 따르지 않습니다. 단어: he\n"
     ]
    },
    {
     "name": "stderr",
     "output_type": "stream",
     "text": [
      "1706it [23:58,  1.19it/s]"
     ]
    },
    {
     "name": "stdout",
     "output_type": "stream",
     "text": [
      "생성된 문장이 규칙을 따르지 않습니다. 단어: she\n"
     ]
    },
    {
     "name": "stderr",
     "output_type": "stream",
     "text": [
      "1707it [23:59,  1.23it/s]"
     ]
    },
    {
     "name": "stdout",
     "output_type": "stream",
     "text": [
      "생성된 문장이 규칙을 따르지 않습니다. 단어: we\n"
     ]
    },
    {
     "name": "stderr",
     "output_type": "stream",
     "text": [
      "1708it [23:59,  1.20it/s]"
     ]
    },
    {
     "name": "stdout",
     "output_type": "stream",
     "text": [
      "생성된 문장이 규칙을 따르지 않습니다. 단어: by\n"
     ]
    },
    {
     "name": "stderr",
     "output_type": "stream",
     "text": [
      "1709it [24:01,  1.12it/s]"
     ]
    },
    {
     "name": "stdout",
     "output_type": "stream",
     "text": [
      "생성된 문장이 규칙을 따르지 않습니다. 단어: if\n"
     ]
    },
    {
     "name": "stderr",
     "output_type": "stream",
     "text": [
      "1710it [24:01,  1.14it/s]"
     ]
    },
    {
     "name": "stdout",
     "output_type": "stream",
     "text": [
      "I like both of them. both\n"
     ]
    },
    {
     "name": "stderr",
     "output_type": "stream",
     "text": [
      "1711it [24:02,  1.15it/s]"
     ]
    },
    {
     "name": "stdout",
     "output_type": "stream",
     "text": [
      "생성된 문장이 규칙을 따르지 않습니다. 단어: mark\n"
     ]
    },
    {
     "name": "stderr",
     "output_type": "stream",
     "text": [
      "1712it [24:03,  1.14it/s]"
     ]
    },
    {
     "name": "stdout",
     "output_type": "stream",
     "text": [
      "Tell me about your morning habits daily. habit\n"
     ]
    },
    {
     "name": "stderr",
     "output_type": "stream",
     "text": [
      "1713it [24:04,  1.08it/s]"
     ]
    },
    {
     "name": "stdout",
     "output_type": "stream",
     "text": [
      "생성된 문장이 규칙을 따르지 않습니다. 단어: have to\n"
     ]
    },
    {
     "name": "stderr",
     "output_type": "stream",
     "text": [
      "1714it [24:05,  1.14it/s]"
     ]
    },
    {
     "name": "stdout",
     "output_type": "stream",
     "text": [
      "I exercise every day. every\n"
     ]
    },
    {
     "name": "stderr",
     "output_type": "stream",
     "text": [
      "1715it [24:06,  1.19it/s]"
     ]
    },
    {
     "name": "stdout",
     "output_type": "stream",
     "text": [
      "생성된 문장이 규칙을 따르지 않습니다. 단어: and\n"
     ]
    },
    {
     "name": "stderr",
     "output_type": "stream",
     "text": [
      "1716it [24:07,  1.16it/s]"
     ]
    },
    {
     "name": "stdout",
     "output_type": "stream",
     "text": [
      "생성된 문장이 규칙을 따르지 않습니다. 단어: of\n"
     ]
    },
    {
     "name": "stderr",
     "output_type": "stream",
     "text": [
      "1717it [24:07,  1.15it/s]"
     ]
    },
    {
     "name": "stdout",
     "output_type": "stream",
     "text": [
      "Let's go to the subway station. to\n"
     ]
    },
    {
     "name": "stderr",
     "output_type": "stream",
     "text": [
      "1718it [24:08,  1.18it/s]"
     ]
    },
    {
     "name": "stdout",
     "output_type": "stream",
     "text": [
      "생성된 문장이 규칙을 따르지 않습니다. 단어: with\n"
     ]
    },
    {
     "name": "stderr",
     "output_type": "stream",
     "text": [
      "1719it [24:09,  1.15it/s]"
     ]
    },
    {
     "name": "stdout",
     "output_type": "stream",
     "text": [
      "생성된 문장이 규칙을 따르지 않습니다. 단어: which\n"
     ]
    },
    {
     "name": "stderr",
     "output_type": "stream",
     "text": [
      "1720it [24:10,  1.16it/s]"
     ]
    },
    {
     "name": "stdout",
     "output_type": "stream",
     "text": [
      "생성된 문장이 규칙을 따르지 않습니다. 단어: unique\n"
     ]
    },
    {
     "name": "stderr",
     "output_type": "stream",
     "text": [
      "1721it [24:11,  1.15it/s]"
     ]
    },
    {
     "name": "stdout",
     "output_type": "stream",
     "text": [
      "생성된 문장이 규칙을 따르지 않습니다. 단어: possess\n"
     ]
    },
    {
     "name": "stderr",
     "output_type": "stream",
     "text": [
      "1722it [24:12,  1.19it/s]"
     ]
    },
    {
     "name": "stdout",
     "output_type": "stream",
     "text": [
      "생성된 문장이 규칙을 따르지 않습니다. 단어: insist\n"
     ]
    },
    {
     "name": "stderr",
     "output_type": "stream",
     "text": [
      "1723it [24:12,  1.21it/s]"
     ]
    },
    {
     "name": "stdout",
     "output_type": "stream",
     "text": [
      "생성된 문장이 규칙을 따르지 않습니다. 단어: it\n"
     ]
    },
    {
     "name": "stderr",
     "output_type": "stream",
     "text": [
      "1724it [24:14,  1.06it/s]"
     ]
    },
    {
     "name": "stdout",
     "output_type": "stream",
     "text": [
      "생성된 문장이 규칙을 따르지 않습니다. 단어: that\n"
     ]
    },
    {
     "name": "stderr",
     "output_type": "stream",
     "text": [
      "1725it [24:15,  1.09it/s]"
     ]
    },
    {
     "name": "stdout",
     "output_type": "stream",
     "text": [
      "생성된 문장이 규칙을 따르지 않습니다. 단어: these\n"
     ]
    },
    {
     "name": "stderr",
     "output_type": "stream",
     "text": [
      "1726it [24:15,  1.11it/s]"
     ]
    },
    {
     "name": "stdout",
     "output_type": "stream",
     "text": [
      "Go along this way and talk about it. this\n"
     ]
    },
    {
     "name": "stderr",
     "output_type": "stream",
     "text": [
      "1727it [24:16,  1.13it/s]"
     ]
    },
    {
     "name": "stdout",
     "output_type": "stream",
     "text": [
      "생성된 문장이 규칙을 따르지 않습니다. 단어: those\n"
     ]
    },
    {
     "name": "stderr",
     "output_type": "stream",
     "text": [
      "1728it [24:17,  1.10it/s]"
     ]
    },
    {
     "name": "stdout",
     "output_type": "stream",
     "text": [
      "생성된 문장이 규칙을 따르지 않습니다. 단어: keep\n"
     ]
    },
    {
     "name": "stderr",
     "output_type": "stream",
     "text": [
      "1729it [24:18,  1.14it/s]"
     ]
    },
    {
     "name": "stdout",
     "output_type": "stream",
     "text": [
      "I can walk and look at cans. can\n"
     ]
    },
    {
     "name": "stderr",
     "output_type": "stream",
     "text": [
      "1730it [24:19,  1.12it/s]"
     ]
    },
    {
     "name": "stdout",
     "output_type": "stream",
     "text": [
      "The teacher asked whose paintbrush is it. whose\n"
     ]
    },
    {
     "name": "stderr",
     "output_type": "stream",
     "text": [
      "1731it [24:20,  1.11it/s]"
     ]
    },
    {
     "name": "stdout",
     "output_type": "stream",
     "text": [
      "생성된 문장이 규칙을 따르지 않습니다. 단어: personal\n"
     ]
    },
    {
     "name": "stderr",
     "output_type": "stream",
     "text": [
      "1732it [24:21,  1.11it/s]"
     ]
    },
    {
     "name": "stdout",
     "output_type": "stream",
     "text": [
      "생성된 문장이 규칙을 따르지 않습니다. 단어: set\n"
     ]
    },
    {
     "name": "stderr",
     "output_type": "stream",
     "text": [
      "1733it [24:22,  1.10it/s]"
     ]
    },
    {
     "name": "stdout",
     "output_type": "stream",
     "text": [
      "생성된 문장이 규칙을 따르지 않습니다. 단어: owner\n"
     ]
    },
    {
     "name": "stderr",
     "output_type": "stream",
     "text": [
      "1734it [24:23,  1.14it/s]"
     ]
    },
    {
     "name": "stdout",
     "output_type": "stream",
     "text": [
      "We are friends and I am tired. I\n"
     ]
    },
    {
     "name": "stderr",
     "output_type": "stream",
     "text": [
      "1735it [24:23,  1.14it/s]"
     ]
    },
    {
     "name": "stdout",
     "output_type": "stream",
     "text": [
      "생성된 문장이 규칙을 따르지 않습니다. 단어: you\n"
     ]
    },
    {
     "name": "stderr",
     "output_type": "stream",
     "text": [
      "1736it [24:24,  1.17it/s]"
     ]
    },
    {
     "name": "stdout",
     "output_type": "stream",
     "text": [
      "생성된 문장이 규칙을 따르지 않습니다. 단어: what\n"
     ]
    },
    {
     "name": "stderr",
     "output_type": "stream",
     "text": [
      "1737it [24:25,  1.11it/s]"
     ]
    },
    {
     "name": "stdout",
     "output_type": "stream",
     "text": [
      "생성된 문장이 규칙을 따르지 않습니다. 단어: nickname\n"
     ]
    },
    {
     "name": "stderr",
     "output_type": "stream",
     "text": [
      "1738it [24:26,  1.14it/s]"
     ]
    },
    {
     "name": "stdout",
     "output_type": "stream",
     "text": [
      "I can do anything for you. any\n"
     ]
    },
    {
     "name": "stderr",
     "output_type": "stream",
     "text": [
      "1739it [24:27,  1.14it/s]"
     ]
    },
    {
     "name": "stdout",
     "output_type": "stream",
     "text": [
      "생성된 문장이 규칙을 따르지 않습니다. 단어: Let’s\n"
     ]
    },
    {
     "name": "stderr",
     "output_type": "stream",
     "text": [
      "1740it [24:28,  1.19it/s]"
     ]
    },
    {
     "name": "stdout",
     "output_type": "stream",
     "text": [
      "Football is my favorite sport. favorite\n"
     ]
    },
    {
     "name": "stderr",
     "output_type": "stream",
     "text": [
      "1741it [24:29,  1.12it/s]"
     ]
    },
    {
     "name": "stdout",
     "output_type": "stream",
     "text": [
      "생성된 문장이 규칙을 따르지 않습니다. 단어: follow\n"
     ]
    },
    {
     "name": "stderr",
     "output_type": "stream",
     "text": [
      "1742it [24:30,  1.09it/s]"
     ]
    },
    {
     "name": "stdout",
     "output_type": "stream",
     "text": [
      "생성된 문장이 규칙을 따르지 않습니다. 단어: chase\n"
     ]
    },
    {
     "name": "stderr",
     "output_type": "stream",
     "text": [
      "1743it [24:31,  1.09it/s]"
     ]
    },
    {
     "name": "stdout",
     "output_type": "stream",
     "text": [
      "Let's meet there nice to meet you. meet\n"
     ]
    },
    {
     "name": "stderr",
     "output_type": "stream",
     "text": [
      "1744it [24:31,  1.18it/s]"
     ]
    },
    {
     "name": "stdout",
     "output_type": "stream",
     "text": [
      "You like cake and curry. like\n"
     ]
    },
    {
     "name": "stderr",
     "output_type": "stream",
     "text": [
      "1745it [24:32,  1.19it/s]"
     ]
    },
    {
     "name": "stdout",
     "output_type": "stream",
     "text": [
      "생성된 문장이 규칙을 따르지 않습니다. 단어: belong to\n"
     ]
    },
    {
     "name": "stderr",
     "output_type": "stream",
     "text": [
      "1746it [24:33,  1.17it/s]"
     ]
    },
    {
     "name": "stdout",
     "output_type": "stream",
     "text": [
      "생성된 문장이 규칙을 따르지 않습니다. 단어: consist of\n"
     ]
    },
    {
     "name": "stderr",
     "output_type": "stream",
     "text": [
      "1747it [24:34,  1.19it/s]"
     ]
    },
    {
     "name": "stdout",
     "output_type": "stream",
     "text": [
      "생성된 문장이 규칙을 따르지 않습니다. 단어: rely on\n"
     ]
    },
    {
     "name": "stderr",
     "output_type": "stream",
     "text": [
      "1748it [24:34,  1.26it/s]"
     ]
    },
    {
     "name": "stdout",
     "output_type": "stream",
     "text": [
      "생성된 문장이 규칙을 따르지 않습니다. 단어: harden\n"
     ]
    },
    {
     "name": "stderr",
     "output_type": "stream",
     "text": [
      "1749it [24:35,  1.29it/s]"
     ]
    },
    {
     "name": "stdout",
     "output_type": "stream",
     "text": [
      "생성된 문장이 규칙을 따르지 않습니다. 단어: claim\n"
     ]
    },
    {
     "name": "stderr",
     "output_type": "stream",
     "text": [
      "1750it [24:36,  1.26it/s]"
     ]
    },
    {
     "name": "stdout",
     "output_type": "stream",
     "text": [
      "생성된 문장이 규칙을 따르지 않습니다. 단어: guarantee\n"
     ]
    },
    {
     "name": "stderr",
     "output_type": "stream",
     "text": [
      "1751it [24:39,  1.36s/it]"
     ]
    },
    {
     "name": "stdout",
     "output_type": "stream",
     "text": [
      "생성된 문장이 규칙을 따르지 않습니다. 단어: also\n"
     ]
    },
    {
     "name": "stderr",
     "output_type": "stream",
     "text": [
      "1752it [24:39,  1.19s/it]"
     ]
    },
    {
     "name": "stdout",
     "output_type": "stream",
     "text": [
      "The list includes **her** name. include\n"
     ]
    },
    {
     "name": "stderr",
     "output_type": "stream",
     "text": [
      "1753it [24:41,  1.15s/it]"
     ]
    },
    {
     "name": "stdout",
     "output_type": "stream",
     "text": [
      "생성된 문장이 규칙을 따르지 않습니다. 단어: instead\n"
     ]
    },
    {
     "name": "stderr",
     "output_type": "stream",
     "text": [
      "1754it [24:42,  1.10s/it]"
     ]
    },
    {
     "name": "stdout",
     "output_type": "stream",
     "text": [
      "생성된 문장이 규칙을 따르지 않습니다. 단어: succeed\n"
     ]
    },
    {
     "name": "stderr",
     "output_type": "stream",
     "text": [
      "1755it [24:42,  1.06s/it]"
     ]
    },
    {
     "name": "stdout",
     "output_type": "stream",
     "text": [
      "생성된 문장이 규칙을 따르지 않습니다. 단어: achieve\n"
     ]
    },
    {
     "name": "stderr",
     "output_type": "stream",
     "text": [
      "1756it [24:43,  1.02s/it]"
     ]
    },
    {
     "name": "stdout",
     "output_type": "stream",
     "text": [
      "생성된 문장이 규칙을 따르지 않습니다. 단어: ambitious\n"
     ]
    },
    {
     "name": "stderr",
     "output_type": "stream",
     "text": [
      "1757it [24:44,  1.00s/it]"
     ]
    },
    {
     "name": "stdout",
     "output_type": "stream",
     "text": [
      "I go to church to pray and touch my hand. pray\n"
     ]
    },
    {
     "name": "stderr",
     "output_type": "stream",
     "text": [
      "1758it [24:45,  1.08it/s]"
     ]
    },
    {
     "name": "stdout",
     "output_type": "stream",
     "text": [
      "생성된 문장이 규칙을 따르지 않습니다. 단어: proceed\n"
     ]
    },
    {
     "name": "stderr",
     "output_type": "stream",
     "text": [
      "1759it [24:46,  1.12it/s]"
     ]
    },
    {
     "name": "stdout",
     "output_type": "stream",
     "text": [
      "생성된 문장이 규칙을 따르지 않습니다. 단어: improve\n"
     ]
    },
    {
     "name": "stderr",
     "output_type": "stream",
     "text": [
      "1760it [24:47,  1.07it/s]"
     ]
    },
    {
     "name": "stdout",
     "output_type": "stream",
     "text": [
      "생성된 문장이 규칙을 따르지 않습니다. 단어: become\n"
     ]
    },
    {
     "name": "stderr",
     "output_type": "stream",
     "text": [
      "1761it [24:48,  1.13it/s]"
     ]
    },
    {
     "name": "stdout",
     "output_type": "stream",
     "text": [
      "I have nothing behind my back. nothing\n"
     ]
    },
    {
     "name": "stderr",
     "output_type": "stream",
     "text": [
      "1762it [24:49,  1.16it/s]"
     ]
    },
    {
     "name": "stdout",
     "output_type": "stream",
     "text": [
      "I can do anything for you. anything\n"
     ]
    },
    {
     "name": "stderr",
     "output_type": "stream",
     "text": [
      "1763it [24:49,  1.20it/s]"
     ]
    },
    {
     "name": "stdout",
     "output_type": "stream",
     "text": [
      "생성된 문장이 규칙을 따르지 않습니다. 단어: everything\n"
     ]
    },
    {
     "name": "stderr",
     "output_type": "stream",
     "text": [
      "1764it [24:50,  1.24it/s]"
     ]
    },
    {
     "name": "stdout",
     "output_type": "stream",
     "text": [
      "생성된 문장이 규칙을 따르지 않습니다. 단어: something\n"
     ]
    },
    {
     "name": "stderr",
     "output_type": "stream",
     "text": [
      "1765it [24:51,  1.24it/s]"
     ]
    },
    {
     "name": "stdout",
     "output_type": "stream",
     "text": [
      "We are dancers and she can dance. dance\n"
     ]
    },
    {
     "name": "stderr",
     "output_type": "stream",
     "text": [
      "1766it [24:52,  1.26it/s]"
     ]
    },
    {
     "name": "stdout",
     "output_type": "stream",
     "text": [
      "We are dancers and she can dance. dancer\n"
     ]
    },
    {
     "name": "stderr",
     "output_type": "stream",
     "text": [
      "1767it [24:53,  1.22it/s]"
     ]
    },
    {
     "name": "stdout",
     "output_type": "stream",
     "text": [
      "I'm shaking a shake, touch your leg. shake\n"
     ]
    },
    {
     "name": "stderr",
     "output_type": "stream",
     "text": [
      "1768it [24:53,  1.23it/s]"
     ]
    },
    {
     "name": "stdout",
     "output_type": "stream",
     "text": [
      "생성된 문장이 규칙을 따르지 않습니다. 단어: motion\n"
     ]
    },
    {
     "name": "stderr",
     "output_type": "stream",
     "text": [
      "1769it [24:54,  1.23it/s]"
     ]
    },
    {
     "name": "stdout",
     "output_type": "stream",
     "text": [
      "I like skiing and I will go. ski\n"
     ]
    },
    {
     "name": "stderr",
     "output_type": "stream",
     "text": [
      "1770it [24:55,  1.26it/s]"
     ]
    },
    {
     "name": "stdout",
     "output_type": "stream",
     "text": [
      "I like skiing and hiking in mountains. skiing\n"
     ]
    },
    {
     "name": "stderr",
     "output_type": "stream",
     "text": [
      "1771it [24:56,  1.22it/s]"
     ]
    },
    {
     "name": "stdout",
     "output_type": "stream",
     "text": [
      "I like lions and I see a zebra. lion\n"
     ]
    },
    {
     "name": "stderr",
     "output_type": "stream",
     "text": [
      "1772it [24:57,  1.19it/s]"
     ]
    },
    {
     "name": "stdout",
     "output_type": "stream",
     "text": [
      "Look at the tiger near the elephant. tiger\n"
     ]
    },
    {
     "name": "stderr",
     "output_type": "stream",
     "text": [
      "1773it [24:57,  1.21it/s]"
     ]
    },
    {
     "name": "stdout",
     "output_type": "stream",
     "text": [
      "This goat is actually black. goat\n"
     ]
    },
    {
     "name": "stderr",
     "output_type": "stream",
     "text": [
      "1774it [24:58,  1.15it/s]"
     ]
    },
    {
     "name": "stdout",
     "output_type": "stream",
     "text": [
      "I like giraffes more than zebras. giraffe\n"
     ]
    },
    {
     "name": "stderr",
     "output_type": "stream",
     "text": [
      "1775it [24:59,  1.18it/s]"
     ]
    },
    {
     "name": "stdout",
     "output_type": "stream",
     "text": [
      "I like kangaroos. kangaroo\n"
     ]
    },
    {
     "name": "stderr",
     "output_type": "stream",
     "text": [
      "1776it [25:00,  1.17it/s]"
     ]
    },
    {
     "name": "stdout",
     "output_type": "stream",
     "text": [
      "It's a mouse holding your pencil. mouse\n"
     ]
    },
    {
     "name": "stderr",
     "output_type": "stream",
     "text": [
      "1777it [25:01,  1.14it/s]"
     ]
    },
    {
     "name": "stdout",
     "output_type": "stream",
     "text": [
      "Look at the elephant with It’s a zebra. zebra\n"
     ]
    },
    {
     "name": "stderr",
     "output_type": "stream",
     "text": [
      "1778it [25:02,  1.13it/s]"
     ]
    },
    {
     "name": "stdout",
     "output_type": "stream",
     "text": [
      "They see pink dolphins in the ocean. dolphin\n"
     ]
    },
    {
     "name": "stderr",
     "output_type": "stream",
     "text": [
      "1779it [25:03,  1.12it/s]"
     ]
    },
    {
     "name": "stdout",
     "output_type": "stream",
     "text": [
      "I see the zoo from my house. zoo\n"
     ]
    },
    {
     "name": "stderr",
     "output_type": "stream",
     "text": [
      "1780it [25:04,  1.13it/s]"
     ]
    },
    {
     "name": "stdout",
     "output_type": "stream",
     "text": [
      "The teddy bear is so big. bear\n"
     ]
    },
    {
     "name": "stderr",
     "output_type": "stream",
     "text": [
      "1781it [25:05,  1.10it/s]"
     ]
    },
    {
     "name": "stdout",
     "output_type": "stream",
     "text": [
      "Look at the elephant; it contains a zebra. elephant\n"
     ]
    },
    {
     "name": "stderr",
     "output_type": "stream",
     "text": [
      "1782it [25:05,  1.17it/s]"
     ]
    },
    {
     "name": "stdout",
     "output_type": "stream",
     "text": [
      "The turtle is slow downstairs. turtle\n"
     ]
    },
    {
     "name": "stderr",
     "output_type": "stream",
     "text": [
      "1783it [25:06,  1.12it/s]"
     ]
    },
    {
     "name": "stdout",
     "output_type": "stream",
     "text": [
      "One snail is slower than the other two. snail\n"
     ]
    },
    {
     "name": "stderr",
     "output_type": "stream",
     "text": [
      "1784it [25:07,  1.12it/s]"
     ]
    },
    {
     "name": "stdout",
     "output_type": "stream",
     "text": [
      "생성된 문장이 규칙을 따르지 않습니다. 단어: octopus\n"
     ]
    },
    {
     "name": "stderr",
     "output_type": "stream",
     "text": [
      "1785it [25:08,  1.18it/s]"
     ]
    },
    {
     "name": "stdout",
     "output_type": "stream",
     "text": [
      "I like frogs and elephants too. frog\n"
     ]
    },
    {
     "name": "stderr",
     "output_type": "stream",
     "text": [
      "1786it [25:09,  1.19it/s]"
     ]
    },
    {
     "name": "stdout",
     "output_type": "stream",
     "text": [
      "I don’t like big spiders. spider\n"
     ]
    },
    {
     "name": "stderr",
     "output_type": "stream",
     "text": [
      "1787it [25:10,  1.15it/s]"
     ]
    },
    {
     "name": "stdout",
     "output_type": "stream",
     "text": [
      "Look at the ants dragging a petal. ant\n"
     ]
    },
    {
     "name": "stderr",
     "output_type": "stream",
     "text": [
      "1788it [25:10,  1.24it/s]"
     ]
    },
    {
     "name": "stdout",
     "output_type": "stream",
     "text": [
      "Look at the snakes. snake\n"
     ]
    },
    {
     "name": "stderr",
     "output_type": "stream",
     "text": [
      "1789it [25:11,  1.13it/s]"
     ]
    },
    {
     "name": "stdout",
     "output_type": "stream",
     "text": [
      "생성된 문장이 규칙을 따르지 않습니다. 단어: Mrs.\n"
     ]
    },
    {
     "name": "stderr",
     "output_type": "stream",
     "text": [
      "1790it [25:12,  1.22it/s]"
     ]
    },
    {
     "name": "stdout",
     "output_type": "stream",
     "text": [
      "생성된 문장이 규칙을 따르지 않습니다. 단어: Ms.\n"
     ]
    },
    {
     "name": "stderr",
     "output_type": "stream",
     "text": [
      "1791it [25:13,  1.18it/s]"
     ]
    },
    {
     "name": "stdout",
     "output_type": "stream",
     "text": [
      "생성된 문장이 규칙을 따르지 않습니다. 단어: miss\n"
     ]
    },
    {
     "name": "stderr",
     "output_type": "stream",
     "text": [
      "1792it [25:14,  1.17it/s]"
     ]
    },
    {
     "name": "stdout",
     "output_type": "stream",
     "text": [
      "Mr. Watson is a kind gentleman. Mr.\n"
     ]
    },
    {
     "name": "stderr",
     "output_type": "stream",
     "text": [
      "1793it [25:15,  1.22it/s]"
     ]
    },
    {
     "name": "stdout",
     "output_type": "stream",
     "text": [
      "생성된 문장이 규칙을 따르지 않습니다. 단어: them\n"
     ]
    },
    {
     "name": "stderr",
     "output_type": "stream",
     "text": [
      "1794it [25:16,  1.20it/s]"
     ]
    },
    {
     "name": "stdout",
     "output_type": "stream",
     "text": [
      "They are poor, but they have nice pencils. they\n"
     ]
    },
    {
     "name": "stderr",
     "output_type": "stream",
     "text": [
      "1795it [25:16,  1.26it/s]"
     ]
    },
    {
     "name": "stdout",
     "output_type": "stream",
     "text": [
      "생성된 문장이 규칙을 따르지 않습니다. 단어: go up\n"
     ]
    },
    {
     "name": "stderr",
     "output_type": "stream",
     "text": [
      "1796it [25:17,  1.22it/s]"
     ]
    },
    {
     "name": "stdout",
     "output_type": "stream",
     "text": [
      "Sit down, I'm at home waiting. down\n"
     ]
    },
    {
     "name": "stderr",
     "output_type": "stream",
     "text": [
      "1797it [25:18,  1.24it/s]"
     ]
    },
    {
     "name": "stdout",
     "output_type": "stream",
     "text": [
      "Stand up and walk up this street. up\n"
     ]
    },
    {
     "name": "stderr",
     "output_type": "stream",
     "text": [
      "1798it [25:19,  1.21it/s]"
     ]
    },
    {
     "name": "stdout",
     "output_type": "stream",
     "text": [
      "생성된 문장이 규칙을 따르지 않습니다. 단어: high\n"
     ]
    },
    {
     "name": "stderr",
     "output_type": "stream",
     "text": [
      "1799it [25:20,  1.20it/s]"
     ]
    },
    {
     "name": "stdout",
     "output_type": "stream",
     "text": [
      "Let's switch the switches at home tonight. on\n"
     ]
    },
    {
     "name": "stderr",
     "output_type": "stream",
     "text": [
      "1800it [25:20,  1.20it/s]"
     ]
    },
    {
     "name": "stdout",
     "output_type": "stream",
     "text": [
      "생성된 문장이 규칙을 따르지 않습니다. 단어: open\n"
     ]
    },
    {
     "name": "stderr",
     "output_type": "stream",
     "text": [
      "1801it [25:21,  1.17it/s]"
     ]
    },
    {
     "name": "stdout",
     "output_type": "stream",
     "text": [
      "I won first prize in the contest. prize\n"
     ]
    },
    {
     "name": "stderr",
     "output_type": "stream",
     "text": [
      "1802it [25:22,  1.16it/s]"
     ]
    },
    {
     "name": "stdout",
     "output_type": "stream",
     "text": [
      "Hard work brings its own special rewards. reward\n"
     ]
    },
    {
     "name": "stderr",
     "output_type": "stream",
     "text": [
      "1803it [25:23,  1.15it/s]"
     ]
    },
    {
     "name": "stdout",
     "output_type": "stream",
     "text": [
      "생성된 문장이 규칙을 따르지 않습니다. 단어: award\n"
     ]
    },
    {
     "name": "stderr",
     "output_type": "stream",
     "text": [
      "1804it [25:24,  1.15it/s]"
     ]
    },
    {
     "name": "stdout",
     "output_type": "stream",
     "text": [
      "I have two tickets and I bought them. ticket\n"
     ]
    },
    {
     "name": "stderr",
     "output_type": "stream",
     "text": [
      "1805it [25:25,  1.14it/s]"
     ]
    },
    {
     "name": "stdout",
     "output_type": "stream",
     "text": [
      "생성된 문장이 규칙을 따르지 않습니다. 단어: souvenir\n"
     ]
    },
    {
     "name": "stderr",
     "output_type": "stream",
     "text": [
      "1806it [25:26,  1.15it/s]"
     ]
    },
    {
     "name": "stdout",
     "output_type": "stream",
     "text": [
      "생성된 문장이 규칙을 따르지 않습니다. 단어: receipt\n"
     ]
    },
    {
     "name": "stderr",
     "output_type": "stream",
     "text": [
      "1807it [25:27,  1.15it/s]"
     ]
    },
    {
     "name": "stdout",
     "output_type": "stream",
     "text": [
      "The paintbrush belongs to my aunt. paintbrush\n"
     ]
    },
    {
     "name": "stderr",
     "output_type": "stream",
     "text": [
      "1808it [25:28,  1.13it/s]"
     ]
    },
    {
     "name": "stdout",
     "output_type": "stream",
     "text": [
      "My uncle's paintbrush is very old. paint\n"
     ]
    },
    {
     "name": "stderr",
     "output_type": "stream",
     "text": [
      "1809it [25:28,  1.12it/s]"
     ]
    },
    {
     "name": "stdout",
     "output_type": "stream",
     "text": [
      "I agree with what you think is right. agree\n"
     ]
    },
    {
     "name": "stderr",
     "output_type": "stream",
     "text": [
      "1810it [25:29,  1.12it/s]"
     ]
    },
    {
     "name": "stdout",
     "output_type": "stream",
     "text": [
      "생성된 문장이 규칙을 따르지 않습니다. 단어: disagree\n"
     ]
    },
    {
     "name": "stderr",
     "output_type": "stream",
     "text": [
      "1811it [25:30,  1.20it/s]"
     ]
    },
    {
     "name": "stdout",
     "output_type": "stream",
     "text": [
      "I agree with you both. agree with\n"
     ]
    },
    {
     "name": "stderr",
     "output_type": "stream",
     "text": [
      "1812it [25:31,  1.23it/s]"
     ]
    },
    {
     "name": "stdout",
     "output_type": "stream",
     "text": [
      "I think it's really true. true\n"
     ]
    },
    {
     "name": "stderr",
     "output_type": "stream",
     "text": [
      "1813it [25:32,  1.23it/s]"
     ]
    },
    {
     "name": "stdout",
     "output_type": "stream",
     "text": [
      "생성된 문장이 규칙을 따르지 않습니다. 단어: fair\n"
     ]
    },
    {
     "name": "stderr",
     "output_type": "stream",
     "text": [
      "1814it [25:32,  1.30it/s]"
     ]
    },
    {
     "name": "stdout",
     "output_type": "stream",
     "text": [
      "생성된 문장이 규칙을 따르지 않습니다. 단어: especially\n"
     ]
    },
    {
     "name": "stderr",
     "output_type": "stream",
     "text": [
      "1815it [25:33,  1.26it/s]"
     ]
    },
    {
     "name": "stdout",
     "output_type": "stream",
     "text": [
      "생성된 문장이 규칙을 따르지 않습니다. 단어: congratulate\n"
     ]
    },
    {
     "name": "stderr",
     "output_type": "stream",
     "text": [
      "1816it [25:34,  1.29it/s]"
     ]
    },
    {
     "name": "stdout",
     "output_type": "stream",
     "text": [
      "생성된 문장이 규칙을 따르지 않습니다. 단어: congratulation\n"
     ]
    },
    {
     "name": "stderr",
     "output_type": "stream",
     "text": [
      "1817it [25:35,  1.23it/s]"
     ]
    },
    {
     "name": "stdout",
     "output_type": "stream",
     "text": [
      "생성된 문장이 규칙을 따르지 않습니다. 단어: examination\n"
     ]
    },
    {
     "name": "stderr",
     "output_type": "stream",
     "text": [
      "1818it [25:36,  1.17it/s]"
     ]
    },
    {
     "name": "stdout",
     "output_type": "stream",
     "text": [
      "Let me examine your teeth. Look at the sky. examine\n"
     ]
    },
    {
     "name": "stderr",
     "output_type": "stream",
     "text": [
      "1819it [25:37,  1.15it/s]"
     ]
    },
    {
     "name": "stdout",
     "output_type": "stream",
     "text": [
      "I like to study in the library. study\n"
     ]
    },
    {
     "name": "stderr",
     "output_type": "stream",
     "text": [
      "1820it [25:37,  1.14it/s]"
     ]
    },
    {
     "name": "stdout",
     "output_type": "stream",
     "text": [
      "I reviewed the book before the test. test\n"
     ]
    },
    {
     "name": "stderr",
     "output_type": "stream",
     "text": [
      "1821it [25:38,  1.15it/s]"
     ]
    },
    {
     "name": "stdout",
     "output_type": "stream",
     "text": [
      "I scanned the boy from top to bottom. scan\n"
     ]
    },
    {
     "name": "stderr",
     "output_type": "stream",
     "text": [
      "1822it [25:39,  1.18it/s]"
     ]
    },
    {
     "name": "stdout",
     "output_type": "stream",
     "text": [
      "Scientists perform many experiments daily. experiment\n"
     ]
    },
    {
     "name": "stderr",
     "output_type": "stream",
     "text": [
      "1823it [25:40,  1.14it/s]"
     ]
    },
    {
     "name": "stdout",
     "output_type": "stream",
     "text": [
      "생성된 문장이 규칙을 따르지 않습니다. 단어: graduate\n"
     ]
    },
    {
     "name": "stderr",
     "output_type": "stream",
     "text": [
      "1824it [25:41,  1.08it/s]"
     ]
    },
    {
     "name": "stdout",
     "output_type": "stream",
     "text": [
      "생성된 문장이 규칙을 따르지 않습니다. 단어: graduate from\n"
     ]
    },
    {
     "name": "stderr",
     "output_type": "stream",
     "text": [
      "1825it [25:42,  1.17it/s]"
     ]
    },
    {
     "name": "stdout",
     "output_type": "stream",
     "text": [
      "생성된 문장이 규칙을 따르지 않습니다. 단어: dislike\n"
     ]
    },
    {
     "name": "stderr",
     "output_type": "stream",
     "text": [
      "1826it [25:43,  1.19it/s]"
     ]
    },
    {
     "name": "stdout",
     "output_type": "stream",
     "text": [
      "생성된 문장이 규칙을 따르지 않습니다. 단어: hate\n"
     ]
    },
    {
     "name": "stderr",
     "output_type": "stream",
     "text": [
      "1827it [25:43,  1.18it/s]"
     ]
    },
    {
     "name": "stdout",
     "output_type": "stream",
     "text": [
      "생성된 문장이 규칙을 따르지 않습니다. 단어: prejudice\n"
     ]
    },
    {
     "name": "stderr",
     "output_type": "stream",
     "text": [
      "1828it [25:44,  1.17it/s]"
     ]
    },
    {
     "name": "stdout",
     "output_type": "stream",
     "text": [
      "The bus stop is small and big. bus stop\n"
     ]
    },
    {
     "name": "stderr",
     "output_type": "stream",
     "text": [
      "1829it [25:45,  1.16it/s]"
     ]
    },
    {
     "name": "stdout",
     "output_type": "stream",
     "text": [
      "생성된 문장이 규칙을 따르지 않습니다. 단어: subway station\n"
     ]
    },
    {
     "name": "stderr",
     "output_type": "stream",
     "text": [
      "1830it [25:46,  1.17it/s]"
     ]
    },
    {
     "name": "stdout",
     "output_type": "stream",
     "text": [
      "The train station is on the left side. train station\n"
     ]
    },
    {
     "name": "stderr",
     "output_type": "stream",
     "text": [
      "1831it [25:47,  1.14it/s]"
     ]
    },
    {
     "name": "stdout",
     "output_type": "stream",
     "text": [
      "The bus is big and I am driving. bus\n"
     ]
    },
    {
     "name": "stderr",
     "output_type": "stream",
     "text": [
      "1832it [25:48,  1.10it/s]"
     ]
    },
    {
     "name": "stdout",
     "output_type": "stream",
     "text": [
      "I have lunch and let's take the subway. subway\n"
     ]
    },
    {
     "name": "stderr",
     "output_type": "stream",
     "text": [
      "1833it [25:49,  1.11it/s]"
     ]
    },
    {
     "name": "stdout",
     "output_type": "stream",
     "text": [
      "생성된 문장이 규칙을 따르지 않습니다. 단어: procession\n"
     ]
    },
    {
     "name": "stderr",
     "output_type": "stream",
     "text": [
      "1834it [25:50,  1.08it/s]"
     ]
    },
    {
     "name": "stdout",
     "output_type": "stream",
     "text": [
      "You can use the elevator on your right side. elevator\n"
     ]
    },
    {
     "name": "stderr",
     "output_type": "stream",
     "text": [
      "1835it [25:51,  1.09it/s]"
     ]
    },
    {
     "name": "stdout",
     "output_type": "stream",
     "text": [
      "I parked at the local public park. park\n"
     ]
    },
    {
     "name": "stderr",
     "output_type": "stream",
     "text": [
      "1836it [25:52,  1.12it/s]"
     ]
    },
    {
     "name": "stdout",
     "output_type": "stream",
     "text": [
      "생성된 문장이 규칙을 따르지 않습니다. 단어: passenger\n"
     ]
    },
    {
     "name": "stderr",
     "output_type": "stream",
     "text": [
      "1837it [25:53,  1.11it/s]"
     ]
    },
    {
     "name": "stdout",
     "output_type": "stream",
     "text": [
      "How about going to Buckingham palace after school. palace\n"
     ]
    },
    {
     "name": "stderr",
     "output_type": "stream",
     "text": [
      "1838it [25:53,  1.09it/s]"
     ]
    },
    {
     "name": "stdout",
     "output_type": "stream",
     "text": [
      "We’ve just passed by the downtown subway. downtown\n"
     ]
    },
    {
     "name": "stderr",
     "output_type": "stream",
     "text": [
      "1839it [25:54,  1.09it/s]"
     ]
    },
    {
     "name": "stdout",
     "output_type": "stream",
     "text": [
      "There is a map on the wall. map\n"
     ]
    },
    {
     "name": "stderr",
     "output_type": "stream",
     "text": [
      "1840it [25:55,  1.13it/s]"
     ]
    },
    {
     "name": "stdout",
     "output_type": "stream",
     "text": [
      "We're at the playground. playground\n"
     ]
    },
    {
     "name": "stderr",
     "output_type": "stream",
     "text": [
      "1841it [25:56,  1.12it/s]"
     ]
    },
    {
     "name": "stdout",
     "output_type": "stream",
     "text": [
      "Let's take a taxi and ride it. taxi\n"
     ]
    },
    {
     "name": "stderr",
     "output_type": "stream",
     "text": [
      "1842it [25:57,  1.11it/s]"
     ]
    },
    {
     "name": "stdout",
     "output_type": "stream",
     "text": [
      "Let's go to the post office. post office\n"
     ]
    },
    {
     "name": "stderr",
     "output_type": "stream",
     "text": [
      "1843it [25:58,  1.06it/s]"
     ]
    },
    {
     "name": "stdout",
     "output_type": "stream",
     "text": [
      "생성된 문장이 규칙을 따르지 않습니다. 단어: mail carrier\n"
     ]
    },
    {
     "name": "stderr",
     "output_type": "stream",
     "text": [
      "1844it [25:59,  1.07it/s]"
     ]
    },
    {
     "name": "stdout",
     "output_type": "stream",
     "text": [
      "She collects stamps and goes to the post office. stamp\n"
     ]
    },
    {
     "name": "stderr",
     "output_type": "stream",
     "text": [
      "1845it [26:00,  1.07it/s]"
     ]
    },
    {
     "name": "stdout",
     "output_type": "stream",
     "text": [
      "생성된 문장이 규칙을 따르지 않습니다. 단어: address\n"
     ]
    },
    {
     "name": "stderr",
     "output_type": "stream",
     "text": [
      "1846it [26:01,  1.11it/s]"
     ]
    },
    {
     "name": "stdout",
     "output_type": "stream",
     "text": [
      "생성된 문장이 규칙을 따르지 않습니다. 단어: helpful\n"
     ]
    },
    {
     "name": "stderr",
     "output_type": "stream",
     "text": [
      "1847it [26:02,  1.12it/s]"
     ]
    },
    {
     "name": "stdout",
     "output_type": "stream",
     "text": [
      "Don’t waste money on useless things. useless\n"
     ]
    },
    {
     "name": "stderr",
     "output_type": "stream",
     "text": [
      "1848it [26:02,  1.17it/s]"
     ]
    },
    {
     "name": "stdout",
     "output_type": "stream",
     "text": [
      "생성된 문장이 규칙을 따르지 않습니다. 단어: useful\n"
     ]
    },
    {
     "name": "stderr",
     "output_type": "stream",
     "text": [
      "1849it [26:03,  1.17it/s]"
     ]
    },
    {
     "name": "stdout",
     "output_type": "stream",
     "text": [
      "생성된 문장이 규칙을 따르지 않습니다. 단어: important\n"
     ]
    },
    {
     "name": "stderr",
     "output_type": "stream",
     "text": [
      "1850it [26:04,  1.10it/s]"
     ]
    },
    {
     "name": "stdout",
     "output_type": "stream",
     "text": [
      "Don't waste money on useless things like smart phones. use\n"
     ]
    },
    {
     "name": "stderr",
     "output_type": "stream",
     "text": [
      "1851it [26:05,  1.11it/s]"
     ]
    },
    {
     "name": "stdout",
     "output_type": "stream",
     "text": [
      "생성된 문장이 규칙을 따르지 않습니다. 단어: benefit\n"
     ]
    },
    {
     "name": "stderr",
     "output_type": "stream",
     "text": [
      "1852it [26:06,  1.12it/s]"
     ]
    },
    {
     "name": "stdout",
     "output_type": "stream",
     "text": [
      "생성된 문장이 규칙을 따르지 않습니다. 단어: misuse\n"
     ]
    },
    {
     "name": "stderr",
     "output_type": "stream",
     "text": [
      "1853it [26:07,  1.09it/s]"
     ]
    },
    {
     "name": "stdout",
     "output_type": "stream",
     "text": [
      "생성된 문장이 규칙을 따르지 않습니다. 단어: hopeful\n"
     ]
    },
    {
     "name": "stderr",
     "output_type": "stream",
     "text": [
      "1854it [26:08,  1.14it/s]"
     ]
    },
    {
     "name": "stdout",
     "output_type": "stream",
     "text": [
      "I hope so we meet again tomorrow. hope\n"
     ]
    },
    {
     "name": "stderr",
     "output_type": "stream",
     "text": [
      "1855it [26:09,  1.10it/s]"
     ]
    },
    {
     "name": "stdout",
     "output_type": "stream",
     "text": [
      "I believe in angles because I have friends like you. believe\n"
     ]
    },
    {
     "name": "stderr",
     "output_type": "stream",
     "text": [
      "1856it [26:09,  1.17it/s]"
     ]
    },
    {
     "name": "stdout",
     "output_type": "stream",
     "text": [
      "생성된 문장이 규칙을 따르지 않습니다. 단어: endless\n"
     ]
    },
    {
     "name": "stderr",
     "output_type": "stream",
     "text": [
      "1857it [26:10,  1.16it/s]"
     ]
    },
    {
     "name": "stdout",
     "output_type": "stream",
     "text": [
      "생성된 문장이 규칙을 따르지 않습니다. 단어: nonstop\n"
     ]
    },
    {
     "name": "stderr",
     "output_type": "stream",
     "text": [
      "1858it [26:11,  1.18it/s]"
     ]
    },
    {
     "name": "stdout",
     "output_type": "stream",
     "text": [
      "생성된 문장이 규칙을 따르지 않습니다. 단어: beyond\n"
     ]
    },
    {
     "name": "stderr",
     "output_type": "stream",
     "text": [
      "1859it [26:12,  1.19it/s]"
     ]
    },
    {
     "name": "stdout",
     "output_type": "stream",
     "text": [
      "생성된 문장이 규칙을 따르지 않습니다. 단어: immortal\n"
     ]
    },
    {
     "name": "stderr",
     "output_type": "stream",
     "text": [
      "1860it [26:13,  1.16it/s]"
     ]
    },
    {
     "name": "stdout",
     "output_type": "stream",
     "text": [
      "생성된 문장이 규칙을 따르지 않습니다. 단어: librarian\n"
     ]
    },
    {
     "name": "stderr",
     "output_type": "stream",
     "text": [
      "1861it [26:14,  1.15it/s]"
     ]
    },
    {
     "name": "stdout",
     "output_type": "stream",
     "text": [
      "생성된 문장이 규칙을 따르지 않습니다. 단어: secretary\n"
     ]
    },
    {
     "name": "stderr",
     "output_type": "stream",
     "text": [
      "1862it [26:15,  1.15it/s]"
     ]
    },
    {
     "name": "stdout",
     "output_type": "stream",
     "text": [
      "I'm going to the library. library\n"
     ]
    },
    {
     "name": "stderr",
     "output_type": "stream",
     "text": [
      "1863it [26:16,  1.12it/s]"
     ]
    },
    {
     "name": "stdout",
     "output_type": "stream",
     "text": [
      "생성된 문장이 규칙을 따르지 않습니다. 단어: clerk\n"
     ]
    },
    {
     "name": "stderr",
     "output_type": "stream",
     "text": [
      "1864it [26:16,  1.14it/s]"
     ]
    },
    {
     "name": "stdout",
     "output_type": "stream",
     "text": [
      "생성된 문장이 규칙을 따르지 않습니다. 단어: bill\n"
     ]
    },
    {
     "name": "stderr",
     "output_type": "stream",
     "text": [
      "1865it [26:17,  1.11it/s]"
     ]
    },
    {
     "name": "stdout",
     "output_type": "stream",
     "text": [
      "The office is between green and pink buildings. office\n"
     ]
    },
    {
     "name": "stderr",
     "output_type": "stream",
     "text": [
      "1866it [26:18,  1.10it/s]"
     ]
    },
    {
     "name": "stdout",
     "output_type": "stream",
     "text": [
      "생성된 문장이 규칙을 따르지 않습니다. 단어: consultant\n"
     ]
    },
    {
     "name": "stderr",
     "output_type": "stream",
     "text": [
      "1867it [26:19,  1.07it/s]"
     ]
    },
    {
     "name": "stdout",
     "output_type": "stream",
     "text": [
      "That is Susan's ruler on the blackboard. ruler\n"
     ]
    },
    {
     "name": "stderr",
     "output_type": "stream",
     "text": [
      "1868it [26:20,  1.07it/s]"
     ]
    },
    {
     "name": "stdout",
     "output_type": "stream",
     "text": [
      "Look at the sun when it's hot. sun\n"
     ]
    },
    {
     "name": "stderr",
     "output_type": "stream",
     "text": [
      "1869it [26:21,  1.09it/s]"
     ]
    },
    {
     "name": "stdout",
     "output_type": "stream",
     "text": [
      "It’s sunny in the morning today. sunny\n"
     ]
    },
    {
     "name": "stderr",
     "output_type": "stream",
     "text": [
      "1870it [26:22,  1.10it/s]"
     ]
    },
    {
     "name": "stdout",
     "output_type": "stream",
     "text": [
      "생성된 문장이 규칙을 따르지 않습니다. 단어: sunshine\n"
     ]
    },
    {
     "name": "stderr",
     "output_type": "stream",
     "text": [
      "1871it [26:23,  1.17it/s]"
     ]
    },
    {
     "name": "stdout",
     "output_type": "stream",
     "text": [
      "생성된 문장이 규칙을 따르지 않습니다. 단어: shine\n"
     ]
    },
    {
     "name": "stderr",
     "output_type": "stream",
     "text": [
      "1872it [26:23,  1.25it/s]"
     ]
    },
    {
     "name": "stdout",
     "output_type": "stream",
     "text": [
      "That light is dark. light\n"
     ]
    },
    {
     "name": "stderr",
     "output_type": "stream",
     "text": [
      "1873it [26:24,  1.25it/s]"
     ]
    },
    {
     "name": "stdout",
     "output_type": "stream",
     "text": [
      "I'm bad because he is bad. bad\n"
     ]
    },
    {
     "name": "stderr",
     "output_type": "stream",
     "text": [
      "1874it [26:25,  1.35it/s]"
     ]
    },
    {
     "name": "stdout",
     "output_type": "stream",
     "text": [
      "생성된 문장이 규칙을 따르지 않습니다. 단어: terrible\n"
     ]
    },
    {
     "name": "stderr",
     "output_type": "stream",
     "text": [
      "1875it [26:26,  1.26it/s]"
     ]
    },
    {
     "name": "stdout",
     "output_type": "stream",
     "text": [
      "The boy has a runny nose. runny\n"
     ]
    },
    {
     "name": "stderr",
     "output_type": "stream",
     "text": [
      "1876it [26:27,  1.16it/s]"
     ]
    },
    {
     "name": "stdout",
     "output_type": "stream",
     "text": [
      "I have a runny nose and a cough. runny nose\n"
     ]
    },
    {
     "name": "stderr",
     "output_type": "stream",
     "text": [
      "1877it [26:28,  1.11it/s]"
     ]
    },
    {
     "name": "stdout",
     "output_type": "stream",
     "text": [
      "생성된 문장이 규칙을 따르지 않습니다. 단어: amount\n"
     ]
    },
    {
     "name": "stderr",
     "output_type": "stream",
     "text": [
      "1878it [26:29,  1.08it/s]"
     ]
    },
    {
     "name": "stdout",
     "output_type": "stream",
     "text": [
      "생성된 문장이 규칙을 따르지 않습니다. 단어: quantity\n"
     ]
    },
    {
     "name": "stderr",
     "output_type": "stream",
     "text": [
      "1879it [26:30,  1.12it/s]"
     ]
    },
    {
     "name": "stdout",
     "output_type": "stream",
     "text": [
      "I’m counting numbers and adding six. count\n"
     ]
    },
    {
     "name": "stderr",
     "output_type": "stream",
     "text": [
      "1880it [26:30,  1.12it/s]"
     ]
    },
    {
     "name": "stdout",
     "output_type": "stream",
     "text": [
      "생성된 문장이 규칙을 따르지 않습니다. 단어: measure\n"
     ]
    },
    {
     "name": "stderr",
     "output_type": "stream",
     "text": [
      "1881it [26:31,  1.10it/s]"
     ]
    },
    {
     "name": "stdout",
     "output_type": "stream",
     "text": [
      "생성된 문장이 규칙을 따르지 않습니다. 단어: population\n"
     ]
    },
    {
     "name": "stderr",
     "output_type": "stream",
     "text": [
      "1882it [26:32,  1.15it/s]"
     ]
    },
    {
     "name": "stdout",
     "output_type": "stream",
     "text": [
      "생성된 문장이 규칙을 따르지 않습니다. 단어: quality\n"
     ]
    },
    {
     "name": "stderr",
     "output_type": "stream",
     "text": [
      "1883it [26:33,  1.09it/s]"
     ]
    },
    {
     "name": "stdout",
     "output_type": "stream",
     "text": [
      "생성된 문장이 규칙을 따르지 않습니다. 단어: decrease\n"
     ]
    },
    {
     "name": "stderr",
     "output_type": "stream",
     "text": [
      "1884it [26:34,  1.11it/s]"
     ]
    },
    {
     "name": "stdout",
     "output_type": "stream",
     "text": [
      "생성된 문장이 규칙을 따르지 않습니다. 단어: reduce\n"
     ]
    },
    {
     "name": "stderr",
     "output_type": "stream",
     "text": [
      "1885it [26:35,  1.12it/s]"
     ]
    },
    {
     "name": "stdout",
     "output_type": "stream",
     "text": [
      "생성된 문장이 규칙을 따르지 않습니다. 단어: transform\n"
     ]
    },
    {
     "name": "stderr",
     "output_type": "stream",
     "text": [
      "1886it [26:36,  1.18it/s]"
     ]
    },
    {
     "name": "stdout",
     "output_type": "stream",
     "text": [
      "The house is big. house\n"
     ]
    },
    {
     "name": "stderr",
     "output_type": "stream",
     "text": [
      "1887it [26:37,  1.16it/s]"
     ]
    },
    {
     "name": "stdout",
     "output_type": "stream",
     "text": [
      "생성된 문장이 규칙을 따르지 않습니다. 단어: kitchen\n"
     ]
    },
    {
     "name": "stderr",
     "output_type": "stream",
     "text": [
      "1888it [26:38,  1.14it/s]"
     ]
    },
    {
     "name": "stdout",
     "output_type": "stream",
     "text": [
      "생성된 문장이 규칙을 따르지 않습니다. 단어: household\n"
     ]
    },
    {
     "name": "stderr",
     "output_type": "stream",
     "text": [
      "1889it [26:38,  1.14it/s]"
     ]
    },
    {
     "name": "stdout",
     "output_type": "stream",
     "text": [
      "The stove is big and used cooking. stove\n"
     ]
    },
    {
     "name": "stderr",
     "output_type": "stream",
     "text": [
      "1890it [26:39,  1.14it/s]"
     ]
    },
    {
     "name": "stdout",
     "output_type": "stream",
     "text": [
      "I'm at home when I arrive. home\n"
     ]
    },
    {
     "name": "stderr",
     "output_type": "stream",
     "text": [
      "1891it [26:40,  1.17it/s]"
     ]
    },
    {
     "name": "stdout",
     "output_type": "stream",
     "text": [
      "생성된 문장이 규칙을 따르지 않습니다. 단어: housewarming\n"
     ]
    },
    {
     "name": "stderr",
     "output_type": "stream",
     "text": [
      "1892it [26:41,  1.14it/s]"
     ]
    },
    {
     "name": "stdout",
     "output_type": "stream",
     "text": [
      "The stairs are old, so be careful. stairs\n"
     ]
    },
    {
     "name": "stderr",
     "output_type": "stream",
     "text": [
      "1893it [26:42,  1.30it/s]"
     ]
    },
    {
     "name": "stdout",
     "output_type": "stream",
     "text": [
      "The man is going up the old stairs. stair\n"
     ]
    },
    {
     "name": "stderr",
     "output_type": "stream",
     "text": [
      "1894it [26:42,  1.27it/s]"
     ]
    },
    {
     "name": "stdout",
     "output_type": "stream",
     "text": [
      "They climbed the mountain every day. climb\n"
     ]
    },
    {
     "name": "stderr",
     "output_type": "stream",
     "text": [
      "1895it [26:43,  1.18it/s]"
     ]
    },
    {
     "name": "stdout",
     "output_type": "stream",
     "text": [
      "My cat is fatter than Nina's cat. fat\n"
     ]
    },
    {
     "name": "stderr",
     "output_type": "stream",
     "text": [
      "1896it [26:44,  1.20it/s]"
     ]
    },
    {
     "name": "stdout",
     "output_type": "stream",
     "text": [
      "Phil is thinner than Emily. thin\n"
     ]
    },
    {
     "name": "stderr",
     "output_type": "stream",
     "text": [
      "1897it [26:45,  1.20it/s]"
     ]
    },
    {
     "name": "stdout",
     "output_type": "stream",
     "text": [
      "생성된 문장이 규칙을 따르지 않습니다. 단어: give\n"
     ]
    },
    {
     "name": "stderr",
     "output_type": "stream",
     "text": [
      "1898it [26:46,  1.20it/s]"
     ]
    },
    {
     "name": "stdout",
     "output_type": "stream",
     "text": [
      "생성된 문장이 규칙을 따르지 않습니다. 단어: provide\n"
     ]
    },
    {
     "name": "stderr",
     "output_type": "stream",
     "text": [
      "1899it [26:46,  1.30it/s]"
     ]
    },
    {
     "name": "stdout",
     "output_type": "stream",
     "text": [
      "생성된 문장이 규칙을 따르지 않습니다. 단어: bring\n"
     ]
    },
    {
     "name": "stderr",
     "output_type": "stream",
     "text": [
      "1900it [26:47,  1.24it/s]"
     ]
    },
    {
     "name": "stdout",
     "output_type": "stream",
     "text": [
      "생성된 문장이 규칙을 따르지 않습니다. 단어: create\n"
     ]
    },
    {
     "name": "stderr",
     "output_type": "stream",
     "text": [
      "1901it [26:48,  1.20it/s]"
     ]
    },
    {
     "name": "stdout",
     "output_type": "stream",
     "text": [
      "생성된 문장이 규칙을 따르지 않습니다. 단어: receive\n"
     ]
    },
    {
     "name": "stderr",
     "output_type": "stream",
     "text": [
      "1902it [26:49,  1.21it/s]"
     ]
    },
    {
     "name": "stdout",
     "output_type": "stream",
     "text": [
      "생성된 문장이 규칙을 따르지 않습니다. 단어: satisfy\n"
     ]
    },
    {
     "name": "stderr",
     "output_type": "stream",
     "text": [
      "1903it [26:50,  1.20it/s]"
     ]
    },
    {
     "name": "stdout",
     "output_type": "stream",
     "text": [
      "Here is my gift for you. gift\n"
     ]
    },
    {
     "name": "stderr",
     "output_type": "stream",
     "text": [
      "1904it [26:51,  1.24it/s]"
     ]
    },
    {
     "name": "stdout",
     "output_type": "stream",
     "text": [
      "생성된 문장이 규칙을 따르지 않습니다. 단어: propose\n"
     ]
    },
    {
     "name": "stderr",
     "output_type": "stream",
     "text": [
      "1905it [26:52,  1.20it/s]"
     ]
    },
    {
     "name": "stdout",
     "output_type": "stream",
     "text": [
      "생성된 문장이 규칙을 따르지 않습니다. 단어: deliver\n"
     ]
    },
    {
     "name": "stderr",
     "output_type": "stream",
     "text": [
      "1906it [26:52,  1.23it/s]"
     ]
    },
    {
     "name": "stdout",
     "output_type": "stream",
     "text": [
      "생성된 문장이 규칙을 따르지 않습니다. 단어: contain\n"
     ]
    },
    {
     "name": "stderr",
     "output_type": "stream",
     "text": [
      "1907it [26:53,  1.21it/s]"
     ]
    },
    {
     "name": "stdout",
     "output_type": "stream",
     "text": [
      "The waiter served the starter while I cook. serve\n"
     ]
    },
    {
     "name": "stderr",
     "output_type": "stream",
     "text": [
      "1908it [26:54,  1.18it/s]"
     ]
    },
    {
     "name": "stdout",
     "output_type": "stream",
     "text": [
      "My goal is to make a goal. make\n"
     ]
    },
    {
     "name": "stderr",
     "output_type": "stream",
     "text": [
      "1909it [26:55,  1.16it/s]"
     ]
    },
    {
     "name": "stdout",
     "output_type": "stream",
     "text": [
      "생성된 문장이 규칙을 따르지 않습니다. 단어: share\n"
     ]
    },
    {
     "name": "stderr",
     "output_type": "stream",
     "text": [
      "1910it [26:56,  1.11it/s]"
     ]
    },
    {
     "name": "stdout",
     "output_type": "stream",
     "text": [
      "생성된 문장이 규칙을 따르지 않습니다. 단어: photo\n"
     ]
    },
    {
     "name": "stderr",
     "output_type": "stream",
     "text": [
      "1911it [26:57,  1.11it/s]"
     ]
    },
    {
     "name": "stdout",
     "output_type": "stream",
     "text": [
      "Can I get the camera for my funny picture? picture\n"
     ]
    },
    {
     "name": "stderr",
     "output_type": "stream",
     "text": [
      "1912it [26:58,  1.17it/s]"
     ]
    },
    {
     "name": "stdout",
     "output_type": "stream",
     "text": [
      "That is his camera. camera\n"
     ]
    },
    {
     "name": "stderr",
     "output_type": "stream",
     "text": [
      "1913it [26:58,  1.16it/s]"
     ]
    },
    {
     "name": "stdout",
     "output_type": "stream",
     "text": [
      "생성된 문장이 규칙을 따르지 않습니다. 단어: apart\n"
     ]
    },
    {
     "name": "stderr",
     "output_type": "stream",
     "text": [
      "1914it [26:59,  1.14it/s]"
     ]
    },
    {
     "name": "stdout",
     "output_type": "stream",
     "text": [
      "생성된 문장이 규칙을 따르지 않습니다. 단어: separate\n"
     ]
    },
    {
     "name": "stderr",
     "output_type": "stream",
     "text": [
      "1915it [27:00,  1.09it/s]"
     ]
    },
    {
     "name": "stdout",
     "output_type": "stream",
     "text": [
      "생성된 문장이 규칙을 따르지 않습니다. 단어: different\n"
     ]
    },
    {
     "name": "stderr",
     "output_type": "stream",
     "text": [
      "1916it [27:01,  1.16it/s]"
     ]
    },
    {
     "name": "stdout",
     "output_type": "stream",
     "text": [
      "생성된 문장이 규칙을 따르지 않습니다. 단어: independent\n"
     ]
    },
    {
     "name": "stderr",
     "output_type": "stream",
     "text": [
      "1917it [27:02,  1.23it/s]"
     ]
    },
    {
     "name": "stdout",
     "output_type": "stream",
     "text": [
      "I like to travel alone. alone\n"
     ]
    },
    {
     "name": "stderr",
     "output_type": "stream",
     "text": [
      "1918it [27:03,  1.25it/s]"
     ]
    },
    {
     "name": "stdout",
     "output_type": "stream",
     "text": [
      "생성된 문장이 규칙을 따르지 않습니다. 단어: together\n"
     ]
    },
    {
     "name": "stderr",
     "output_type": "stream",
     "text": [
      "1919it [27:03,  1.21it/s]"
     ]
    },
    {
     "name": "stdout",
     "output_type": "stream",
     "text": [
      "Let's forgive and forget my mistake. forgive\n"
     ]
    },
    {
     "name": "stderr",
     "output_type": "stream",
     "text": [
      "1920it [27:04,  1.20it/s]"
     ]
    },
    {
     "name": "stdout",
     "output_type": "stream",
     "text": [
      "생성된 문장이 규칙을 따르지 않습니다. 단어: apologize to\n"
     ]
    },
    {
     "name": "stderr",
     "output_type": "stream",
     "text": [
      "1921it [27:05,  1.19it/s]"
     ]
    },
    {
     "name": "stdout",
     "output_type": "stream",
     "text": [
      "생성된 문장이 규칙을 따르지 않습니다. 단어: excuse me\n"
     ]
    },
    {
     "name": "stderr",
     "output_type": "stream",
     "text": [
      "1922it [27:06,  1.20it/s]"
     ]
    },
    {
     "name": "stdout",
     "output_type": "stream",
     "text": [
      "I’m sorry, I was bad. sorry\n"
     ]
    },
    {
     "name": "stderr",
     "output_type": "stream",
     "text": [
      "1923it [27:07,  1.15it/s]"
     ]
    },
    {
     "name": "stdout",
     "output_type": "stream",
     "text": [
      "생성된 문장이 규칙을 따르지 않습니다. 단어: mislead\n"
     ]
    },
    {
     "name": "stderr",
     "output_type": "stream",
     "text": [
      "1924it [27:08,  1.16it/s]"
     ]
    },
    {
     "name": "stdout",
     "output_type": "stream",
     "text": [
      "생성된 문장이 규칙을 따르지 않습니다. 단어: misjudge\n"
     ]
    },
    {
     "name": "stderr",
     "output_type": "stream",
     "text": [
      "1925it [27:09,  1.12it/s]"
     ]
    },
    {
     "name": "stdout",
     "output_type": "stream",
     "text": [
      "생성된 문장이 규칙을 따르지 않습니다. 단어: lie\n"
     ]
    },
    {
     "name": "stderr",
     "output_type": "stream",
     "text": [
      "1926it [27:10,  1.10it/s]"
     ]
    },
    {
     "name": "stdout",
     "output_type": "stream",
     "text": [
      "Don’t misunderstand me, I am lost. misunderstand\n"
     ]
    },
    {
     "name": "stderr",
     "output_type": "stream",
     "text": [
      "1927it [27:11,  1.06it/s]"
     ]
    },
    {
     "name": "stdout",
     "output_type": "stream",
     "text": [
      "생성된 문장이 규칙을 따르지 않습니다. 단어: misspell\n"
     ]
    },
    {
     "name": "stderr",
     "output_type": "stream",
     "text": [
      "1928it [27:12,  1.08it/s]"
     ]
    },
    {
     "name": "stdout",
     "output_type": "stream",
     "text": [
      "We want tea because we feel sick. tea\n"
     ]
    },
    {
     "name": "stderr",
     "output_type": "stream",
     "text": [
      "1929it [27:12,  1.15it/s]"
     ]
    },
    {
     "name": "stdout",
     "output_type": "stream",
     "text": [
      "My uncle wants coffee. coffee\n"
     ]
    },
    {
     "name": "stderr",
     "output_type": "stream",
     "text": [
      "1930it [27:13,  1.11it/s]"
     ]
    },
    {
     "name": "stdout",
     "output_type": "stream",
     "text": [
      "First, put the onions in the pot. pot\n"
     ]
    },
    {
     "name": "stderr",
     "output_type": "stream",
     "text": [
      "1931it [27:14,  1.20it/s]"
     ]
    },
    {
     "name": "stdout",
     "output_type": "stream",
     "text": [
      "생성된 문장이 규칙을 따르지 않습니다. 단어: fuel\n"
     ]
    },
    {
     "name": "stderr",
     "output_type": "stream",
     "text": [
      "1932it [27:15,  1.20it/s]"
     ]
    },
    {
     "name": "stdout",
     "output_type": "stream",
     "text": [
      "생성된 문장이 규칙을 따르지 않습니다. 단어: gas\n"
     ]
    },
    {
     "name": "stderr",
     "output_type": "stream",
     "text": [
      "1933it [27:16,  1.19it/s]"
     ]
    },
    {
     "name": "stdout",
     "output_type": "stream",
     "text": [
      "생성된 문장이 규칙을 따르지 않습니다. 단어: electricity\n"
     ]
    },
    {
     "name": "stderr",
     "output_type": "stream",
     "text": [
      "1934it [27:16,  1.21it/s]"
     ]
    },
    {
     "name": "stdout",
     "output_type": "stream",
     "text": [
      "생성된 문장이 규칙을 따르지 않습니다. 단어: energy\n"
     ]
    },
    {
     "name": "stderr",
     "output_type": "stream",
     "text": [
      "1935it [27:17,  1.19it/s]"
     ]
    },
    {
     "name": "stdout",
     "output_type": "stream",
     "text": [
      "생성된 문장이 규칙을 따르지 않습니다. 단어: oil\n"
     ]
    },
    {
     "name": "stderr",
     "output_type": "stream",
     "text": [
      "1936it [27:18,  1.14it/s]"
     ]
    },
    {
     "name": "stdout",
     "output_type": "stream",
     "text": [
      "생성된 문장이 규칙을 따르지 않습니다. 단어: happen\n"
     ]
    },
    {
     "name": "stderr",
     "output_type": "stream",
     "text": [
      "1937it [27:19,  1.11it/s]"
     ]
    },
    {
     "name": "stdout",
     "output_type": "stream",
     "text": [
      "생성된 문장이 규칙을 따르지 않습니다. 단어: occur\n"
     ]
    },
    {
     "name": "stderr",
     "output_type": "stream",
     "text": [
      "1938it [27:20,  1.08it/s]"
     ]
    },
    {
     "name": "stdout",
     "output_type": "stream",
     "text": [
      "생성된 문장이 규칙을 따르지 않습니다. 단어: appear\n"
     ]
    },
    {
     "name": "stderr",
     "output_type": "stream",
     "text": [
      "1939it [27:21,  1.18it/s]"
     ]
    },
    {
     "name": "stdout",
     "output_type": "stream",
     "text": [
      "He has a talent for acting. act\n"
     ]
    },
    {
     "name": "stderr",
     "output_type": "stream",
     "text": [
      "\n"
     ]
    }
   ],
   "source": [
    "import csv\n",
    "from tqdm import tqdm\n",
    "\n",
    "\n",
    "\n",
    "# CSV 파일 생성\n",
    "with open(\"grammar_sentences.csv\", mode=\"w\", newline=\"\", encoding=\"utf-8\") as file:\n",
    "    writer = csv.writer(file)\n",
    "    writer.writerow([\"문장 번호\", \"문장\", \"포함된 단어\"])\n",
    "\n",
    "    # 각 단어에 대해 문장 생성 및 저장\n",
    "    for idx, word in tqdm(enumerate(words, start=1), disable=False):\n",
    "        response = qa_chain.invoke({\"query\": word})  # 체인 실행\n",
    "\n",
    "        # response의 형식이 예상대로 되어 있는지 확인\n",
    "        if 'result' in response:\n",
    "            generated_sentence = response['result']\n",
    "\n",
    "            # 문장에 포함된 단어가 정확히 있는지 검증\n",
    "            if word in generated_sentence:\n",
    "                writer.writerow([idx, generated_sentence, word])\n",
    "                print(generated_sentence, word)\n",
    "            else:\n",
    "                print(f\"생성된 문장이 규칙을 따르지 않습니다. 단어: {word}\")\n",
    "        else:\n",
    "            print(f\"응답 형식이 잘못되었습니다. 단어: {word}\")\n"
   ]
  },
  {
   "cell_type": "code",
   "execution_count": null,
   "metadata": {},
   "outputs": [],
   "source": []
  }
 ],
 "metadata": {
  "kernelspec": {
   "display_name": "Python 3",
   "language": "python",
   "name": "python3"
  },
  "language_info": {
   "codemirror_mode": {
    "name": "ipython",
    "version": 3
   },
   "file_extension": ".py",
   "mimetype": "text/x-python",
   "name": "python",
   "nbconvert_exporter": "python",
   "pygments_lexer": "ipython3",
   "version": "3.9.20"
  }
 },
 "nbformat": 4,
 "nbformat_minor": 2
}
