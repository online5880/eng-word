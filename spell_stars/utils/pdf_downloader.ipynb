{
 "cells": [
  {
   "cell_type": "markdown",
   "metadata": {},
   "source": [
    "# 라이브러리 설치"
   ]
  },
  {
   "cell_type": "code",
   "execution_count": null,
   "metadata": {},
   "outputs": [],
   "source": [
    "!pip install fitz tools frontend pdfplumber python-dotenv\n",
    "!mkdir static"
   ]
  },
  {
   "cell_type": "markdown",
   "metadata": {},
   "source": [
    "# 파일 다운로드"
   ]
  },
  {
   "cell_type": "code",
   "execution_count": 2,
   "metadata": {},
   "outputs": [
    {
     "name": "stdout",
     "output_type": "stream",
     "text": [
      "레이어 팝업이 닫혔습니다.\n",
      "페이지에서 전체 선택을 완료했습니다.\n",
      "페이지에서 다운로드 버튼을 클릭했습니다.\n",
      "페이지에서 다운로드 확인 창을 확인했습니다.\n"
     ]
    }
   ],
   "source": [
    "from selenium import webdriver\n",
    "from selenium.webdriver.common.by import By\n",
    "from selenium.webdriver.support.ui import WebDriverWait\n",
    "from selenium.webdriver.support import expected_conditions as EC\n",
    "import time\n",
    "import os\n",
    "from dotenv import load_dotenv\n",
    "\n",
    "# 환경 변수\n",
    "load_dotenv()\n",
    "\n",
    "MILKT_ID = os.getenv(\"MILKT_ID\")                    # 아이디\n",
    "MILKT_PASSWORD = os.getenv(\"MILKT_PASSWORD\")        # 비밀번호\n",
    "PDF_DOWNLOAD_PATH = os.getenv(\"PDF_DOWNLOAD_PATH\")  # 절대경로\n",
    "\n",
    "# 밀크티 아이디, 비밀번호 설정 확인\n",
    "if not MILKT_ID or not MILKT_PASSWORD:\n",
    "    raise ValueError(\"MILKT_ID 또는 MILKT_PASSWORD 환경 변수가 설정되지 않았습니다.\")\n",
    "\n",
    "# PDF폴더 확인\n",
    "if not os.path.exists(PDF_DOWNLOAD_PATH):\n",
    "    os.makedirs(PDF_DOWNLOAD_PATH,mode=0o777)\n",
    "\n",
    "# 크롤링 대기 시간\n",
    "DELAY_DURATION = 0.5\n",
    "\n",
    "# 셀레니움 웹드라이버 설정\n",
    "options = webdriver.ChromeOptions()\n",
    "options.add_experimental_option(\"prefs\", {\n",
    "    \"profile.default_content_settings.popups\": 0,\n",
    "    \"download.prompt_for_download\": False,\n",
    "    \"download.directory_upgrade\": True,\n",
    "    \"profile.default_content_setting_values.automatic_downloads\": 1,  # 자동 다운로드 허용\n",
    "    \"download.default_directory\": PDF_DOWNLOAD_PATH\n",
    "})\n",
    "\n",
    "# 필요시 헤드리스 모드 설정\n",
    "# options.add_argument('--headless')\n",
    "driver = webdriver.Chrome(options=options)\n",
    "\n",
    "try:\n",
    "    # 로그인 페이지 접근 및 로그인 처리\n",
    "    driver.get(\"https://www.milkt.co.kr/Login/Login\")\n",
    "    WebDriverWait(driver, 10).until(EC.presence_of_element_located((By.ID, 'input_id')))\n",
    "    driver.find_element(By.ID, 'input_id').send_keys(MILKT_ID)  # 아이디\n",
    "    driver.find_element(By.ID, 'input_pw').send_keys(MILKT_PASSWORD)  # 비번\n",
    "    driver.find_element(By.ID, 'btn_login').click()\n",
    "    # time.sleep(DELAY_DURATION)  # 로그인 후 로딩 대기\n",
    "\n",
    "    # 팝업 창 닫기 처리\n",
    "    main_window = driver.current_window_handle\n",
    "    for handle in driver.window_handles:\n",
    "        if handle != main_window:\n",
    "            driver.switch_to.window(handle)\n",
    "            time.sleep(DELAY_DURATION)\n",
    "            driver.close()\n",
    "            driver.switch_to.window(main_window)\n",
    "\n",
    "    try:\n",
    "        close_button = WebDriverWait(driver, 5).until(\n",
    "            EC.presence_of_element_located((By.CLASS_NAME, \"btn_close\"))\n",
    "        )\n",
    "        close_button.click()\n",
    "        print(\"레이어 팝업이 닫혔습니다.\")\n",
    "    except:\n",
    "        print(\"레이어 팝업이 없습니다.\")\n",
    "\n",
    "    # 페이지 접속\n",
    "    url = f\"https://www.milkt.co.kr/LectureMaterial/LectureMaterial?intPageSize=30&strCode=A04&strSubCode=A0402&inGrade=1&inTerm=1&strlectTit=&strlectCont=\"\n",
    "    driver.get(url)\n",
    "\n",
    "    # \"전체 선택\" 체크 박스 체크\n",
    "    try:\n",
    "        label = WebDriverWait(driver, 10).until(\n",
    "            EC.element_to_be_clickable((By.XPATH, \"//label[@for='aAll']\"))\n",
    "        )\n",
    "        label.click()  # Select all items\n",
    "        print(f\"페이지에서 전체 선택을 완료했습니다.\")\n",
    "\n",
    "        # 다운로드 버튼 찾기\n",
    "        download_button = WebDriverWait(driver, 10).until(\n",
    "            EC.element_to_be_clickable((By.XPATH, \"//a[contains(@class, 'on') and text()='다운로드']\"))\n",
    "        )\n",
    "        # 다운로드 버튼 클릭\n",
    "        download_button.click()  \n",
    "        print(f\"페이지에서 다운로드 버튼을 클릭했습니다.\")\n",
    "\n",
    "        time.sleep(DELAY_DURATION)  # 대기 시간 (서버가 처리할 시간을 주기 위해)\n",
    "\n",
    "        # 다운로드 확인창 대기 후 확인\n",
    "        alert = WebDriverWait(driver, 5).until(EC.alert_is_present())\n",
    "        alert.accept()  # Click OK on the confirmation dialog\n",
    "        print(f\"페이지에서 다운로드 확인 창을 확인했습니다.\")\n",
    "\n",
    "        time.sleep(5)  # 다운로드가 실제로 완료되도록 더 긴 대기 시간 추가\n",
    "        \n",
    "        \n",
    "    except Exception as e:\n",
    "        print(f\"페이지에서 오류가 발생했습니다: {e}\")\n",
    "\n",
    "finally:\n",
    "    # 드라이버 종료\n",
    "    driver.quit()\n"
   ]
  }
 ],
 "metadata": {
  "kernelspec": {
   "display_name": "eng",
   "language": "python",
   "name": "python3"
  },
  "language_info": {
   "codemirror_mode": {
    "name": "ipython",
    "version": 3
   },
   "file_extension": ".py",
   "mimetype": "text/x-python",
   "name": "python",
   "nbconvert_exporter": "python",
   "pygments_lexer": "ipython3",
   "version": "3.8.18"
  },
  "orig_nbformat": 4
 },
 "nbformat": 4,
 "nbformat_minor": 2
}
